{
 "cells": [
  {
   "cell_type": "markdown",
   "id": "8ccfbba6",
   "metadata": {
    "id": "IEq-oYpmSM5r",
    "papermill": {
     "duration": 0.052572,
     "end_time": "2022-01-11T15:20:22.953090",
     "exception": false,
     "start_time": "2022-01-11T15:20:22.900518",
     "status": "completed"
    },
    "tags": []
   },
   "source": [
    "# Abstractive Text Summarization - GRU GloVe"
   ]
  },
  {
   "cell_type": "markdown",
   "id": "44f67903",
   "metadata": {
    "id": "4iFfGxm4XgZl",
    "papermill": {
     "duration": 0.050602,
     "end_time": "2022-01-11T15:20:23.065828",
     "exception": false,
     "start_time": "2022-01-11T15:20:23.015226",
     "status": "completed"
    },
    "tags": []
   },
   "source": [
    "### Importing Basic libraries"
   ]
  },
  {
   "cell_type": "code",
   "execution_count": 1,
   "id": "ed074b3d",
   "metadata": {
    "execution": {
     "iopub.execute_input": "2022-01-11T15:20:23.149181Z",
     "iopub.status.busy": "2022-01-11T15:20:23.147553Z",
     "iopub.status.idle": "2022-01-11T15:20:29.301556Z",
     "shell.execute_reply": "2022-01-11T15:20:29.300579Z",
     "shell.execute_reply.started": "2022-01-11T14:53:24.612176Z"
    },
    "id": "lisXNzYrYOoR",
    "outputId": "4ff65cf3-36bb-49c2-a6c3-08070c9233a0",
    "papermill": {
     "duration": 6.195257,
     "end_time": "2022-01-11T15:20:29.301716",
     "exception": false,
     "start_time": "2022-01-11T15:20:23.106459",
     "status": "completed"
    },
    "tags": []
   },
   "outputs": [
    {
     "name": "stdout",
     "output_type": "stream",
     "text": [
      "[nltk_data] Downloading package stopwords to /usr/share/nltk_data...\n",
      "[nltk_data]   Package stopwords is already up-to-date!\n"
     ]
    }
   ],
   "source": [
    "import re\n",
    "import os\n",
    "import numpy as np\n",
    "import pandas as pd\n",
    "import matplotlib.pyplot as plt\n",
    "\n",
    "import nltk\n",
    "nltk.download('stopwords')\n",
    "from nltk.corpus import stopwords\n",
    "from keras.preprocessing.text import Tokenizer\n",
    "from keras.preprocessing.sequence import pad_sequences\n",
    "\n",
    "import tensorflow as tf\n",
    "from tensorflow.keras.layers import Input, LSTM, Embedding, Dense, Concatenate, TimeDistributed, Bidirectional, GRU, RNN\n",
    "from tensorflow.keras.models import Model\n",
    "from tensorflow.keras.callbacks import EarlyStopping\n",
    "from keras import backend as K \n",
    "from tensorflow.python.keras.layers import Layer\n"
   ]
  },
  {
   "cell_type": "code",
   "execution_count": 2,
   "id": "79f6144c",
   "metadata": {
    "execution": {
     "iopub.execute_input": "2022-01-11T15:20:29.379578Z",
     "iopub.status.busy": "2022-01-11T15:20:29.378772Z",
     "iopub.status.idle": "2022-01-11T15:20:39.644908Z",
     "shell.execute_reply": "2022-01-11T15:20:39.643796Z",
     "shell.execute_reply.started": "2022-01-11T14:53:31.536130Z"
    },
    "papermill": {
     "duration": 10.3071,
     "end_time": "2022-01-11T15:20:39.645042",
     "exception": false,
     "start_time": "2022-01-11T15:20:29.337942",
     "status": "completed"
    },
    "tags": []
   },
   "outputs": [
    {
     "name": "stdout",
     "output_type": "stream",
     "text": [
      "Collecting openpyxl\r\n",
      "  Downloading openpyxl-3.0.9-py2.py3-none-any.whl (242 kB)\r\n",
      "     |████████████████████████████████| 242 kB 516 kB/s            \r\n",
      "\u001b[?25hCollecting et-xmlfile\r\n",
      "  Downloading et_xmlfile-1.1.0-py3-none-any.whl (4.7 kB)\r\n",
      "Installing collected packages: et-xmlfile, openpyxl\r\n",
      "Successfully installed et-xmlfile-1.1.0 openpyxl-3.0.9\r\n",
      "\u001b[33mWARNING: Running pip as the 'root' user can result in broken permissions and conflicting behaviour with the system package manager. It is recommended to use a virtual environment instead: https://pip.pypa.io/warnings/venv\u001b[0m\r\n"
     ]
    }
   ],
   "source": [
    "!pip install openpyxl"
   ]
  },
  {
   "cell_type": "markdown",
   "id": "50e19d50",
   "metadata": {
    "id": "GSr24NviXqio",
    "papermill": {
     "duration": 0.038492,
     "end_time": "2022-01-11T15:20:39.722480",
     "exception": false,
     "start_time": "2022-01-11T15:20:39.683988",
     "status": "completed"
    },
    "tags": []
   },
   "source": [
    "### Importing Data"
   ]
  },
  {
   "cell_type": "code",
   "execution_count": 4,
   "id": "90aa625f",
   "metadata": {
    "execution": {
     "iopub.execute_input": "2022-01-11T15:20:39.890125Z",
     "iopub.status.busy": "2022-01-11T15:20:39.889320Z",
     "iopub.status.idle": "2022-01-11T15:20:49.441606Z",
     "shell.execute_reply": "2022-01-11T15:20:49.442052Z",
     "shell.execute_reply.started": "2022-01-11T14:53:40.563914Z"
    },
    "papermill": {
     "duration": 9.596153,
     "end_time": "2022-01-11T15:20:49.442255",
     "exception": false,
     "start_time": "2022-01-11T15:20:39.846102",
     "status": "completed"
    },
    "tags": []
   },
   "outputs": [],
   "source": [
    "data = pd.read_excel('../input/inshorts-news-data/Inshorts Cleaned Data.xlsx')"
   ]
  },
  {
   "cell_type": "code",
   "execution_count": 5,
   "id": "9b0128cd",
   "metadata": {
    "execution": {
     "iopub.execute_input": "2022-01-11T15:20:49.533346Z",
     "iopub.status.busy": "2022-01-11T15:20:49.532497Z",
     "iopub.status.idle": "2022-01-11T15:20:49.563817Z",
     "shell.execute_reply": "2022-01-11T15:20:49.564281Z",
     "shell.execute_reply.started": "2022-01-11T14:53:49.688125Z"
    },
    "papermill": {
     "duration": 0.08274,
     "end_time": "2022-01-11T15:20:49.564443",
     "exception": false,
     "start_time": "2022-01-11T15:20:49.481703",
     "status": "completed"
    },
    "tags": []
   },
   "outputs": [
    {
     "data": {
      "text/html": [
       "<div>\n",
       "<style scoped>\n",
       "    .dataframe tbody tr th:only-of-type {\n",
       "        vertical-align: middle;\n",
       "    }\n",
       "\n",
       "    .dataframe tbody tr th {\n",
       "        vertical-align: top;\n",
       "    }\n",
       "\n",
       "    .dataframe thead th {\n",
       "        text-align: right;\n",
       "    }\n",
       "</style>\n",
       "<table border=\"1\" class=\"dataframe\">\n",
       "  <thead>\n",
       "    <tr style=\"text-align: right;\">\n",
       "      <th></th>\n",
       "      <th>Headline</th>\n",
       "      <th>Short</th>\n",
       "    </tr>\n",
       "  </thead>\n",
       "  <tbody>\n",
       "    <tr>\n",
       "      <th>0</th>\n",
       "      <td>4 ex-bank officials booked for cheating bank o...</td>\n",
       "      <td>The CBI on Saturday booked four former officia...</td>\n",
       "    </tr>\n",
       "    <tr>\n",
       "      <th>1</th>\n",
       "      <td>Supreme Court to go paperless in 6 months: CJI</td>\n",
       "      <td>Chief Justice JS Khehar has said the Supreme C...</td>\n",
       "    </tr>\n",
       "    <tr>\n",
       "      <th>2</th>\n",
       "      <td>At least 3 killed, 30 injured in blast in Sylh...</td>\n",
       "      <td>At least three people were killed, including a...</td>\n",
       "    </tr>\n",
       "    <tr>\n",
       "      <th>3</th>\n",
       "      <td>Why has Reliance been barred from trading in f...</td>\n",
       "      <td>Mukesh Ambani-led Reliance Industries (RIL) wa...</td>\n",
       "    </tr>\n",
       "    <tr>\n",
       "      <th>4</th>\n",
       "      <td>Was stopped from entering my own studio at Tim...</td>\n",
       "      <td>TV news anchor Arnab Goswami has said he was t...</td>\n",
       "    </tr>\n",
       "  </tbody>\n",
       "</table>\n",
       "</div>"
      ],
      "text/plain": [
       "                                            Headline  \\\n",
       "0  4 ex-bank officials booked for cheating bank o...   \n",
       "1     Supreme Court to go paperless in 6 months: CJI   \n",
       "2  At least 3 killed, 30 injured in blast in Sylh...   \n",
       "3  Why has Reliance been barred from trading in f...   \n",
       "4  Was stopped from entering my own studio at Tim...   \n",
       "\n",
       "                                               Short  \n",
       "0  The CBI on Saturday booked four former officia...  \n",
       "1  Chief Justice JS Khehar has said the Supreme C...  \n",
       "2  At least three people were killed, including a...  \n",
       "3  Mukesh Ambani-led Reliance Industries (RIL) wa...  \n",
       "4  TV news anchor Arnab Goswami has said he was t...  "
      ]
     },
     "execution_count": 5,
     "metadata": {},
     "output_type": "execute_result"
    }
   ],
   "source": [
    "data.drop(['Source ', 'Time ', 'Publish Date'], axis=1, inplace=True)\n",
    "data.head()"
   ]
  },
  {
   "cell_type": "markdown",
   "id": "85d59666",
   "metadata": {},
   "source": [
    "### Punctuation and Stopwords Removal"
   ]
  },
  {
   "cell_type": "code",
   "execution_count": 7,
   "id": "a350039c",
   "metadata": {
    "execution": {
     "iopub.execute_input": "2022-01-11T15:20:49.738793Z",
     "iopub.status.busy": "2022-01-11T15:20:49.737894Z",
     "iopub.status.idle": "2022-01-11T15:20:49.741427Z",
     "shell.execute_reply": "2022-01-11T15:20:49.741860Z",
     "shell.execute_reply.started": "2022-01-11T14:53:49.733207Z"
    },
    "id": "BV8b6w9YYOoa",
    "papermill": {
     "duration": 0.050248,
     "end_time": "2022-01-11T15:20:49.741999",
     "exception": false,
     "start_time": "2022-01-11T15:20:49.691751",
     "status": "completed"
    },
    "tags": []
   },
   "outputs": [],
   "source": [
    "stop_words = stopwords.words('english')\n",
    "\n",
    "def preprocess(text):\n",
    "    text = text.lower()\n",
    "    \n",
    "    tokens = [w for w in text.split() if not w in stop_words]\n",
    "    text = \" \".join(tokens)\n",
    "    text = text.replace(\"'s\",'')\n",
    "    text = text.replace(\".\",'')\n",
    "    text = re.sub(r'\\(.*\\)','',text)\n",
    "    text = re.sub(r'[^a-zA-Z0-9. ]',' ',text)\n",
    "    text = re.sub(r'\\.','. ',text)\n",
    "    text = re.sub(r'\\s+', ' ', text)\n",
    "    return text\n"
   ]
  },
  {
   "cell_type": "markdown",
   "id": "7d4e7975",
   "metadata": {},
   "source": [
    "### Lemmatization"
   ]
  },
  {
   "cell_type": "code",
   "execution_count": 8,
   "id": "db553572",
   "metadata": {
    "execution": {
     "iopub.execute_input": "2022-01-11T15:20:49.825419Z",
     "iopub.status.busy": "2022-01-11T15:20:49.824682Z",
     "iopub.status.idle": "2022-01-11T15:20:55.819851Z",
     "shell.execute_reply": "2022-01-11T15:20:55.820309Z",
     "shell.execute_reply.started": "2022-01-11T14:53:49.745880Z"
    },
    "papermill": {
     "duration": 6.038933,
     "end_time": "2022-01-11T15:20:55.820481",
     "exception": false,
     "start_time": "2022-01-11T15:20:49.781548",
     "status": "completed"
    },
    "tags": []
   },
   "outputs": [],
   "source": [
    "import spacy\n",
    "\n",
    "nlp = spacy.load('en_core_web_sm', disable=['parser', 'ner'])\n",
    "allowed_postags = ['NOUN', 'ADJ', 'VERB', 'ADV']\n",
    "def lemmatize_text(text):\n",
    "    doc = nlp(text)\n",
    "    return ' '.join([token.lemma_ for token in doc])"
   ]
  },
  {
   "cell_type": "code",
   "execution_count": 9,
   "id": "7801a697",
   "metadata": {
    "execution": {
     "iopub.execute_input": "2022-01-11T15:20:55.904165Z",
     "iopub.status.busy": "2022-01-11T15:20:55.903380Z",
     "iopub.status.idle": "2022-01-11T15:20:55.905823Z",
     "shell.execute_reply": "2022-01-11T15:20:55.905412Z",
     "shell.execute_reply.started": "2022-01-11T14:53:55.819422Z"
    },
    "papermill": {
     "duration": 0.046479,
     "end_time": "2022-01-11T15:20:55.905940",
     "exception": false,
     "start_time": "2022-01-11T15:20:55.859461",
     "status": "completed"
    },
    "tags": []
   },
   "outputs": [],
   "source": [
    "data.rename(columns={'Headline': 'headlines', 'Short': 'text'}, inplace=True)"
   ]
  },
  {
   "cell_type": "code",
   "execution_count": 10,
   "id": "b75045fa",
   "metadata": {
    "execution": {
     "iopub.execute_input": "2022-01-11T15:20:55.990354Z",
     "iopub.status.busy": "2022-01-11T15:20:55.989610Z",
     "iopub.status.idle": "2022-01-11T15:20:55.991756Z",
     "shell.execute_reply": "2022-01-11T15:20:55.992250Z",
     "shell.execute_reply.started": "2022-01-11T14:53:55.825988Z"
    },
    "papermill": {
     "duration": 0.047768,
     "end_time": "2022-01-11T15:20:55.992397",
     "exception": false,
     "start_time": "2022-01-11T15:20:55.944629",
     "status": "completed"
    },
    "tags": []
   },
   "outputs": [],
   "source": [
    "original_text = str(data['text'][0])\n",
    "original_headline = str(data['headlines'][0])"
   ]
  },
  {
   "cell_type": "code",
   "execution_count": 11,
   "id": "c1a2b0bb",
   "metadata": {
    "execution": {
     "iopub.execute_input": "2022-01-11T15:20:56.080138Z",
     "iopub.status.busy": "2022-01-11T15:20:56.078637Z",
     "iopub.status.idle": "2022-01-11T15:25:00.772143Z",
     "shell.execute_reply": "2022-01-11T15:25:00.772675Z",
     "shell.execute_reply.started": "2022-01-11T14:53:55.841110Z"
    },
    "id": "ewSx5cepYOob",
    "outputId": "55b255a6-367f-4443-8184-650066137e32",
    "papermill": {
     "duration": 244.739674,
     "end_time": "2022-01-11T15:25:00.772858",
     "exception": false,
     "start_time": "2022-01-11T15:20:56.033184",
     "status": "completed"
    },
    "tags": []
   },
   "outputs": [
    {
     "name": "stdout",
     "output_type": "stream",
     "text": [
      "Summary:\n",
      "_START_ 4 ex-bank officials booked for cheating bank of ₹209 crore _END_\n",
      "Text:\n",
      "cbi saturday book four former official syndicate bank six other cheat forgery criminal conspiracy cause 209 crore loss state run bank accuse availed home loan credit syndicate bank basis forge fabricate document fund fraudulently transfer company own accuse person\n",
      "\n",
      "Summary:\n",
      "_START_ Supreme Court to go paperless in 6 months: CJI _END_\n",
      "Text:\n",
      "chief justice js khehar say supreme court go paperless six seven month bid save fund make judiciary eco friendly say apex court collect record electronically low court high court need file hard copy\n",
      "\n"
     ]
    }
   ],
   "source": [
    "processed_text = data['text'].apply(preprocess)\n",
    "data['text'] = processed_text.apply(lemmatize_text)\n",
    "data['headlines'] = data['headlines'].apply(lambda x : '_START_ '+ x + ' _END_')\n",
    "\n",
    "for i in range(2):\n",
    "    print('Summary:', data['headlines'][i],'Text:', data['text'][i], sep='\\n')\n",
    "    print()"
   ]
  },
  {
   "cell_type": "markdown",
   "id": "5b80011f",
   "metadata": {},
   "source": [
    "### Sample Input"
   ]
  },
  {
   "cell_type": "code",
   "execution_count": 12,
   "id": "9b9ed4d9",
   "metadata": {
    "execution": {
     "iopub.execute_input": "2022-01-11T15:25:00.863288Z",
     "iopub.status.busy": "2022-01-11T15:25:00.861632Z",
     "iopub.status.idle": "2022-01-11T15:25:00.865770Z",
     "shell.execute_reply": "2022-01-11T15:25:00.865276Z",
     "shell.execute_reply.started": "2022-01-11T14:57:44.569801Z"
    },
    "papermill": {
     "duration": 0.05335,
     "end_time": "2022-01-11T15:25:00.865893",
     "exception": false,
     "start_time": "2022-01-11T15:25:00.812543",
     "status": "completed"
    },
    "tags": []
   },
   "outputs": [
    {
     "name": "stdout",
     "output_type": "stream",
     "text": [
      "\n",
      "ORIGINAL\n",
      "The CBI on Saturday booked four former officials of Syndicate Bank and six others for cheating, forgery, criminal conspiracy and causing ₹209 crore loss to the state-run bank. The accused had availed home loans and credit from Syndicate Bank on the basis of forged and fabricated documents. These funds were fraudulently transferred to the companies owned by the accused persons.\n",
      "4 ex-bank officials booked for cheating bank of ₹209 crore\n",
      "\n",
      "REGEX CLEANING AND STOPWORD REMOVAL:\n",
      "cbi saturday booked four former officials syndicate bank six others cheating forgery criminal conspiracy causing 209 crore loss state run bank accused availed home loans credit syndicate bank basis forged fabricated documents funds fraudulently transferred companies owned accused persons\n",
      "\n",
      "LEMMATIZATION + START AND END TOKEN\n",
      "cbi saturday book four former official syndicate bank six other cheat forgery criminal conspiracy cause 209 crore loss state run bank accuse availed home loan credit syndicate bank basis forge fabricate document fund fraudulently transfer company own accuse person\n",
      "_START_ 4 ex-bank officials booked for cheating bank of ₹209 crore _END_\n"
     ]
    }
   ],
   "source": [
    "print(\"\\nORIGINAL\")\n",
    "print(original_text)\n",
    "print(original_headline)\n",
    "\n",
    "print(\"\\nREGEX CLEANING AND STOPWORD REMOVAL:\")\n",
    "print(processed_text[0])\n",
    "# print(brief_cleaned_summary[0])\n",
    "\n",
    "print(\"\\nLEMMATIZATION + START AND END TOKEN\")\n",
    "print(data['text'][0])\n",
    "print(data['headlines'][0])"
   ]
  },
  {
   "cell_type": "code",
   "execution_count": 13,
   "id": "e2614607",
   "metadata": {
    "execution": {
     "iopub.execute_input": "2022-01-11T15:25:01.007693Z",
     "iopub.status.busy": "2022-01-11T15:25:00.981673Z",
     "iopub.status.idle": "2022-01-11T15:25:01.129856Z",
     "shell.execute_reply": "2022-01-11T15:25:01.129315Z",
     "shell.execute_reply.started": "2022-01-11T14:57:44.580358Z"
    },
    "id": "Tb68xRjGNP8z",
    "papermill": {
     "duration": 0.223047,
     "end_time": "2022-01-11T15:25:01.129986",
     "exception": false,
     "start_time": "2022-01-11T15:25:00.906939",
     "status": "completed"
    },
    "tags": []
   },
   "outputs": [],
   "source": [
    "headlines_length = [len(x.split()) for x in data.headlines]\n",
    "text_length = [len(x.split()) for x in data.text]"
   ]
  },
  {
   "cell_type": "code",
   "execution_count": 14,
   "id": "4c7ded9f",
   "metadata": {
    "execution": {
     "iopub.execute_input": "2022-01-11T15:25:01.221071Z",
     "iopub.status.busy": "2022-01-11T15:25:01.220205Z",
     "iopub.status.idle": "2022-01-11T15:25:02.181442Z",
     "shell.execute_reply": "2022-01-11T15:25:02.181836Z",
     "shell.execute_reply.started": "2022-01-11T14:57:44.748842Z"
    },
    "id": "4exx0vZpoZDp",
    "outputId": "4fcef4de-8331-4731-b6af-be6b525e8351",
    "papermill": {
     "duration": 1.011673,
     "end_time": "2022-01-11T15:25:02.181987",
     "exception": false,
     "start_time": "2022-01-11T15:25:01.170314",
     "status": "completed"
    },
    "tags": []
   },
   "outputs": [
    {
     "data": {
      "image/png": "[encoded data removed]",
      "text/plain": [
       "<Figure size 720x360 with 2 Axes>"
      ]
     },
     "metadata": {
      "needs_background": "light"
     },
     "output_type": "display_data"
    }
   ],
   "source": [
    "fig, (ax1, ax2) = plt.subplots(1,2, figsize = (10,5))\n",
    "ax1.hist(headlines_length, bins = 20)\n",
    "ax2.hist(text_length, bins = 20)\n",
    "\n",
    "ax1.title.set_text(\"Words in Headlines\")\n",
    "ax2.title.set_text(\"Words in Text\")\n",
    "plt.show()"
   ]
  },
  {
   "cell_type": "markdown",
   "id": "2ea679bd",
   "metadata": {
    "id": "5J6b2-BXoasR",
    "papermill": {
     "duration": 0.040735,
     "end_time": "2022-01-11T15:25:02.264204",
     "exception": false,
     "start_time": "2022-01-11T15:25:02.223469",
     "status": "completed"
    },
    "tags": []
   },
   "source": [
    "### Embedding Matrix from Glove\n"
   ]
  },
  {
   "cell_type": "code",
   "execution_count": 15,
   "id": "a5534cef",
   "metadata": {
    "execution": {
     "iopub.execute_input": "2022-01-11T15:25:02.350878Z",
     "iopub.status.busy": "2022-01-11T15:25:02.350326Z",
     "iopub.status.idle": "2022-01-11T15:25:02.360709Z",
     "shell.execute_reply": "2022-01-11T15:25:02.360211Z",
     "shell.execute_reply.started": "2022-01-11T14:57:45.650879Z"
    },
    "id": "7vLovzKr0m5S",
    "papermill": {
     "duration": 0.055138,
     "end_time": "2022-01-11T15:25:02.360834",
     "exception": false,
     "start_time": "2022-01-11T15:25:02.305696",
     "status": "completed"
    },
    "tags": []
   },
   "outputs": [],
   "source": [
    "glove_size = 300\n",
    "f = open('../input/glove42b300dtxt/glove.42B.300d.txt')"
   ]
  },
  {
   "cell_type": "code",
   "execution_count": 16,
   "id": "aceda72c",
   "metadata": {
    "execution": {
     "iopub.execute_input": "2022-01-11T15:25:02.448070Z",
     "iopub.status.busy": "2022-01-11T15:25:02.447492Z",
     "iopub.status.idle": "2022-01-11T15:28:50.466084Z",
     "shell.execute_reply": "2022-01-11T15:28:50.465543Z",
     "shell.execute_reply.started": "2022-01-11T14:57:45.666673Z"
    },
    "id": "KulasZGc0nDp",
    "papermill": {
     "duration": 228.064109,
     "end_time": "2022-01-11T15:28:50.466253",
     "exception": false,
     "start_time": "2022-01-11T15:25:02.402144",
     "status": "completed"
    },
    "tags": []
   },
   "outputs": [],
   "source": [
    "embeddings_index = dict()\n",
    "for line in f:\n",
    "    values = line.split()\n",
    "    embeddings_index[values[0]] = np.asarray(values[1:], dtype='float32')\n",
    "f.close()"
   ]
  },
  {
   "cell_type": "code",
   "execution_count": 17,
   "id": "d425a63c",
   "metadata": {
    "execution": {
     "iopub.execute_input": "2022-01-11T15:28:50.592582Z",
     "iopub.status.busy": "2022-01-11T15:28:50.587541Z",
     "iopub.status.idle": "2022-01-11T15:28:51.767033Z",
     "shell.execute_reply": "2022-01-11T15:28:51.766214Z",
     "shell.execute_reply.started": "2022-01-11T15:01:21.573380Z"
    },
    "id": "7JA07ZzL0nhw",
    "outputId": "5535e162-8446-4832-a2e9-82c5eb2dd588",
    "papermill": {
     "duration": 1.259204,
     "end_time": "2022-01-11T15:28:51.767191",
     "exception": false,
     "start_time": "2022-01-11T15:28:50.507987",
     "status": "completed"
    },
    "tags": []
   },
   "outputs": [
    {
     "name": "stdout",
     "output_type": "stream",
     "text": [
      "all the words in the corpus 2235816\n",
      "the unique words in the corpus 62368\n",
      "The number of words that are present in both glove vectors and our corpus are 52505 which is nearly 84.0% \n",
      "word 2 vec length 52505\n"
     ]
    }
   ],
   "source": [
    "words_source_train = []\n",
    "for i in data['text'] :\n",
    "  words_source_train.extend(i.split(' '))\n",
    "\n",
    "print(\"all the words in the corpus\", len(words_source_train))\n",
    "words_source_train = set(words_source_train)\n",
    "print(\"the unique words in the corpus\", len(words_source_train))\n",
    "inter_words = set(embeddings_index.keys()).intersection(words_source_train)\n",
    "print(\"The number of words that are present in both glove vectors and our corpus are {} which \\\n",
    "is nearly {}% \".format(len(inter_words), np.round((float(len(inter_words))/len(words_source_train))\n",
    "*100)))\n",
    "\n",
    "words_corpus_source_train = {}\n",
    "words_glove = set(embeddings_index.keys())\n",
    "for i in words_source_train:\n",
    "  if i in words_glove:\n",
    "    words_corpus_source_train[i] = embeddings_index[i]\n",
    "print(\"word 2 vec length\", len(words_corpus_source_train))"
   ]
  },
  {
   "cell_type": "code",
   "execution_count": 18,
   "id": "f9cd664a",
   "metadata": {
    "execution": {
     "iopub.execute_input": "2022-01-11T15:28:51.862219Z",
     "iopub.status.busy": "2022-01-11T15:28:51.860943Z",
     "iopub.status.idle": "2022-01-11T15:28:51.864873Z",
     "shell.execute_reply": "2022-01-11T15:28:51.864416Z",
     "shell.execute_reply.started": "2022-01-11T15:01:22.559022Z"
    },
    "papermill": {
     "duration": 0.053145,
     "end_time": "2022-01-11T15:28:51.864986",
     "exception": false,
     "start_time": "2022-01-11T15:28:51.811841",
     "status": "completed"
    },
    "tags": []
   },
   "outputs": [
    {
     "name": "stdout",
     "output_type": "stream",
     "text": [
      "['', 'kemmu', 'rubbishwe', 'kesnand', 'karachiwala', 'jusreign', 'sunac', 'yongpe', 'moodbank', 'hadzialic', 'governorsuggest', 'abineet', 'responsibilitiesit', 'aapkasidhu', '28868', 'koirengei', 'iceworm', 'jalao', 'pressuremaybe', 'modaak']\n"
     ]
    }
   ],
   "source": [
    "print(list(words_source_train - inter_words)[:20])"
   ]
  },
  {
   "cell_type": "code",
   "execution_count": 19,
   "id": "900e900a",
   "metadata": {
    "execution": {
     "iopub.execute_input": "2022-01-11T15:28:51.974020Z",
     "iopub.status.busy": "2022-01-11T15:28:51.952702Z",
     "iopub.status.idle": "2022-01-11T15:28:52.353475Z",
     "shell.execute_reply": "2022-01-11T15:28:52.352916Z",
     "shell.execute_reply.started": "2022-01-11T15:01:22.569346Z"
    },
    "id": "hT_Ak7qtkv2_",
    "papermill": {
     "duration": 0.447589,
     "end_time": "2022-01-11T15:28:52.353608",
     "exception": false,
     "start_time": "2022-01-11T15:28:51.906019",
     "status": "completed"
    },
    "tags": []
   },
   "outputs": [],
   "source": [
    "def num(text):\n",
    "  words = [w for w in text.split() if not w in inter_words]\n",
    "  return len(words)\n",
    "\n",
    "data['unique_words'] = data['text'].apply(num)"
   ]
  },
  {
   "cell_type": "code",
   "execution_count": 20,
   "id": "1c94f79b",
   "metadata": {
    "execution": {
     "iopub.execute_input": "2022-01-11T15:28:52.446682Z",
     "iopub.status.busy": "2022-01-11T15:28:52.445338Z",
     "iopub.status.idle": "2022-01-11T15:28:52.448895Z",
     "shell.execute_reply": "2022-01-11T15:28:52.448470Z",
     "shell.execute_reply.started": "2022-01-11T15:01:22.968260Z"
    },
    "papermill": {
     "duration": 0.054333,
     "end_time": "2022-01-11T15:28:52.449004",
     "exception": false,
     "start_time": "2022-01-11T15:28:52.394671",
     "status": "completed"
    },
    "tags": []
   },
   "outputs": [
    {
     "data": {
      "text/plain": [
       "0    40642\n",
       "1     9409\n",
       "2     3389\n",
       "3     1155\n",
       "4      333\n",
       "5      124\n",
       "6       41\n",
       "7        8\n",
       "8        2\n",
       "9        1\n",
       "Name: unique_words, dtype: int64"
      ]
     },
     "execution_count": 20,
     "metadata": {},
     "output_type": "execute_result"
    }
   ],
   "source": [
    "data['unique_words'].value_counts()"
   ]
  },
  {
   "cell_type": "code",
   "execution_count": 21,
   "id": "42536a00",
   "metadata": {
    "execution": {
     "iopub.execute_input": "2022-01-11T15:28:52.536458Z",
     "iopub.status.busy": "2022-01-11T15:28:52.535606Z",
     "iopub.status.idle": "2022-01-11T15:28:52.543891Z",
     "shell.execute_reply": "2022-01-11T15:28:52.543491Z",
     "shell.execute_reply.started": "2022-01-11T15:01:22.978849Z"
    },
    "id": "N4RZLvQ00zBN",
    "papermill": {
     "duration": 0.053791,
     "end_time": "2022-01-11T15:28:52.544003",
     "exception": false,
     "start_time": "2022-01-11T15:28:52.490212",
     "status": "completed"
    },
    "tags": []
   },
   "outputs": [],
   "source": [
    "data = data[data['unique_words'] < 4]\n",
    "data.reset_index(inplace=True, drop=True)"
   ]
  },
  {
   "cell_type": "code",
   "execution_count": 22,
   "id": "d936a49d",
   "metadata": {
    "execution": {
     "iopub.execute_input": "2022-01-11T15:28:52.643011Z",
     "iopub.status.busy": "2022-01-11T15:28:52.638088Z",
     "iopub.status.idle": "2022-01-11T15:28:52.653454Z",
     "shell.execute_reply": "2022-01-11T15:28:52.652986Z",
     "shell.execute_reply.started": "2022-01-11T15:01:22.994357Z"
    },
    "id": "uF08PoBm1N78",
    "outputId": "b54f44b1-d68b-428c-d37d-37f691f00573",
    "papermill": {
     "duration": 0.068392,
     "end_time": "2022-01-11T15:28:52.653577",
     "exception": false,
     "start_time": "2022-01-11T15:28:52.585185",
     "status": "completed"
    },
    "tags": []
   },
   "outputs": [
    {
     "data": {
      "text/html": [
       "<div>\n",
       "<style scoped>\n",
       "    .dataframe tbody tr th:only-of-type {\n",
       "        vertical-align: middle;\n",
       "    }\n",
       "\n",
       "    .dataframe tbody tr th {\n",
       "        vertical-align: top;\n",
       "    }\n",
       "\n",
       "    .dataframe thead th {\n",
       "        text-align: right;\n",
       "    }\n",
       "</style>\n",
       "<table border=\"1\" class=\"dataframe\">\n",
       "  <thead>\n",
       "    <tr style=\"text-align: right;\">\n",
       "      <th></th>\n",
       "      <th>headlines</th>\n",
       "      <th>text</th>\n",
       "      <th>unique_words</th>\n",
       "    </tr>\n",
       "  </thead>\n",
       "  <tbody>\n",
       "    <tr>\n",
       "      <th>0</th>\n",
       "      <td>_START_ 4 ex-bank officials booked for cheatin...</td>\n",
       "      <td>cbi saturday book four former official syndica...</td>\n",
       "      <td>0</td>\n",
       "    </tr>\n",
       "    <tr>\n",
       "      <th>1</th>\n",
       "      <td>_START_ Supreme Court to go paperless in 6 mon...</td>\n",
       "      <td>chief justice js khehar say supreme court go p...</td>\n",
       "      <td>0</td>\n",
       "    </tr>\n",
       "    <tr>\n",
       "      <th>2</th>\n",
       "      <td>_START_ At least 3 killed, 30 injured in blast...</td>\n",
       "      <td>least three people kill include policeman 30 o...</td>\n",
       "      <td>1</td>\n",
       "    </tr>\n",
       "    <tr>\n",
       "      <th>3</th>\n",
       "      <td>_START_ Why has Reliance been barred from trad...</td>\n",
       "      <td>mukesh ambani lead reliance industry 2007 ril ...</td>\n",
       "      <td>0</td>\n",
       "    </tr>\n",
       "    <tr>\n",
       "      <th>4</th>\n",
       "      <td>_START_ Was stopped from entering my own studi...</td>\n",
       "      <td>tv news anchor arnab goswami say tell could pr...</td>\n",
       "      <td>0</td>\n",
       "    </tr>\n",
       "    <tr>\n",
       "      <th>...</th>\n",
       "      <td>...</td>\n",
       "      <td>...</td>\n",
       "      <td>...</td>\n",
       "    </tr>\n",
       "    <tr>\n",
       "      <th>54590</th>\n",
       "      <td>_START_ Sensex loses 400 points to hit 52-week...</td>\n",
       "      <td>track weak cue asian market benchmark sensex w...</td>\n",
       "      <td>1</td>\n",
       "    </tr>\n",
       "    <tr>\n",
       "      <th>54591</th>\n",
       "      <td>_START_ China to inject $91 bn into the money ...</td>\n",
       "      <td>amid grow concern china 39 s economic growth r...</td>\n",
       "      <td>0</td>\n",
       "    </tr>\n",
       "    <tr>\n",
       "      <th>54592</th>\n",
       "      <td>_START_ Ghulam Ali set to make acting debut in...</td>\n",
       "      <td>pakistani ghazal singer ghulam ali soon make a...</td>\n",
       "      <td>1</td>\n",
       "    </tr>\n",
       "    <tr>\n",
       "      <th>54593</th>\n",
       "      <td>_START_ IS acknowledges death of Jihadi John: ...</td>\n",
       "      <td>islamic state acknowledge death 39 jihadi john...</td>\n",
       "      <td>1</td>\n",
       "    </tr>\n",
       "    <tr>\n",
       "      <th>54594</th>\n",
       "      <td>_START_ Cairn to seek $600 mn from India in da...</td>\n",
       "      <td>uk base oil firm cairn energy tuesday say seek...</td>\n",
       "      <td>0</td>\n",
       "    </tr>\n",
       "  </tbody>\n",
       "</table>\n",
       "<p>54595 rows × 3 columns</p>\n",
       "</div>"
      ],
      "text/plain": [
       "                                               headlines  \\\n",
       "0      _START_ 4 ex-bank officials booked for cheatin...   \n",
       "1      _START_ Supreme Court to go paperless in 6 mon...   \n",
       "2      _START_ At least 3 killed, 30 injured in blast...   \n",
       "3      _START_ Why has Reliance been barred from trad...   \n",
       "4      _START_ Was stopped from entering my own studi...   \n",
       "...                                                  ...   \n",
       "54590  _START_ Sensex loses 400 points to hit 52-week...   \n",
       "54591  _START_ China to inject $91 bn into the money ...   \n",
       "54592  _START_ Ghulam Ali set to make acting debut in...   \n",
       "54593  _START_ IS acknowledges death of Jihadi John: ...   \n",
       "54594  _START_ Cairn to seek $600 mn from India in da...   \n",
       "\n",
       "                                                    text  unique_words  \n",
       "0      cbi saturday book four former official syndica...             0  \n",
       "1      chief justice js khehar say supreme court go p...             0  \n",
       "2      least three people kill include policeman 30 o...             1  \n",
       "3      mukesh ambani lead reliance industry 2007 ril ...             0  \n",
       "4      tv news anchor arnab goswami say tell could pr...             0  \n",
       "...                                                  ...           ...  \n",
       "54590  track weak cue asian market benchmark sensex w...             1  \n",
       "54591  amid grow concern china 39 s economic growth r...             0  \n",
       "54592  pakistani ghazal singer ghulam ali soon make a...             1  \n",
       "54593  islamic state acknowledge death 39 jihadi john...             1  \n",
       "54594  uk base oil firm cairn energy tuesday say seek...             0  \n",
       "\n",
       "[54595 rows x 3 columns]"
      ]
     },
     "execution_count": 22,
     "metadata": {},
     "output_type": "execute_result"
    }
   ],
   "source": [
    "data"
   ]
  },
  {
   "cell_type": "markdown",
   "id": "a0a17a71",
   "metadata": {},
   "source": [
    "### Splitting Data"
   ]
  },
  {
   "cell_type": "code",
   "execution_count": 23,
   "id": "a62c22f3",
   "metadata": {
    "execution": {
     "iopub.execute_input": "2022-01-11T15:28:52.757992Z",
     "iopub.status.busy": "2022-01-11T15:28:52.757016Z",
     "iopub.status.idle": "2022-01-11T15:28:52.907703Z",
     "shell.execute_reply": "2022-01-11T15:28:52.907190Z",
     "shell.execute_reply.started": "2022-01-11T15:01:23.141868Z"
    },
    "id": "5JaGAWYn7kqR",
    "papermill": {
     "duration": 0.207663,
     "end_time": "2022-01-11T15:28:52.907830",
     "exception": false,
     "start_time": "2022-01-11T15:28:52.700167",
     "status": "completed"
    },
    "tags": []
   },
   "outputs": [],
   "source": [
    "from sklearn.model_selection import train_test_split\n",
    "X_train, X_val, y_train, y_val = train_test_split(data['text'], data['headlines'], test_size = 0.2, random_state = 20)\n",
    "X_test, X_val, y_test, y_val = train_test_split(X_val, y_val, test_size = 0.5, random_state = 20)"
   ]
  },
  {
   "cell_type": "code",
   "execution_count": 24,
   "id": "a36e05e7",
   "metadata": {
    "execution": {
     "iopub.execute_input": "2022-01-11T15:28:52.998341Z",
     "iopub.status.busy": "2022-01-11T15:28:52.997545Z",
     "iopub.status.idle": "2022-01-11T15:28:53.000148Z",
     "shell.execute_reply": "2022-01-11T15:28:52.999694Z",
     "shell.execute_reply.started": "2022-01-11T15:01:23.166866Z"
    },
    "id": "zhoRlF5L_qwa",
    "papermill": {
     "duration": 0.050507,
     "end_time": "2022-01-11T15:28:53.000269",
     "exception": false,
     "start_time": "2022-01-11T15:28:52.949762",
     "status": "completed"
    },
    "tags": []
   },
   "outputs": [],
   "source": [
    "max_length_x = max(text_length)\n",
    "max_length_y = max(headlines_length)"
   ]
  },
  {
   "cell_type": "markdown",
   "id": "c38db0dd",
   "metadata": {},
   "source": [
    "### Tokenization"
   ]
  },
  {
   "cell_type": "code",
   "execution_count": 25,
   "id": "1e454beb",
   "metadata": {
    "execution": {
     "iopub.execute_input": "2022-01-11T15:28:53.088742Z",
     "iopub.status.busy": "2022-01-11T15:28:53.087901Z",
     "iopub.status.idle": "2022-01-11T15:28:58.495277Z",
     "shell.execute_reply": "2022-01-11T15:28:58.496057Z",
     "shell.execute_reply.started": "2022-01-11T15:01:23.176930Z"
    },
    "id": "QXQdLrLK0l5B",
    "papermill": {
     "duration": 5.453237,
     "end_time": "2022-01-11T15:28:58.496292",
     "exception": false,
     "start_time": "2022-01-11T15:28:53.043055",
     "status": "completed"
    },
    "tags": []
   },
   "outputs": [],
   "source": [
    "x_t = Tokenizer()\n",
    "x_t.fit_on_texts(data['text'] + data['headlines'])\n",
    "x_vocab_size = len(x_t.word_index) + 1\n",
    "\n",
    "encoded_xtrain = x_t.texts_to_sequences(X_train)\n",
    "encoded_xval = x_t.texts_to_sequences(X_val)\n",
    "encoded_xtest = x_t.texts_to_sequences(X_test)\n",
    "\n",
    "padded_xtrain = pad_sequences(encoded_xtrain, maxlen=max_length_x, padding='post')\n",
    "padded_xval = pad_sequences(encoded_xval, maxlen=max_length_x, padding='post')\n",
    "padded_xtest = pad_sequences(encoded_xtest, maxlen=max_length_x, padding='post')"
   ]
  },
  {
   "cell_type": "code",
   "execution_count": 26,
   "id": "6f8f16e8",
   "metadata": {
    "execution": {
     "iopub.execute_input": "2022-01-11T15:28:58.614184Z",
     "iopub.status.busy": "2022-01-11T15:28:58.602679Z",
     "iopub.status.idle": "2022-01-11T15:29:00.691919Z",
     "shell.execute_reply": "2022-01-11T15:29:00.691460Z",
     "shell.execute_reply.started": "2022-01-11T15:01:29.091309Z"
    },
    "id": "n7SVsptTNPtP",
    "papermill": {
     "duration": 2.15123,
     "end_time": "2022-01-11T15:29:00.692057",
     "exception": false,
     "start_time": "2022-01-11T15:28:58.540827",
     "status": "completed"
    },
    "tags": []
   },
   "outputs": [],
   "source": [
    "y_t = Tokenizer()\n",
    "y_t.fit_on_texts(data['headlines'])\n",
    "y_vocab_size = len(y_t.word_index) + 1\n",
    "\n",
    "encoded_ytrain = y_t.texts_to_sequences(y_train)\n",
    "encoded_yval = y_t.texts_to_sequences(y_val)\n",
    "encoded_ytest = y_t.texts_to_sequences(y_test)\n",
    "\n",
    "padded_ytrain = pad_sequences(encoded_ytrain, maxlen=max_length_y, padding='post')\n",
    "padded_yval = pad_sequences(encoded_yval, maxlen=max_length_y, padding='post')\n",
    "padded_ytest = pad_sequences(encoded_ytest, maxlen=max_length_y, padding='post')"
   ]
  },
  {
   "cell_type": "markdown",
   "id": "db2ed17e",
   "metadata": {},
   "source": [
    "### Creation of Embedding Matrix"
   ]
  },
  {
   "cell_type": "code",
   "execution_count": 27,
   "id": "4bf70738",
   "metadata": {
    "execution": {
     "iopub.execute_input": "2022-01-11T15:29:00.782457Z",
     "iopub.status.busy": "2022-01-11T15:29:00.781589Z",
     "iopub.status.idle": "2022-01-11T15:29:01.011178Z",
     "shell.execute_reply": "2022-01-11T15:29:01.010563Z",
     "shell.execute_reply.started": "2022-01-11T15:01:31.071270Z"
    },
    "id": "rM-974HV0nKo",
    "outputId": "6aa27890-eaf7-4e0f-e594-8057efa18be6",
    "papermill": {
     "duration": 0.276766,
     "end_time": "2022-01-11T15:29:01.011323",
     "exception": false,
     "start_time": "2022-01-11T15:29:00.734557",
     "status": "completed"
    },
    "tags": []
   },
   "outputs": [
    {
     "name": "stdout",
     "output_type": "stream",
     "text": [
      "Loaded 1917494 word vectors.\n"
     ]
    }
   ],
   "source": [
    "print('Loaded %s word vectors.' % len(embeddings_index))\n",
    "\n",
    "embedding_matrix = np.zeros((x_vocab_size, glove_size))\n",
    "for word, i in x_t.word_index.items():\n",
    "\tembedding_vector = embeddings_index.get(word)\n",
    "\tif embedding_vector is not None:\n",
    "\t\tembedding_matrix[i] = embedding_vector"
   ]
  },
  {
   "cell_type": "markdown",
   "id": "9bbec3ff",
   "metadata": {
    "id": "99aPNL7dqnfh",
    "papermill": {
     "duration": 0.084922,
     "end_time": "2022-01-11T15:29:01.165384",
     "exception": false,
     "start_time": "2022-01-11T15:29:01.080462",
     "status": "completed"
    },
    "tags": []
   },
   "source": [
    "### Building Model"
   ]
  },
  {
   "cell_type": "code",
   "execution_count": 30,
   "id": "96636b8f",
   "metadata": {
    "execution": {
     "iopub.execute_input": "2022-01-11T15:29:01.648691Z",
     "iopub.status.busy": "2022-01-11T15:29:01.647460Z",
     "iopub.status.idle": "2022-01-11T15:29:11.740413Z",
     "shell.execute_reply": "2022-01-11T15:29:11.739636Z",
     "shell.execute_reply.started": "2022-01-11T15:04:13.344462Z"
    },
    "id": "wTukjl0hpPgo",
    "outputId": "6035a9eb-baac-43ff-a123-74e1ae1f02b7",
    "papermill": {
     "duration": 10.182109,
     "end_time": "2022-01-11T15:29:11.740609",
     "exception": false,
     "start_time": "2022-01-11T15:29:01.558500",
     "status": "completed"
    },
    "tags": []
   },
   "outputs": [
    {
     "name": "stderr",
     "output_type": "stream",
     "text": [
      "2022-01-11 15:29:01.733256: I tensorflow/stream_executor/cuda/cuda_gpu_executor.cc:937] successful NUMA node read from SysFS had negative value (-1), but there must be at least one NUMA node, so returning NUMA node zero\n",
      "2022-01-11 15:29:01.735172: I tensorflow/stream_executor/cuda/cuda_gpu_executor.cc:937] successful NUMA node read from SysFS had negative value (-1), but there must be at least one NUMA node, so returning NUMA node zero\n",
      "2022-01-11 15:29:01.736364: I tensorflow/stream_executor/cuda/cuda_gpu_executor.cc:937] successful NUMA node read from SysFS had negative value (-1), but there must be at least one NUMA node, so returning NUMA node zero\n",
      "2022-01-11 15:29:01.737699: I tensorflow/core/platform/cpu_feature_guard.cc:142] This TensorFlow binary is optimized with oneAPI Deep Neural Network Library (oneDNN) to use the following CPU instructions in performance-critical operations:  AVX2 AVX512F FMA\n",
      "To enable them in other operations, rebuild TensorFlow with the appropriate compiler flags.\n",
      "2022-01-11 15:29:01.741434: I tensorflow/stream_executor/cuda/cuda_gpu_executor.cc:937] successful NUMA node read from SysFS had negative value (-1), but there must be at least one NUMA node, so returning NUMA node zero\n",
      "2022-01-11 15:29:01.742541: I tensorflow/stream_executor/cuda/cuda_gpu_executor.cc:937] successful NUMA node read from SysFS had negative value (-1), but there must be at least one NUMA node, so returning NUMA node zero\n",
      "2022-01-11 15:29:01.746492: I tensorflow/stream_executor/cuda/cuda_gpu_executor.cc:937] successful NUMA node read from SysFS had negative value (-1), but there must be at least one NUMA node, so returning NUMA node zero\n",
      "2022-01-11 15:29:09.855849: I tensorflow/stream_executor/cuda/cuda_gpu_executor.cc:937] successful NUMA node read from SysFS had negative value (-1), but there must be at least one NUMA node, so returning NUMA node zero\n",
      "2022-01-11 15:29:09.856814: I tensorflow/stream_executor/cuda/cuda_gpu_executor.cc:937] successful NUMA node read from SysFS had negative value (-1), but there must be at least one NUMA node, so returning NUMA node zero\n",
      "2022-01-11 15:29:09.857519: I tensorflow/stream_executor/cuda/cuda_gpu_executor.cc:937] successful NUMA node read from SysFS had negative value (-1), but there must be at least one NUMA node, so returning NUMA node zero\n",
      "2022-01-11 15:29:09.858136: I tensorflow/core/common_runtime/gpu/gpu_device.cc:1510] Created device /job:localhost/replica:0/task:0/device:GPU:0 with 14589 MB memory:  -> device: 0, name: Tesla P100-PCIE-16GB, pci bus id: 0000:00:04.0, compute capability: 6.0\n",
      "2022-01-11 15:29:10.358259: W tensorflow/core/framework/cpu_allocator_impl.cc:80] Allocation of 82384800 exceeds 10% of free system memory.\n",
      "2022-01-11 15:29:11.344846: W tensorflow/core/framework/cpu_allocator_impl.cc:80] Allocation of 82384800 exceeds 10% of free system memory.\n"
     ]
    },
    {
     "name": "stdout",
     "output_type": "stream",
     "text": [
      "Model: \"model\"\n",
      "__________________________________________________________________________________________________\n",
      "Layer (type)                    Output Shape         Param #     Connected to                     \n",
      "==================================================================================================\n",
      "input_1 (InputLayer)            [(None, 71)]         0                                            \n",
      "__________________________________________________________________________________________________\n",
      "embedding (Embedding)           (None, 71, 300)      20596200    input_1[0][0]                    \n",
      "__________________________________________________________________________________________________\n",
      "gru (GRU)                       [(None, 71, 500), (N 1203000     embedding[0][0]                  \n",
      "__________________________________________________________________________________________________\n",
      "input_2 (InputLayer)            [(None, None)]       0                                            \n",
      "__________________________________________________________________________________________________\n",
      "gru_1 (GRU)                     [(None, 71, 500), (N 1503000     gru[0][0]                        \n",
      "__________________________________________________________________________________________________\n",
      "embedding_1 (Embedding)         (None, None, 300)    20596200    input_2[0][0]                    \n",
      "__________________________________________________________________________________________________\n",
      "gru_2 (GRU)                     [(None, 71, 500), (N 1503000     gru_1[0][0]                      \n",
      "__________________________________________________________________________________________________\n",
      "gru_3 (GRU)                     [(None, None, 500),  1203000     embedding_1[0][0]                \n",
      "                                                                 gru_2[0][1]                      \n",
      "__________________________________________________________________________________________________\n",
      "time_distributed (TimeDistribut (None, None, 29389)  14723889    gru_3[0][0]                      \n",
      "==================================================================================================\n",
      "Total params: 61,328,289\n",
      "Trainable params: 20,135,889\n",
      "Non-trainable params: 41,192,400\n",
      "__________________________________________________________________________________________________\n",
      "None\n"
     ]
    }
   ],
   "source": [
    "latent_dim=500\n",
    "\n",
    "K.clear_session() \n",
    "\n",
    "encoder_inputs = Input(shape=(max_length_x,)) \n",
    "enc_emb = Embedding(x_vocab_size, glove_size, weights=[embedding_matrix],input_length=max_length_x, trainable=False)(encoder_inputs) \n",
    "\n",
    "# Encoder\n",
    "encoder_lstm1 = GRU(latent_dim,return_sequences=True,return_state=True) \n",
    "encoder_output1, state_h1 = encoder_lstm1(enc_emb) \n",
    "encoder_lstm2 = GRU(latent_dim,return_sequences=True,return_state=True) \n",
    "encoder_output2, state_h2 = encoder_lstm2(encoder_output1) \n",
    "encoder_lstm3 = GRU(latent_dim, return_state=True, return_sequences=True) \n",
    "encoder_outputs, state_h= encoder_lstm3(encoder_output2) \n",
    "encoder_states = [state_h]\n",
    "\n",
    "# Decoder. \n",
    "decoder_inputs = Input(shape=(None,)) \n",
    "dec_emb_layer = Embedding(x_vocab_size, glove_size, weights=[embedding_matrix],input_length=max_length_x, trainable=False) \n",
    "dec_emb = dec_emb_layer(decoder_inputs) \n",
    "\n",
    "#LSTM using encoder_states as initial state\n",
    "decoder_lstm = GRU(500, return_sequences=True, return_state=True) \n",
    "decoder_outputs,decoder_fwd_state = decoder_lstm(dec_emb,initial_state=[state_h]) \n",
    "\n",
    "decoder_dense = TimeDistributed(Dense(y_vocab_size, activation='softmax')) \n",
    "decoder_outputs = decoder_dense(decoder_outputs) \n",
    "\n",
    "model = Model([encoder_inputs, decoder_inputs], decoder_outputs) \n",
    "print(model.summary())"
   ]
  },
  {
   "cell_type": "code",
   "execution_count": 31,
   "id": "8f0ba811",
   "metadata": {
    "execution": {
     "iopub.execute_input": "2022-01-11T15:29:11.843888Z",
     "iopub.status.busy": "2022-01-11T15:29:11.842595Z",
     "iopub.status.idle": "2022-01-11T15:45:22.504252Z",
     "shell.execute_reply": "2022-01-11T15:45:22.503649Z",
     "shell.execute_reply.started": "2022-01-11T15:04:17.109645Z"
    },
    "id": "4fUJoaFAiwUb",
    "outputId": "4bc22143-d3ed-4b87-e2e6-c44f3034a816",
    "papermill": {
     "duration": 970.717935,
     "end_time": "2022-01-11T15:45:22.504417",
     "exception": false,
     "start_time": "2022-01-11T15:29:11.786482",
     "status": "completed"
    },
    "tags": []
   },
   "outputs": [
    {
     "name": "stderr",
     "output_type": "stream",
     "text": [
      "2022-01-11 15:29:11.912787: I tensorflow/compiler/mlir/mlir_graph_optimization_pass.cc:185] None of the MLIR Optimization Passes are enabled (registered 2)\n"
     ]
    },
    {
     "name": "stdout",
     "output_type": "stream",
     "text": [
      "Epoch 1/30\n"
     ]
    },
    {
     "name": "stderr",
     "output_type": "stream",
     "text": [
      "2022-01-11 15:29:18.073632: I tensorflow/stream_executor/cuda/cuda_dnn.cc:369] Loaded cuDNN version 8005\n"
     ]
    },
    {
     "name": "stdout",
     "output_type": "stream",
     "text": [
      "86/86 [==============================] - 40s 378ms/step - loss: 5.1896 - val_loss: 4.7701\n"
     ]
    },
    {
     "name": "stderr",
     "output_type": "stream",
     "text": [
      "2022-01-11 15:29:51.730407: W tensorflow/core/framework/cpu_allocator_impl.cc:80] Allocation of 82384800 exceeds 10% of free system memory.\n",
      "2022-01-11 15:29:51.958983: W tensorflow/core/framework/cpu_allocator_impl.cc:80] Allocation of 82384800 exceeds 10% of free system memory.\n",
      "2022-01-11 15:29:52.261767: W tensorflow/core/framework/cpu_allocator_impl.cc:80] Allocation of 58778000 exceeds 10% of free system memory.\n"
     ]
    },
    {
     "name": "stdout",
     "output_type": "stream",
     "text": [
      "Epoch 2/30\n",
      "86/86 [==============================] - 32s 367ms/step - loss: 4.5088 - val_loss: 4.4120\n",
      "Epoch 3/30\n",
      "86/86 [==============================] - 32s 368ms/step - loss: 4.2070 - val_loss: 4.2478\n",
      "Epoch 4/30\n",
      "86/86 [==============================] - 32s 368ms/step - loss: 3.9677 - val_loss: 4.0642\n",
      "Epoch 5/30\n",
      "86/86 [==============================] - 32s 369ms/step - loss: 3.7436 - val_loss: 3.9375\n",
      "Epoch 6/30\n",
      "86/86 [==============================] - 32s 370ms/step - loss: 3.5516 - val_loss: 3.8483\n",
      "Epoch 7/30\n",
      "86/86 [==============================] - 32s 370ms/step - loss: 3.3799 - val_loss: 3.7748\n",
      "Epoch 8/30\n",
      "86/86 [==============================] - 32s 370ms/step - loss: 3.2285 - val_loss: 3.7057\n",
      "Epoch 9/30\n",
      "86/86 [==============================] - 32s 369ms/step - loss: 3.0835 - val_loss: 3.6605\n",
      "Epoch 10/30\n",
      "86/86 [==============================] - 32s 370ms/step - loss: 2.9494 - val_loss: 3.6293\n",
      "Epoch 11/30\n",
      "86/86 [==============================] - 32s 370ms/step - loss: 2.8205 - val_loss: 3.5933\n",
      "Epoch 12/30\n",
      "86/86 [==============================] - 32s 370ms/step - loss: 2.6959 - val_loss: 3.5782\n",
      "Epoch 13/30\n",
      "86/86 [==============================] - 32s 369ms/step - loss: 2.5774 - val_loss: 3.5610\n",
      "Epoch 14/30\n",
      "86/86 [==============================] - 32s 369ms/step - loss: 2.4613 - val_loss: 3.5521\n",
      "Epoch 15/30\n",
      "86/86 [==============================] - 32s 369ms/step - loss: 2.3505 - val_loss: 3.5472\n",
      "Epoch 16/30\n",
      "86/86 [==============================] - 32s 369ms/step - loss: 2.2405 - val_loss: 3.5419\n",
      "Epoch 17/30\n",
      "86/86 [==============================] - 32s 369ms/step - loss: 2.1354 - val_loss: 3.5457\n",
      "Epoch 18/30\n",
      "86/86 [==============================] - 32s 369ms/step - loss: 2.0316 - val_loss: 3.5601\n",
      "Epoch 19/30\n",
      "86/86 [==============================] - 32s 369ms/step - loss: 1.9315 - val_loss: 3.5637\n",
      "Epoch 20/30\n",
      "86/86 [==============================] - 32s 369ms/step - loss: 1.8315 - val_loss: 3.5747\n",
      "Epoch 21/30\n",
      "86/86 [==============================] - 32s 369ms/step - loss: 1.7355 - val_loss: 3.5886\n",
      "Epoch 22/30\n",
      "86/86 [==============================] - 32s 369ms/step - loss: 1.6429 - val_loss: 3.6139\n",
      "Epoch 23/30\n",
      "86/86 [==============================] - 32s 369ms/step - loss: 1.5527 - val_loss: 3.6283\n",
      "Epoch 24/30\n",
      "86/86 [==============================] - 32s 369ms/step - loss: 1.4665 - val_loss: 3.6539\n",
      "Epoch 25/30\n",
      "86/86 [==============================] - 32s 370ms/step - loss: 1.3818 - val_loss: 3.6772\n",
      "Epoch 26/30\n",
      "86/86 [==============================] - 32s 370ms/step - loss: 1.3005 - val_loss: 3.6953\n",
      "Epoch 27/30\n",
      "86/86 [==============================] - 32s 370ms/step - loss: 1.2227 - val_loss: 3.7307\n",
      "Epoch 28/30\n",
      "86/86 [==============================] - 32s 370ms/step - loss: 1.1488 - val_loss: 3.7523\n",
      "Epoch 29/30\n",
      "86/86 [==============================] - 32s 369ms/step - loss: 1.0765 - val_loss: 3.7925\n",
      "Epoch 30/30\n",
      "86/86 [==============================] - 32s 369ms/step - loss: 1.0074 - val_loss: 3.8222\n"
     ]
    }
   ],
   "source": [
    "model.compile(optimizer='rmsprop', loss='sparse_categorical_crossentropy')\n",
    "checkpoint_filepath = './model.{epoch:02d}-{val_loss:.2f}.h5'\n",
    "model_checkpoint_callback = tf.keras.callbacks.ModelCheckpoint(filepath=checkpoint_filepath,save_weights_only=True,monitor='val_loss',mode='min',save_best_only=True, save_freq = \"epoch\")\n",
    "es = EarlyStopping(monitor='val_loss', mode='min', verbose=1, patience=4)\n",
    "history=model.fit(\n",
    "    [padded_xtrain,padded_ytrain[:,:-1]], \n",
    "    padded_ytrain.reshape(padded_ytrain.shape[0],padded_ytrain.shape[1], 1)[:,1:], \n",
    "    epochs=30,\n",
    "    batch_size=512, \n",
    "    validation_data=([padded_xval,padded_yval[:,:-1]], padded_yval.reshape(padded_yval.shape[0],padded_yval.shape[1], 1)[:,1:]), \n",
    "    callbacks=[model_checkpoint_callback])"
   ]
  },
  {
   "cell_type": "markdown",
   "id": "402f7b7e",
   "metadata": {
    "id": "0CULXhQiGpvO",
    "papermill": {
     "duration": 0.72695,
     "end_time": "2022-01-11T15:45:23.983539",
     "exception": false,
     "start_time": "2022-01-11T15:45:23.256589",
     "status": "completed"
    },
    "tags": []
   },
   "source": []
  },
  {
   "cell_type": "code",
   "execution_count": 32,
   "id": "c229f62f",
   "metadata": {
    "execution": {
     "iopub.execute_input": "2022-01-11T15:45:25.454385Z",
     "iopub.status.busy": "2022-01-11T15:45:25.453772Z",
     "iopub.status.idle": "2022-01-11T15:45:25.634898Z",
     "shell.execute_reply": "2022-01-11T15:45:25.635442Z",
     "shell.execute_reply.started": "2022-01-11T15:06:34.654145Z"
    },
    "id": "JQf1v5WhqLLg",
    "outputId": "f5bfa510-79c7-465e-e371-ea5b36198da9",
    "papermill": {
     "duration": 0.91051,
     "end_time": "2022-01-11T15:45:25.635647",
     "exception": false,
     "start_time": "2022-01-11T15:45:24.725137",
     "status": "completed"
    },
    "tags": []
   },
   "outputs": [
    {
     "data": {
      "image/png": "[encoded data removed]",
      "text/plain": [
       "<Figure size 432x288 with 1 Axes>"
      ]
     },
     "metadata": {
      "needs_background": "light"
     },
     "output_type": "display_data"
    }
   ],
   "source": [
    "from matplotlib import pyplot \n",
    "pyplot.plot(history.history['loss'], label='train') \n",
    "pyplot.plot(history.history['val_loss'], label='test') \n",
    "pyplot.legend() \n",
    "pyplot.show()"
   ]
  },
  {
   "cell_type": "markdown",
   "id": "87ff4135",
   "metadata": {
    "id": "PZ0W3VZorHVK",
    "papermill": {
     "duration": 0.771379,
     "end_time": "2022-01-11T15:45:31.394706",
     "exception": false,
     "start_time": "2022-01-11T15:45:30.623327",
     "status": "completed"
    },
    "tags": []
   },
   "source": [
    "### Inference"
   ]
  },
  {
   "cell_type": "code",
   "execution_count": 35,
   "id": "0e0dba95",
   "metadata": {
    "execution": {
     "iopub.execute_input": "2022-01-11T15:45:33.119822Z",
     "iopub.status.busy": "2022-01-11T15:45:33.118896Z",
     "iopub.status.idle": "2022-01-11T15:45:33.120671Z",
     "shell.execute_reply": "2022-01-11T15:45:33.121079Z",
     "shell.execute_reply.started": "2022-01-11T15:07:09.890702Z"
    },
    "id": "UlSTzEbnskcd",
    "papermill": {
     "duration": 0.728953,
     "end_time": "2022-01-11T15:45:33.121252",
     "exception": false,
     "start_time": "2022-01-11T15:45:32.392299",
     "status": "completed"
    },
    "tags": []
   },
   "outputs": [],
   "source": [
    "reverse_target_word_index = y_t.index_word \n",
    "reverse_source_word_index = x_t.index_word \n",
    "target_word_index = y_t.word_index"
   ]
  },
  {
   "cell_type": "code",
   "execution_count": 36,
   "id": "9aa7d1d8",
   "metadata": {
    "execution": {
     "iopub.execute_input": "2022-01-11T15:45:34.581330Z",
     "iopub.status.busy": "2022-01-11T15:45:34.580429Z",
     "iopub.status.idle": "2022-01-11T15:45:34.756673Z",
     "shell.execute_reply": "2022-01-11T15:45:34.757087Z",
     "shell.execute_reply.started": "2022-01-11T15:07:11.841024Z"
    },
    "id": "thX0Ep0Ssnd1",
    "papermill": {
     "duration": 0.914074,
     "end_time": "2022-01-11T15:45:34.757357",
     "exception": false,
     "start_time": "2022-01-11T15:45:33.843283",
     "status": "completed"
    },
    "tags": []
   },
   "outputs": [],
   "source": [
    "encoder_model = Model(inputs=encoder_inputs,outputs=[encoder_outputs, state_h])\n",
    "decoder_state_input_h = Input(shape=(latent_dim,))\n",
    "decoder_hidden_state_input = Input(shape=(max_length_x,latent_dim))\n",
    "\n",
    "dec_emb2= dec_emb_layer(decoder_inputs)\n",
    "decoder_outputs2, state_h2 = decoder_lstm(dec_emb2, initial_state=[decoder_state_input_h])\n",
    "\n",
    "decoder_outputs2 = decoder_dense(decoder_outputs2)\n",
    "\n",
    "decoder_model = Model(\n",
    "[decoder_inputs] + [decoder_hidden_state_input,decoder_state_input_h],\n",
    "[decoder_outputs2] + [state_h2])"
   ]
  },
  {
   "cell_type": "code",
   "execution_count": 37,
   "id": "1171ef44",
   "metadata": {
    "execution": {
     "iopub.execute_input": "2022-01-11T15:45:36.191589Z",
     "iopub.status.busy": "2022-01-11T15:45:36.190628Z",
     "iopub.status.idle": "2022-01-11T15:45:36.192439Z",
     "shell.execute_reply": "2022-01-11T15:45:36.193015Z",
     "shell.execute_reply.started": "2022-01-11T15:07:12.308513Z"
    },
    "id": "wtU0wU8gsuz1",
    "papermill": {
     "duration": 0.724968,
     "end_time": "2022-01-11T15:45:36.193216",
     "exception": false,
     "start_time": "2022-01-11T15:45:35.468248",
     "status": "completed"
    },
    "tags": []
   },
   "outputs": [],
   "source": [
    "def decode_sequence(input_seq):\n",
    "    input_seq= input_seq.reshape(1,max_length_x)\n",
    "    e_out, e_h = encoder_model.predict(input_seq)\n",
    "    target_seq = np.zeros((1,1))\n",
    "    target_seq[0, 0] = target_word_index['start']\n",
    "\n",
    "    stop_condition = False\n",
    "    decoded_sentence = ''\n",
    "    while not stop_condition:\n",
    "        output_tokens, h = decoder_model.predict([target_seq] + [e_out, e_h])\n",
    "\n",
    "        sampled_token_index = np.argmax(output_tokens[0, -1, :])\n",
    "        sampled_token = reverse_target_word_index[sampled_token_index]\n",
    "  \n",
    "        if(sampled_token!='end'):\n",
    "            decoded_sentence += ' '+sampled_token\n",
    " \n",
    "        if (sampled_token == 'end' or len(decoded_sentence.split()) >= (max_length_y-1)):\n",
    "                stop_condition = True\n",
    "\n",
    "        target_seq = np.zeros((1,1))\n",
    "        target_seq[0, 0] = sampled_token_index\n",
    "        e_h = h\n",
    "\n",
    "    return decoded_sentence"
   ]
  },
  {
   "cell_type": "code",
   "execution_count": 38,
   "id": "f49690d6",
   "metadata": {
    "execution": {
     "iopub.execute_input": "2022-01-11T15:45:37.649186Z",
     "iopub.status.busy": "2022-01-11T15:45:37.648288Z",
     "iopub.status.idle": "2022-01-11T15:45:37.650041Z",
     "shell.execute_reply": "2022-01-11T15:45:37.650589Z",
     "shell.execute_reply.started": "2022-01-11T15:07:12.856538Z"
    },
    "id": "cLyRVENRs2Ay",
    "papermill": {
     "duration": 0.733922,
     "end_time": "2022-01-11T15:45:37.650741",
     "exception": false,
     "start_time": "2022-01-11T15:45:36.916819",
     "status": "completed"
    },
    "tags": []
   },
   "outputs": [],
   "source": [
    "def seq2summary(input_seq):\n",
    "    newString=''\n",
    "    for i in input_seq:\n",
    "      if((i!=0 and i!=target_word_index['start']) and i!=target_word_index['end']):\n",
    "        newString=newString+reverse_target_word_index[i]+' '\n",
    "    return newString\n",
    "\n",
    "def seq2text(input_seq):\n",
    "    newString=''\n",
    "    for i in input_seq:\n",
    "      if(i!=0):\n",
    "        newString=newString+reverse_source_word_index[i]+' '\n",
    "    return newString"
   ]
  },
  {
   "cell_type": "code",
   "execution_count": 39,
   "id": "9c7dea2f",
   "metadata": {},
   "outputs": [
    {
     "name": "stdout",
     "output_type": "stream",
     "text": [
      "\n",
      "Review: usa become first nation register gold medal rio olympics 2016 19 year old virginia thrasher gold 10 metre air rifle day one event hold saturday thrasher finish ahead china 39 s du li yi sile silver bronze medal open china 39 s medal tally event \n",
      "Original summary: usa wins first gold medal of rio olympics 2016 \n",
      "Predicted summary:  usa wins first gold medal at rio olympics\n",
      "\n"
     ]
    }
   ],
   "source": [
    "print(\"Review:\",seq2text(padded_xtest[7]))\n",
    "print(\"Original summary:\",seq2summary(padded_ytest[7]))\n",
    "print(\"Predicted summary:\",decode_sequence(padded_xtest[7]))"
   ]
  },
  {
   "cell_type": "code",
   "execution_count": 40,
   "id": "6f2438ec",
   "metadata": {},
   "outputs": [
    {
     "name": "stdout",
     "output_type": "stream",
     "text": [
      "\n",
      "Review: rafael benitez appoint new manager relegation threaten premier league outfit newcastle united magpies sack previous manager steve mclaren early today benitez sack real madrid january seven month charge sign three year deal newcastle previously manage liverpool inter milan napoli valencia \n",
      "Original summary: rafael benitez hired as newcastle united manager \n",
      "Predicted summary:  rafael benitez hired as newcastle united manager\n",
      "\n"
     ]
    }
   ],
   "source": [
    "print(\"Review:\",seq2text(padded_xtest[56]))\n",
    "print(\"Original summary:\",seq2summary(padded_ytest[56]))\n",
    "print(\"Predicted summary:\",decode_sequence(padded_xtest[56]))"
   ]
  },
  {
   "cell_type": "code",
   "execution_count": 41,
   "id": "337af5a8",
   "metadata": {},
   "outputs": [
    {
     "name": "stdout",
     "output_type": "stream",
     "text": [
      "\n",
      "Review: israel base technology startup glide create 249 camera embed band apple watch 39 cmra 39 band incorporate 8 megapixel primary 2 megapixel secondary camera glide also develop stand charge apple watch cmra band apple recently launch apple watch series 2 variant nike sport rubber strap \n",
      "Original summary: israeli startup makes camera strap for apple watch \n",
      "Predicted summary:  startup makes apple to send 3d printed phone\n",
      "\n"
     ]
    }
   ],
   "source": [
    "print(\"Review:\",seq2text(padded_xtest[73]))\n",
    "print(\"Original summary:\",seq2summary(padded_ytest[73]))\n",
    "print(\"Predicted summary:\",decode_sequence(padded_xtest[73]))"
   ]
  },
  {
   "cell_type": "markdown",
   "id": "ab9c0931",
   "metadata": {
    "id": "v3Sfc9a422Rg",
    "papermill": {
     "duration": 0.76481,
     "end_time": "2022-01-11T15:46:13.428853",
     "exception": false,
     "start_time": "2022-01-11T15:46:12.664043",
     "status": "completed"
    },
    "tags": []
   },
   "source": [
    "### Evaluation"
   ]
  },
  {
   "cell_type": "code",
   "execution_count": 42,
   "id": "a8aaa98d",
   "metadata": {
    "execution": {
     "iopub.execute_input": "2022-01-11T15:46:16.761416Z",
     "iopub.status.busy": "2022-01-11T15:46:16.759811Z",
     "iopub.status.idle": "2022-01-11T15:46:16.761995Z",
     "shell.execute_reply": "2022-01-11T15:46:16.762427Z",
     "shell.execute_reply.started": "2022-01-11T15:07:35.648742Z"
    },
    "papermill": {
     "duration": 1.044891,
     "end_time": "2022-01-11T15:46:16.762580",
     "exception": false,
     "start_time": "2022-01-11T15:46:15.717689",
     "status": "completed"
    },
    "tags": []
   },
   "outputs": [],
   "source": [
    "def BLEU_Score(y_test, y_pred):\n",
    "    references = [[seq2summary(y_test).split(\" \")]]\n",
    "    candidates = [decode_sequence(y_pred.reshape(1,max_length_x)).split(\" \")]\n",
    "    return corpus_bleu(references, candidates)"
   ]
  },
  {
   "cell_type": "code",
   "execution_count": 43,
   "id": "1d8de778",
   "metadata": {
    "execution": {
     "iopub.execute_input": "2022-01-11T15:47:09.206296Z",
     "iopub.status.busy": "2022-01-11T15:47:09.205488Z",
     "iopub.status.idle": "2022-01-11T15:47:09.208711Z",
     "shell.execute_reply": "2022-01-11T15:47:09.209322Z"
    },
    "papermill": {
     "duration": 0.739854,
     "end_time": "2022-01-11T15:47:09.209519",
     "exception": false,
     "start_time": "2022-01-11T15:47:08.469665",
     "status": "completed"
    },
    "tags": []
   },
   "outputs": [
    {
     "name": "stdout",
     "output_type": "stream",
     "text": [
      "0.6259531172830106\n"
     ]
    }
   ],
   "source": [
    "from nltk.translate.bleu_score import corpus_bleu\n",
    "scores=[]\n",
    "for i in range(0,500):\n",
    "    scores.append(BLEU_Score(padded_ytest[i],padded_xtest[i]))\n",
    "    \n",
    "print(np.mean(scores))"
   ]
  }
 ],
 "metadata": {
  "kernelspec": {
   "display_name": "Python 3",
   "language": "python",
   "name": "python3"
  },
  "language_info": {
   "codemirror_mode": {
    "name": "ipython",
    "version": 3
   },
   "file_extension": ".py",
   "mimetype": "text/x-python",
   "name": "python",
   "nbconvert_exporter": "python",
   "pygments_lexer": "ipython3",
   "version": "3.8.3"
  },
  "papermill": {
   "default_parameters": {},
   "duration": 1625.555555,
   "end_time": "2022-01-11T15:47:19.606639",
   "environment_variables": {},
   "exception": null,
   "input_path": "__notebook__.ipynb",
   "output_path": "__notebook__.ipynb",
   "parameters": {},
   "start_time": "2022-01-11T15:20:14.051084",
   "version": "2.3.3"
  }
 },
 "nbformat": 4,
 "nbformat_minor": 5
}
