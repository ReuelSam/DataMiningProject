{
 "cells": [
  {
   "cell_type": "markdown",
   "id": "b93bbea5",
   "metadata": {
    "id": "IEq-oYpmSM5r",
    "papermill": {
     "duration": 0.035871,
     "end_time": "2022-03-18T10:53:00.755235",
     "exception": false,
     "start_time": "2022-03-18T10:53:00.719364",
     "status": "completed"
    },
    "tags": []
   },
   "source": [
    "# Text Summarization - LSTM GloVe Attention - 750 Units"
   ]
  },
  {
   "cell_type": "markdown",
   "id": "78604aa6",
   "metadata": {
    "id": "4iFfGxm4XgZl",
    "papermill": {
     "duration": 0.033787,
     "end_time": "2022-03-18T10:53:00.823079",
     "exception": false,
     "start_time": "2022-03-18T10:53:00.789292",
     "status": "completed"
    },
    "tags": []
   },
   "source": [
    "### Importing Basic libraries"
   ]
  },
  {
   "cell_type": "code",
   "execution_count": 1,
   "id": "d0151ebb",
   "metadata": {
    "execution": {
     "iopub.execute_input": "2022-03-18T10:53:00.904818Z",
     "iopub.status.busy": "2022-03-18T10:53:00.904156Z",
     "iopub.status.idle": "2022-03-18T10:53:07.097492Z",
     "shell.execute_reply": "2022-03-18T10:53:07.096463Z",
     "shell.execute_reply.started": "2022-03-18T10:24:14.577419Z"
    },
    "id": "lisXNzYrYOoR",
    "outputId": "4ff65cf3-36bb-49c2-a6c3-08070c9233a0",
    "papermill": {
     "duration": 6.239518,
     "end_time": "2022-03-18T10:53:07.097660",
     "exception": false,
     "start_time": "2022-03-18T10:53:00.858142",
     "status": "completed"
    },
    "tags": []
   },
   "outputs": [
    {
     "name": "stdout",
     "output_type": "stream",
     "text": [
      "[nltk_data] Downloading package stopwords to /usr/share/nltk_data...\n",
      "[nltk_data]   Unzipping corpora/stopwords.zip.\n"
     ]
    }
   ],
   "source": [
    "import re\n",
    "import os\n",
    "import numpy as np\n",
    "import pandas as pd\n",
    "import matplotlib.pyplot as plt\n",
    "\n",
    "import nltk\n",
    "nltk.download('stopwords')\n",
    "from nltk.corpus import stopwords\n",
    "from keras.preprocessing.text import Tokenizer\n",
    "from keras.preprocessing.sequence import pad_sequences\n",
    "\n",
    "import tensorflow as tf\n",
    "from tensorflow.keras.layers import Input, LSTM, Embedding, Dense, Concatenate, TimeDistributed, Bidirectional\n",
    "from tensorflow.keras.models import Model\n",
    "from tensorflow.keras.callbacks import EarlyStopping\n",
    "from keras import backend as K \n",
    "from tensorflow.python.keras.layers import Layer\n"
   ]
  },
  {
   "cell_type": "code",
   "execution_count": 2,
   "id": "bf48bb56",
   "metadata": {
    "execution": {
     "iopub.execute_input": "2022-03-18T10:53:07.172443Z",
     "iopub.status.busy": "2022-03-18T10:53:07.171873Z",
     "iopub.status.idle": "2022-03-18T10:53:15.643641Z",
     "shell.execute_reply": "2022-03-18T10:53:15.642823Z",
     "shell.execute_reply.started": "2022-03-18T10:24:20.954792Z"
    },
    "papermill": {
     "duration": 8.510676,
     "end_time": "2022-03-18T10:53:15.643815",
     "exception": false,
     "start_time": "2022-03-18T10:53:07.133139",
     "status": "completed"
    },
    "tags": []
   },
   "outputs": [
    {
     "name": "stdout",
     "output_type": "stream",
     "text": [
      "Collecting openpyxl\r\n",
      "  Downloading openpyxl-3.0.9-py2.py3-none-any.whl (242 kB)\r\n",
      "\u001b[K     |████████████████████████████████| 242 kB 599 kB/s \r\n",
      "\u001b[?25hCollecting et-xmlfile\r\n",
      "  Downloading et_xmlfile-1.1.0-py3-none-any.whl (4.7 kB)\r\n",
      "Installing collected packages: et-xmlfile, openpyxl\r\n",
      "Successfully installed et-xmlfile-1.1.0 openpyxl-3.0.9\r\n",
      "\u001b[33mWARNING: Running pip as root will break packages and permissions. You should install packages reliably by using venv: https://pip.pypa.io/warnings/venv\u001b[0m\r\n"
     ]
    }
   ],
   "source": [
    "!pip install openpyxl"
   ]
  },
  {
   "cell_type": "markdown",
   "id": "a51d7c6a",
   "metadata": {
    "id": "GSr24NviXqio",
    "papermill": {
     "duration": 0.03789,
     "end_time": "2022-03-18T10:53:15.745026",
     "exception": false,
     "start_time": "2022-03-18T10:53:15.707136",
     "status": "completed"
    },
    "tags": []
   },
   "source": [
    "### Importing Data"
   ]
  },
  {
   "cell_type": "code",
   "execution_count": 4,
   "id": "cfb2891c",
   "metadata": {
    "execution": {
     "iopub.execute_input": "2022-03-18T10:53:15.906473Z",
     "iopub.status.busy": "2022-03-18T10:53:15.905711Z",
     "iopub.status.idle": "2022-03-18T10:53:24.553156Z",
     "shell.execute_reply": "2022-03-18T10:53:24.552652Z",
     "shell.execute_reply.started": "2022-03-18T10:24:31.117092Z"
    },
    "papermill": {
     "duration": 8.689527,
     "end_time": "2022-03-18T10:53:24.553297",
     "exception": false,
     "start_time": "2022-03-18T10:53:15.863770",
     "status": "completed"
    },
    "tags": []
   },
   "outputs": [],
   "source": [
    "data = pd.read_excel('../input/inshorts-news-data/Inshorts Cleaned Data.xlsx')"
   ]
  },
  {
   "cell_type": "code",
   "execution_count": 5,
   "id": "21a97362",
   "metadata": {
    "execution": {
     "iopub.execute_input": "2022-03-18T10:53:24.639718Z",
     "iopub.status.busy": "2022-03-18T10:53:24.639001Z",
     "iopub.status.idle": "2022-03-18T10:53:24.656006Z",
     "shell.execute_reply": "2022-03-18T10:53:24.656492Z",
     "shell.execute_reply.started": "2022-03-18T10:24:40.81929Z"
    },
    "papermill": {
     "duration": 0.065604,
     "end_time": "2022-03-18T10:53:24.656637",
     "exception": false,
     "start_time": "2022-03-18T10:53:24.591033",
     "status": "completed"
    },
    "tags": []
   },
   "outputs": [
    {
     "data": {
      "text/html": [
       "<div>\n",
       "<style scoped>\n",
       "    .dataframe tbody tr th:only-of-type {\n",
       "        vertical-align: middle;\n",
       "    }\n",
       "\n",
       "    .dataframe tbody tr th {\n",
       "        vertical-align: top;\n",
       "    }\n",
       "\n",
       "    .dataframe thead th {\n",
       "        text-align: right;\n",
       "    }\n",
       "</style>\n",
       "<table border=\"1\" class=\"dataframe\">\n",
       "  <thead>\n",
       "    <tr style=\"text-align: right;\">\n",
       "      <th></th>\n",
       "      <th>Headline</th>\n",
       "      <th>Short</th>\n",
       "    </tr>\n",
       "  </thead>\n",
       "  <tbody>\n",
       "    <tr>\n",
       "      <th>0</th>\n",
       "      <td>4 ex-bank officials booked for cheating bank o...</td>\n",
       "      <td>The CBI on Saturday booked four former officia...</td>\n",
       "    </tr>\n",
       "    <tr>\n",
       "      <th>1</th>\n",
       "      <td>Supreme Court to go paperless in 6 months: CJI</td>\n",
       "      <td>Chief Justice JS Khehar has said the Supreme C...</td>\n",
       "    </tr>\n",
       "    <tr>\n",
       "      <th>2</th>\n",
       "      <td>At least 3 killed, 30 injured in blast in Sylh...</td>\n",
       "      <td>At least three people were killed, including a...</td>\n",
       "    </tr>\n",
       "    <tr>\n",
       "      <th>3</th>\n",
       "      <td>Why has Reliance been barred from trading in f...</td>\n",
       "      <td>Mukesh Ambani-led Reliance Industries (RIL) wa...</td>\n",
       "    </tr>\n",
       "    <tr>\n",
       "      <th>4</th>\n",
       "      <td>Was stopped from entering my own studio at Tim...</td>\n",
       "      <td>TV news anchor Arnab Goswami has said he was t...</td>\n",
       "    </tr>\n",
       "  </tbody>\n",
       "</table>\n",
       "</div>"
      ],
      "text/plain": [
       "                                            Headline  \\\n",
       "0  4 ex-bank officials booked for cheating bank o...   \n",
       "1     Supreme Court to go paperless in 6 months: CJI   \n",
       "2  At least 3 killed, 30 injured in blast in Sylh...   \n",
       "3  Why has Reliance been barred from trading in f...   \n",
       "4  Was stopped from entering my own studio at Tim...   \n",
       "\n",
       "                                               Short  \n",
       "0  The CBI on Saturday booked four former officia...  \n",
       "1  Chief Justice JS Khehar has said the Supreme C...  \n",
       "2  At least three people were killed, including a...  \n",
       "3  Mukesh Ambani-led Reliance Industries (RIL) wa...  \n",
       "4  TV news anchor Arnab Goswami has said he was t...  "
      ]
     },
     "execution_count": 5,
     "metadata": {},
     "output_type": "execute_result"
    }
   ],
   "source": [
    "data.drop(['Source ', 'Time ', 'Publish Date'], axis=1, inplace=True)\n",
    "data.head()"
   ]
  },
  {
   "cell_type": "code",
   "execution_count": 6,
   "id": "7c1a7854",
   "metadata": {
    "execution": {
     "iopub.execute_input": "2022-03-18T10:53:24.735764Z",
     "iopub.status.busy": "2022-03-18T10:53:24.735007Z",
     "iopub.status.idle": "2022-03-18T10:53:24.737335Z",
     "shell.execute_reply": "2022-03-18T10:53:24.737724Z",
     "shell.execute_reply.started": "2022-03-18T10:24:40.865208Z"
    },
    "id": "Mis8W95SAZ5_",
    "papermill": {
     "duration": 0.04323,
     "end_time": "2022-03-18T10:53:24.737849",
     "exception": false,
     "start_time": "2022-03-18T10:53:24.694619",
     "status": "completed"
    },
    "tags": []
   },
   "outputs": [],
   "source": [
    "# data.drop_duplicates(subset=['headlines'],inplace=True)\n",
    "# data.reset_index(inplace=True, drop=True)"
   ]
  },
  {
   "cell_type": "code",
   "execution_count": 7,
   "id": "d0073785",
   "metadata": {
    "execution": {
     "iopub.execute_input": "2022-03-18T10:53:24.820596Z",
     "iopub.status.busy": "2022-03-18T10:53:24.819852Z",
     "iopub.status.idle": "2022-03-18T10:53:24.822713Z",
     "shell.execute_reply": "2022-03-18T10:53:24.822315Z",
     "shell.execute_reply.started": "2022-03-18T10:24:40.874785Z"
    },
    "id": "BV8b6w9YYOoa",
    "papermill": {
     "duration": 0.04728,
     "end_time": "2022-03-18T10:53:24.822820",
     "exception": false,
     "start_time": "2022-03-18T10:53:24.775540",
     "status": "completed"
    },
    "tags": []
   },
   "outputs": [],
   "source": [
    "stop_words = stopwords.words('english')\n",
    "\n",
    "def preprocess(text):\n",
    "    text = text.lower()\n",
    "    #text = ' '.join([contractions.fix(word) for word in text.split(\" \")])    \n",
    "    \n",
    "    tokens = [w for w in text.split() if not w in stop_words]\n",
    "    text = \" \".join(tokens)\n",
    "    text = text.replace(\"'s\",'')\n",
    "    text = text.replace(\".\",'')\n",
    "    text = re.sub(r'\\(.*\\)','',text)\n",
    "    text = re.sub(r'[^a-zA-Z0-9. ]',' ',text)\n",
    "    text = re.sub(r'\\.','. ',text)\n",
    "    text = re.sub(r'\\s+', ' ', text)\n",
    "    return text\n"
   ]
  },
  {
   "cell_type": "markdown",
   "id": "0f062879",
   "metadata": {},
   "source": [
    "### Lemmatization"
   ]
  },
  {
   "cell_type": "code",
   "execution_count": 8,
   "id": "cadb87a8",
   "metadata": {
    "execution": {
     "iopub.execute_input": "2022-03-18T10:53:24.902370Z",
     "iopub.status.busy": "2022-03-18T10:53:24.901682Z",
     "iopub.status.idle": "2022-03-18T10:53:27.730332Z",
     "shell.execute_reply": "2022-03-18T10:53:27.729752Z",
     "shell.execute_reply.started": "2022-03-18T10:24:40.893179Z"
    },
    "papermill": {
     "duration": 2.870049,
     "end_time": "2022-03-18T10:53:27.730476",
     "exception": false,
     "start_time": "2022-03-18T10:53:24.860427",
     "status": "completed"
    },
    "tags": []
   },
   "outputs": [],
   "source": [
    "import spacy\n",
    "\n",
    "nlp = spacy.load('en_core_web_sm', disable=['parser', 'ner'])\n",
    "allowed_postags = ['NOUN', 'ADJ', 'VERB', 'ADV']\n",
    "def lemmatize_text(text):\n",
    "    doc = nlp(text)\n",
    "    return ' '.join([token.lemma_ for token in doc])"
   ]
  },
  {
   "cell_type": "code",
   "execution_count": 9,
   "id": "10d2d7f3",
   "metadata": {
    "execution": {
     "iopub.execute_input": "2022-03-18T10:53:27.811779Z",
     "iopub.status.busy": "2022-03-18T10:53:27.811268Z",
     "iopub.status.idle": "2022-03-18T10:53:27.815086Z",
     "shell.execute_reply": "2022-03-18T10:53:27.814651Z",
     "shell.execute_reply.started": "2022-03-18T10:24:43.921305Z"
    },
    "papermill": {
     "duration": 0.045363,
     "end_time": "2022-03-18T10:53:27.815211",
     "exception": false,
     "start_time": "2022-03-18T10:53:27.769848",
     "status": "completed"
    },
    "tags": []
   },
   "outputs": [],
   "source": [
    "data.rename(columns={'Headline': 'headlines', 'Short': 'text'}, inplace=True)"
   ]
  },
  {
   "cell_type": "code",
   "execution_count": 10,
   "id": "f416159b",
   "metadata": {
    "execution": {
     "iopub.execute_input": "2022-03-18T10:53:27.894649Z",
     "iopub.status.busy": "2022-03-18T10:53:27.894137Z",
     "iopub.status.idle": "2022-03-18T10:53:27.897837Z",
     "shell.execute_reply": "2022-03-18T10:53:27.897451Z",
     "shell.execute_reply.started": "2022-03-18T10:24:43.93016Z"
    },
    "papermill": {
     "duration": 0.04497,
     "end_time": "2022-03-18T10:53:27.897975",
     "exception": false,
     "start_time": "2022-03-18T10:53:27.853005",
     "status": "completed"
    },
    "tags": []
   },
   "outputs": [],
   "source": [
    "original_text = str(data['text'][0])\n",
    "original_headline = str(data['headlines'][0])"
   ]
  },
  {
   "cell_type": "code",
   "execution_count": 11,
   "id": "e110c9b6",
   "metadata": {
    "execution": {
     "iopub.execute_input": "2022-03-18T10:53:27.993722Z",
     "iopub.status.busy": "2022-03-18T10:53:27.983438Z",
     "iopub.status.idle": "2022-03-18T10:56:34.686095Z",
     "shell.execute_reply": "2022-03-18T10:56:34.686558Z",
     "shell.execute_reply.started": "2022-03-18T10:24:43.940026Z"
    },
    "id": "ewSx5cepYOob",
    "outputId": "55b255a6-367f-4443-8184-650066137e32",
    "papermill": {
     "duration": 186.751248,
     "end_time": "2022-03-18T10:56:34.686729",
     "exception": false,
     "start_time": "2022-03-18T10:53:27.935481",
     "status": "completed"
    },
    "tags": []
   },
   "outputs": [
    {
     "name": "stdout",
     "output_type": "stream",
     "text": [
      "Summary:\n",
      "_START_ 4 ex-bank officials booked for cheating bank of ₹209 crore _END_\n",
      "Text:\n",
      "cbi saturday book four former official syndicate bank six other cheat forgery criminal conspiracy cause 209 crore loss state run bank accuse availed home loan credit syndicate bank basis forge fabricate document fund fraudulently transfer company own accuse person\n",
      "\n",
      "Summary:\n",
      "_START_ Supreme Court to go paperless in 6 months: CJI _END_\n",
      "Text:\n",
      "chief justice js khehar say supreme court go paperless six seven month bid save fund make judiciary eco friendly say apex court collect record electronically low court high court need file hard copy\n",
      "\n"
     ]
    }
   ],
   "source": [
    "# data['headlines'] = data['headlines'].apply(preprocess)\n",
    "# data['text'] = data['text'].apply(preprocess)\n",
    "processed_text = data['text'].apply(preprocess)\n",
    "data['text'] = processed_text.apply(lemmatize_text)\n",
    "data['headlines'] = data['headlines'].apply(lambda x : '_START_ '+ x + ' _END_')\n",
    "\n",
    "for i in range(2):\n",
    "    print('Summary:', data['headlines'][i],'Text:', data['text'][i], sep='\\n')\n",
    "    print()"
   ]
  },
  {
   "cell_type": "code",
   "execution_count": 12,
   "id": "0671d0e0",
   "metadata": {
    "execution": {
     "iopub.execute_input": "2022-03-18T10:56:34.770196Z",
     "iopub.status.busy": "2022-03-18T10:56:34.769123Z",
     "iopub.status.idle": "2022-03-18T10:56:34.773087Z",
     "shell.execute_reply": "2022-03-18T10:56:34.772671Z",
     "shell.execute_reply.started": "2022-03-18T10:28:12.692817Z"
    },
    "papermill": {
     "duration": 0.048439,
     "end_time": "2022-03-18T10:56:34.773207",
     "exception": false,
     "start_time": "2022-03-18T10:56:34.724768",
     "status": "completed"
    },
    "tags": []
   },
   "outputs": [
    {
     "name": "stdout",
     "output_type": "stream",
     "text": [
      "\n",
      "ORIGINAL\n",
      "The CBI on Saturday booked four former officials of Syndicate Bank and six others for cheating, forgery, criminal conspiracy and causing ₹209 crore loss to the state-run bank. The accused had availed home loans and credit from Syndicate Bank on the basis of forged and fabricated documents. These funds were fraudulently transferred to the companies owned by the accused persons.\n",
      "4 ex-bank officials booked for cheating bank of ₹209 crore\n",
      "\n",
      "REGEX CLEANING AND STOPWORD REMOVAL:\n",
      "cbi saturday booked four former officials syndicate bank six others cheating forgery criminal conspiracy causing 209 crore loss state run bank accused availed home loans credit syndicate bank basis forged fabricated documents funds fraudulently transferred companies owned accused persons\n",
      "\n",
      "LEMMATIZATION + START AND END TOKEN\n",
      "cbi saturday book four former official syndicate bank six other cheat forgery criminal conspiracy cause 209 crore loss state run bank accuse availed home loan credit syndicate bank basis forge fabricate document fund fraudulently transfer company own accuse person\n",
      "_START_ 4 ex-bank officials booked for cheating bank of ₹209 crore _END_\n"
     ]
    }
   ],
   "source": [
    "print(\"\\nORIGINAL\")\n",
    "print(original_text)\n",
    "print(original_headline)\n",
    "\n",
    "print(\"\\nREGEX CLEANING AND STOPWORD REMOVAL:\")\n",
    "print(processed_text[0])\n",
    "# print(brief_cleaned_summary[0])\n",
    "\n",
    "print(\"\\nLEMMATIZATION + START AND END TOKEN\")\n",
    "print(data['text'][0])\n",
    "print(data['headlines'][0])"
   ]
  },
  {
   "cell_type": "code",
   "execution_count": 13,
   "id": "5b07191e",
   "metadata": {
    "execution": {
     "iopub.execute_input": "2022-03-18T10:56:34.910659Z",
     "iopub.status.busy": "2022-03-18T10:56:34.885167Z",
     "iopub.status.idle": "2022-03-18T10:56:35.032710Z",
     "shell.execute_reply": "2022-03-18T10:56:35.032246Z",
     "shell.execute_reply.started": "2022-03-18T10:30:43.73715Z"
    },
    "id": "Tb68xRjGNP8z",
    "papermill": {
     "duration": 0.220079,
     "end_time": "2022-03-18T10:56:35.032829",
     "exception": false,
     "start_time": "2022-03-18T10:56:34.812750",
     "status": "completed"
    },
    "tags": []
   },
   "outputs": [],
   "source": [
    "headlines_length = [len(x.split()) for x in data.headlines]\n",
    "text_length = [len(x.split()) for x in data.text]"
   ]
  },
  {
   "cell_type": "code",
   "execution_count": 14,
   "id": "0fed43bb",
   "metadata": {
    "execution": {
     "iopub.execute_input": "2022-03-18T10:56:35.130970Z",
     "iopub.status.busy": "2022-03-18T10:56:35.130206Z",
     "iopub.status.idle": "2022-03-18T10:56:35.983617Z",
     "shell.execute_reply": "2022-03-18T10:56:35.984024Z",
     "shell.execute_reply.started": "2022-03-18T10:30:44.415558Z"
    },
    "id": "4exx0vZpoZDp",
    "outputId": "4fcef4de-8331-4731-b6af-be6b525e8351",
    "papermill": {
     "duration": 0.912211,
     "end_time": "2022-03-18T10:56:35.984182",
     "exception": false,
     "start_time": "2022-03-18T10:56:35.071971",
     "status": "completed"
    },
    "tags": []
   },
   "outputs": [
    {
     "data": {
      "image/png": "[encoded data removed]",
      "text/plain": [
       "<Figure size 720x360 with 2 Axes>"
      ]
     },
     "metadata": {
      "needs_background": "light"
     },
     "output_type": "display_data"
    }
   ],
   "source": [
    "fig, (ax1, ax2) = plt.subplots(1,2, figsize = (10,5))\n",
    "ax1.hist(headlines_length, bins = 20)\n",
    "ax2.hist(text_length, bins = 20)\n",
    "\n",
    "ax1.title.set_text(\"Words in Headlines\")\n",
    "ax2.title.set_text(\"Words in Text\")\n",
    "plt.show()"
   ]
  },
  {
   "cell_type": "markdown",
   "id": "548bc248",
   "metadata": {
    "id": "5J6b2-BXoasR",
    "papermill": {
     "duration": 0.039312,
     "end_time": "2022-03-18T10:56:36.062599",
     "exception": false,
     "start_time": "2022-03-18T10:56:36.023287",
     "status": "completed"
    },
    "tags": []
   },
   "source": [
    "### Embedding Matrix from Glove\n"
   ]
  },
  {
   "cell_type": "code",
   "execution_count": 15,
   "id": "e6144bdd",
   "metadata": {
    "execution": {
     "iopub.execute_input": "2022-03-18T10:56:36.145583Z",
     "iopub.status.busy": "2022-03-18T10:56:36.145046Z",
     "iopub.status.idle": "2022-03-18T10:56:36.154666Z",
     "shell.execute_reply": "2022-03-18T10:56:36.154252Z",
     "shell.execute_reply.started": "2022-03-18T10:30:49.536758Z"
    },
    "id": "7vLovzKr0m5S",
    "papermill": {
     "duration": 0.052958,
     "end_time": "2022-03-18T10:56:36.154779",
     "exception": false,
     "start_time": "2022-03-18T10:56:36.101821",
     "status": "completed"
    },
    "tags": []
   },
   "outputs": [],
   "source": [
    "glove_size = 300\n",
    "f = open('../input/glove42b300dtxt/glove.42B.300d.txt')"
   ]
  },
  {
   "cell_type": "code",
   "execution_count": 16,
   "id": "b86025ea",
   "metadata": {
    "execution": {
     "iopub.execute_input": "2022-03-18T10:56:36.237199Z",
     "iopub.status.busy": "2022-03-18T10:56:36.236660Z",
     "iopub.status.idle": "2022-03-18T11:00:20.325006Z",
     "shell.execute_reply": "2022-03-18T11:00:20.324177Z",
     "shell.execute_reply.started": "2022-03-18T10:30:51.584418Z"
    },
    "id": "KulasZGc0nDp",
    "papermill": {
     "duration": 224.131328,
     "end_time": "2022-03-18T11:00:20.325158",
     "exception": false,
     "start_time": "2022-03-18T10:56:36.193830",
     "status": "completed"
    },
    "tags": []
   },
   "outputs": [],
   "source": [
    "embeddings_index = dict()\n",
    "for line in f:\n",
    "    values = line.split()\n",
    "    embeddings_index[values[0]] = np.asarray(values[1:], dtype='float32')\n",
    "f.close()"
   ]
  },
  {
   "cell_type": "code",
   "execution_count": 17,
   "id": "789a061a",
   "metadata": {
    "execution": {
     "iopub.execute_input": "2022-03-18T11:00:20.427942Z",
     "iopub.status.busy": "2022-03-18T11:00:20.422764Z",
     "iopub.status.idle": "2022-03-18T11:00:21.384745Z",
     "shell.execute_reply": "2022-03-18T11:00:21.384282Z",
     "shell.execute_reply.started": "2022-03-18T10:34:40.344291Z"
    },
    "id": "7JA07ZzL0nhw",
    "outputId": "5535e162-8446-4832-a2e9-82c5eb2dd588",
    "papermill": {
     "duration": 1.018949,
     "end_time": "2022-03-18T11:00:21.384866",
     "exception": false,
     "start_time": "2022-03-18T11:00:20.365917",
     "status": "completed"
    },
    "tags": []
   },
   "outputs": [
    {
     "name": "stdout",
     "output_type": "stream",
     "text": [
      "all the words in the corpus 2235820\n",
      "the unique words in the corpus 64601\n",
      "The number of words that are present in both glove vectors and our corpus are 54725 which is nearly 85.0% \n",
      "word 2 vec length 54725\n"
     ]
    }
   ],
   "source": [
    "words_source_train = []\n",
    "for i in data['text'] :\n",
    "  words_source_train.extend(i.split(' '))\n",
    "\n",
    "print(\"all the words in the corpus\", len(words_source_train))\n",
    "words_source_train = set(words_source_train)\n",
    "print(\"the unique words in the corpus\", len(words_source_train))\n",
    "inter_words = set(embeddings_index.keys()).intersection(words_source_train)\n",
    "print(\"The number of words that are present in both glove vectors and our corpus are {} which \\\n",
    "is nearly {}% \".format(len(inter_words), np.round((float(len(inter_words))/len(words_source_train))\n",
    "*100)))\n",
    "\n",
    "words_corpus_source_train = {}\n",
    "words_glove = set(embeddings_index.keys())\n",
    "for i in words_source_train:\n",
    "  if i in words_glove:\n",
    "    words_corpus_source_train[i] = embeddings_index[i]\n",
    "print(\"word 2 vec length\", len(words_corpus_source_train))"
   ]
  },
  {
   "cell_type": "code",
   "execution_count": 18,
   "id": "511baadd",
   "metadata": {
    "execution": {
     "iopub.execute_input": "2022-03-18T11:00:21.471899Z",
     "iopub.status.busy": "2022-03-18T11:00:21.471340Z",
     "iopub.status.idle": "2022-03-18T11:00:21.474152Z",
     "shell.execute_reply": "2022-03-18T11:00:21.474547Z",
     "shell.execute_reply.started": "2022-03-18T10:34:41.437266Z"
    },
    "papermill": {
     "duration": 0.050051,
     "end_time": "2022-03-18T11:00:21.474692",
     "exception": false,
     "start_time": "2022-03-18T11:00:21.424641",
     "status": "completed"
    },
    "tags": []
   },
   "outputs": [
    {
     "name": "stdout",
     "output_type": "stream",
     "text": [
      "['', 'removealetterspoilabook', 'marijne', 'abof', 'poliosis', 'vinnil', 'forcephone', 'portfoliomake', 'aljadaan', 'kodasema', 'tracerbulletchallenge', 'shishgarh', 'harryplax', 'remetzcar', 'jogawat', 'dharamsena', 'cleartax', 'pagdi', 'daripalli', 'beichhua']\n"
     ]
    }
   ],
   "source": [
    "print(list(words_source_train - inter_words)[:20])"
   ]
  },
  {
   "cell_type": "code",
   "execution_count": 19,
   "id": "23413487",
   "metadata": {
    "execution": {
     "iopub.execute_input": "2022-03-18T11:00:21.584395Z",
     "iopub.status.busy": "2022-03-18T11:00:21.574690Z",
     "iopub.status.idle": "2022-03-18T11:00:21.943054Z",
     "shell.execute_reply": "2022-03-18T11:00:21.942550Z",
     "shell.execute_reply.started": "2022-03-18T10:34:41.447951Z"
    },
    "id": "hT_Ak7qtkv2_",
    "papermill": {
     "duration": 0.428869,
     "end_time": "2022-03-18T11:00:21.943184",
     "exception": false,
     "start_time": "2022-03-18T11:00:21.514315",
     "status": "completed"
    },
    "tags": []
   },
   "outputs": [],
   "source": [
    "def num(text):\n",
    "  words = [w for w in text.split() if not w in inter_words]\n",
    "  return len(words)\n",
    "\n",
    "data['unique_words'] = data['text'].apply(num)"
   ]
  },
  {
   "cell_type": "code",
   "execution_count": 20,
   "id": "cd1840c1",
   "metadata": {
    "execution": {
     "iopub.execute_input": "2022-03-18T11:00:22.029947Z",
     "iopub.status.busy": "2022-03-18T11:00:22.029170Z",
     "iopub.status.idle": "2022-03-18T11:00:22.035250Z",
     "shell.execute_reply": "2022-03-18T11:00:22.035612Z",
     "shell.execute_reply.started": "2022-03-18T10:34:41.870964Z"
    },
    "papermill": {
     "duration": 0.051577,
     "end_time": "2022-03-18T11:00:22.035739",
     "exception": false,
     "start_time": "2022-03-18T11:00:21.984162",
     "status": "completed"
    },
    "tags": []
   },
   "outputs": [
    {
     "data": {
      "text/plain": [
       "0    35600\n",
       "1    12569\n",
       "2     4532\n",
       "3     1640\n",
       "4      495\n",
       "5      194\n",
       "6       54\n",
       "7       15\n",
       "9        3\n",
       "8        2\n",
       "Name: unique_words, dtype: int64"
      ]
     },
     "execution_count": 20,
     "metadata": {},
     "output_type": "execute_result"
    }
   ],
   "source": [
    "data['unique_words'].value_counts()"
   ]
  },
  {
   "cell_type": "code",
   "execution_count": 21,
   "id": "42a87e2f",
   "metadata": {
    "execution": {
     "iopub.execute_input": "2022-03-18T11:00:22.119398Z",
     "iopub.status.busy": "2022-03-18T11:00:22.118711Z",
     "iopub.status.idle": "2022-03-18T11:00:22.280869Z",
     "shell.execute_reply": "2022-03-18T11:00:22.280369Z",
     "shell.execute_reply.started": "2022-03-18T10:34:41.883716Z"
    },
    "id": "N4RZLvQ00zBN",
    "papermill": {
     "duration": 0.205306,
     "end_time": "2022-03-18T11:00:22.281006",
     "exception": false,
     "start_time": "2022-03-18T11:00:22.075700",
     "status": "completed"
    },
    "tags": []
   },
   "outputs": [],
   "source": [
    "data = data[data['unique_words'] < 4]\n",
    "data.reset_index(inplace=True, drop=True)"
   ]
  },
  {
   "cell_type": "code",
   "execution_count": 22,
   "id": "aa25a196",
   "metadata": {
    "execution": {
     "iopub.execute_input": "2022-03-18T11:00:22.378693Z",
     "iopub.status.busy": "2022-03-18T11:00:22.378120Z",
     "iopub.status.idle": "2022-03-18T11:00:22.381453Z",
     "shell.execute_reply": "2022-03-18T11:00:22.381840Z",
     "shell.execute_reply.started": "2022-03-18T10:34:42.043449Z"
    },
    "id": "uF08PoBm1N78",
    "outputId": "b54f44b1-d68b-428c-d37d-37f691f00573",
    "papermill": {
     "duration": 0.056329,
     "end_time": "2022-03-18T11:00:22.381998",
     "exception": false,
     "start_time": "2022-03-18T11:00:22.325669",
     "status": "completed"
    },
    "tags": []
   },
   "outputs": [
    {
     "data": {
      "text/html": [
       "<div>\n",
       "<style scoped>\n",
       "    .dataframe tbody tr th:only-of-type {\n",
       "        vertical-align: middle;\n",
       "    }\n",
       "\n",
       "    .dataframe tbody tr th {\n",
       "        vertical-align: top;\n",
       "    }\n",
       "\n",
       "    .dataframe thead th {\n",
       "        text-align: right;\n",
       "    }\n",
       "</style>\n",
       "<table border=\"1\" class=\"dataframe\">\n",
       "  <thead>\n",
       "    <tr style=\"text-align: right;\">\n",
       "      <th></th>\n",
       "      <th>headlines</th>\n",
       "      <th>text</th>\n",
       "      <th>unique_words</th>\n",
       "    </tr>\n",
       "  </thead>\n",
       "  <tbody>\n",
       "    <tr>\n",
       "      <th>0</th>\n",
       "      <td>_START_ 4 ex-bank officials booked for cheatin...</td>\n",
       "      <td>cbi saturday book four former official syndica...</td>\n",
       "      <td>0</td>\n",
       "    </tr>\n",
       "    <tr>\n",
       "      <th>1</th>\n",
       "      <td>_START_ Supreme Court to go paperless in 6 mon...</td>\n",
       "      <td>chief justice js khehar say supreme court go p...</td>\n",
       "      <td>0</td>\n",
       "    </tr>\n",
       "    <tr>\n",
       "      <th>2</th>\n",
       "      <td>_START_ At least 3 killed, 30 injured in blast...</td>\n",
       "      <td>least three people kill include policeman 30 o...</td>\n",
       "      <td>1</td>\n",
       "    </tr>\n",
       "    <tr>\n",
       "      <th>3</th>\n",
       "      <td>_START_ Why has Reliance been barred from trad...</td>\n",
       "      <td>mukesh ambani lead reliance industries 2007 ri...</td>\n",
       "      <td>0</td>\n",
       "    </tr>\n",
       "    <tr>\n",
       "      <th>4</th>\n",
       "      <td>_START_ Was stopped from entering my own studi...</td>\n",
       "      <td>tv news anchor arnab goswami say tell could pr...</td>\n",
       "      <td>0</td>\n",
       "    </tr>\n",
       "    <tr>\n",
       "      <th>...</th>\n",
       "      <td>...</td>\n",
       "      <td>...</td>\n",
       "      <td>...</td>\n",
       "    </tr>\n",
       "    <tr>\n",
       "      <th>54336</th>\n",
       "      <td>_START_ Sensex loses 400 points to hit 52-week...</td>\n",
       "      <td>track weak cue asian market benchmark sensex w...</td>\n",
       "      <td>1</td>\n",
       "    </tr>\n",
       "    <tr>\n",
       "      <th>54337</th>\n",
       "      <td>_START_ China to inject $91 bn into the money ...</td>\n",
       "      <td>amid grow concern china 39 s economic growth r...</td>\n",
       "      <td>0</td>\n",
       "    </tr>\n",
       "    <tr>\n",
       "      <th>54338</th>\n",
       "      <td>_START_ Ghulam Ali set to make acting debut in...</td>\n",
       "      <td>pakistani ghazal singer ghulam ali soon make a...</td>\n",
       "      <td>1</td>\n",
       "    </tr>\n",
       "    <tr>\n",
       "      <th>54339</th>\n",
       "      <td>_START_ IS acknowledges death of Jihadi John: ...</td>\n",
       "      <td>islamic state acknowledge death 39 jihadi john...</td>\n",
       "      <td>1</td>\n",
       "    </tr>\n",
       "    <tr>\n",
       "      <th>54340</th>\n",
       "      <td>_START_ Cairn to seek $600 mn from India in da...</td>\n",
       "      <td>uk base oil firm cairn energy tuesday say seek...</td>\n",
       "      <td>0</td>\n",
       "    </tr>\n",
       "  </tbody>\n",
       "</table>\n",
       "<p>54341 rows × 3 columns</p>\n",
       "</div>"
      ],
      "text/plain": [
       "                                               headlines  \\\n",
       "0      _START_ 4 ex-bank officials booked for cheatin...   \n",
       "1      _START_ Supreme Court to go paperless in 6 mon...   \n",
       "2      _START_ At least 3 killed, 30 injured in blast...   \n",
       "3      _START_ Why has Reliance been barred from trad...   \n",
       "4      _START_ Was stopped from entering my own studi...   \n",
       "...                                                  ...   \n",
       "54336  _START_ Sensex loses 400 points to hit 52-week...   \n",
       "54337  _START_ China to inject $91 bn into the money ...   \n",
       "54338  _START_ Ghulam Ali set to make acting debut in...   \n",
       "54339  _START_ IS acknowledges death of Jihadi John: ...   \n",
       "54340  _START_ Cairn to seek $600 mn from India in da...   \n",
       "\n",
       "                                                    text  unique_words  \n",
       "0      cbi saturday book four former official syndica...             0  \n",
       "1      chief justice js khehar say supreme court go p...             0  \n",
       "2      least three people kill include policeman 30 o...             1  \n",
       "3      mukesh ambani lead reliance industries 2007 ri...             0  \n",
       "4      tv news anchor arnab goswami say tell could pr...             0  \n",
       "...                                                  ...           ...  \n",
       "54336  track weak cue asian market benchmark sensex w...             1  \n",
       "54337  amid grow concern china 39 s economic growth r...             0  \n",
       "54338  pakistani ghazal singer ghulam ali soon make a...             1  \n",
       "54339  islamic state acknowledge death 39 jihadi john...             1  \n",
       "54340  uk base oil firm cairn energy tuesday say seek...             0  \n",
       "\n",
       "[54341 rows x 3 columns]"
      ]
     },
     "execution_count": 22,
     "metadata": {},
     "output_type": "execute_result"
    }
   ],
   "source": [
    "data"
   ]
  },
  {
   "cell_type": "markdown",
   "id": "fe07d082",
   "metadata": {},
   "source": [
    "### Splitting Data"
   ]
  },
  {
   "cell_type": "code",
   "execution_count": 23,
   "id": "3b7d49da",
   "metadata": {
    "execution": {
     "iopub.execute_input": "2022-03-18T11:00:22.468324Z",
     "iopub.status.busy": "2022-03-18T11:00:22.467397Z",
     "iopub.status.idle": "2022-03-18T11:00:22.482614Z",
     "shell.execute_reply": "2022-03-18T11:00:22.482217Z",
     "shell.execute_reply.started": "2022-03-18T10:34:48.650552Z"
    },
    "id": "5JaGAWYn7kqR",
    "papermill": {
     "duration": 0.060308,
     "end_time": "2022-03-18T11:00:22.482719",
     "exception": false,
     "start_time": "2022-03-18T11:00:22.422411",
     "status": "completed"
    },
    "tags": []
   },
   "outputs": [],
   "source": [
    "from sklearn.model_selection import train_test_split\n",
    "X_train, X_val, y_train, y_val = train_test_split(data['text'], data['headlines'], test_size = 0.2, random_state = 20)\n",
    "X_test, X_val, y_test, y_val = train_test_split(X_val, y_val, test_size = 0.5, random_state = 20)"
   ]
  },
  {
   "cell_type": "code",
   "execution_count": 24,
   "id": "20338101",
   "metadata": {
    "execution": {
     "iopub.execute_input": "2022-03-18T11:00:22.568873Z",
     "iopub.status.busy": "2022-03-18T11:00:22.568388Z",
     "iopub.status.idle": "2022-03-18T11:00:22.572072Z",
     "shell.execute_reply": "2022-03-18T11:00:22.571651Z",
     "shell.execute_reply.started": "2022-03-18T10:34:50.076766Z"
    },
    "id": "zhoRlF5L_qwa",
    "papermill": {
     "duration": 0.048837,
     "end_time": "2022-03-18T11:00:22.572188",
     "exception": false,
     "start_time": "2022-03-18T11:00:22.523351",
     "status": "completed"
    },
    "tags": []
   },
   "outputs": [],
   "source": [
    "max_length_x = max(text_length)\n",
    "max_length_y = max(headlines_length)"
   ]
  },
  {
   "cell_type": "markdown",
   "id": "c3b8cabf",
   "metadata": {},
   "source": [
    "### Tokenization"
   ]
  },
  {
   "cell_type": "code",
   "execution_count": 25,
   "id": "d1394b27",
   "metadata": {
    "execution": {
     "iopub.execute_input": "2022-03-18T11:00:22.704500Z",
     "iopub.status.busy": "2022-03-18T11:00:22.694820Z",
     "iopub.status.idle": "2022-03-18T11:00:27.582580Z",
     "shell.execute_reply": "2022-03-18T11:00:27.582128Z",
     "shell.execute_reply.started": "2022-03-18T10:34:54.013437Z"
    },
    "id": "QXQdLrLK0l5B",
    "papermill": {
     "duration": 4.970032,
     "end_time": "2022-03-18T11:00:27.582716",
     "exception": false,
     "start_time": "2022-03-18T11:00:22.612684",
     "status": "completed"
    },
    "tags": []
   },
   "outputs": [],
   "source": [
    "x_t = Tokenizer()\n",
    "x_t.fit_on_texts(data['text'] + data['headlines'])\n",
    "x_vocab_size = len(x_t.word_index) + 1\n",
    "\n",
    "encoded_xtrain = x_t.texts_to_sequences(X_train)\n",
    "encoded_xval = x_t.texts_to_sequences(X_val)\n",
    "encoded_xtest = x_t.texts_to_sequences(X_test)\n",
    "\n",
    "padded_xtrain = pad_sequences(encoded_xtrain, maxlen=max_length_x, padding='post')\n",
    "padded_xval = pad_sequences(encoded_xval, maxlen=max_length_x, padding='post')\n",
    "padded_xtest = pad_sequences(encoded_xtest, maxlen=max_length_x, padding='post')"
   ]
  },
  {
   "cell_type": "code",
   "execution_count": 26,
   "id": "de550e2e",
   "metadata": {
    "execution": {
     "iopub.execute_input": "2022-03-18T11:00:27.683063Z",
     "iopub.status.busy": "2022-03-18T11:00:27.682288Z",
     "iopub.status.idle": "2022-03-18T11:00:29.985574Z",
     "shell.execute_reply": "2022-03-18T11:00:29.985073Z",
     "shell.execute_reply.started": "2022-03-18T10:34:58.979058Z"
    },
    "id": "n7SVsptTNPtP",
    "papermill": {
     "duration": 2.362053,
     "end_time": "2022-03-18T11:00:29.985696",
     "exception": false,
     "start_time": "2022-03-18T11:00:27.623643",
     "status": "completed"
    },
    "tags": []
   },
   "outputs": [],
   "source": [
    "y_t = Tokenizer()\n",
    "y_t.fit_on_texts(data['headlines'])\n",
    "y_vocab_size = len(y_t.word_index) + 1\n",
    "\n",
    "encoded_ytrain = y_t.texts_to_sequences(y_train)\n",
    "encoded_yval = y_t.texts_to_sequences(y_val)\n",
    "encoded_ytest = y_t.texts_to_sequences(y_test)\n",
    "\n",
    "padded_ytrain = pad_sequences(encoded_ytrain, maxlen=max_length_y, padding='post')\n",
    "padded_yval = pad_sequences(encoded_yval, maxlen=max_length_y, padding='post')\n",
    "padded_ytest = pad_sequences(encoded_ytest, maxlen=max_length_y, padding='post')"
   ]
  },
  {
   "cell_type": "code",
   "execution_count": 27,
   "id": "11773270",
   "metadata": {
    "execution": {
     "iopub.execute_input": "2022-03-18T11:00:30.072476Z",
     "iopub.status.busy": "2022-03-18T11:00:30.071698Z",
     "iopub.status.idle": "2022-03-18T11:00:30.299075Z",
     "shell.execute_reply": "2022-03-18T11:00:30.298539Z",
     "shell.execute_reply.started": "2022-03-18T10:35:01.793435Z"
    },
    "id": "rM-974HV0nKo",
    "outputId": "6aa27890-eaf7-4e0f-e594-8057efa18be6",
    "papermill": {
     "duration": 0.272509,
     "end_time": "2022-03-18T11:00:30.299215",
     "exception": false,
     "start_time": "2022-03-18T11:00:30.026706",
     "status": "completed"
    },
    "tags": []
   },
   "outputs": [
    {
     "name": "stdout",
     "output_type": "stream",
     "text": [
      "Loaded 1917494 word vectors.\n"
     ]
    }
   ],
   "source": [
    "print('Loaded %s word vectors.' % len(embeddings_index))\n",
    "\n",
    "embedding_matrix = np.zeros((x_vocab_size, glove_size))\n",
    "for word, i in x_t.word_index.items():\n",
    "\tembedding_vector = embeddings_index.get(word)\n",
    "\tif embedding_vector is not None:\n",
    "\t\tembedding_matrix[i] = embedding_vector"
   ]
  },
  {
   "cell_type": "markdown",
   "id": "bf13af08",
   "metadata": {
    "id": "99aPNL7dqnfh",
    "papermill": {
     "duration": 0.04122,
     "end_time": "2022-03-18T11:00:30.382550",
     "exception": false,
     "start_time": "2022-03-18T11:00:30.341330",
     "status": "completed"
    },
    "tags": []
   },
   "source": [
    "### Building Model"
   ]
  },
  {
   "cell_type": "code",
   "execution_count": 29,
   "id": "053b36d9",
   "metadata": {
    "execution": {
     "iopub.execute_input": "2022-03-18T11:00:30.573530Z",
     "iopub.status.busy": "2022-03-18T11:00:30.572774Z",
     "iopub.status.idle": "2022-03-18T11:00:30.575541Z",
     "shell.execute_reply": "2022-03-18T11:00:30.575147Z",
     "shell.execute_reply.started": "2022-03-18T10:49:03.792822Z"
    },
    "papermill": {
     "duration": 0.051557,
     "end_time": "2022-03-18T11:00:30.575642",
     "exception": false,
     "start_time": "2022-03-18T11:00:30.524085",
     "status": "completed"
    },
    "tags": []
   },
   "outputs": [],
   "source": [
    "class BahdanauAttention(tf.keras.layers.Layer):\n",
    "  def __init__(self, units, verbose=0):\n",
    "    super(BahdanauAttention, self).__init__()\n",
    "    self.W1 = tf.keras.layers.Dense(units)\n",
    "    self.W2 = tf.keras.layers.Dense(units)\n",
    "    self.V = tf.keras.layers.Dense(1)\n",
    "    self.verbose= verbose\n",
    "\n",
    "  def call(self, query, values):\n",
    "    if self.verbose:\n",
    "      print('\\n******* Bahdanau Attention STARTS******')\n",
    "      print('query (decoder hidden state): (batch_size, hidden size) ', query.shape)\n",
    "      print('values (encoder all hidden state): (batch_size, max_len, hidden size) ', values.shape)\n",
    "\n",
    "    # query hidden state shape == (batch_size, hidden size)\n",
    "    # query_with_time_axis shape == (batch_size, 1, hidden size)\n",
    "    # values shape == (batch_size, max_len, hidden size)\n",
    "    # we are doing this to broadcast addition along the time axis to calculate the score\n",
    "    query_with_time_axis = tf.expand_dims(query, 1)\n",
    "    \n",
    "    if self.verbose:\n",
    "      print('query_with_time_axis:(batch_size, 1, hidden size) ', query_with_time_axis.shape)\n",
    "\n",
    "    # score shape == (batch_size, max_length, 1)\n",
    "    # we get 1 at the last axis because we are applying score to self.V\n",
    "    # the shape of the tensor before applying self.V is (batch_size, max_length, units)\n",
    "    score = self.V(tf.nn.tanh(\n",
    "        self.W1(query_with_time_axis) + self.W2(values)))\n",
    "    if self.verbose:\n",
    "      print('score: (batch_size, max_length, 1) ',score.shape)\n",
    "    # attention_weights shape == (batch_size, max_length, 1)\n",
    "    attention_weights = tf.nn.softmax(score, axis=1)\n",
    "    if self.verbose:\n",
    "      print('attention_weights: (batch_size, max_length, 1) ',attention_weights.shape)\n",
    "    # context_vector shape after sum == (batch_size, hidden_size)\n",
    "    context_vector = attention_weights * values\n",
    "    if self.verbose:\n",
    "      print('context_vector before reduce_sum: (batch_size, max_length, hidden_size) ',context_vector.shape)\n",
    "    context_vector = tf.reduce_sum(context_vector, axis=1)\n",
    "    if self.verbose:\n",
    "      print('context_vector after reduce_sum: (batch_size, hidden_size) ',context_vector.shape)\n",
    "      print('\\n******* Bahdanau Attention ENDS******')\n",
    "    return context_vector, attention_weights"
   ]
  },
  {
   "cell_type": "code",
   "execution_count": 30,
   "id": "84ff1427",
   "metadata": {
    "execution": {
     "iopub.execute_input": "2022-03-18T11:00:30.665564Z",
     "iopub.status.busy": "2022-03-18T11:00:30.665067Z",
     "iopub.status.idle": "2022-03-18T11:00:34.815218Z",
     "shell.execute_reply": "2022-03-18T11:00:34.814580Z",
     "shell.execute_reply.started": "2022-03-18T10:50:02.384798Z"
    },
    "papermill": {
     "duration": 4.199025,
     "end_time": "2022-03-18T11:00:34.815371",
     "exception": false,
     "start_time": "2022-03-18T11:00:30.616346",
     "status": "completed"
    },
    "tags": []
   },
   "outputs": [
    {
     "name": "stdout",
     "output_type": "stream",
     "text": [
      "Model: \"model\"\n",
      "__________________________________________________________________________________________________\n",
      "Layer (type)                    Output Shape         Param #     Connected to                     \n",
      "==================================================================================================\n",
      "input_1 (InputLayer)            [(None, 71)]         0                                            \n",
      "__________________________________________________________________________________________________\n",
      "embedding (Embedding)           (None, 71, 300)      20726400    input_1[0][0]                    \n",
      "__________________________________________________________________________________________________\n",
      "lstm (LSTM)                     [(None, 71, 500), (N 1602000     embedding[0][0]                  \n",
      "__________________________________________________________________________________________________\n",
      "input_2 (InputLayer)            [(None, None)]       0                                            \n",
      "__________________________________________________________________________________________________\n",
      "lstm_1 (LSTM)                   [(None, 71, 500), (N 2002000     lstm[0][0]                       \n",
      "__________________________________________________________________________________________________\n",
      "embedding_1 (Embedding)         (None, None, 300)    20726400    input_2[0][0]                    \n",
      "__________________________________________________________________________________________________\n",
      "lstm_2 (LSTM)                   [(None, 71, 500), (N 2002000     lstm_1[0][0]                     \n",
      "__________________________________________________________________________________________________\n",
      "lstm_3 (LSTM)                   [(None, None, 500),  1602000     embedding_1[0][0]                \n",
      "                                                                 lstm_2[0][1]                     \n",
      "                                                                 lstm_2[0][2]                     \n",
      "__________________________________________________________________________________________________\n",
      "bahdanau_attention (BahdanauAtt ((None, 71, 500), (N 752251      lstm_3[0][0]                     \n",
      "                                                                 lstm_2[0][0]                     \n",
      "__________________________________________________________________________________________________\n",
      "concat_layer (Concatenate)      (None, 71, 1000)     0           lstm_3[0][0]                     \n",
      "                                                                 bahdanau_attention[0][0]         \n",
      "__________________________________________________________________________________________________\n",
      "time_distributed (TimeDistribut (None, 71, 29309)    29338309    concat_layer[0][0]               \n",
      "==================================================================================================\n",
      "Total params: 78,751,360\n",
      "Trainable params: 37,298,560\n",
      "Non-trainable params: 41,452,800\n",
      "__________________________________________________________________________________________________\n",
      "None\n"
     ]
    }
   ],
   "source": [
    "latent_dim=500\n",
    "\n",
    "K.clear_session() \n",
    "\n",
    "encoder_inputs = Input(shape=(max_length_x,)) \n",
    "enc_emb = Embedding(x_vocab_size, glove_size, weights=[embedding_matrix],input_length=max_length_x, trainable=False)(encoder_inputs) \n",
    "\n",
    "#LSTM \n",
    "encoder_lstm1 = LSTM(latent_dim,return_sequences=True,return_state=True) \n",
    "encoder_output1, state_h1, state_c1 = encoder_lstm1(enc_emb) \n",
    "encoder_lstm2 = LSTM(latent_dim,return_sequences=True,return_state=True) \n",
    "encoder_output2, state_h2, state_c2 = encoder_lstm2(encoder_output1) \n",
    "encoder_lstm3 = LSTM(latent_dim, return_state=True, return_sequences=True) \n",
    "encoder_outputs, state_h, state_c= encoder_lstm3(encoder_output2) \n",
    "\n",
    "# Decoder. \n",
    "decoder_inputs = Input(shape=(None,)) \n",
    "dec_emb_layer = Embedding(x_vocab_size, glove_size, weights=[embedding_matrix],input_length=max_length_x, trainable=False) \n",
    "dec_emb = dec_emb_layer(decoder_inputs) \n",
    "\n",
    "#LSTM using encoder_states as initial state\n",
    "decoder_lstm = LSTM(latent_dim, return_sequences=True, return_state=True) \n",
    "decoder_outputs,decoder_fwd_state, decoder_back_state = decoder_lstm(dec_emb,initial_state=[state_h, state_c]) \n",
    "\n",
    "#Attention Layer\n",
    "# attn_layer = AttentionLayer(name='attention_layer')\n",
    "attn_layer = BahdanauAttention(750, verbose=0)\n",
    "attn_out, attn_states = attn_layer(decoder_outputs, encoder_outputs)\n",
    "# attn_out, attn_states = attn_layer([encoder_outputs, decoder_outputs]) \n",
    "\n",
    "decoder_concat_input = Concatenate(axis=-1, name='concat_layer')([decoder_outputs, attn_out])\n",
    "decoder_dense = TimeDistributed(Dense(y_vocab_size, activation='softmax')) \n",
    "decoder_outputs = decoder_dense(decoder_concat_input) \n",
    "\n",
    "model = Model([encoder_inputs, decoder_inputs], decoder_outputs) \n",
    "print(model.summary())"
   ]
  },
  {
   "cell_type": "code",
   "execution_count": 32,
   "id": "d3f9a90d",
   "metadata": {
    "execution": {
     "iopub.execute_input": "2022-03-18T11:00:37.353681Z",
     "iopub.status.busy": "2022-03-18T11:00:37.352855Z",
     "iopub.status.idle": "2022-03-18T11:51:33.306066Z",
     "shell.execute_reply": "2022-03-18T11:51:33.306658Z",
     "shell.execute_reply.started": "2022-03-18T10:49:12.598495Z"
    },
    "id": "4fUJoaFAiwUb",
    "outputId": "4bc22143-d3ed-4b87-e2e6-c44f3034a816",
    "papermill": {
     "duration": 3056.008315,
     "end_time": "2022-03-18T11:51:33.306826",
     "exception": false,
     "start_time": "2022-03-18T11:00:37.298511",
     "status": "completed"
    },
    "tags": []
   },
   "outputs": [
    {
     "name": "stdout",
     "output_type": "stream",
     "text": [
      "Epoch 1/50\n",
      "85/85 [==============================] - 74s 732ms/step - loss: 5.7927 - val_loss: 4.9314\n",
      "Epoch 2/50\n",
      "85/85 [==============================] - 61s 712ms/step - loss: 4.6877 - val_loss: 4.5780\n",
      "Epoch 3/50\n",
      "85/85 [==============================] - 61s 713ms/step - loss: 4.3694 - val_loss: 4.2547\n",
      "Epoch 4/50\n",
      "85/85 [==============================] - 61s 713ms/step - loss: 4.0249 - val_loss: 4.0342\n",
      "Epoch 5/50\n",
      "85/85 [==============================] - 61s 713ms/step - loss: 3.7101 - val_loss: 3.8594\n",
      "Epoch 6/50\n",
      "85/85 [==============================] - 61s 713ms/step - loss: 3.4450 - val_loss: 3.7557\n",
      "Epoch 7/50\n",
      "85/85 [==============================] - 61s 713ms/step - loss: 3.2173 - val_loss: 3.6743\n",
      "Epoch 8/50\n",
      "85/85 [==============================] - 61s 713ms/step - loss: 3.0135 - val_loss: 3.6063\n",
      "Epoch 9/50\n",
      "85/85 [==============================] - 61s 714ms/step - loss: 2.8118 - val_loss: 3.5727\n",
      "Epoch 10/50\n",
      "85/85 [==============================] - 61s 713ms/step - loss: 2.6257 - val_loss: 3.5294\n",
      "Epoch 11/50\n",
      "85/85 [==============================] - 61s 714ms/step - loss: 2.4454 - val_loss: 3.5188\n",
      "Epoch 12/50\n",
      "85/85 [==============================] - 61s 713ms/step - loss: 2.2778 - val_loss: 3.4885\n",
      "Epoch 13/50\n",
      "85/85 [==============================] - 61s 714ms/step - loss: 2.1181 - val_loss: 3.4964\n",
      "Epoch 14/50\n",
      "85/85 [==============================] - 61s 713ms/step - loss: 1.9685 - val_loss: 3.4944\n",
      "Epoch 15/50\n",
      "85/85 [==============================] - 61s 714ms/step - loss: 1.8197 - val_loss: 3.4961\n",
      "Epoch 16/50\n",
      "85/85 [==============================] - 61s 713ms/step - loss: 1.6894 - val_loss: 3.5144\n",
      "Epoch 17/50\n",
      "85/85 [==============================] - 61s 714ms/step - loss: 1.5631 - val_loss: 3.5109\n",
      "Epoch 18/50\n",
      "85/85 [==============================] - 61s 714ms/step - loss: 1.4363 - val_loss: 3.5319\n",
      "Epoch 19/50\n",
      "85/85 [==============================] - 61s 713ms/step - loss: 1.3322 - val_loss: 3.5577\n",
      "Epoch 20/50\n",
      "85/85 [==============================] - 61s 714ms/step - loss: 1.2272 - val_loss: 3.5920\n",
      "Epoch 21/50\n",
      "85/85 [==============================] - 61s 714ms/step - loss: 1.1317 - val_loss: 3.5993\n",
      "Epoch 22/50\n",
      "85/85 [==============================] - 61s 714ms/step - loss: 1.0467 - val_loss: 3.6266\n",
      "Epoch 23/50\n",
      "85/85 [==============================] - 61s 714ms/step - loss: 0.9599 - val_loss: 3.6742\n",
      "Epoch 24/50\n",
      "85/85 [==============================] - 61s 714ms/step - loss: 0.8816 - val_loss: 3.7147\n",
      "Epoch 25/50\n",
      "85/85 [==============================] - 61s 714ms/step - loss: 0.8097 - val_loss: 3.7465\n",
      "Epoch 26/50\n",
      "85/85 [==============================] - 61s 713ms/step - loss: 0.7402 - val_loss: 3.7865\n",
      "Epoch 27/50\n",
      "85/85 [==============================] - 61s 713ms/step - loss: 0.6725 - val_loss: 3.8130\n",
      "Epoch 28/50\n",
      "85/85 [==============================] - 61s 714ms/step - loss: 0.6140 - val_loss: 3.8628\n",
      "Epoch 29/50\n",
      "85/85 [==============================] - 61s 714ms/step - loss: 0.5556 - val_loss: 3.9207\n",
      "Epoch 30/50\n",
      "85/85 [==============================] - 61s 714ms/step - loss: 0.5053 - val_loss: 3.9232\n",
      "Epoch 31/50\n",
      "85/85 [==============================] - 61s 713ms/step - loss: 0.4549 - val_loss: 3.9695\n",
      "Epoch 32/50\n",
      "85/85 [==============================] - 61s 713ms/step - loss: 0.4107 - val_loss: 4.0301\n",
      "Epoch 33/50\n",
      "85/85 [==============================] - 61s 714ms/step - loss: 0.3677 - val_loss: 4.0576\n",
      "Epoch 34/50\n",
      "85/85 [==============================] - 61s 713ms/step - loss: 0.3300 - val_loss: 4.1174\n",
      "Epoch 35/50\n",
      "85/85 [==============================] - 61s 714ms/step - loss: 0.2958 - val_loss: 4.1313\n",
      "Epoch 36/50\n",
      "85/85 [==============================] - 61s 713ms/step - loss: 0.2636 - val_loss: 4.2086\n",
      "Epoch 37/50\n",
      "85/85 [==============================] - 61s 714ms/step - loss: 0.2334 - val_loss: 4.2433\n",
      "Epoch 38/50\n",
      "85/85 [==============================] - 61s 713ms/step - loss: 0.2081 - val_loss: 4.2749\n",
      "Epoch 39/50\n",
      "85/85 [==============================] - 61s 713ms/step - loss: 0.1843 - val_loss: 4.3126\n",
      "Epoch 40/50\n",
      "85/85 [==============================] - 61s 713ms/step - loss: 0.1651 - val_loss: 4.3476\n",
      "Epoch 41/50\n",
      "85/85 [==============================] - 61s 713ms/step - loss: 0.1451 - val_loss: 4.4129\n",
      "Epoch 42/50\n",
      "85/85 [==============================] - 61s 713ms/step - loss: 0.1298 - val_loss: 4.4951\n",
      "Epoch 43/50\n",
      "85/85 [==============================] - 61s 713ms/step - loss: 0.1166 - val_loss: 4.4849\n",
      "Epoch 44/50\n",
      "85/85 [==============================] - 61s 714ms/step - loss: 0.1043 - val_loss: 4.5197\n",
      "Epoch 45/50\n",
      "85/85 [==============================] - 61s 714ms/step - loss: 0.0935 - val_loss: 4.5455\n",
      "Epoch 46/50\n",
      "85/85 [==============================] - 61s 713ms/step - loss: 0.0849 - val_loss: 4.5917\n",
      "Epoch 47/50\n",
      "85/85 [==============================] - 61s 714ms/step - loss: 0.0769 - val_loss: 4.6231\n",
      "Epoch 48/50\n",
      "85/85 [==============================] - 61s 713ms/step - loss: 0.0707 - val_loss: 4.6566\n",
      "Epoch 49/50\n",
      "85/85 [==============================] - 61s 713ms/step - loss: 0.0642 - val_loss: 4.6673\n",
      "Epoch 50/50\n",
      "85/85 [==============================] - 61s 714ms/step - loss: 0.0596 - val_loss: 4.7264\n"
     ]
    }
   ],
   "source": [
    "model.compile(optimizer='rmsprop', loss='sparse_categorical_crossentropy')\n",
    "checkpoint_filepath = './model.{epoch:02d}-{val_loss:.2f}.h5'\n",
    "model_checkpoint_callback = tf.keras.callbacks.ModelCheckpoint(filepath=checkpoint_filepath,save_weights_only=True,monitor='val_loss',mode='min',save_best_only=True, save_freq = \"epoch\")\n",
    "es = EarlyStopping(monitor='val_loss', mode='min', verbose=1, patience=4)\n",
    "history=model.fit(\n",
    "    [padded_xtrain,padded_ytrain[:,:-1]], \n",
    "    padded_ytrain.reshape(padded_ytrain.shape[0],padded_ytrain.shape[1], 1)[:,1:], \n",
    "    epochs=50,\n",
    "    batch_size=512, \n",
    "    validation_data=([padded_xval,padded_yval[:,:-1]], padded_yval.reshape(padded_yval.shape[0],padded_yval.shape[1], 1)[:,1:]), \n",
    "    callbacks=[model_checkpoint_callback])"
   ]
  },
  {
   "cell_type": "code",
   "execution_count": 33,
   "id": "d61cbc82",
   "metadata": {
    "execution": {
     "iopub.execute_input": "2022-03-18T11:51:36.074484Z",
     "iopub.status.busy": "2022-03-18T11:51:36.073911Z",
     "iopub.status.idle": "2022-03-18T11:51:36.196026Z",
     "shell.execute_reply": "2022-03-18T11:51:36.195111Z",
     "shell.execute_reply.started": "2022-03-18T10:43:57.004023Z"
    },
    "id": "JQf1v5WhqLLg",
    "outputId": "f5bfa510-79c7-465e-e371-ea5b36198da9",
    "papermill": {
     "duration": 1.398946,
     "end_time": "2022-03-18T11:51:36.196174",
     "exception": false,
     "start_time": "2022-03-18T11:51:34.797228",
     "status": "completed"
    },
    "tags": []
   },
   "outputs": [
    {
     "data": {
      "image/png": "[encoded data removed]",
      "text/plain": [
       "<Figure size 432x288 with 1 Axes>"
      ]
     },
     "metadata": {
      "needs_background": "light"
     },
     "output_type": "display_data"
    }
   ],
   "source": [
    "from matplotlib import pyplot \n",
    "pyplot.plot(history.history['loss'], label='train') \n",
    "pyplot.plot(history.history['val_loss'], label='test') \n",
    "pyplot.legend() \n",
    "pyplot.show()"
   ]
  },
  {
   "cell_type": "markdown",
   "id": "7822c78c",
   "metadata": {
    "id": "PZ0W3VZorHVK",
    "papermill": {
     "duration": 1.374427,
     "end_time": "2022-03-18T11:51:44.932758",
     "exception": false,
     "start_time": "2022-03-18T11:51:43.558331",
     "status": "completed"
    },
    "tags": []
   },
   "source": [
    "### Inference"
   ]
  },
  {
   "cell_type": "code",
   "execution_count": 36,
   "id": "016e8afb",
   "metadata": {
    "execution": {
     "iopub.execute_input": "2022-03-18T11:51:47.224464Z",
     "iopub.status.busy": "2022-03-18T11:51:47.223392Z",
     "iopub.status.idle": "2022-03-18T11:51:47.226276Z",
     "shell.execute_reply": "2022-03-18T11:51:47.225840Z",
     "shell.execute_reply.started": "2022-03-18T10:44:00.072762Z"
    },
    "id": "UlSTzEbnskcd",
    "papermill": {
     "duration": 1.159042,
     "end_time": "2022-03-18T11:51:47.226390",
     "exception": false,
     "start_time": "2022-03-18T11:51:46.067348",
     "status": "completed"
    },
    "tags": []
   },
   "outputs": [],
   "source": [
    "reverse_target_word_index = y_t.index_word \n",
    "reverse_source_word_index = x_t.index_word \n",
    "target_word_index = y_t.word_index"
   ]
  },
  {
   "cell_type": "code",
   "execution_count": 37,
   "id": "49ce9742",
   "metadata": {
    "execution": {
     "iopub.execute_input": "2022-03-18T11:51:49.623721Z",
     "iopub.status.busy": "2022-03-18T11:51:49.622759Z",
     "iopub.status.idle": "2022-03-18T11:51:49.926360Z",
     "shell.execute_reply": "2022-03-18T11:51:49.928072Z",
     "shell.execute_reply.started": "2022-03-18T10:44:02.428329Z"
    },
    "id": "thX0Ep0Ssnd1",
    "papermill": {
     "duration": 1.499495,
     "end_time": "2022-03-18T11:51:49.928248",
     "exception": false,
     "start_time": "2022-03-18T11:51:48.428753",
     "status": "completed"
    },
    "tags": []
   },
   "outputs": [],
   "source": [
    "encoder_model = Model(inputs=encoder_inputs,outputs=[encoder_outputs, state_h, state_c])\n",
    "decoder_state_input_h = Input(shape=(latent_dim,))\n",
    "decoder_state_input_c = Input(shape=(latent_dim,))\n",
    "decoder_hidden_state_input = Input(shape=(max_length_x,latent_dim))\n",
    "\n",
    "dec_emb2= dec_emb_layer(decoder_inputs)\n",
    "decoder_outputs2, state_h2, state_c2 = decoder_lstm(dec_emb2, initial_state=[decoder_state_input_h, decoder_state_input_c])\n",
    "\n",
    "attn_out_inf, attn_states_inf = attn_layer([decoder_hidden_state_input, decoder_outputs2])\n",
    "decoder_inf_concat = Concatenate(axis=-1, name='concat')([decoder_outputs2, attn_out_inf])\n",
    "\n",
    "decoder_outputs2 = decoder_dense(decoder_inf_concat)\n",
    "\n",
    "decoder_model = Model(\n",
    "[decoder_inputs] + [decoder_hidden_state_input,decoder_state_input_h, decoder_state_input_c],\n",
    "[decoder_outputs2] + [state_h2, state_c2])"
   ]
  },
  {
   "cell_type": "code",
   "execution_count": 38,
   "id": "8afca0b8",
   "metadata": {
    "execution": {
     "iopub.execute_input": "2022-03-18T11:51:52.279208Z",
     "iopub.status.busy": "2022-03-18T11:51:52.278395Z",
     "iopub.status.idle": "2022-03-18T11:51:52.281222Z",
     "shell.execute_reply": "2022-03-18T11:51:52.280751Z",
     "shell.execute_reply.started": "2022-03-18T10:44:02.978758Z"
    },
    "id": "wtU0wU8gsuz1",
    "papermill": {
     "duration": 1.173692,
     "end_time": "2022-03-18T11:51:52.281343",
     "exception": false,
     "start_time": "2022-03-18T11:51:51.107651",
     "status": "completed"
    },
    "tags": []
   },
   "outputs": [],
   "source": [
    "def decode_sequence(input_seq):\n",
    "    input_seq= input_seq.reshape(1,max_length_x)\n",
    "    e_out, e_h, e_c = encoder_model.predict(input_seq)\n",
    "    target_seq = np.zeros((1,1))\n",
    "    target_seq[0, 0] = target_word_index['start']\n",
    "\n",
    "    stop_condition = False\n",
    "    decoded_sentence = ''\n",
    "    while not stop_condition:\n",
    "        output_tokens, h, c = decoder_model.predict([target_seq] + [e_out, e_h, e_c])\n",
    "\n",
    "        sampled_token_index = np.argmax(output_tokens[0, -1, :])\n",
    "        sampled_token = reverse_target_word_index[sampled_token_index]\n",
    "  \n",
    "        if(sampled_token!='end'):\n",
    "            decoded_sentence += ' '+sampled_token\n",
    " \n",
    "        if (sampled_token == 'end' or len(decoded_sentence.split()) >= (max_length_y-1)):\n",
    "                stop_condition = True\n",
    "\n",
    "        target_seq = np.zeros((1,1))\n",
    "        target_seq[0, 0] = sampled_token_index\n",
    "        e_h, e_c = h, c\n",
    "\n",
    "    return decoded_sentence"
   ]
  },
  {
   "cell_type": "code",
   "execution_count": 39,
   "id": "b52b2038",
   "metadata": {
    "execution": {
     "iopub.execute_input": "2022-03-18T11:51:54.619720Z",
     "iopub.status.busy": "2022-03-18T11:51:54.618858Z",
     "iopub.status.idle": "2022-03-18T11:51:54.621724Z",
     "shell.execute_reply": "2022-03-18T11:51:54.621216Z",
     "shell.execute_reply.started": "2022-03-18T10:44:03.762139Z"
    },
    "id": "cLyRVENRs2Ay",
    "papermill": {
     "duration": 1.204206,
     "end_time": "2022-03-18T11:51:54.621837",
     "exception": false,
     "start_time": "2022-03-18T11:51:53.417631",
     "status": "completed"
    },
    "tags": []
   },
   "outputs": [],
   "source": [
    "def seq2summary(input_seq):\n",
    "    newString=''\n",
    "    for i in input_seq:\n",
    "      if((i!=0 and i!=target_word_index['start']) and i!=target_word_index['end']):\n",
    "        newString=newString+reverse_target_word_index[i]+' '\n",
    "    return newString\n",
    "\n",
    "def seq2text(input_seq):\n",
    "    newString=''\n",
    "    for i in input_seq:\n",
    "      if(i!=0):\n",
    "        newString=newString+reverse_source_word_index[i]+' '\n",
    "    return newString"
   ]
  },
  {
   "cell_type": "code",
   "execution_count": 40,
   "id": "76e7fdc1",
   "metadata": {},
   "outputs": [
    {
     "name": "stdout",
     "output_type": "stream",
     "text": [
      "Review: south africa captain ab de villier turn 32 year old wednesday hold record score fast 50 odi format three time icc odi player year also score second high individual score test south africa \n",
      "Original summary: south african cricketer ab de villiers turns 32 \n",
      "Predicted summary:  south african cricketer ab de villiers turns 32\n"
     ]
    }
   ],
   "source": [
    "print(\"Review:\",seq2text(padded_xtest[9]))\n",
    "print(\"Original summary:\",seq2summary(padded_ytest[9]))\n",
    "print(\"Predicted summary:\",decode_sequence(padded_xtest[9]))"
   ]
  },
  {
   "cell_type": "code",
   "execution_count": 41,
   "id": "7c1680c7",
   "metadata": {},
   "outputs": [
    {
     "name": "stdout",
     "output_type": "stream",
     "text": [
      "Review: japanese auto giant toyota launch innova crysta price range 1384 lakh 2078 lakh crysta debuts two all new diesel engine produce 150 174 ps power respectively available 7 seater 8 seater get new features projector headlamp automatic climate control seven airbag touchscreen audio system among other \n",
      "Original summary: toyota innova crysta launched at ₹13 84 lakh \n",
      "Predicted summary:  toyota innova crysta launched at ₹13 84 lakh\n"
     ]
    }
   ],
   "source": [
    "print(\"Review:\",seq2text(padded_xtest[26]))\n",
    "print(\"Original summary:\",seq2summary(padded_ytest[26]))\n",
    "print(\"Predicted summary:\",decode_sequence(padded_xtest[26]))"
   ]
  },
  {
   "cell_type": "code",
   "execution_count": 42,
   "id": "0fcef1b7",
   "metadata": {},
   "outputs": [
    {
     "name": "stdout",
     "output_type": "stream",
     "text": [
      "Review: video balloon sell boy dancing delhi 39 s connaught place surface online onlooker hasiba b amin share video twitter caption n 34 saw guy sell balloon dance cp didn 39 t ask money imagine right opportunity could take pron 34 till now video receive 1 700 like \n",
      "Original summary: video of balloon seller dancing in delhi surfaces online \n",
      "Predicted summary:  video of balloon seller dancing in delhi surfaces online\n"
     ]
    }
   ],
   "source": [
    "print(\"Review:\",seq2text(padded_xtest[44]))\n",
    "print(\"Original summary:\",seq2summary(padded_ytest[44]))\n",
    "print(\"Predicted summary:\",decode_sequence(padded_xtest[44]))"
   ]
  },
  {
   "cell_type": "markdown",
   "id": "56fc7eb8",
   "metadata": {
    "id": "v3Sfc9a422Rg",
    "papermill": {
     "duration": 1.217744,
     "end_time": "2022-03-18T11:52:31.752042",
     "exception": false,
     "start_time": "2022-03-18T11:52:30.534298",
     "status": "completed"
    },
    "tags": []
   },
   "source": [
    "### Evaluation"
   ]
  },
  {
   "cell_type": "code",
   "execution_count": 43,
   "id": "0f4b7207",
   "metadata": {
    "execution": {
     "iopub.execute_input": "2022-03-18T11:52:34.122579Z",
     "iopub.status.busy": "2022-03-18T11:52:34.121607Z",
     "iopub.status.idle": "2022-03-18T11:52:34.124291Z",
     "shell.execute_reply": "2022-03-18T11:52:34.124668Z",
     "shell.execute_reply.started": "2022-03-18T10:44:59.583714Z"
    },
    "papermill": {
     "duration": 1.17708,
     "end_time": "2022-03-18T11:52:34.124807",
     "exception": false,
     "start_time": "2022-03-18T11:52:32.947727",
     "status": "completed"
    },
    "tags": []
   },
   "outputs": [],
   "source": [
    "def BLEU_Score(y_test, y_pred):\n",
    "    references = [[seq2summary(y_test).split(\" \")]]\n",
    "    candidates = [decode_sequence(y_pred.reshape(1,max_length_x)).split(\" \")]\n",
    "    return corpus_bleu(references, candidates)"
   ]
  },
  {
   "cell_type": "code",
   "execution_count": 44,
   "id": "dfba804f",
   "metadata": {
    "execution": {
     "iopub.execute_input": "2022-03-18T11:52:36.487441Z",
     "iopub.status.busy": "2022-03-18T11:52:36.486608Z",
     "iopub.status.idle": "2022-03-18T11:56:32.952108Z",
     "shell.execute_reply": "2022-03-18T11:56:32.952650Z",
     "shell.execute_reply.started": "2022-03-18T10:44:59.770175Z"
    },
    "papermill": {
     "duration": 237.618641,
     "end_time": "2022-03-18T11:56:32.952825",
     "exception": false,
     "start_time": "2022-03-18T11:52:35.334184",
     "status": "completed"
    },
    "tags": []
   },
   "outputs": [
    {
     "name": "stdout",
     "output_type": "stream",
     "text": [
      "0.734793802658204\n"
     ]
    }
   ],
   "source": [
    "from nltk.translate.bleu_score import corpus_bleu\n",
    "scores=[]\n",
    "for i in range(0,500):\n",
    "    scores.append(BLEU_Score(padded_ytest[i],padded_xtest[i]))\n",
    "    \n",
    "print(np.mean(scores))"
   ]
  }
 ],
 "metadata": {
  "kernelspec": {
   "display_name": "Python 3",
   "language": "python",
   "name": "python3"
  },
  "language_info": {
   "codemirror_mode": {
    "name": "ipython",
    "version": 3
   },
   "file_extension": ".py",
   "mimetype": "text/x-python",
   "name": "python",
   "nbconvert_exporter": "python",
   "pygments_lexer": "ipython3",
   "version": "3.8.3"
  },
  "papermill": {
   "default_parameters": {},
   "duration": 3835.968887,
   "end_time": "2022-03-18T11:56:49.949251",
   "environment_variables": {},
   "exception": null,
   "input_path": "__notebook__.ipynb",
   "output_path": "__notebook__.ipynb",
   "parameters": {},
   "start_time": "2022-03-18T10:52:53.980364",
   "version": "2.3.3"
  }
 },
 "nbformat": 4,
 "nbformat_minor": 5
}
