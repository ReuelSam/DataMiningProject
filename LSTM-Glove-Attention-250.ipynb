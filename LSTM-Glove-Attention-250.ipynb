{
 "cells": [
  {
   "cell_type": "markdown",
   "id": "bb902ec1",
   "metadata": {
    "id": "IEq-oYpmSM5r",
    "papermill": {
     "duration": 0.041809,
     "end_time": "2022-03-18T10:52:01.843888",
     "exception": false,
     "start_time": "2022-03-18T10:52:01.802079",
     "status": "completed"
    },
    "tags": []
   },
   "source": [
    "# Text Summarization - LSTM GloVe Attention - 250 Units"
   ]
  },
  {
   "cell_type": "markdown",
   "id": "a54d1b15",
   "metadata": {
    "id": "4iFfGxm4XgZl",
    "papermill": {
     "duration": 0.035654,
     "end_time": "2022-03-18T10:52:01.917095",
     "exception": false,
     "start_time": "2022-03-18T10:52:01.881441",
     "status": "completed"
    },
    "tags": []
   },
   "source": [
    "### Importing Basic libraries"
   ]
  },
  {
   "cell_type": "code",
   "execution_count": 1,
   "id": "209a6639",
   "metadata": {
    "execution": {
     "iopub.execute_input": "2022-03-18T10:52:02.002655Z",
     "iopub.status.busy": "2022-03-18T10:52:02.001982Z",
     "iopub.status.idle": "2022-03-18T10:52:08.113323Z",
     "shell.execute_reply": "2022-03-18T10:52:08.112661Z",
     "shell.execute_reply.started": "2022-03-18T10:24:14.577419Z"
    },
    "id": "lisXNzYrYOoR",
    "outputId": "4ff65cf3-36bb-49c2-a6c3-08070c9233a0",
    "papermill": {
     "duration": 6.159988,
     "end_time": "2022-03-18T10:52:08.113466",
     "exception": false,
     "start_time": "2022-03-18T10:52:01.953478",
     "status": "completed"
    },
    "tags": []
   },
   "outputs": [
    {
     "name": "stdout",
     "output_type": "stream",
     "text": [
      "[nltk_data] Downloading package stopwords to /usr/share/nltk_data...\n",
      "[nltk_data]   Unzipping corpora/stopwords.zip.\n"
     ]
    }
   ],
   "source": [
    "import re\n",
    "import os\n",
    "import numpy as np\n",
    "import pandas as pd\n",
    "import matplotlib.pyplot as plt\n",
    "\n",
    "import nltk\n",
    "nltk.download('stopwords')\n",
    "from nltk.corpus import stopwords\n",
    "from keras.preprocessing.text import Tokenizer\n",
    "from keras.preprocessing.sequence import pad_sequences\n",
    "\n",
    "import tensorflow as tf\n",
    "from tensorflow.keras.layers import Input, LSTM, Embedding, Dense, Concatenate, TimeDistributed, Bidirectional\n",
    "from tensorflow.keras.models import Model\n",
    "from tensorflow.keras.callbacks import EarlyStopping\n",
    "from keras import backend as K \n",
    "from tensorflow.python.keras.layers import Layer\n"
   ]
  },
  {
   "cell_type": "code",
   "execution_count": 2,
   "id": "76018b0a",
   "metadata": {
    "execution": {
     "iopub.execute_input": "2022-03-18T10:52:08.191605Z",
     "iopub.status.busy": "2022-03-18T10:52:08.191081Z",
     "iopub.status.idle": "2022-03-18T10:52:18.002004Z",
     "shell.execute_reply": "2022-03-18T10:52:18.001134Z",
     "shell.execute_reply.started": "2022-03-18T10:24:20.954792Z"
    },
    "papermill": {
     "duration": 9.85135,
     "end_time": "2022-03-18T10:52:18.002153",
     "exception": false,
     "start_time": "2022-03-18T10:52:08.150803",
     "status": "completed"
    },
    "tags": []
   },
   "outputs": [
    {
     "name": "stdout",
     "output_type": "stream",
     "text": [
      "Collecting openpyxl\r\n",
      "  Downloading openpyxl-3.0.9-py2.py3-none-any.whl (242 kB)\r\n",
      "\u001b[K     |████████████████████████████████| 242 kB 242 kB/s \r\n",
      "\u001b[?25hCollecting et-xmlfile\r\n",
      "  Downloading et_xmlfile-1.1.0-py3-none-any.whl (4.7 kB)\r\n",
      "Installing collected packages: et-xmlfile, openpyxl\r\n",
      "Successfully installed et-xmlfile-1.1.0 openpyxl-3.0.9\r\n",
      "\u001b[33mWARNING: Running pip as root will break packages and permissions. You should install packages reliably by using venv: https://pip.pypa.io/warnings/venv\u001b[0m\r\n"
     ]
    }
   ],
   "source": [
    "!pip install openpyxl"
   ]
  },
  {
   "cell_type": "markdown",
   "id": "566b641a",
   "metadata": {
    "id": "GSr24NviXqio",
    "papermill": {
     "duration": 0.054092,
     "end_time": "2022-03-18T10:52:18.096718",
     "exception": false,
     "start_time": "2022-03-18T10:52:18.042626",
     "status": "completed"
    },
    "tags": []
   },
   "source": [
    "### Importing Data"
   ]
  },
  {
   "cell_type": "code",
   "execution_count": 4,
   "id": "448dbe49",
   "metadata": {
    "execution": {
     "iopub.execute_input": "2022-03-18T10:52:18.381995Z",
     "iopub.status.busy": "2022-03-18T10:52:18.381217Z",
     "iopub.status.idle": "2022-03-18T10:52:27.242004Z",
     "shell.execute_reply": "2022-03-18T10:52:27.241487Z",
     "shell.execute_reply.started": "2022-03-18T10:24:31.117092Z"
    },
    "papermill": {
     "duration": 8.93513,
     "end_time": "2022-03-18T10:52:27.242151",
     "exception": false,
     "start_time": "2022-03-18T10:52:18.307021",
     "status": "completed"
    },
    "tags": []
   },
   "outputs": [],
   "source": [
    "data = pd.read_excel('../input/inshorts-news-data/Inshorts Cleaned Data.xlsx')"
   ]
  },
  {
   "cell_type": "code",
   "execution_count": 5,
   "id": "67f84fff",
   "metadata": {
    "execution": {
     "iopub.execute_input": "2022-03-18T10:52:27.334308Z",
     "iopub.status.busy": "2022-03-18T10:52:27.333580Z",
     "iopub.status.idle": "2022-03-18T10:52:27.351982Z",
     "shell.execute_reply": "2022-03-18T10:52:27.351543Z",
     "shell.execute_reply.started": "2022-03-18T10:24:40.819290Z"
    },
    "papermill": {
     "duration": 0.069746,
     "end_time": "2022-03-18T10:52:27.352107",
     "exception": false,
     "start_time": "2022-03-18T10:52:27.282361",
     "status": "completed"
    },
    "tags": []
   },
   "outputs": [
    {
     "data": {
      "text/html": [
       "<div>\n",
       "<style scoped>\n",
       "    .dataframe tbody tr th:only-of-type {\n",
       "        vertical-align: middle;\n",
       "    }\n",
       "\n",
       "    .dataframe tbody tr th {\n",
       "        vertical-align: top;\n",
       "    }\n",
       "\n",
       "    .dataframe thead th {\n",
       "        text-align: right;\n",
       "    }\n",
       "</style>\n",
       "<table border=\"1\" class=\"dataframe\">\n",
       "  <thead>\n",
       "    <tr style=\"text-align: right;\">\n",
       "      <th></th>\n",
       "      <th>Headline</th>\n",
       "      <th>Short</th>\n",
       "    </tr>\n",
       "  </thead>\n",
       "  <tbody>\n",
       "    <tr>\n",
       "      <th>0</th>\n",
       "      <td>4 ex-bank officials booked for cheating bank o...</td>\n",
       "      <td>The CBI on Saturday booked four former officia...</td>\n",
       "    </tr>\n",
       "    <tr>\n",
       "      <th>1</th>\n",
       "      <td>Supreme Court to go paperless in 6 months: CJI</td>\n",
       "      <td>Chief Justice JS Khehar has said the Supreme C...</td>\n",
       "    </tr>\n",
       "    <tr>\n",
       "      <th>2</th>\n",
       "      <td>At least 3 killed, 30 injured in blast in Sylh...</td>\n",
       "      <td>At least three people were killed, including a...</td>\n",
       "    </tr>\n",
       "    <tr>\n",
       "      <th>3</th>\n",
       "      <td>Why has Reliance been barred from trading in f...</td>\n",
       "      <td>Mukesh Ambani-led Reliance Industries (RIL) wa...</td>\n",
       "    </tr>\n",
       "    <tr>\n",
       "      <th>4</th>\n",
       "      <td>Was stopped from entering my own studio at Tim...</td>\n",
       "      <td>TV news anchor Arnab Goswami has said he was t...</td>\n",
       "    </tr>\n",
       "  </tbody>\n",
       "</table>\n",
       "</div>"
      ],
      "text/plain": [
       "                                            Headline  \\\n",
       "0  4 ex-bank officials booked for cheating bank o...   \n",
       "1     Supreme Court to go paperless in 6 months: CJI   \n",
       "2  At least 3 killed, 30 injured in blast in Sylh...   \n",
       "3  Why has Reliance been barred from trading in f...   \n",
       "4  Was stopped from entering my own studio at Tim...   \n",
       "\n",
       "                                               Short  \n",
       "0  The CBI on Saturday booked four former officia...  \n",
       "1  Chief Justice JS Khehar has said the Supreme C...  \n",
       "2  At least three people were killed, including a...  \n",
       "3  Mukesh Ambani-led Reliance Industries (RIL) wa...  \n",
       "4  TV news anchor Arnab Goswami has said he was t...  "
      ]
     },
     "execution_count": 5,
     "metadata": {},
     "output_type": "execute_result"
    }
   ],
   "source": [
    "data.drop(['Source ', 'Time ', 'Publish Date'], axis=1, inplace=True)\n",
    "data.head()"
   ]
  },
  {
   "cell_type": "code",
   "execution_count": 7,
   "id": "bfe06dfd",
   "metadata": {
    "execution": {
     "iopub.execute_input": "2022-03-18T10:52:27.520462Z",
     "iopub.status.busy": "2022-03-18T10:52:27.519562Z",
     "iopub.status.idle": "2022-03-18T10:52:27.523560Z",
     "shell.execute_reply": "2022-03-18T10:52:27.523162Z",
     "shell.execute_reply.started": "2022-03-18T10:24:40.874785Z"
    },
    "id": "BV8b6w9YYOoa",
    "papermill": {
     "duration": 0.048711,
     "end_time": "2022-03-18T10:52:27.523664",
     "exception": false,
     "start_time": "2022-03-18T10:52:27.474953",
     "status": "completed"
    },
    "tags": []
   },
   "outputs": [],
   "source": [
    "stop_words = stopwords.words('english')\n",
    "\n",
    "def preprocess(text):\n",
    "    text = text.lower()\n",
    "    \n",
    "    tokens = [w for w in text.split() if not w in stop_words]\n",
    "    text = \" \".join(tokens)\n",
    "    text = text.replace(\"'s\",'')\n",
    "    text = text.replace(\".\",'')\n",
    "    text = re.sub(r'\\(.*\\)','',text)\n",
    "    text = re.sub(r'[^a-zA-Z0-9. ]',' ',text)\n",
    "    text = re.sub(r'\\.','. ',text)\n",
    "    text = re.sub(r'\\s+', ' ', text)\n",
    "    return text\n"
   ]
  },
  {
   "cell_type": "markdown",
   "id": "9a469961",
   "metadata": {},
   "source": [
    "### Lemmatization"
   ]
  },
  {
   "cell_type": "code",
   "execution_count": 8,
   "id": "ce06d242",
   "metadata": {
    "execution": {
     "iopub.execute_input": "2022-03-18T10:52:27.606576Z",
     "iopub.status.busy": "2022-03-18T10:52:27.605949Z",
     "iopub.status.idle": "2022-03-18T10:52:30.376287Z",
     "shell.execute_reply": "2022-03-18T10:52:30.376845Z",
     "shell.execute_reply.started": "2022-03-18T10:24:40.893179Z"
    },
    "papermill": {
     "duration": 2.814308,
     "end_time": "2022-03-18T10:52:30.377023",
     "exception": false,
     "start_time": "2022-03-18T10:52:27.562715",
     "status": "completed"
    },
    "tags": []
   },
   "outputs": [],
   "source": [
    "import spacy\n",
    "\n",
    "nlp = spacy.load('en_core_web_sm', disable=['parser', 'ner'])\n",
    "allowed_postags = ['NOUN', 'ADJ', 'VERB', 'ADV']\n",
    "def lemmatize_text(text):\n",
    "    doc = nlp(text)\n",
    "    return ' '.join([token.lemma_ for token in doc])"
   ]
  },
  {
   "cell_type": "code",
   "execution_count": 9,
   "id": "3d1ae987",
   "metadata": {
    "execution": {
     "iopub.execute_input": "2022-03-18T10:52:30.462061Z",
     "iopub.status.busy": "2022-03-18T10:52:30.461149Z",
     "iopub.status.idle": "2022-03-18T10:52:30.464354Z",
     "shell.execute_reply": "2022-03-18T10:52:30.463845Z",
     "shell.execute_reply.started": "2022-03-18T10:24:43.921305Z"
    },
    "papermill": {
     "duration": 0.046105,
     "end_time": "2022-03-18T10:52:30.464459",
     "exception": false,
     "start_time": "2022-03-18T10:52:30.418354",
     "status": "completed"
    },
    "tags": []
   },
   "outputs": [],
   "source": [
    "data.rename(columns={'Headline': 'headlines', 'Short': 'text'}, inplace=True)"
   ]
  },
  {
   "cell_type": "code",
   "execution_count": 10,
   "id": "a48132f3",
   "metadata": {
    "execution": {
     "iopub.execute_input": "2022-03-18T10:52:30.545946Z",
     "iopub.status.busy": "2022-03-18T10:52:30.545424Z",
     "iopub.status.idle": "2022-03-18T10:52:30.549292Z",
     "shell.execute_reply": "2022-03-18T10:52:30.548837Z",
     "shell.execute_reply.started": "2022-03-18T10:24:43.930160Z"
    },
    "papermill": {
     "duration": 0.046063,
     "end_time": "2022-03-18T10:52:30.549392",
     "exception": false,
     "start_time": "2022-03-18T10:52:30.503329",
     "status": "completed"
    },
    "tags": []
   },
   "outputs": [],
   "source": [
    "original_text = str(data['text'][0])\n",
    "original_headline = str(data['headlines'][0])"
   ]
  },
  {
   "cell_type": "code",
   "execution_count": 11,
   "id": "902808cc",
   "metadata": {
    "execution": {
     "iopub.execute_input": "2022-03-18T10:52:30.693504Z",
     "iopub.status.busy": "2022-03-18T10:52:30.657718Z",
     "iopub.status.idle": "2022-03-18T10:55:36.854908Z",
     "shell.execute_reply": "2022-03-18T10:55:36.855622Z",
     "shell.execute_reply.started": "2022-03-18T10:24:43.940026Z"
    },
    "id": "ewSx5cepYOob",
    "outputId": "55b255a6-367f-4443-8184-650066137e32",
    "papermill": {
     "duration": 186.267892,
     "end_time": "2022-03-18T10:55:36.855918",
     "exception": false,
     "start_time": "2022-03-18T10:52:30.588026",
     "status": "completed"
    },
    "tags": []
   },
   "outputs": [
    {
     "name": "stdout",
     "output_type": "stream",
     "text": [
      "Summary:\n",
      "_START_ 4 ex-bank officials booked for cheating bank of ₹209 crore _END_\n",
      "Text:\n",
      "cbi saturday book four former official syndicate bank six other cheat forgery criminal conspiracy cause 209 crore loss state run bank accuse availed home loan credit syndicate bank basis forge fabricate document fund fraudulently transfer company own accuse person\n",
      "\n",
      "Summary:\n",
      "_START_ Supreme Court to go paperless in 6 months: CJI _END_\n",
      "Text:\n",
      "chief justice js khehar say supreme court go paperless six seven month bid save fund make judiciary eco friendly say apex court collect record electronically low court high court need file hard copy\n",
      "\n"
     ]
    }
   ],
   "source": [
    "# data['headlines'] = data['headlines'].apply(preprocess)\n",
    "# data['text'] = data['text'].apply(preprocess)\n",
    "processed_text = data['text'].apply(preprocess)\n",
    "data['text'] = processed_text.apply(lemmatize_text)\n",
    "data['headlines'] = data['headlines'].apply(lambda x : '_START_ '+ x + ' _END_')\n",
    "\n",
    "for i in range(2):\n",
    "    print('Summary:', data['headlines'][i],'Text:', data['text'][i], sep='\\n')\n",
    "    print()"
   ]
  },
  {
   "cell_type": "code",
   "execution_count": 12,
   "id": "1cc9384a",
   "metadata": {
    "execution": {
     "iopub.execute_input": "2022-03-18T10:55:36.949355Z",
     "iopub.status.busy": "2022-03-18T10:55:36.948752Z",
     "iopub.status.idle": "2022-03-18T10:55:36.953826Z",
     "shell.execute_reply": "2022-03-18T10:55:36.953300Z",
     "shell.execute_reply.started": "2022-03-18T10:28:12.692817Z"
    },
    "papermill": {
     "duration": 0.054268,
     "end_time": "2022-03-18T10:55:36.953941",
     "exception": false,
     "start_time": "2022-03-18T10:55:36.899673",
     "status": "completed"
    },
    "tags": []
   },
   "outputs": [
    {
     "name": "stdout",
     "output_type": "stream",
     "text": [
      "\n",
      "ORIGINAL\n",
      "The CBI on Saturday booked four former officials of Syndicate Bank and six others for cheating, forgery, criminal conspiracy and causing ₹209 crore loss to the state-run bank. The accused had availed home loans and credit from Syndicate Bank on the basis of forged and fabricated documents. These funds were fraudulently transferred to the companies owned by the accused persons.\n",
      "4 ex-bank officials booked for cheating bank of ₹209 crore\n",
      "\n",
      "REGEX CLEANING AND STOPWORD REMOVAL:\n",
      "cbi saturday booked four former officials syndicate bank six others cheating forgery criminal conspiracy causing 209 crore loss state run bank accused availed home loans credit syndicate bank basis forged fabricated documents funds fraudulently transferred companies owned accused persons\n",
      "\n",
      "LEMMATIZATION + START AND END TOKEN\n",
      "cbi saturday book four former official syndicate bank six other cheat forgery criminal conspiracy cause 209 crore loss state run bank accuse availed home loan credit syndicate bank basis forge fabricate document fund fraudulently transfer company own accuse person\n",
      "_START_ 4 ex-bank officials booked for cheating bank of ₹209 crore _END_\n"
     ]
    }
   ],
   "source": [
    "print(\"\\nORIGINAL\")\n",
    "print(original_text)\n",
    "print(original_headline)\n",
    "\n",
    "print(\"\\nREGEX CLEANING AND STOPWORD REMOVAL:\")\n",
    "print(processed_text[0])\n",
    "# print(brief_cleaned_summary[0])\n",
    "\n",
    "print(\"\\nLEMMATIZATION + START AND END TOKEN\")\n",
    "print(data['text'][0])\n",
    "print(data['headlines'][0])"
   ]
  },
  {
   "cell_type": "code",
   "execution_count": 13,
   "id": "be401438",
   "metadata": {
    "execution": {
     "iopub.execute_input": "2022-03-18T10:55:37.067507Z",
     "iopub.status.busy": "2022-03-18T10:55:37.062322Z",
     "iopub.status.idle": "2022-03-18T10:55:37.215853Z",
     "shell.execute_reply": "2022-03-18T10:55:37.215417Z",
     "shell.execute_reply.started": "2022-03-18T10:30:43.737150Z"
    },
    "id": "Tb68xRjGNP8z",
    "papermill": {
     "duration": 0.216714,
     "end_time": "2022-03-18T10:55:37.215968",
     "exception": false,
     "start_time": "2022-03-18T10:55:36.999254",
     "status": "completed"
    },
    "tags": []
   },
   "outputs": [],
   "source": [
    "headlines_length = [len(x.split()) for x in data.headlines]\n",
    "text_length = [len(x.split()) for x in data.text]"
   ]
  },
  {
   "cell_type": "code",
   "execution_count": 14,
   "id": "67f0ea0e",
   "metadata": {
    "execution": {
     "iopub.execute_input": "2022-03-18T10:55:37.314051Z",
     "iopub.status.busy": "2022-03-18T10:55:37.313504Z",
     "iopub.status.idle": "2022-03-18T10:55:38.151929Z",
     "shell.execute_reply": "2022-03-18T10:55:38.152311Z",
     "shell.execute_reply.started": "2022-03-18T10:30:44.415558Z"
    },
    "id": "4exx0vZpoZDp",
    "outputId": "4fcef4de-8331-4731-b6af-be6b525e8351",
    "papermill": {
     "duration": 0.897011,
     "end_time": "2022-03-18T10:55:38.152457",
     "exception": false,
     "start_time": "2022-03-18T10:55:37.255446",
     "status": "completed"
    },
    "tags": []
   },
   "outputs": [
    {
     "data": {
      "image/png": "[encoded data removed]",
      "text/plain": [
       "<Figure size 720x360 with 2 Axes>"
      ]
     },
     "metadata": {
      "needs_background": "light"
     },
     "output_type": "display_data"
    }
   ],
   "source": [
    "fig, (ax1, ax2) = plt.subplots(1,2, figsize = (10,5))\n",
    "ax1.hist(headlines_length, bins = 20)\n",
    "ax2.hist(text_length, bins = 20)\n",
    "\n",
    "ax1.title.set_text(\"Words in Headlines\")\n",
    "ax2.title.set_text(\"Words in Text\")\n",
    "plt.show()"
   ]
  },
  {
   "cell_type": "markdown",
   "id": "f2af2c83",
   "metadata": {
    "id": "5J6b2-BXoasR",
    "papermill": {
     "duration": 0.040084,
     "end_time": "2022-03-18T10:55:38.232851",
     "exception": false,
     "start_time": "2022-03-18T10:55:38.192767",
     "status": "completed"
    },
    "tags": []
   },
   "source": [
    "### Embedding Matrix from Glove\n"
   ]
  },
  {
   "cell_type": "code",
   "execution_count": 15,
   "id": "ddf546e1",
   "metadata": {
    "execution": {
     "iopub.execute_input": "2022-03-18T10:55:38.316497Z",
     "iopub.status.busy": "2022-03-18T10:55:38.316002Z",
     "iopub.status.idle": "2022-03-18T10:55:38.322175Z",
     "shell.execute_reply": "2022-03-18T10:55:38.322543Z",
     "shell.execute_reply.started": "2022-03-18T10:30:49.536758Z"
    },
    "id": "7vLovzKr0m5S",
    "papermill": {
     "duration": 0.049818,
     "end_time": "2022-03-18T10:55:38.322663",
     "exception": false,
     "start_time": "2022-03-18T10:55:38.272845",
     "status": "completed"
    },
    "tags": []
   },
   "outputs": [],
   "source": [
    "glove_size = 300\n",
    "f = open('../input/glove42b300dtxt/glove.42B.300d.txt')"
   ]
  },
  {
   "cell_type": "code",
   "execution_count": 16,
   "id": "2c8580dd",
   "metadata": {
    "execution": {
     "iopub.execute_input": "2022-03-18T10:55:38.408374Z",
     "iopub.status.busy": "2022-03-18T10:55:38.407889Z",
     "iopub.status.idle": "2022-03-18T10:59:18.386104Z",
     "shell.execute_reply": "2022-03-18T10:59:18.385558Z",
     "shell.execute_reply.started": "2022-03-18T10:30:51.584418Z"
    },
    "id": "KulasZGc0nDp",
    "papermill": {
     "duration": 220.022534,
     "end_time": "2022-03-18T10:59:18.386259",
     "exception": false,
     "start_time": "2022-03-18T10:55:38.363725",
     "status": "completed"
    },
    "tags": []
   },
   "outputs": [],
   "source": [
    "embeddings_index = dict()\n",
    "for line in f:\n",
    "    values = line.split()\n",
    "    embeddings_index[values[0]] = np.asarray(values[1:], dtype='float32')\n",
    "f.close()"
   ]
  },
  {
   "cell_type": "code",
   "execution_count": 17,
   "id": "140f548c",
   "metadata": {
    "execution": {
     "iopub.execute_input": "2022-03-18T10:59:18.507328Z",
     "iopub.status.busy": "2022-03-18T10:59:18.481583Z",
     "iopub.status.idle": "2022-03-18T10:59:19.433912Z",
     "shell.execute_reply": "2022-03-18T10:59:19.434305Z",
     "shell.execute_reply.started": "2022-03-18T10:34:40.344291Z"
    },
    "id": "7JA07ZzL0nhw",
    "outputId": "5535e162-8446-4832-a2e9-82c5eb2dd588",
    "papermill": {
     "duration": 1.006874,
     "end_time": "2022-03-18T10:59:19.434457",
     "exception": false,
     "start_time": "2022-03-18T10:59:18.427583",
     "status": "completed"
    },
    "tags": []
   },
   "outputs": [
    {
     "name": "stdout",
     "output_type": "stream",
     "text": [
      "all the words in the corpus 2235820\n",
      "the unique words in the corpus 64601\n",
      "The number of words that are present in both glove vectors and our corpus are 54725 which is nearly 85.0% \n",
      "word 2 vec length 54725\n"
     ]
    }
   ],
   "source": [
    "words_source_train = []\n",
    "for i in data['text'] :\n",
    "  words_source_train.extend(i.split(' '))\n",
    "\n",
    "print(\"all the words in the corpus\", len(words_source_train))\n",
    "words_source_train = set(words_source_train)\n",
    "print(\"the unique words in the corpus\", len(words_source_train))\n",
    "inter_words = set(embeddings_index.keys()).intersection(words_source_train)\n",
    "print(\"The number of words that are present in both glove vectors and our corpus are {} which \\\n",
    "is nearly {}% \".format(len(inter_words), np.round((float(len(inter_words))/len(words_source_train))\n",
    "*100)))\n",
    "\n",
    "words_corpus_source_train = {}\n",
    "words_glove = set(embeddings_index.keys())\n",
    "for i in words_source_train:\n",
    "  if i in words_glove:\n",
    "    words_corpus_source_train[i] = embeddings_index[i]\n",
    "print(\"word 2 vec length\", len(words_corpus_source_train))"
   ]
  },
  {
   "cell_type": "code",
   "execution_count": 18,
   "id": "386f80fa",
   "metadata": {
    "execution": {
     "iopub.execute_input": "2022-03-18T10:59:19.524388Z",
     "iopub.status.busy": "2022-03-18T10:59:19.523834Z",
     "iopub.status.idle": "2022-03-18T10:59:19.527824Z",
     "shell.execute_reply": "2022-03-18T10:59:19.527214Z",
     "shell.execute_reply.started": "2022-03-18T10:34:41.437266Z"
    },
    "papermill": {
     "duration": 0.052367,
     "end_time": "2022-03-18T10:59:19.527962",
     "exception": false,
     "start_time": "2022-03-18T10:59:19.475595",
     "status": "completed"
    },
    "tags": []
   },
   "outputs": [
    {
     "name": "stdout",
     "output_type": "stream",
     "text": [
      "['', 'shivasimpi', 'kovind', 'insuihkhawm', 'lhendup', 'housecanary', 'yiman', 'yallamma', 'khullam', 'cartosat', 'keranga', 'balakote', 'punalu', 'trillionwhat', 'odartei', 'millionsi', 'microlense', 'avijeet', 'devda', 'rengma']\n"
     ]
    }
   ],
   "source": [
    "print(list(words_source_train - inter_words)[:20])"
   ]
  },
  {
   "cell_type": "code",
   "execution_count": 19,
   "id": "14f6df57",
   "metadata": {
    "execution": {
     "iopub.execute_input": "2022-03-18T10:59:19.646776Z",
     "iopub.status.busy": "2022-03-18T10:59:19.637632Z",
     "iopub.status.idle": "2022-03-18T10:59:20.002629Z",
     "shell.execute_reply": "2022-03-18T10:59:20.002148Z",
     "shell.execute_reply.started": "2022-03-18T10:34:41.447951Z"
    },
    "id": "hT_Ak7qtkv2_",
    "papermill": {
     "duration": 0.432642,
     "end_time": "2022-03-18T10:59:20.002759",
     "exception": false,
     "start_time": "2022-03-18T10:59:19.570117",
     "status": "completed"
    },
    "tags": []
   },
   "outputs": [],
   "source": [
    "def num(text):\n",
    "  words = [w for w in text.split() if not w in inter_words]\n",
    "  return len(words)\n",
    "\n",
    "data['unique_words'] = data['text'].apply(num)"
   ]
  },
  {
   "cell_type": "code",
   "execution_count": 20,
   "id": "233f111e",
   "metadata": {
    "execution": {
     "iopub.execute_input": "2022-03-18T10:59:20.092033Z",
     "iopub.status.busy": "2022-03-18T10:59:20.091244Z",
     "iopub.status.idle": "2022-03-18T10:59:20.097651Z",
     "shell.execute_reply": "2022-03-18T10:59:20.097260Z",
     "shell.execute_reply.started": "2022-03-18T10:34:41.870964Z"
    },
    "papermill": {
     "duration": 0.053832,
     "end_time": "2022-03-18T10:59:20.097782",
     "exception": false,
     "start_time": "2022-03-18T10:59:20.043950",
     "status": "completed"
    },
    "tags": []
   },
   "outputs": [
    {
     "data": {
      "text/plain": [
       "0    35600\n",
       "1    12569\n",
       "2     4532\n",
       "3     1640\n",
       "4      495\n",
       "5      194\n",
       "6       54\n",
       "7       15\n",
       "9        3\n",
       "8        2\n",
       "Name: unique_words, dtype: int64"
      ]
     },
     "execution_count": 20,
     "metadata": {},
     "output_type": "execute_result"
    }
   ],
   "source": [
    "data['unique_words'].value_counts()"
   ]
  },
  {
   "cell_type": "code",
   "execution_count": 21,
   "id": "bdc3770c",
   "metadata": {
    "execution": {
     "iopub.execute_input": "2022-03-18T10:59:20.184662Z",
     "iopub.status.busy": "2022-03-18T10:59:20.184170Z",
     "iopub.status.idle": "2022-03-18T10:59:20.337801Z",
     "shell.execute_reply": "2022-03-18T10:59:20.337353Z",
     "shell.execute_reply.started": "2022-03-18T10:34:41.883716Z"
    },
    "id": "N4RZLvQ00zBN",
    "papermill": {
     "duration": 0.198522,
     "end_time": "2022-03-18T10:59:20.337921",
     "exception": false,
     "start_time": "2022-03-18T10:59:20.139399",
     "status": "completed"
    },
    "tags": []
   },
   "outputs": [],
   "source": [
    "data = data[data['unique_words'] < 4]\n",
    "data.reset_index(inplace=True, drop=True)"
   ]
  },
  {
   "cell_type": "code",
   "execution_count": 22,
   "id": "56340d43",
   "metadata": {
    "execution": {
     "iopub.execute_input": "2022-03-18T10:59:20.433570Z",
     "iopub.status.busy": "2022-03-18T10:59:20.433076Z",
     "iopub.status.idle": "2022-03-18T10:59:20.438102Z",
     "shell.execute_reply": "2022-03-18T10:59:20.437645Z",
     "shell.execute_reply.started": "2022-03-18T10:34:42.043449Z"
    },
    "id": "uF08PoBm1N78",
    "outputId": "b54f44b1-d68b-428c-d37d-37f691f00573",
    "papermill": {
     "duration": 0.057409,
     "end_time": "2022-03-18T10:59:20.438206",
     "exception": false,
     "start_time": "2022-03-18T10:59:20.380797",
     "status": "completed"
    },
    "tags": []
   },
   "outputs": [
    {
     "data": {
      "text/html": [
       "<div>\n",
       "<style scoped>\n",
       "    .dataframe tbody tr th:only-of-type {\n",
       "        vertical-align: middle;\n",
       "    }\n",
       "\n",
       "    .dataframe tbody tr th {\n",
       "        vertical-align: top;\n",
       "    }\n",
       "\n",
       "    .dataframe thead th {\n",
       "        text-align: right;\n",
       "    }\n",
       "</style>\n",
       "<table border=\"1\" class=\"dataframe\">\n",
       "  <thead>\n",
       "    <tr style=\"text-align: right;\">\n",
       "      <th></th>\n",
       "      <th>headlines</th>\n",
       "      <th>text</th>\n",
       "      <th>unique_words</th>\n",
       "    </tr>\n",
       "  </thead>\n",
       "  <tbody>\n",
       "    <tr>\n",
       "      <th>0</th>\n",
       "      <td>_START_ 4 ex-bank officials booked for cheatin...</td>\n",
       "      <td>cbi saturday book four former official syndica...</td>\n",
       "      <td>0</td>\n",
       "    </tr>\n",
       "    <tr>\n",
       "      <th>1</th>\n",
       "      <td>_START_ Supreme Court to go paperless in 6 mon...</td>\n",
       "      <td>chief justice js khehar say supreme court go p...</td>\n",
       "      <td>0</td>\n",
       "    </tr>\n",
       "    <tr>\n",
       "      <th>2</th>\n",
       "      <td>_START_ At least 3 killed, 30 injured in blast...</td>\n",
       "      <td>least three people kill include policeman 30 o...</td>\n",
       "      <td>1</td>\n",
       "    </tr>\n",
       "    <tr>\n",
       "      <th>3</th>\n",
       "      <td>_START_ Why has Reliance been barred from trad...</td>\n",
       "      <td>mukesh ambani lead reliance industries 2007 ri...</td>\n",
       "      <td>0</td>\n",
       "    </tr>\n",
       "    <tr>\n",
       "      <th>4</th>\n",
       "      <td>_START_ Was stopped from entering my own studi...</td>\n",
       "      <td>tv news anchor arnab goswami say tell could pr...</td>\n",
       "      <td>0</td>\n",
       "    </tr>\n",
       "    <tr>\n",
       "      <th>...</th>\n",
       "      <td>...</td>\n",
       "      <td>...</td>\n",
       "      <td>...</td>\n",
       "    </tr>\n",
       "    <tr>\n",
       "      <th>54336</th>\n",
       "      <td>_START_ Sensex loses 400 points to hit 52-week...</td>\n",
       "      <td>track weak cue asian market benchmark sensex w...</td>\n",
       "      <td>1</td>\n",
       "    </tr>\n",
       "    <tr>\n",
       "      <th>54337</th>\n",
       "      <td>_START_ China to inject $91 bn into the money ...</td>\n",
       "      <td>amid grow concern china 39 s economic growth r...</td>\n",
       "      <td>0</td>\n",
       "    </tr>\n",
       "    <tr>\n",
       "      <th>54338</th>\n",
       "      <td>_START_ Ghulam Ali set to make acting debut in...</td>\n",
       "      <td>pakistani ghazal singer ghulam ali soon make a...</td>\n",
       "      <td>1</td>\n",
       "    </tr>\n",
       "    <tr>\n",
       "      <th>54339</th>\n",
       "      <td>_START_ IS acknowledges death of Jihadi John: ...</td>\n",
       "      <td>islamic state acknowledge death 39 jihadi john...</td>\n",
       "      <td>1</td>\n",
       "    </tr>\n",
       "    <tr>\n",
       "      <th>54340</th>\n",
       "      <td>_START_ Cairn to seek $600 mn from India in da...</td>\n",
       "      <td>uk base oil firm cairn energy tuesday say seek...</td>\n",
       "      <td>0</td>\n",
       "    </tr>\n",
       "  </tbody>\n",
       "</table>\n",
       "<p>54341 rows × 3 columns</p>\n",
       "</div>"
      ],
      "text/plain": [
       "                                               headlines  \\\n",
       "0      _START_ 4 ex-bank officials booked for cheatin...   \n",
       "1      _START_ Supreme Court to go paperless in 6 mon...   \n",
       "2      _START_ At least 3 killed, 30 injured in blast...   \n",
       "3      _START_ Why has Reliance been barred from trad...   \n",
       "4      _START_ Was stopped from entering my own studi...   \n",
       "...                                                  ...   \n",
       "54336  _START_ Sensex loses 400 points to hit 52-week...   \n",
       "54337  _START_ China to inject $91 bn into the money ...   \n",
       "54338  _START_ Ghulam Ali set to make acting debut in...   \n",
       "54339  _START_ IS acknowledges death of Jihadi John: ...   \n",
       "54340  _START_ Cairn to seek $600 mn from India in da...   \n",
       "\n",
       "                                                    text  unique_words  \n",
       "0      cbi saturday book four former official syndica...             0  \n",
       "1      chief justice js khehar say supreme court go p...             0  \n",
       "2      least three people kill include policeman 30 o...             1  \n",
       "3      mukesh ambani lead reliance industries 2007 ri...             0  \n",
       "4      tv news anchor arnab goswami say tell could pr...             0  \n",
       "...                                                  ...           ...  \n",
       "54336  track weak cue asian market benchmark sensex w...             1  \n",
       "54337  amid grow concern china 39 s economic growth r...             0  \n",
       "54338  pakistani ghazal singer ghulam ali soon make a...             1  \n",
       "54339  islamic state acknowledge death 39 jihadi john...             1  \n",
       "54340  uk base oil firm cairn energy tuesday say seek...             0  \n",
       "\n",
       "[54341 rows x 3 columns]"
      ]
     },
     "execution_count": 22,
     "metadata": {},
     "output_type": "execute_result"
    }
   ],
   "source": [
    "data"
   ]
  },
  {
   "cell_type": "markdown",
   "id": "426809bd",
   "metadata": {},
   "source": [
    "### Splitting Data"
   ]
  },
  {
   "cell_type": "code",
   "execution_count": 23,
   "id": "30bc685d",
   "metadata": {
    "execution": {
     "iopub.execute_input": "2022-03-18T10:59:20.528533Z",
     "iopub.status.busy": "2022-03-18T10:59:20.527782Z",
     "iopub.status.idle": "2022-03-18T10:59:20.541352Z",
     "shell.execute_reply": "2022-03-18T10:59:20.540892Z",
     "shell.execute_reply.started": "2022-03-18T10:34:48.650552Z"
    },
    "id": "5JaGAWYn7kqR",
    "papermill": {
     "duration": 0.061127,
     "end_time": "2022-03-18T10:59:20.541453",
     "exception": false,
     "start_time": "2022-03-18T10:59:20.480326",
     "status": "completed"
    },
    "tags": []
   },
   "outputs": [],
   "source": [
    "from sklearn.model_selection import train_test_split\n",
    "X_train, X_val, y_train, y_val = train_test_split(data['text'], data['headlines'], test_size = 0.2, random_state = 20)\n",
    "X_test, X_val, y_test, y_val = train_test_split(X_val, y_val, test_size = 0.5, random_state = 20)"
   ]
  },
  {
   "cell_type": "code",
   "execution_count": 24,
   "id": "954461cb",
   "metadata": {
    "execution": {
     "iopub.execute_input": "2022-03-18T10:59:20.631156Z",
     "iopub.status.busy": "2022-03-18T10:59:20.630476Z",
     "iopub.status.idle": "2022-03-18T10:59:20.634618Z",
     "shell.execute_reply": "2022-03-18T10:59:20.633656Z",
     "shell.execute_reply.started": "2022-03-18T10:34:50.076766Z"
    },
    "id": "zhoRlF5L_qwa",
    "papermill": {
     "duration": 0.05119,
     "end_time": "2022-03-18T10:59:20.634764",
     "exception": false,
     "start_time": "2022-03-18T10:59:20.583574",
     "status": "completed"
    },
    "tags": []
   },
   "outputs": [],
   "source": [
    "max_length_x = max(text_length)\n",
    "max_length_y = max(headlines_length)"
   ]
  },
  {
   "cell_type": "markdown",
   "id": "4d278245",
   "metadata": {},
   "source": [
    "### Tokenization"
   ]
  },
  {
   "cell_type": "code",
   "execution_count": 25,
   "id": "639f55fd",
   "metadata": {
    "execution": {
     "iopub.execute_input": "2022-03-18T10:59:20.760123Z",
     "iopub.status.busy": "2022-03-18T10:59:20.749817Z",
     "iopub.status.idle": "2022-03-18T10:59:25.452584Z",
     "shell.execute_reply": "2022-03-18T10:59:25.452119Z",
     "shell.execute_reply.started": "2022-03-18T10:34:54.013437Z"
    },
    "id": "QXQdLrLK0l5B",
    "papermill": {
     "duration": 4.775202,
     "end_time": "2022-03-18T10:59:25.452707",
     "exception": false,
     "start_time": "2022-03-18T10:59:20.677505",
     "status": "completed"
    },
    "tags": []
   },
   "outputs": [],
   "source": [
    "x_t = Tokenizer()\n",
    "x_t.fit_on_texts(data['text'] + data['headlines'])\n",
    "x_vocab_size = len(x_t.word_index) + 1\n",
    "\n",
    "encoded_xtrain = x_t.texts_to_sequences(X_train)\n",
    "encoded_xval = x_t.texts_to_sequences(X_val)\n",
    "encoded_xtest = x_t.texts_to_sequences(X_test)\n",
    "\n",
    "padded_xtrain = pad_sequences(encoded_xtrain, maxlen=max_length_x, padding='post')\n",
    "padded_xval = pad_sequences(encoded_xval, maxlen=max_length_x, padding='post')\n",
    "padded_xtest = pad_sequences(encoded_xtest, maxlen=max_length_x, padding='post')"
   ]
  },
  {
   "cell_type": "code",
   "execution_count": 26,
   "id": "83d9ce13",
   "metadata": {
    "execution": {
     "iopub.execute_input": "2022-03-18T10:59:25.591538Z",
     "iopub.status.busy": "2022-03-18T10:59:25.576257Z",
     "iopub.status.idle": "2022-03-18T10:59:28.656531Z",
     "shell.execute_reply": "2022-03-18T10:59:28.655605Z",
     "shell.execute_reply.started": "2022-03-18T10:34:58.979058Z"
    },
    "id": "n7SVsptTNPtP",
    "papermill": {
     "duration": 3.160936,
     "end_time": "2022-03-18T10:59:28.656685",
     "exception": false,
     "start_time": "2022-03-18T10:59:25.495749",
     "status": "completed"
    },
    "tags": []
   },
   "outputs": [],
   "source": [
    "y_t = Tokenizer()\n",
    "y_t.fit_on_texts(data['headlines'])\n",
    "y_vocab_size = len(y_t.word_index) + 1\n",
    "\n",
    "encoded_ytrain = y_t.texts_to_sequences(y_train)\n",
    "encoded_yval = y_t.texts_to_sequences(y_val)\n",
    "encoded_ytest = y_t.texts_to_sequences(y_test)\n",
    "\n",
    "padded_ytrain = pad_sequences(encoded_ytrain, maxlen=max_length_y, padding='post')\n",
    "padded_yval = pad_sequences(encoded_yval, maxlen=max_length_y, padding='post')\n",
    "padded_ytest = pad_sequences(encoded_ytest, maxlen=max_length_y, padding='post')"
   ]
  },
  {
   "cell_type": "code",
   "execution_count": 27,
   "id": "e84397c5",
   "metadata": {
    "execution": {
     "iopub.execute_input": "2022-03-18T10:59:28.747429Z",
     "iopub.status.busy": "2022-03-18T10:59:28.746583Z",
     "iopub.status.idle": "2022-03-18T10:59:28.971603Z",
     "shell.execute_reply": "2022-03-18T10:59:28.971123Z",
     "shell.execute_reply.started": "2022-03-18T10:35:01.793435Z"
    },
    "id": "rM-974HV0nKo",
    "outputId": "6aa27890-eaf7-4e0f-e594-8057efa18be6",
    "papermill": {
     "duration": 0.272508,
     "end_time": "2022-03-18T10:59:28.971747",
     "exception": false,
     "start_time": "2022-03-18T10:59:28.699239",
     "status": "completed"
    },
    "tags": []
   },
   "outputs": [
    {
     "name": "stdout",
     "output_type": "stream",
     "text": [
      "Loaded 1917494 word vectors.\n"
     ]
    }
   ],
   "source": [
    "print('Loaded %s word vectors.' % len(embeddings_index))\n",
    "\n",
    "embedding_matrix = np.zeros((x_vocab_size, glove_size))\n",
    "for word, i in x_t.word_index.items():\n",
    "\tembedding_vector = embeddings_index.get(word)\n",
    "\tif embedding_vector is not None:\n",
    "\t\tembedding_matrix[i] = embedding_vector"
   ]
  },
  {
   "cell_type": "markdown",
   "id": "f108bb0c",
   "metadata": {
    "id": "99aPNL7dqnfh",
    "papermill": {
     "duration": 0.042895,
     "end_time": "2022-03-18T10:59:29.057828",
     "exception": false,
     "start_time": "2022-03-18T10:59:29.014933",
     "status": "completed"
    },
    "tags": []
   },
   "source": [
    "### Building Model"
   ]
  },
  {
   "cell_type": "code",
   "execution_count": 29,
   "id": "40d34f53",
   "metadata": {
    "execution": {
     "iopub.execute_input": "2022-03-18T10:59:29.253762Z",
     "iopub.status.busy": "2022-03-18T10:59:29.253047Z",
     "iopub.status.idle": "2022-03-18T10:59:29.255841Z",
     "shell.execute_reply": "2022-03-18T10:59:29.255415Z",
     "shell.execute_reply.started": "2022-03-18T10:49:03.792822Z"
    },
    "papermill": {
     "duration": 0.053303,
     "end_time": "2022-03-18T10:59:29.255951",
     "exception": false,
     "start_time": "2022-03-18T10:59:29.202648",
     "status": "completed"
    },
    "tags": []
   },
   "outputs": [],
   "source": [
    "class BahdanauAttention(tf.keras.layers.Layer):\n",
    "  def __init__(self, units, verbose=0):\n",
    "    super(BahdanauAttention, self).__init__()\n",
    "    self.W1 = tf.keras.layers.Dense(units)\n",
    "    self.W2 = tf.keras.layers.Dense(units)\n",
    "    self.V = tf.keras.layers.Dense(1)\n",
    "    self.verbose= verbose\n",
    "\n",
    "  def call(self, query, values):\n",
    "    if self.verbose:\n",
    "      print('\\n******* Bahdanau Attention STARTS******')\n",
    "      print('query (decoder hidden state): (batch_size, hidden size) ', query.shape)\n",
    "      print('values (encoder all hidden state): (batch_size, max_len, hidden size) ', values.shape)\n",
    "\n",
    "    # query hidden state shape == (batch_size, hidden size)\n",
    "    # query_with_time_axis shape == (batch_size, 1, hidden size)\n",
    "    # values shape == (batch_size, max_len, hidden size)\n",
    "    # we are doing this to broadcast addition along the time axis to calculate the score\n",
    "    query_with_time_axis = tf.expand_dims(query, 1)\n",
    "    \n",
    "    if self.verbose:\n",
    "      print('query_with_time_axis:(batch_size, 1, hidden size) ', query_with_time_axis.shape)\n",
    "\n",
    "    # score shape == (batch_size, max_length, 1)\n",
    "    # we get 1 at the last axis because we are applying score to self.V\n",
    "    # the shape of the tensor before applying self.V is (batch_size, max_length, units)\n",
    "    score = self.V(tf.nn.tanh(\n",
    "        self.W1(query_with_time_axis) + self.W2(values)))\n",
    "    if self.verbose:\n",
    "      print('score: (batch_size, max_length, 1) ',score.shape)\n",
    "    # attention_weights shape == (batch_size, max_length, 1)\n",
    "    attention_weights = tf.nn.softmax(score, axis=1)\n",
    "    if self.verbose:\n",
    "      print('attention_weights: (batch_size, max_length, 1) ',attention_weights.shape)\n",
    "    # context_vector shape after sum == (batch_size, hidden_size)\n",
    "    context_vector = attention_weights * values\n",
    "    if self.verbose:\n",
    "      print('context_vector before reduce_sum: (batch_size, max_length, hidden_size) ',context_vector.shape)\n",
    "    context_vector = tf.reduce_sum(context_vector, axis=1)\n",
    "    if self.verbose:\n",
    "      print('context_vector after reduce_sum: (batch_size, hidden_size) ',context_vector.shape)\n",
    "      print('\\n******* Bahdanau Attention ENDS******')\n",
    "    return context_vector, attention_weights"
   ]
  },
  {
   "cell_type": "code",
   "execution_count": 30,
   "id": "c3b30547",
   "metadata": {
    "execution": {
     "iopub.execute_input": "2022-03-18T10:59:29.349609Z",
     "iopub.status.busy": "2022-03-18T10:59:29.349118Z",
     "iopub.status.idle": "2022-03-18T10:59:33.622519Z",
     "shell.execute_reply": "2022-03-18T10:59:33.621878Z",
     "shell.execute_reply.started": "2022-03-18T10:50:02.384798Z"
    },
    "papermill": {
     "duration": 4.324012,
     "end_time": "2022-03-18T10:59:33.622640",
     "exception": false,
     "start_time": "2022-03-18T10:59:29.298628",
     "status": "completed"
    },
    "tags": []
   },
   "outputs": [
    {
     "name": "stdout",
     "output_type": "stream",
     "text": [
      "Model: \"model\"\n",
      "__________________________________________________________________________________________________\n",
      "Layer (type)                    Output Shape         Param #     Connected to                     \n",
      "==================================================================================================\n",
      "input_1 (InputLayer)            [(None, 71)]         0                                            \n",
      "__________________________________________________________________________________________________\n",
      "embedding (Embedding)           (None, 71, 300)      20726400    input_1[0][0]                    \n",
      "__________________________________________________________________________________________________\n",
      "lstm (LSTM)                     [(None, 71, 500), (N 1602000     embedding[0][0]                  \n",
      "__________________________________________________________________________________________________\n",
      "input_2 (InputLayer)            [(None, None)]       0                                            \n",
      "__________________________________________________________________________________________________\n",
      "lstm_1 (LSTM)                   [(None, 71, 500), (N 2002000     lstm[0][0]                       \n",
      "__________________________________________________________________________________________________\n",
      "embedding_1 (Embedding)         (None, None, 300)    20726400    input_2[0][0]                    \n",
      "__________________________________________________________________________________________________\n",
      "lstm_2 (LSTM)                   [(None, 71, 500), (N 2002000     lstm_1[0][0]                     \n",
      "__________________________________________________________________________________________________\n",
      "lstm_3 (LSTM)                   [(None, None, 500),  1602000     embedding_1[0][0]                \n",
      "                                                                 lstm_2[0][1]                     \n",
      "                                                                 lstm_2[0][2]                     \n",
      "__________________________________________________________________________________________________\n",
      "bahdanau_attention (BahdanauAtt ((None, 71, 500), (N 250751      lstm_3[0][0]                     \n",
      "                                                                 lstm_2[0][0]                     \n",
      "__________________________________________________________________________________________________\n",
      "concat_layer (Concatenate)      (None, 71, 1000)     0           lstm_3[0][0]                     \n",
      "                                                                 bahdanau_attention[0][0]         \n",
      "__________________________________________________________________________________________________\n",
      "time_distributed (TimeDistribut (None, 71, 29309)    29338309    concat_layer[0][0]               \n",
      "==================================================================================================\n",
      "Total params: 78,249,860\n",
      "Trainable params: 36,797,060\n",
      "Non-trainable params: 41,452,800\n",
      "__________________________________________________________________________________________________\n",
      "None\n"
     ]
    }
   ],
   "source": [
    "latent_dim=500\n",
    "\n",
    "K.clear_session() \n",
    "\n",
    "encoder_inputs = Input(shape=(max_length_x,)) \n",
    "enc_emb = Embedding(x_vocab_size, glove_size, weights=[embedding_matrix],input_length=max_length_x, trainable=False)(encoder_inputs) \n",
    "\n",
    "#LSTM \n",
    "encoder_lstm1 = LSTM(latent_dim,return_sequences=True,return_state=True) \n",
    "encoder_output1, state_h1, state_c1 = encoder_lstm1(enc_emb) \n",
    "encoder_lstm2 = LSTM(latent_dim,return_sequences=True,return_state=True) \n",
    "encoder_output2, state_h2, state_c2 = encoder_lstm2(encoder_output1) \n",
    "encoder_lstm3 = LSTM(latent_dim, return_state=True, return_sequences=True) \n",
    "encoder_outputs, state_h, state_c= encoder_lstm3(encoder_output2) \n",
    "\n",
    "# Decoder. \n",
    "decoder_inputs = Input(shape=(None,)) \n",
    "dec_emb_layer = Embedding(x_vocab_size, glove_size, weights=[embedding_matrix],input_length=max_length_x, trainable=False) \n",
    "dec_emb = dec_emb_layer(decoder_inputs) \n",
    "\n",
    "#LSTM using encoder_states as initial state\n",
    "decoder_lstm = LSTM(latent_dim, return_sequences=True, return_state=True) \n",
    "decoder_outputs,decoder_fwd_state, decoder_back_state = decoder_lstm(dec_emb,initial_state=[state_h, state_c]) \n",
    "\n",
    "#Attention Layer\n",
    "# attn_layer = AttentionLayer(name='attention_layer')\n",
    "attn_layer = BahdanauAttention(250, verbose=0)\n",
    "attn_out, attn_states = attn_layer(decoder_outputs, encoder_outputs)\n",
    "# attn_out, attn_states = attn_layer([encoder_outputs, decoder_outputs]) \n",
    "\n",
    "decoder_concat_input = Concatenate(axis=-1, name='concat_layer')([decoder_outputs, attn_out])\n",
    "decoder_dense = TimeDistributed(Dense(y_vocab_size, activation='softmax')) \n",
    "decoder_outputs = decoder_dense(decoder_concat_input) \n",
    "\n",
    "model = Model([encoder_inputs, decoder_inputs], decoder_outputs) \n",
    "print(model.summary())"
   ]
  },
  {
   "cell_type": "code",
   "execution_count": 32,
   "id": "3c1bee03",
   "metadata": {
    "execution": {
     "iopub.execute_input": "2022-03-18T10:59:35.966638Z",
     "iopub.status.busy": "2022-03-18T10:59:35.965516Z",
     "iopub.status.idle": "2022-03-18T11:50:31.227169Z",
     "shell.execute_reply": "2022-03-18T11:50:31.226666Z",
     "shell.execute_reply.started": "2022-03-18T10:49:12.598495Z"
    },
    "id": "4fUJoaFAiwUb",
    "outputId": "4bc22143-d3ed-4b87-e2e6-c44f3034a816",
    "papermill": {
     "duration": 3055.317023,
     "end_time": "2022-03-18T11:50:31.227303",
     "exception": false,
     "start_time": "2022-03-18T10:59:35.910280",
     "status": "completed"
    },
    "tags": []
   },
   "outputs": [
    {
     "name": "stdout",
     "output_type": "stream",
     "text": [
      "Epoch 1/50\n",
      "85/85 [==============================] - 75s 732ms/step - loss: 5.8014 - val_loss: 4.8089\n",
      "Epoch 2/50\n",
      "85/85 [==============================] - 61s 713ms/step - loss: 4.6766 - val_loss: 4.5444\n",
      "Epoch 3/50\n",
      "85/85 [==============================] - 60s 712ms/step - loss: 4.3812 - val_loss: 4.2469\n",
      "Epoch 4/50\n",
      "85/85 [==============================] - 60s 712ms/step - loss: 4.0366 - val_loss: 4.0621\n",
      "Epoch 5/50\n",
      "85/85 [==============================] - 60s 712ms/step - loss: 3.7175 - val_loss: 3.8562\n",
      "Epoch 6/50\n",
      "85/85 [==============================] - 61s 713ms/step - loss: 3.4404 - val_loss: 3.7480\n",
      "Epoch 7/50\n",
      "85/85 [==============================] - 61s 712ms/step - loss: 3.2189 - val_loss: 3.6552\n",
      "Epoch 8/50\n",
      "85/85 [==============================] - 61s 713ms/step - loss: 3.0049 - val_loss: 3.6267\n",
      "Epoch 9/50\n",
      "85/85 [==============================] - 61s 713ms/step - loss: 2.8074 - val_loss: 3.5664\n",
      "Epoch 10/50\n",
      "85/85 [==============================] - 61s 712ms/step - loss: 2.6283 - val_loss: 3.5464\n",
      "Epoch 11/50\n",
      "85/85 [==============================] - 61s 713ms/step - loss: 2.4565 - val_loss: 3.5129\n",
      "Epoch 12/50\n",
      "85/85 [==============================] - 61s 713ms/step - loss: 2.2900 - val_loss: 3.5029\n",
      "Epoch 13/50\n",
      "85/85 [==============================] - 61s 712ms/step - loss: 2.1240 - val_loss: 3.4944\n",
      "Epoch 14/50\n",
      "85/85 [==============================] - 60s 712ms/step - loss: 1.9658 - val_loss: 3.4932\n",
      "Epoch 15/50\n",
      "85/85 [==============================] - 61s 712ms/step - loss: 1.8274 - val_loss: 3.4849\n",
      "Epoch 16/50\n",
      "85/85 [==============================] - 61s 712ms/step - loss: 1.6949 - val_loss: 3.5024\n",
      "Epoch 17/50\n",
      "85/85 [==============================] - 61s 712ms/step - loss: 1.5680 - val_loss: 3.5173\n",
      "Epoch 18/50\n",
      "85/85 [==============================] - 61s 712ms/step - loss: 1.4517 - val_loss: 3.5285\n",
      "Epoch 19/50\n",
      "85/85 [==============================] - 61s 713ms/step - loss: 1.3347 - val_loss: 3.5466\n",
      "Epoch 20/50\n",
      "85/85 [==============================] - 61s 712ms/step - loss: 1.2401 - val_loss: 3.5781\n",
      "Epoch 21/50\n",
      "85/85 [==============================] - 61s 713ms/step - loss: 1.1447 - val_loss: 3.5981\n",
      "Epoch 22/50\n",
      "85/85 [==============================] - 61s 713ms/step - loss: 1.0518 - val_loss: 3.6259\n",
      "Epoch 23/50\n",
      "85/85 [==============================] - 61s 713ms/step - loss: 0.9656 - val_loss: 3.6561\n",
      "Epoch 24/50\n",
      "85/85 [==============================] - 61s 713ms/step - loss: 0.8891 - val_loss: 3.6935\n",
      "Epoch 25/50\n",
      "85/85 [==============================] - 61s 713ms/step - loss: 0.8165 - val_loss: 3.7412\n",
      "Epoch 26/50\n",
      "85/85 [==============================] - 60s 712ms/step - loss: 0.7463 - val_loss: 3.7701\n",
      "Epoch 27/50\n",
      "85/85 [==============================] - 61s 713ms/step - loss: 0.6840 - val_loss: 3.8142\n",
      "Epoch 28/50\n",
      "85/85 [==============================] - 61s 713ms/step - loss: 0.6222 - val_loss: 3.8348\n",
      "Epoch 29/50\n",
      "85/85 [==============================] - 61s 713ms/step - loss: 0.5630 - val_loss: 3.8949\n",
      "Epoch 30/50\n",
      "85/85 [==============================] - 61s 712ms/step - loss: 0.5136 - val_loss: 3.9173\n",
      "Epoch 31/50\n",
      "85/85 [==============================] - 61s 712ms/step - loss: 0.4677 - val_loss: 3.9810\n",
      "Epoch 32/50\n",
      "85/85 [==============================] - 61s 712ms/step - loss: 0.4184 - val_loss: 3.9969\n",
      "Epoch 33/50\n",
      "85/85 [==============================] - 61s 712ms/step - loss: 0.3766 - val_loss: 4.0615\n",
      "Epoch 34/50\n",
      "85/85 [==============================] - 61s 712ms/step - loss: 0.3394 - val_loss: 4.1078\n",
      "Epoch 35/50\n",
      "85/85 [==============================] - 60s 712ms/step - loss: 0.3027 - val_loss: 4.1745\n",
      "Epoch 36/50\n",
      "85/85 [==============================] - 61s 712ms/step - loss: 0.2706 - val_loss: 4.1892\n",
      "Epoch 37/50\n",
      "85/85 [==============================] - 61s 713ms/step - loss: 0.2430 - val_loss: 4.2339\n",
      "Epoch 38/50\n",
      "85/85 [==============================] - 61s 713ms/step - loss: 0.2125 - val_loss: 4.2696\n",
      "Epoch 39/50\n",
      "85/85 [==============================] - 61s 712ms/step - loss: 0.1929 - val_loss: 4.3333\n",
      "Epoch 40/50\n",
      "85/85 [==============================] - 61s 712ms/step - loss: 0.1704 - val_loss: 4.3642\n",
      "Epoch 41/50\n",
      "85/85 [==============================] - 61s 713ms/step - loss: 0.1518 - val_loss: 4.4160\n",
      "Epoch 42/50\n",
      "85/85 [==============================] - 60s 712ms/step - loss: 0.1350 - val_loss: 4.4780\n",
      "Epoch 43/50\n",
      "85/85 [==============================] - 61s 712ms/step - loss: 0.1205 - val_loss: 4.4749\n",
      "Epoch 44/50\n",
      "85/85 [==============================] - 61s 712ms/step - loss: 0.1099 - val_loss: 4.5113\n",
      "Epoch 45/50\n",
      "85/85 [==============================] - 61s 713ms/step - loss: 0.0982 - val_loss: 4.5495\n",
      "Epoch 46/50\n",
      "85/85 [==============================] - 60s 712ms/step - loss: 0.0879 - val_loss: 4.5671\n",
      "Epoch 47/50\n",
      "85/85 [==============================] - 60s 712ms/step - loss: 0.0807 - val_loss: 4.6213\n",
      "Epoch 48/50\n",
      "85/85 [==============================] - 60s 712ms/step - loss: 0.0737 - val_loss: 4.6495\n",
      "Epoch 49/50\n",
      "85/85 [==============================] - 61s 712ms/step - loss: 0.0662 - val_loss: 4.6632\n",
      "Epoch 50/50\n",
      "85/85 [==============================] - 60s 712ms/step - loss: 0.0620 - val_loss: 4.7225\n"
     ]
    }
   ],
   "source": [
    "model.compile(optimizer='rmsprop', loss='sparse_categorical_crossentropy')\n",
    "checkpoint_filepath = './model.{epoch:02d}-{val_loss:.2f}.h5'\n",
    "model_checkpoint_callback = tf.keras.callbacks.ModelCheckpoint(filepath=checkpoint_filepath,save_weights_only=True,monitor='val_loss',mode='min',save_best_only=True, save_freq = \"epoch\")\n",
    "es = EarlyStopping(monitor='val_loss', mode='min', verbose=1, patience=4)\n",
    "history=model.fit(\n",
    "    [padded_xtrain,padded_ytrain[:,:-1]], \n",
    "    padded_ytrain.reshape(padded_ytrain.shape[0],padded_ytrain.shape[1], 1)[:,1:], \n",
    "    epochs=50,\n",
    "    batch_size=512, \n",
    "    validation_data=([padded_xval,padded_yval[:,:-1]], padded_yval.reshape(padded_yval.shape[0],padded_yval.shape[1], 1)[:,1:]), \n",
    "    callbacks=[model_checkpoint_callback])"
   ]
  },
  {
   "cell_type": "code",
   "execution_count": 33,
   "id": "bc4f8a44",
   "metadata": {
    "execution": {
     "iopub.execute_input": "2022-03-18T11:50:33.654050Z",
     "iopub.status.busy": "2022-03-18T11:50:33.653482Z",
     "iopub.status.idle": "2022-03-18T11:50:33.768579Z",
     "shell.execute_reply": "2022-03-18T11:50:33.767812Z",
     "shell.execute_reply.started": "2022-03-18T10:43:57.004023Z"
    },
    "id": "JQf1v5WhqLLg",
    "outputId": "f5bfa510-79c7-465e-e371-ea5b36198da9",
    "papermill": {
     "duration": 1.368541,
     "end_time": "2022-03-18T11:50:33.768706",
     "exception": false,
     "start_time": "2022-03-18T11:50:32.400165",
     "status": "completed"
    },
    "tags": []
   },
   "outputs": [
    {
     "data": {
      "image/png": "[encoded data removed]",
      "text/plain": [
       "<Figure size 432x288 with 1 Axes>"
      ]
     },
     "metadata": {
      "needs_background": "light"
     },
     "output_type": "display_data"
    }
   ],
   "source": [
    "from matplotlib import pyplot \n",
    "pyplot.plot(history.history['loss'], label='train') \n",
    "pyplot.plot(history.history['val_loss'], label='test') \n",
    "pyplot.legend() \n",
    "pyplot.show()"
   ]
  },
  {
   "cell_type": "markdown",
   "id": "cda6a3ae",
   "metadata": {
    "id": "PZ0W3VZorHVK",
    "papermill": {
     "duration": 1.176521,
     "end_time": "2022-03-18T11:50:41.970511",
     "exception": false,
     "start_time": "2022-03-18T11:50:40.793990",
     "status": "completed"
    },
    "tags": []
   },
   "source": [
    "### Inference"
   ]
  },
  {
   "cell_type": "code",
   "execution_count": 36,
   "id": "4c231897",
   "metadata": {
    "execution": {
     "iopub.execute_input": "2022-03-18T11:50:44.494142Z",
     "iopub.status.busy": "2022-03-18T11:50:44.493226Z",
     "iopub.status.idle": "2022-03-18T11:50:44.496412Z",
     "shell.execute_reply": "2022-03-18T11:50:44.495918Z",
     "shell.execute_reply.started": "2022-03-18T10:44:00.072762Z"
    },
    "id": "UlSTzEbnskcd",
    "papermill": {
     "duration": 1.38126,
     "end_time": "2022-03-18T11:50:44.496530",
     "exception": false,
     "start_time": "2022-03-18T11:50:43.115270",
     "status": "completed"
    },
    "tags": []
   },
   "outputs": [],
   "source": [
    "reverse_target_word_index = y_t.index_word \n",
    "reverse_source_word_index = x_t.index_word \n",
    "target_word_index = y_t.word_index"
   ]
  },
  {
   "cell_type": "code",
   "execution_count": 37,
   "id": "eff8cbe7",
   "metadata": {
    "execution": {
     "iopub.execute_input": "2022-03-18T11:50:47.073017Z",
     "iopub.status.busy": "2022-03-18T11:50:47.072182Z",
     "iopub.status.idle": "2022-03-18T11:50:47.345711Z",
     "shell.execute_reply": "2022-03-18T11:50:47.347334Z",
     "shell.execute_reply.started": "2022-03-18T10:44:02.428329Z"
    },
    "id": "thX0Ep0Ssnd1",
    "papermill": {
     "duration": 1.663083,
     "end_time": "2022-03-18T11:50:47.347475",
     "exception": false,
     "start_time": "2022-03-18T11:50:45.684392",
     "status": "completed"
    },
    "tags": []
   },
   "outputs": [],
   "source": [
    "encoder_model = Model(inputs=encoder_inputs,outputs=[encoder_outputs, state_h, state_c])\n",
    "decoder_state_input_h = Input(shape=(latent_dim,))\n",
    "decoder_state_input_c = Input(shape=(latent_dim,))\n",
    "decoder_hidden_state_input = Input(shape=(max_length_x,latent_dim))\n",
    "\n",
    "dec_emb2= dec_emb_layer(decoder_inputs)\n",
    "decoder_outputs2, state_h2, state_c2 = decoder_lstm(dec_emb2, initial_state=[decoder_state_input_h, decoder_state_input_c])\n",
    "\n",
    "attn_out_inf, attn_states_inf = attn_layer([decoder_hidden_state_input, decoder_outputs2])\n",
    "decoder_inf_concat = Concatenate(axis=-1, name='concat')([decoder_outputs2, attn_out_inf])\n",
    "\n",
    "decoder_outputs2 = decoder_dense(decoder_inf_concat)\n",
    "\n",
    "decoder_model = Model(\n",
    "[decoder_inputs] + [decoder_hidden_state_input,decoder_state_input_h, decoder_state_input_c],\n",
    "[decoder_outputs2] + [state_h2, state_c2])"
   ]
  },
  {
   "cell_type": "code",
   "execution_count": 38,
   "id": "4f28553a",
   "metadata": {
    "execution": {
     "iopub.execute_input": "2022-03-18T11:50:49.720546Z",
     "iopub.status.busy": "2022-03-18T11:50:49.719698Z",
     "iopub.status.idle": "2022-03-18T11:50:49.722144Z",
     "shell.execute_reply": "2022-03-18T11:50:49.722512Z",
     "shell.execute_reply.started": "2022-03-18T10:44:02.978758Z"
    },
    "id": "wtU0wU8gsuz1",
    "papermill": {
     "duration": 1.235756,
     "end_time": "2022-03-18T11:50:49.722648",
     "exception": false,
     "start_time": "2022-03-18T11:50:48.486892",
     "status": "completed"
    },
    "tags": []
   },
   "outputs": [],
   "source": [
    "def decode_sequence(input_seq):\n",
    "    input_seq= input_seq.reshape(1,max_length_x)\n",
    "    e_out, e_h, e_c = encoder_model.predict(input_seq)\n",
    "    target_seq = np.zeros((1,1))\n",
    "    target_seq[0, 0] = target_word_index['start']\n",
    "\n",
    "    stop_condition = False\n",
    "    decoded_sentence = ''\n",
    "    while not stop_condition:\n",
    "        output_tokens, h, c = decoder_model.predict([target_seq] + [e_out, e_h, e_c])\n",
    "\n",
    "        sampled_token_index = np.argmax(output_tokens[0, -1, :])\n",
    "        sampled_token = reverse_target_word_index[sampled_token_index]\n",
    "  \n",
    "        if(sampled_token!='end'):\n",
    "            decoded_sentence += ' '+sampled_token\n",
    " \n",
    "        if (sampled_token == 'end' or len(decoded_sentence.split()) >= (max_length_y-1)):\n",
    "                stop_condition = True\n",
    "\n",
    "        target_seq = np.zeros((1,1))\n",
    "        target_seq[0, 0] = sampled_token_index\n",
    "        e_h, e_c = h, c\n",
    "\n",
    "    return decoded_sentence"
   ]
  },
  {
   "cell_type": "code",
   "execution_count": 39,
   "id": "51ea3258",
   "metadata": {
    "execution": {
     "iopub.execute_input": "2022-03-18T11:50:52.075942Z",
     "iopub.status.busy": "2022-03-18T11:50:52.075140Z",
     "iopub.status.idle": "2022-03-18T11:50:52.077954Z",
     "shell.execute_reply": "2022-03-18T11:50:52.077538Z",
     "shell.execute_reply.started": "2022-03-18T10:44:03.762139Z"
    },
    "id": "cLyRVENRs2Ay",
    "papermill": {
     "duration": 1.215294,
     "end_time": "2022-03-18T11:50:52.078065",
     "exception": false,
     "start_time": "2022-03-18T11:50:50.862771",
     "status": "completed"
    },
    "tags": []
   },
   "outputs": [],
   "source": [
    "def seq2summary(input_seq):\n",
    "    newString=''\n",
    "    for i in input_seq:\n",
    "      if((i!=0 and i!=target_word_index['start']) and i!=target_word_index['end']):\n",
    "        newString=newString+reverse_target_word_index[i]+' '\n",
    "    return newString\n",
    "\n",
    "def seq2text(input_seq):\n",
    "    newString=''\n",
    "    for i in input_seq:\n",
    "      if(i!=0):\n",
    "        newString=newString+reverse_source_word_index[i]+' '\n",
    "    return newString"
   ]
  },
  {
   "cell_type": "code",
   "execution_count": 40,
   "id": "96bfb8bd",
   "metadata": {},
   "outputs": [
    {
     "name": "stdout",
     "output_type": "stream",
     "text": [
      "Review: goa bjp mlas state 39 s party legislature meeting sunday pass resolution make union minister manohar parrikar state chief minister mlas also write letter bjp president amit shah request send parrikar back goa bjp reportedly claim get support goa forward party mgp \n",
      "Original summary: goa bjp mlas pass resolution to make parrikar cm \n",
      "Predicted summary:  goa bjp mlas pass resolution to make cm cm\n"
     ]
    }
   ],
   "source": [
    "print(\"Review:\",seq2text(padded_xtest[12]))\n",
    "print(\"Original summary:\",seq2summary(padded_ytest[12]))\n",
    "print(\"Predicted summary:\",decode_sequence(padded_xtest[12]))"
   ]
  },
  {
   "cell_type": "code",
   "execution_count": 41,
   "id": "4ffb09a2",
   "metadata": {},
   "outputs": [
    {
     "name": "stdout",
     "output_type": "stream",
     "text": [
      "Review: cbi name total 22 senior railway officer list people doubtful integrity cbi report officer reportedly remove posting involve take decision relate financial matter far three continue hold post purportedly withdraw 39 financial power 39 \n",
      "Original summary: 22 rly officers in cbi 39 s doubtful integrity list \n",
      "Predicted summary:  22 rly officers in cbi 39 s doubtful integrity list\n"
     ]
    }
   ],
   "source": [
    "print(\"Review:\",seq2text(padded_xtest[54]))\n",
    "print(\"Original summary:\",seq2summary(padded_ytest[54]))\n",
    "print(\"Predicted summary:\",decode_sequence(padded_xtest[54]))"
   ]
  },
  {
   "cell_type": "code",
   "execution_count": 42,
   "id": "e37f8c64",
   "metadata": {},
   "outputs": [
    {
     "name": "stdout",
     "output_type": "stream",
     "text": [
      "Review: music streaming service soundcloud wednesday launch radio feature station allow user create customized radio station base preferred artist song create new radio station user search term track content stream tap 39 start station 39 option feature live android ios \n",
      "Original summary: soundcloud launches radio feature stations \n",
      "Predicted summary:  soundcloud launches radio feature stations\n"
     ]
    }
   ],
   "source": [
    "print(\"Review:\",seq2text(padded_xtest[64]))\n",
    "print(\"Original summary:\",seq2summary(padded_ytest[64]))\n",
    "print(\"Predicted summary:\",decode_sequence(padded_xtest[64]))"
   ]
  },
  {
   "cell_type": "markdown",
   "id": "b8b62cce",
   "metadata": {
    "id": "v3Sfc9a422Rg",
    "papermill": {
     "duration": 1.191857,
     "end_time": "2022-03-18T11:51:27.892547",
     "exception": false,
     "start_time": "2022-03-18T11:51:26.700690",
     "status": "completed"
    },
    "tags": []
   },
   "source": [
    "### Evaluation"
   ]
  },
  {
   "cell_type": "code",
   "execution_count": 43,
   "id": "eca1a8ce",
   "metadata": {
    "execution": {
     "iopub.execute_input": "2022-03-18T11:51:31.091553Z",
     "iopub.status.busy": "2022-03-18T11:51:31.090517Z",
     "iopub.status.idle": "2022-03-18T11:51:31.093622Z",
     "shell.execute_reply": "2022-03-18T11:51:31.093139Z",
     "shell.execute_reply.started": "2022-03-18T10:44:59.583714Z"
    },
    "papermill": {
     "duration": 2.040234,
     "end_time": "2022-03-18T11:51:31.093764",
     "exception": false,
     "start_time": "2022-03-18T11:51:29.053530",
     "status": "completed"
    },
    "tags": []
   },
   "outputs": [],
   "source": [
    "def BLEU_Score(y_test, y_pred):\n",
    "    references = [[seq2summary(y_test).split(\" \")]]\n",
    "    candidates = [decode_sequence(y_pred.reshape(1,max_length_x)).split(\" \")]\n",
    "    return corpus_bleu(references, candidates)"
   ]
  },
  {
   "cell_type": "code",
   "execution_count": 44,
   "id": "c77b41fe",
   "metadata": {
    "execution": {
     "iopub.execute_input": "2022-03-18T11:51:33.441077Z",
     "iopub.status.busy": "2022-03-18T11:51:33.440289Z",
     "iopub.status.idle": "2022-03-18T11:55:23.019464Z",
     "shell.execute_reply": "2022-03-18T11:55:23.019948Z",
     "shell.execute_reply.started": "2022-03-18T10:44:59.770175Z"
    },
    "papermill": {
     "duration": 230.738802,
     "end_time": "2022-03-18T11:55:23.020090",
     "exception": false,
     "start_time": "2022-03-18T11:51:32.281288",
     "status": "completed"
    },
    "tags": []
   },
   "outputs": [
    {
     "name": "stdout",
     "output_type": "stream",
     "text": [
      "0.720142375892875\n"
     ]
    }
   ],
   "source": [
    "from nltk.translate.bleu_score import corpus_bleu\n",
    "scores=[]\n",
    "for i in range(0,500):\n",
    "    scores.append(BLEU_Score(padded_ytest[i],padded_xtest[i]))\n",
    "    \n",
    "print(np.mean(scores))"
   ]
  }
 ],
 "metadata": {
  "kernelspec": {
   "display_name": "Python 3",
   "language": "python",
   "name": "python3"
  },
  "language_info": {
   "codemirror_mode": {
    "name": "ipython",
    "version": 3
   },
   "file_extension": ".py",
   "mimetype": "text/x-python",
   "name": "python",
   "nbconvert_exporter": "python",
   "pygments_lexer": "ipython3",
   "version": "3.8.3"
  },
  "papermill": {
   "default_parameters": {},
   "duration": 3824.843941,
   "end_time": "2022-03-18T11:55:40.051482",
   "environment_variables": {},
   "exception": null,
   "input_path": "__notebook__.ipynb",
   "output_path": "__notebook__.ipynb",
   "parameters": {},
   "start_time": "2022-03-18T10:51:55.207541",
   "version": "2.3.3"
  }
 },
 "nbformat": 4,
 "nbformat_minor": 5
}
