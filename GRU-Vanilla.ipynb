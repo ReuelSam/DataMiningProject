{
 "cells": [
  {
   "cell_type": "markdown",
   "metadata": {},
   "source": [
    "# Abstractive Text Summarization - GRU Vanilla"
   ]
  },
  {
   "cell_type": "code",
   "execution_count": 1,
   "metadata": {
    "execution": {
     "iopub.execute_input": "2022-01-17T13:17:53.031639Z",
     "iopub.status.busy": "2022-01-17T13:17:53.031305Z",
     "iopub.status.idle": "2022-01-17T13:17:56.732758Z",
     "shell.execute_reply": "2022-01-17T13:17:56.732019Z",
     "shell.execute_reply.started": "2022-01-17T13:17:53.031583Z"
    }
   },
   "outputs": [
    {
     "name": "stdout",
     "output_type": "stream",
     "text": [
      "[nltk_data] Downloading package stopwords to /usr/share/nltk_data...\n",
      "[nltk_data]   Unzipping corpora/stopwords.zip.\n"
     ]
    },
    {
     "name": "stderr",
     "output_type": "stream",
     "text": [
      "Using TensorFlow backend.\n"
     ]
    }
   ],
   "source": [
    "import re\n",
    "import os\n",
    "import numpy as np\n",
    "import pandas as pd\n",
    "import matplotlib.pyplot as plt\n",
    "\n",
    "import nltk\n",
    "nltk.download('stopwords')\n",
    "from nltk.corpus import stopwords\n",
    "from keras.preprocessing.text import Tokenizer\n",
    "from keras.preprocessing.sequence import pad_sequences\n",
    "\n",
    "import tensorflow as tf\n",
    "from tensorflow.keras.layers import Input, LSTM, Embedding, Dense, Concatenate, TimeDistributed, Bidirectional, GRU\n",
    "from tensorflow.keras.models import Model\n",
    "from tensorflow.keras.callbacks import EarlyStopping\n",
    "from keras import backend as K \n",
    "from tensorflow.python.keras.layers import Layer"
   ]
  },
  {
   "cell_type": "code",
   "execution_count": 2,
   "metadata": {
    "execution": {
     "iopub.execute_input": "2022-01-17T13:17:57.727925Z",
     "iopub.status.busy": "2022-01-17T13:17:57.727618Z",
     "iopub.status.idle": "2022-01-17T13:18:03.665980Z",
     "shell.execute_reply": "2022-01-17T13:18:03.665179Z",
     "shell.execute_reply.started": "2022-01-17T13:17:57.727869Z"
    }
   },
   "outputs": [
    {
     "name": "stdout",
     "output_type": "stream",
     "text": [
      "Requirement already satisfied: openpyxl in /opt/conda/lib/python3.6/site-packages (2.6.3)\r\n",
      "Requirement already satisfied: jdcal in /opt/conda/lib/python3.6/site-packages (from openpyxl) (1.4.1)\r\n",
      "Requirement already satisfied: et-xmlfile in /opt/conda/lib/python3.6/site-packages (from openpyxl) (1.0.1)\r\n"
     ]
    }
   ],
   "source": [
    "!pip install openpyxl"
   ]
  },
  {
   "cell_type": "markdown",
   "metadata": {},
   "source": [
    "### Importing Data"
   ]
  },
  {
   "cell_type": "code",
   "execution_count": 3,
   "metadata": {
    "execution": {
     "iopub.execute_input": "2022-01-17T13:18:06.195480Z",
     "iopub.status.busy": "2022-01-17T13:18:06.195186Z",
     "iopub.status.idle": "2022-01-17T13:18:14.164805Z",
     "shell.execute_reply": "2022-01-17T13:18:14.164018Z",
     "shell.execute_reply.started": "2022-01-17T13:18:06.195432Z"
    }
   },
   "outputs": [],
   "source": [
    "data = pd.read_excel('../input/inshorts-news-data/Inshorts Cleaned Data.xlsx')"
   ]
  },
  {
   "cell_type": "code",
   "execution_count": 4,
   "metadata": {
    "execution": {
     "iopub.execute_input": "2022-01-17T13:18:15.243612Z",
     "iopub.status.busy": "2022-01-17T13:18:15.243089Z",
     "iopub.status.idle": "2022-01-17T13:18:15.283769Z",
     "shell.execute_reply": "2022-01-17T13:18:15.282951Z",
     "shell.execute_reply.started": "2022-01-17T13:18:15.243399Z"
    }
   },
   "outputs": [
    {
     "data": {
      "text/html": [
       "<div>\n",
       "<style scoped>\n",
       "    .dataframe tbody tr th:only-of-type {\n",
       "        vertical-align: middle;\n",
       "    }\n",
       "\n",
       "    .dataframe tbody tr th {\n",
       "        vertical-align: top;\n",
       "    }\n",
       "\n",
       "    .dataframe thead th {\n",
       "        text-align: right;\n",
       "    }\n",
       "</style>\n",
       "<table border=\"1\" class=\"dataframe\">\n",
       "  <thead>\n",
       "    <tr style=\"text-align: right;\">\n",
       "      <th></th>\n",
       "      <th>Headline</th>\n",
       "      <th>Short</th>\n",
       "    </tr>\n",
       "  </thead>\n",
       "  <tbody>\n",
       "    <tr>\n",
       "      <td>0</td>\n",
       "      <td>4 ex-bank officials booked for cheating bank o...</td>\n",
       "      <td>The CBI on Saturday booked four former officia...</td>\n",
       "    </tr>\n",
       "    <tr>\n",
       "      <td>1</td>\n",
       "      <td>Supreme Court to go paperless in 6 months: CJI</td>\n",
       "      <td>Chief Justice JS Khehar has said the Supreme C...</td>\n",
       "    </tr>\n",
       "    <tr>\n",
       "      <td>2</td>\n",
       "      <td>At least 3 killed, 30 injured in blast in Sylh...</td>\n",
       "      <td>At least three people were killed, including a...</td>\n",
       "    </tr>\n",
       "    <tr>\n",
       "      <td>3</td>\n",
       "      <td>Why has Reliance been barred from trading in f...</td>\n",
       "      <td>Mukesh Ambani-led Reliance Industries (RIL) wa...</td>\n",
       "    </tr>\n",
       "    <tr>\n",
       "      <td>4</td>\n",
       "      <td>Was stopped from entering my own studio at Tim...</td>\n",
       "      <td>TV news anchor Arnab Goswami has said he was t...</td>\n",
       "    </tr>\n",
       "  </tbody>\n",
       "</table>\n",
       "</div>"
      ],
      "text/plain": [
       "                                            Headline  \\\n",
       "0  4 ex-bank officials booked for cheating bank o...   \n",
       "1     Supreme Court to go paperless in 6 months: CJI   \n",
       "2  At least 3 killed, 30 injured in blast in Sylh...   \n",
       "3  Why has Reliance been barred from trading in f...   \n",
       "4  Was stopped from entering my own studio at Tim...   \n",
       "\n",
       "                                               Short  \n",
       "0  The CBI on Saturday booked four former officia...  \n",
       "1  Chief Justice JS Khehar has said the Supreme C...  \n",
       "2  At least three people were killed, including a...  \n",
       "3  Mukesh Ambani-led Reliance Industries (RIL) wa...  \n",
       "4  TV news anchor Arnab Goswami has said he was t...  "
      ]
     },
     "execution_count": 4,
     "metadata": {},
     "output_type": "execute_result"
    }
   ],
   "source": [
    "data.drop(['Source ', 'Time ', 'Publish Date'], axis=1, inplace=True)\n",
    "data.head()"
   ]
  },
  {
   "cell_type": "markdown",
   "metadata": {},
   "source": [
    "### Punctuation and Stopword Removal"
   ]
  },
  {
   "cell_type": "code",
   "execution_count": 5,
   "metadata": {
    "execution": {
     "iopub.execute_input": "2022-01-17T13:18:18.672070Z",
     "iopub.status.busy": "2022-01-17T13:18:18.671749Z",
     "iopub.status.idle": "2022-01-17T13:18:18.682984Z",
     "shell.execute_reply": "2022-01-17T13:18:18.682049Z",
     "shell.execute_reply.started": "2022-01-17T13:18:18.672018Z"
    }
   },
   "outputs": [],
   "source": [
    "stop_words = stopwords.words('english')\n",
    "\n",
    "def preprocess(text):\n",
    "    text = text.lower()\n",
    "    \n",
    "    tokens = [w for w in text.split() if not w in stop_words]\n",
    "    text = \" \".join(tokens)\n",
    "    text = text.replace(\"'s\",'')\n",
    "    text = text.replace(\".\",'')\n",
    "    text = re.sub(r'\\(.*\\)','',text)\n",
    "    text = re.sub(r'[^a-zA-Z0-9. ]',' ',text)\n",
    "    text = re.sub(r'\\.','. ',text)\n",
    "    text = re.sub(r'\\s+', ' ', text)\n",
    "    return text"
   ]
  },
  {
   "cell_type": "markdown",
   "metadata": {},
   "source": [
    "### Lemmatization"
   ]
  },
  {
   "cell_type": "code",
   "execution_count": 6,
   "metadata": {
    "execution": {
     "iopub.execute_input": "2022-01-17T13:18:20.730926Z",
     "iopub.status.busy": "2022-01-17T13:18:20.730625Z",
     "iopub.status.idle": "2022-01-17T13:18:22.913502Z",
     "shell.execute_reply": "2022-01-17T13:18:22.912759Z",
     "shell.execute_reply.started": "2022-01-17T13:18:20.730871Z"
    }
   },
   "outputs": [],
   "source": [
    "import spacy\n",
    "\n",
    "nlp = spacy.load('en_core_web_sm', disable=['parser', 'ner'])\n",
    "allowed_postags = ['NOUN', 'ADJ', 'VERB', 'ADV']\n",
    "def lemmatize_text(text):\n",
    "    doc = nlp(text)\n",
    "    return ' '.join([token.lemma_ for token in doc])"
   ]
  },
  {
   "cell_type": "code",
   "execution_count": 7,
   "metadata": {
    "execution": {
     "iopub.execute_input": "2022-01-17T13:18:23.650997Z",
     "iopub.status.busy": "2022-01-17T13:18:23.650687Z",
     "iopub.status.idle": "2022-01-17T13:18:23.660809Z",
     "shell.execute_reply": "2022-01-17T13:18:23.660072Z",
     "shell.execute_reply.started": "2022-01-17T13:18:23.650948Z"
    }
   },
   "outputs": [],
   "source": [
    "data.rename(columns={'Headline': 'headlines', 'Short': 'text'}, inplace=True)"
   ]
  },
  {
   "cell_type": "code",
   "execution_count": 8,
   "metadata": {
    "execution": {
     "iopub.execute_input": "2022-01-17T13:18:24.930030Z",
     "iopub.status.busy": "2022-01-17T13:18:24.929731Z",
     "iopub.status.idle": "2022-01-17T13:18:24.938794Z",
     "shell.execute_reply": "2022-01-17T13:18:24.937887Z",
     "shell.execute_reply.started": "2022-01-17T13:18:24.929981Z"
    }
   },
   "outputs": [],
   "source": [
    "original_text = str(data['text'][0])\n",
    "original_headline = str(data['headlines'][0])"
   ]
  },
  {
   "cell_type": "code",
   "execution_count": 9,
   "metadata": {
    "execution": {
     "iopub.execute_input": "2022-01-17T13:18:25.994220Z",
     "iopub.status.busy": "2022-01-17T13:18:25.993880Z",
     "iopub.status.idle": "2022-01-17T13:22:14.570788Z",
     "shell.execute_reply": "2022-01-17T13:22:14.569991Z",
     "shell.execute_reply.started": "2022-01-17T13:18:25.994169Z"
    }
   },
   "outputs": [
    {
     "name": "stdout",
     "output_type": "stream",
     "text": [
      "Summary:\n",
      "_START_ 4 ex-bank officials booked for cheating bank of ₹209 crore _END_\n",
      "Text:\n",
      "cbi saturday book four former official syndicate bank six other cheat forgery criminal conspiracy cause 209 crore loss state run bank accuse avail home loan credit syndicate bank basis forge fabricated document fund fraudulently transfer company own accuse person\n",
      "\n",
      "Summary:\n",
      "_START_ Supreme Court to go paperless in 6 months: CJI _END_\n",
      "Text:\n",
      "chief justice js khehar say supreme court go paperless six seven month bid save fund make judiciary eco friendly say apex court collect record electronically low court high court need file hard copy\n",
      "\n"
     ]
    }
   ],
   "source": [
    "processed_text = data['text'].apply(preprocess)\n",
    "data['text'] = processed_text.apply(lemmatize_text)\n",
    "data['headlines'] = data['headlines'].apply(lambda x : '_START_ '+ x + ' _END_')\n",
    "\n",
    "for i in range(2):\n",
    "    print('Summary:', data['headlines'][i],'Text:', data['text'][i], sep='\\n')\n",
    "    print()"
   ]
  },
  {
   "cell_type": "markdown",
   "metadata": {},
   "source": [
    "### Sample Input"
   ]
  },
  {
   "cell_type": "code",
   "execution_count": 10,
   "metadata": {
    "execution": {
     "iopub.execute_input": "2022-01-17T13:22:27.300701Z",
     "iopub.status.busy": "2022-01-17T13:22:27.300387Z",
     "iopub.status.idle": "2022-01-17T13:22:27.307576Z",
     "shell.execute_reply": "2022-01-17T13:22:27.306290Z",
     "shell.execute_reply.started": "2022-01-17T13:22:27.300653Z"
    }
   },
   "outputs": [
    {
     "name": "stdout",
     "output_type": "stream",
     "text": [
      "\n",
      "ORIGINAL\n",
      "The CBI on Saturday booked four former officials of Syndicate Bank and six others for cheating, forgery, criminal conspiracy and causing ₹209 crore loss to the state-run bank. The accused had availed home loans and credit from Syndicate Bank on the basis of forged and fabricated documents. These funds were fraudulently transferred to the companies owned by the accused persons.\n",
      "4 ex-bank officials booked for cheating bank of ₹209 crore\n",
      "\n",
      "REGEX CLEANING AND STOPWORD REMOVAL:\n",
      "cbi saturday booked four former officials syndicate bank six others cheating forgery criminal conspiracy causing 209 crore loss state run bank accused availed home loans credit syndicate bank basis forged fabricated documents funds fraudulently transferred companies owned accused persons\n",
      "\n",
      "LEMMATIZATION + START AND END TOKEN\n",
      "cbi saturday book four former official syndicate bank six other cheat forgery criminal conspiracy cause 209 crore loss state run bank accuse avail home loan credit syndicate bank basis forge fabricated document fund fraudulently transfer company own accuse person\n",
      "_START_ 4 ex-bank officials booked for cheating bank of ₹209 crore _END_\n"
     ]
    }
   ],
   "source": [
    "print(\"\\nORIGINAL\")\n",
    "print(original_text)\n",
    "print(original_headline)\n",
    "\n",
    "print(\"\\nREGEX CLEANING AND STOPWORD REMOVAL:\")\n",
    "print(processed_text[0])\n",
    "# print(brief_cleaned_summary[0])\n",
    "\n",
    "print(\"\\nLEMMATIZATION + START AND END TOKEN\")\n",
    "print(data['text'][0])\n",
    "print(data['headlines'][0])"
   ]
  },
  {
   "cell_type": "code",
   "execution_count": 11,
   "metadata": {
    "execution": {
     "iopub.execute_input": "2022-01-17T13:22:28.358744Z",
     "iopub.status.busy": "2022-01-17T13:22:28.358399Z",
     "iopub.status.idle": "2022-01-17T13:22:28.728576Z",
     "shell.execute_reply": "2022-01-17T13:22:28.727748Z",
     "shell.execute_reply.started": "2022-01-17T13:22:28.358700Z"
    }
   },
   "outputs": [],
   "source": [
    "headlines_length = [len(x.split()) for x in data.headlines]\n",
    "text_length = [len(x.split()) for x in data.text]"
   ]
  },
  {
   "cell_type": "code",
   "execution_count": 12,
   "metadata": {
    "execution": {
     "iopub.execute_input": "2022-01-17T13:22:31.192766Z",
     "iopub.status.busy": "2022-01-17T13:22:31.192495Z",
     "iopub.status.idle": "2022-01-17T13:22:31.198798Z",
     "shell.execute_reply": "2022-01-17T13:22:31.197754Z",
     "shell.execute_reply.started": "2022-01-17T13:22:31.192722Z"
    }
   },
   "outputs": [],
   "source": [
    "max_length_x = max(text_length)\n",
    "max_length_y = max(headlines_length)"
   ]
  },
  {
   "cell_type": "code",
   "execution_count": 13,
   "metadata": {
    "execution": {
     "iopub.execute_input": "2022-01-17T13:23:27.673210Z",
     "iopub.status.busy": "2022-01-17T13:23:27.672758Z",
     "iopub.status.idle": "2022-01-17T13:23:27.678686Z",
     "shell.execute_reply": "2022-01-17T13:23:27.677613Z",
     "shell.execute_reply.started": "2022-01-17T13:23:27.673134Z"
    }
   },
   "outputs": [
    {
     "name": "stdout",
     "output_type": "stream",
     "text": [
      "71\n",
      "16\n"
     ]
    }
   ],
   "source": [
    "print(max_length_x)\n",
    "print(max_length_y)"
   ]
  },
  {
   "cell_type": "code",
   "execution_count": 14,
   "metadata": {
    "execution": {
     "iopub.execute_input": "2022-01-17T13:22:33.159672Z",
     "iopub.status.busy": "2022-01-17T13:22:33.159354Z",
     "iopub.status.idle": "2022-01-17T13:22:33.579204Z",
     "shell.execute_reply": "2022-01-17T13:22:33.578500Z",
     "shell.execute_reply.started": "2022-01-17T13:22:33.159622Z"
    }
   },
   "outputs": [
    {
     "data": {
      "image/png": "[encoded data removed]",
      "text/plain": [
       "<Figure size 720x360 with 2 Axes>"
      ]
     },
     "metadata": {
      "needs_background": "light"
     },
     "output_type": "display_data"
    }
   ],
   "source": [
    "fig, (ax1, ax2) = plt.subplots(1,2, figsize = (10,5))\n",
    "ax1.hist(headlines_length, bins = 20)\n",
    "ax2.hist(text_length, bins = 20)\n",
    "\n",
    "ax1.title.set_text(\"Words in Headlines\")\n",
    "ax2.title.set_text(\"Words in Text\")\n",
    "plt.show()"
   ]
  },
  {
   "cell_type": "code",
   "execution_count": 15,
   "metadata": {
    "execution": {
     "iopub.execute_input": "2022-01-17T13:22:34.921314Z",
     "iopub.status.busy": "2022-01-17T13:22:34.921008Z",
     "iopub.status.idle": "2022-01-17T13:22:34.927725Z",
     "shell.execute_reply": "2022-01-17T13:22:34.926923Z",
     "shell.execute_reply.started": "2022-01-17T13:22:34.921261Z"
    }
   },
   "outputs": [],
   "source": [
    "# #Model to summarize the text between 0-15 words for Summary and 0-100 words for Text\n",
    "# max_text_len=80\n",
    "# max_summary_len=20"
   ]
  },
  {
   "cell_type": "code",
   "execution_count": 16,
   "metadata": {
    "execution": {
     "iopub.execute_input": "2022-01-17T13:23:00.551170Z",
     "iopub.status.busy": "2022-01-17T13:23:00.550744Z",
     "iopub.status.idle": "2022-01-17T13:23:00.939222Z",
     "shell.execute_reply": "2022-01-17T13:23:00.938361Z",
     "shell.execute_reply.started": "2022-01-17T13:23:00.551104Z"
    }
   },
   "outputs": [],
   "source": [
    "#Select the Summaries and Text between max len defined above\n",
    "\n",
    "cleaned_text =np.array(data['text'])\n",
    "cleaned_summary=np.array(data['headlines'])\n",
    "\n",
    "short_text=[]\n",
    "short_summary=[]\n",
    "\n",
    "for i in range(len(cleaned_text)):\n",
    "    if(len(cleaned_summary[i].split())<=max_length_y and len(cleaned_text[i].split())<=max_length_x):\n",
    "        short_text.append(cleaned_text[i])\n",
    "        short_summary.append(cleaned_summary[i])\n",
    "        \n",
    "post_pre=pd.DataFrame({'text':short_text,'summary':short_summary})"
   ]
  },
  {
   "cell_type": "code",
   "execution_count": 17,
   "metadata": {
    "execution": {
     "iopub.execute_input": "2022-01-17T13:23:05.999779Z",
     "iopub.status.busy": "2022-01-17T13:23:05.999498Z",
     "iopub.status.idle": "2022-01-17T13:23:06.012026Z",
     "shell.execute_reply": "2022-01-17T13:23:06.011063Z",
     "shell.execute_reply.started": "2022-01-17T13:23:05.999730Z"
    }
   },
   "outputs": [
    {
     "data": {
      "text/html": [
       "<div>\n",
       "<style scoped>\n",
       "    .dataframe tbody tr th:only-of-type {\n",
       "        vertical-align: middle;\n",
       "    }\n",
       "\n",
       "    .dataframe tbody tr th {\n",
       "        vertical-align: top;\n",
       "    }\n",
       "\n",
       "    .dataframe thead th {\n",
       "        text-align: right;\n",
       "    }\n",
       "</style>\n",
       "<table border=\"1\" class=\"dataframe\">\n",
       "  <thead>\n",
       "    <tr style=\"text-align: right;\">\n",
       "      <th></th>\n",
       "      <th>text</th>\n",
       "      <th>summary</th>\n",
       "    </tr>\n",
       "  </thead>\n",
       "  <tbody>\n",
       "    <tr>\n",
       "      <td>0</td>\n",
       "      <td>cbi saturday book four former official syndica...</td>\n",
       "      <td>_START_ 4 ex-bank officials booked for cheatin...</td>\n",
       "    </tr>\n",
       "    <tr>\n",
       "      <td>1</td>\n",
       "      <td>chief justice js khehar say supreme court go p...</td>\n",
       "      <td>_START_ Supreme Court to go paperless in 6 mon...</td>\n",
       "    </tr>\n",
       "  </tbody>\n",
       "</table>\n",
       "</div>"
      ],
      "text/plain": [
       "                                                text  \\\n",
       "0  cbi saturday book four former official syndica...   \n",
       "1  chief justice js khehar say supreme court go p...   \n",
       "\n",
       "                                             summary  \n",
       "0  _START_ 4 ex-bank officials booked for cheatin...  \n",
       "1  _START_ Supreme Court to go paperless in 6 mon...  "
      ]
     },
     "execution_count": 17,
     "metadata": {},
     "output_type": "execute_result"
    }
   ],
   "source": [
    "post_pre.head(2)"
   ]
  },
  {
   "cell_type": "markdown",
   "metadata": {},
   "source": [
    "### Splitting Data"
   ]
  },
  {
   "cell_type": "code",
   "execution_count": 18,
   "metadata": {
    "execution": {
     "iopub.execute_input": "2022-01-17T13:23:44.162089Z",
     "iopub.status.busy": "2022-01-17T13:23:44.161651Z",
     "iopub.status.idle": "2022-01-17T13:23:44.193274Z",
     "shell.execute_reply": "2022-01-17T13:23:44.192620Z",
     "shell.execute_reply.started": "2022-01-17T13:23:44.161998Z"
    }
   },
   "outputs": [],
   "source": [
    "from sklearn.model_selection import train_test_split\n",
    "x_tr,x_val,y_tr,y_val=train_test_split(np.array(post_pre['text']),np.array(post_pre['summary']),test_size=0.1,random_state=0,shuffle=True)\n",
    "x_tr,x_test,y_tr,y_test=train_test_split(x_tr, y_tr, test_size=0.1,random_state=0,shuffle=True)"
   ]
  },
  {
   "cell_type": "markdown",
   "metadata": {},
   "source": [
    "### Tokenization"
   ]
  },
  {
   "cell_type": "code",
   "execution_count": 19,
   "metadata": {
    "execution": {
     "iopub.execute_input": "2022-01-17T13:23:45.763654Z",
     "iopub.status.busy": "2022-01-17T13:23:45.763366Z",
     "iopub.status.idle": "2022-01-17T13:23:47.663240Z",
     "shell.execute_reply": "2022-01-17T13:23:47.662544Z",
     "shell.execute_reply.started": "2022-01-17T13:23:45.763604Z"
    }
   },
   "outputs": [],
   "source": [
    "from keras.preprocessing.text import Tokenizer \n",
    "from keras.preprocessing.sequence import pad_sequences\n",
    "\n",
    "x_tokenizer = Tokenizer() \n",
    "x_tokenizer.fit_on_texts(list(x_tr))"
   ]
  },
  {
   "cell_type": "markdown",
   "metadata": {},
   "source": [
    "**RARE WORD ANALYSIS FOR X i.e 'text'**\n",
    "* tot_cnt gives the size of vocabulary (which means every unique words in the text)\n",
    "\n",
    "* cnt gives me the no. of rare words whose count falls below threshold\n",
    "\n",
    "* tot_cnt - cnt gives me the top most common words"
   ]
  },
  {
   "cell_type": "code",
   "execution_count": 20,
   "metadata": {
    "execution": {
     "iopub.execute_input": "2022-01-17T13:23:49.504775Z",
     "iopub.status.busy": "2022-01-17T13:23:49.504490Z",
     "iopub.status.idle": "2022-01-17T13:23:49.549610Z",
     "shell.execute_reply": "2022-01-17T13:23:49.549002Z",
     "shell.execute_reply.started": "2022-01-17T13:23:49.504725Z"
    }
   },
   "outputs": [
    {
     "name": "stdout",
     "output_type": "stream",
     "text": [
      "% of rare words in vocabulary: 63.80863005540416\n",
      "Total Coverage of rare words: 2.8141709087975917\n"
     ]
    }
   ],
   "source": [
    "thresh=4\n",
    "\n",
    "cnt=0\n",
    "tot_cnt=0\n",
    "freq=0\n",
    "tot_freq=0\n",
    "\n",
    "for key,value in x_tokenizer.word_counts.items():\n",
    "    tot_cnt=tot_cnt+1\n",
    "    tot_freq=tot_freq+value\n",
    "    if(value<thresh):\n",
    "        cnt=cnt+1\n",
    "        freq=freq+value\n",
    "    \n",
    "print(\"% of rare words in vocabulary:\",(cnt/tot_cnt)*100)\n",
    "print(\"Total Coverage of rare words:\",(freq/tot_freq)*100)"
   ]
  },
  {
   "cell_type": "code",
   "execution_count": 21,
   "metadata": {
    "execution": {
     "iopub.execute_input": "2022-01-17T13:23:50.707579Z",
     "iopub.status.busy": "2022-01-17T13:23:50.707294Z",
     "iopub.status.idle": "2022-01-17T13:23:55.343315Z",
     "shell.execute_reply": "2022-01-17T13:23:55.342617Z",
     "shell.execute_reply.started": "2022-01-17T13:23:50.707533Z"
    }
   },
   "outputs": [
    {
     "name": "stdout",
     "output_type": "stream",
     "text": [
      "Size of vocabulary in X = 20055\n"
     ]
    }
   ],
   "source": [
    "\n",
    "# prepare a tokenizer for reviews on training data\n",
    "x_tokenizer = Tokenizer(num_words=tot_cnt-cnt) \n",
    "x_tokenizer.fit_on_texts(list(x_tr))\n",
    "\n",
    "# convert text sequences into integer sequences (i.e one-hot encodeing all the words)\n",
    "x_tr_seq    =   x_tokenizer.texts_to_sequences(x_tr) \n",
    "x_val_seq   =   x_tokenizer.texts_to_sequences(x_val)\n",
    "x_test_seq   =   x_tokenizer.texts_to_sequences(x_test)\n",
    "\n",
    "\n",
    "# padding zero upto maximum length\n",
    "x_tr    =   pad_sequences(x_tr_seq,  maxlen=max_length_x, padding='post')\n",
    "x_val   =   pad_sequences(x_val_seq, maxlen=max_length_x, padding='post')\n",
    "x_test   =   pad_sequences(x_test_seq, maxlen=max_length_x, padding='post')\n",
    "\n",
    "\n",
    "# size of vocabulary ( +1 for padding token)\n",
    "x_voc   =  x_tokenizer.num_words + 1\n",
    "\n",
    "print(\"Size of vocabulary in X = {}\".format(x_voc))"
   ]
  },
  {
   "cell_type": "markdown",
   "metadata": {},
   "source": [
    "**RARE WORD ANALYSIS FOR Y i.e 'summary'**\n",
    "* tot_cnt gives the size of vocabulary (which means every unique words in the text)\n",
    "\n",
    "* cnt gives me the no. of rare words whose count falls below threshold\n",
    "\n",
    "* tot_cnt - cnt gives me the top most common words"
   ]
  },
  {
   "cell_type": "code",
   "execution_count": 22,
   "metadata": {
    "execution": {
     "iopub.execute_input": "2022-01-17T13:23:56.496387Z",
     "iopub.status.busy": "2022-01-17T13:23:56.496080Z",
     "iopub.status.idle": "2022-01-17T13:23:57.436484Z",
     "shell.execute_reply": "2022-01-17T13:23:57.435772Z",
     "shell.execute_reply.started": "2022-01-17T13:23:56.496333Z"
    }
   },
   "outputs": [],
   "source": [
    "# prepare a tokenizer for reviews on training data\n",
    "y_tokenizer = Tokenizer()   \n",
    "y_tokenizer.fit_on_texts(list(y_tr))"
   ]
  },
  {
   "cell_type": "code",
   "execution_count": 23,
   "metadata": {
    "execution": {
     "iopub.execute_input": "2022-01-17T13:23:58.219667Z",
     "iopub.status.busy": "2022-01-17T13:23:58.219380Z",
     "iopub.status.idle": "2022-01-17T13:23:58.245389Z",
     "shell.execute_reply": "2022-01-17T13:23:58.244408Z",
     "shell.execute_reply.started": "2022-01-17T13:23:58.219619Z"
    }
   },
   "outputs": [
    {
     "name": "stdout",
     "output_type": "stream",
     "text": [
      "% of rare words in vocabulary: 72.0510095642933\n",
      "Total Coverage of rare words: 7.214802792017371\n"
     ]
    }
   ],
   "source": [
    "thresh=6\n",
    "\n",
    "cnt=0\n",
    "tot_cnt=0\n",
    "freq=0\n",
    "tot_freq=0\n",
    "\n",
    "for key,value in y_tokenizer.word_counts.items():\n",
    "    tot_cnt=tot_cnt+1\n",
    "    tot_freq=tot_freq+value\n",
    "    if(value<thresh):\n",
    "        cnt=cnt+1\n",
    "        freq=freq+value\n",
    "    \n",
    "print(\"% of rare words in vocabulary:\",(cnt/tot_cnt)*100)\n",
    "print(\"Total Coverage of rare words:\",(freq/tot_freq)*100)"
   ]
  },
  {
   "cell_type": "code",
   "execution_count": 24,
   "metadata": {
    "execution": {
     "iopub.execute_input": "2022-01-17T13:23:59.308822Z",
     "iopub.status.busy": "2022-01-17T13:23:59.308536Z",
     "iopub.status.idle": "2022-01-17T13:24:01.795735Z",
     "shell.execute_reply": "2022-01-17T13:24:01.794905Z",
     "shell.execute_reply.started": "2022-01-17T13:23:59.308774Z"
    }
   },
   "outputs": [
    {
     "name": "stdout",
     "output_type": "stream",
     "text": [
      "Size of vocabulary in Y = 7628\n"
     ]
    }
   ],
   "source": [
    "# prepare a tokenizer for reviews on training data\n",
    "y_tokenizer = Tokenizer(num_words=tot_cnt-cnt) \n",
    "y_tokenizer.fit_on_texts(list(y_tr))\n",
    "\n",
    "# convert text sequences into integer sequences (i.e one hot encode the text in Y)\n",
    "y_tr_seq    =   y_tokenizer.texts_to_sequences(y_tr) \n",
    "y_val_seq   =   y_tokenizer.texts_to_sequences(y_val)\n",
    "y_test_seq   =   y_tokenizer.texts_to_sequences(y_test) \n",
    "\n",
    "\n",
    "# padding zero upto maximum length\n",
    "y_tr    =   pad_sequences(y_tr_seq, maxlen=max_length_y, padding='post')\n",
    "y_val   =   pad_sequences(y_val_seq, maxlen=max_length_y, padding='post')\n",
    "y_test   =   pad_sequences(y_test_seq, maxlen=max_length_y, padding='post')\n",
    "\n",
    "\n",
    "# size of vocabulary\n",
    "y_voc  =   y_tokenizer.num_words +1\n",
    "print(\"Size of vocabulary in Y = {}\".format(y_voc))"
   ]
  },
  {
   "cell_type": "markdown",
   "metadata": {},
   "source": [
    "We will now remove \"Summary\" i.e Y (both train and val) which has only _START_ and _END_"
   ]
  },
  {
   "cell_type": "code",
   "execution_count": 25,
   "metadata": {
    "execution": {
     "iopub.execute_input": "2022-01-17T13:24:01.797890Z",
     "iopub.status.busy": "2022-01-17T13:24:01.797424Z",
     "iopub.status.idle": "2022-01-17T13:24:03.917431Z",
     "shell.execute_reply": "2022-01-17T13:24:03.916611Z",
     "shell.execute_reply.started": "2022-01-17T13:24:01.797825Z"
    }
   },
   "outputs": [],
   "source": [
    "ind=[]\n",
    "for i in range(len(y_tr)):\n",
    "    cnt=0\n",
    "    for j in y_tr[i]:\n",
    "        if j!=0:\n",
    "            cnt=cnt+1\n",
    "    if(cnt==2):\n",
    "        ind.append(i)\n",
    "\n",
    "y_tr=np.delete(y_tr,ind, axis=0)\n",
    "x_tr=np.delete(x_tr,ind, axis=0)"
   ]
  },
  {
   "cell_type": "code",
   "execution_count": 26,
   "metadata": {
    "execution": {
     "iopub.execute_input": "2022-01-17T13:24:03.918990Z",
     "iopub.status.busy": "2022-01-17T13:24:03.918690Z",
     "iopub.status.idle": "2022-01-17T13:24:04.186928Z",
     "shell.execute_reply": "2022-01-17T13:24:04.186261Z",
     "shell.execute_reply.started": "2022-01-17T13:24:03.918945Z"
    }
   },
   "outputs": [],
   "source": [
    "ind=[]\n",
    "for i in range(len(y_val)):\n",
    "    cnt=0\n",
    "    for j in y_val[i]:\n",
    "        if j!=0:\n",
    "            cnt=cnt+1\n",
    "    if(cnt==2):\n",
    "        ind.append(i)\n",
    "\n",
    "y_val=np.delete(y_val,ind, axis=0)\n",
    "x_val=np.delete(x_val,ind, axis=0)"
   ]
  },
  {
   "cell_type": "markdown",
   "metadata": {},
   "source": [
    "### Building Model"
   ]
  },
  {
   "cell_type": "code",
   "execution_count": 28,
   "metadata": {
    "execution": {
     "iopub.execute_input": "2022-01-17T13:24:27.634844Z",
     "iopub.status.busy": "2022-01-17T13:24:27.634549Z",
     "iopub.status.idle": "2022-01-17T13:24:27.640168Z",
     "shell.execute_reply": "2022-01-17T13:24:27.639174Z",
     "shell.execute_reply.started": "2022-01-17T13:24:27.634786Z"
    }
   },
   "outputs": [
    {
     "name": "stdout",
     "output_type": "stream",
     "text": [
      "Model: \"model\"\n",
      "__________________________________________________________________________________________________\n",
      "Layer (type)                    Output Shape         Param #     Connected to                     \n",
      "==================================================================================================\n",
      "input_1 (InputLayer)            [(None, 71)]         0                                            \n",
      "__________________________________________________________________________________________________\n",
      "embedding (Embedding)           (None, 71, 150)      3008250     input_1[0][0]                    \n",
      "__________________________________________________________________________________________________\n",
      "gru (GRU)                       [(None, 71, 500), (N 976500      embedding[0][0]                  \n",
      "__________________________________________________________________________________________________\n",
      "input_2 (InputLayer)            [(None, None)]       0                                            \n",
      "__________________________________________________________________________________________________\n",
      "gru_1 (GRU)                     [(None, 71, 500), (N 1501500     gru[0][0]                        \n",
      "__________________________________________________________________________________________________\n",
      "embedding_1 (Embedding)         (None, None, 150)    1144200     input_2[0][0]                    \n",
      "__________________________________________________________________________________________________\n",
      "gru_2 (GRU)                     [(None, 71, 500), (N 1501500     gru_1[0][0]                      \n",
      "__________________________________________________________________________________________________\n",
      "gru_3 (GRU)                     [(None, None, 500),  976500      embedding_1[0][0]                \n",
      "                                                                 gru_2[0][1]                      \n",
      "__________________________________________________________________________________________________\n",
      "time_distributed (TimeDistribut (None, None, 7628)   3821628     gru_3[0][0]                      \n",
      "==================================================================================================\n",
      "Total params: 12,930,078\n",
      "Trainable params: 12,930,078\n",
      "Non-trainable params: 0\n",
      "__________________________________________________________________________________________________\n",
      "None\n"
     ]
    }
   ],
   "source": [
    "latent_dim = 500\n",
    "embedding_dim = 150\n",
    "\n",
    "K.clear_session() \n",
    "\n",
    "encoder_inputs = Input(shape=(max_length_x,))\n",
    "enc_emb =  Embedding(x_voc, embedding_dim,trainable=True)(encoder_inputs)\n",
    "\n",
    "# Encoder \n",
    "encoder_lstm1 = GRU(latent_dim,return_sequences=True,return_state=True) \n",
    "encoder_output1, state_h1 = encoder_lstm1(enc_emb) \n",
    "encoder_lstm2 = GRU(latent_dim,return_sequences=True,return_state=True) \n",
    "encoder_output2, state_h2 = encoder_lstm2(encoder_output1) \n",
    "encoder_lstm3 = GRU(latent_dim, return_state=True, return_sequences=True) \n",
    "encoder_outputs, state_h = encoder_lstm3(encoder_output2) \n",
    "\n",
    "# Decoder. \n",
    "decoder_inputs = Input(shape=(None,))\n",
    "dec_emb_layer = Embedding(y_voc, embedding_dim,trainable=True)\n",
    "dec_emb = dec_emb_layer(decoder_inputs) \n",
    "\n",
    "# GRU using encoder_states as initial state\n",
    "decoder_lstm = GRU(latent_dim, return_sequences=True, return_state=True) \n",
    "decoder_outputs, decoder_fwd_state = decoder_lstm(dec_emb,initial_state=[state_h]) \n",
    "\n",
    "decoder_dense = TimeDistributed(Dense(y_voc, activation='softmax')) \n",
    "decoder_outputs = decoder_dense(decoder_outputs) \n",
    "\n",
    "model = Model([encoder_inputs, decoder_inputs], decoder_outputs) \n",
    "print(model.summary())"
   ]
  },
  {
   "cell_type": "code",
   "execution_count": 29,
   "metadata": {
    "execution": {
     "iopub.execute_input": "2022-01-17T13:24:28.122507Z",
     "iopub.status.busy": "2022-01-17T13:24:28.122218Z",
     "iopub.status.idle": "2022-01-17T13:24:28.165809Z",
     "shell.execute_reply": "2022-01-17T13:24:28.165191Z",
     "shell.execute_reply.started": "2022-01-17T13:24:28.122460Z"
    }
   },
   "outputs": [],
   "source": [
    "model.compile(optimizer='rmsprop', loss='sparse_categorical_crossentropy')\n"
   ]
  },
  {
   "cell_type": "code",
   "execution_count": 30,
   "metadata": {
    "execution": {
     "iopub.execute_input": "2022-01-17T13:24:28.792355Z",
     "iopub.status.busy": "2022-01-17T13:24:28.792067Z",
     "iopub.status.idle": "2022-01-17T13:24:28.798166Z",
     "shell.execute_reply": "2022-01-17T13:24:28.797153Z",
     "shell.execute_reply.started": "2022-01-17T13:24:28.792307Z"
    }
   },
   "outputs": [],
   "source": [
    "es = EarlyStopping(monitor='val_loss', mode='min', verbose=1,patience=2)\n"
   ]
  },
  {
   "cell_type": "markdown",
   "metadata": {},
   "source": [
    "**Start fitting the model with the data**"
   ]
  },
  {
   "cell_type": "code",
   "execution_count": 31,
   "metadata": {
    "execution": {
     "iopub.execute_input": "2022-01-17T13:24:35.220120Z",
     "iopub.status.busy": "2022-01-17T13:24:35.219601Z",
     "iopub.status.idle": "2022-01-17T13:26:16.021664Z",
     "shell.execute_reply": "2022-01-17T13:26:16.020954Z",
     "shell.execute_reply.started": "2022-01-17T13:24:35.219858Z"
    }
   },
   "outputs": [
    {
     "name": "stdout",
     "output_type": "stream",
     "text": [
      "Train on 44633 samples, validate on 5511 samples\n",
      "Epoch 1/45\n",
      "44633/44633 [==============================] - 46s 1ms/sample - loss: 4.5940 - val_loss: 4.0998\n",
      "Epoch 2/45\n",
      "44633/44633 [==============================] - 37s 826us/sample - loss: 4.0199 - val_loss: 3.8629\n",
      "Epoch 3/45\n",
      "44633/44633 [==============================] - 37s 833us/sample - loss: 3.8243 - val_loss: 3.7451\n",
      "Epoch 4/45\n",
      "44633/44633 [==============================] - 37s 826us/sample - loss: 3.6623 - val_loss: 3.5914\n",
      "Epoch 5/45\n",
      "44633/44633 [==============================] - 37s 834us/sample - loss: 3.5066 - val_loss: 3.4739\n",
      "Epoch 6/45\n",
      "44633/44633 [==============================] - 37s 837us/sample - loss: 3.3625 - val_loss: 3.4195\n",
      "Epoch 7/45\n",
      "44633/44633 [==============================] - 37s 827us/sample - loss: 3.2438 - val_loss: 3.2805\n",
      "Epoch 8/45\n",
      "44633/44633 [==============================] - 37s 827us/sample - loss: 3.0968 - val_loss: 3.1979\n",
      "Epoch 9/45\n",
      "44633/44633 [==============================] - 37s 834us/sample - loss: 2.9680 - val_loss: 3.1210\n",
      "Epoch 10/45\n",
      "44633/44633 [==============================] - 37s 822us/sample - loss: 2.8538 - val_loss: 3.0761\n",
      "Epoch 11/45\n",
      "44633/44633 [==============================] - 37s 828us/sample - loss: 2.7494 - val_loss: 3.0285\n",
      "Epoch 12/45\n",
      "44633/44633 [==============================] - 38s 845us/sample - loss: 2.6526 - val_loss: 2.9920\n",
      "Epoch 13/45\n",
      "44633/44633 [==============================] - 37s 828us/sample - loss: 2.5594 - val_loss: 2.9589\n",
      "Epoch 14/45\n",
      "44633/44633 [==============================] - 37s 833us/sample - loss: 2.4709 - val_loss: 2.9324\n",
      "Epoch 15/45\n",
      "44633/44633 [==============================] - 37s 827us/sample - loss: 2.3847 - val_loss: 2.9216\n",
      "Epoch 16/45\n",
      "44633/44633 [==============================] - 37s 824us/sample - loss: 2.3029 - val_loss: 2.9004\n",
      "Epoch 17/45\n",
      "44633/44633 [==============================] - 37s 829us/sample - loss: 2.2217 - val_loss: 2.9026\n",
      "Epoch 18/45\n",
      "44633/44633 [==============================] - 37s 838us/sample - loss: 2.1429 - val_loss: 2.9020\n",
      "Epoch 00018: early stopping\n"
     ]
    }
   ],
   "source": [
    "history=model.fit(\n",
    "    [x_tr,y_tr[:,:-1]], \n",
    "    y_tr.reshape(y_tr.shape[0],y_tr.shape[1], 1)[:,1:] ,\n",
    "    epochs=45,\n",
    "    callbacks=[es],\n",
    "    batch_size=512, \n",
    "    validation_data=([x_val,y_val[:,:-1]], y_val.reshape(y_val.shape[0],y_val.shape[1], 1)[:,1:])\n",
    ")\n"
   ]
  },
  {
   "cell_type": "code",
   "execution_count": 32,
   "metadata": {},
   "outputs": [],
   "source": [
    "model.save(\"nlp_45_weights.h5py\")"
   ]
  },
  {
   "cell_type": "markdown",
   "metadata": {},
   "source": [
    "**Visualize the model learning**"
   ]
  },
  {
   "cell_type": "code",
   "execution_count": 33,
   "metadata": {
    "execution": {
     "iopub.execute_input": "2022-01-17T13:26:20.583575Z",
     "iopub.status.busy": "2022-01-17T13:26:20.583285Z",
     "iopub.status.idle": "2022-01-17T13:26:20.729557Z",
     "shell.execute_reply": "2022-01-17T13:26:20.728579Z",
     "shell.execute_reply.started": "2022-01-17T13:26:20.583526Z"
    }
   },
   "outputs": [
    {
     "data": {
      "image/png": "[encoded data removed]",
      "text/plain": [
       "<Figure size 432x288 with 1 Axes>"
      ]
     },
     "metadata": {
      "needs_background": "light"
     },
     "output_type": "display_data"
    }
   ],
   "source": [
    "from matplotlib import pyplot\n",
    "pyplot.plot(history.history['loss'], label='train')\n",
    "pyplot.plot(history.history['val_loss'], label='test')\n",
    "pyplot.legend()\n",
    "pyplot.show()"
   ]
  },
  {
   "cell_type": "markdown",
   "metadata": {},
   "source": [
    "**Next, let’s build the dictionary to convert the index to word for target and source vocabulary:**"
   ]
  },
  {
   "cell_type": "markdown",
   "metadata": {},
   "source": [
    "### Inference"
   ]
  },
  {
   "cell_type": "code",
   "execution_count": 34,
   "metadata": {
    "execution": {
     "iopub.execute_input": "2022-01-17T13:26:22.727917Z",
     "iopub.status.busy": "2022-01-17T13:26:22.727566Z",
     "iopub.status.idle": "2022-01-17T13:26:22.732459Z",
     "shell.execute_reply": "2022-01-17T13:26:22.731476Z",
     "shell.execute_reply.started": "2022-01-17T13:26:22.727855Z"
    }
   },
   "outputs": [],
   "source": [
    "reverse_target_word_index=y_tokenizer.index_word\n",
    "reverse_source_word_index=x_tokenizer.index_word\n",
    "target_word_index=y_tokenizer.word_index"
   ]
  },
  {
   "cell_type": "code",
   "execution_count": 37,
   "metadata": {
    "execution": {
     "iopub.execute_input": "2022-01-17T13:27:06.474655Z",
     "iopub.status.busy": "2022-01-17T13:27:06.474371Z",
     "iopub.status.idle": "2022-01-17T13:27:06.478437Z",
     "shell.execute_reply": "2022-01-17T13:27:06.477708Z",
     "shell.execute_reply.started": "2022-01-17T13:27:06.474608Z"
    }
   },
   "outputs": [],
   "source": [
    "# Encode the input sequence to get the feature vector\n",
    "encoder_model = Model(inputs=encoder_inputs,outputs=[encoder_outputs, state_h])\n",
    "\n",
    "# Decoder setup\n",
    "# Below tensors will hold the states of the previous time step\n",
    "decoder_state_input_h = Input(shape=(latent_dim,))\n",
    "# decoder_state_input_c = Input(shape=(latent_dim,))\n",
    "decoder_hidden_state_input = Input(shape=(max_length_x,latent_dim))\n",
    "\n",
    "# Get the embeddings of the decoder sequence\n",
    "dec_emb2= dec_emb_layer(decoder_inputs) \n",
    "# To predict the next word in the sequence, set the initial states to the states from the previous time step\n",
    "decoder_outputs2, state_h2 = decoder_lstm(dec_emb2, initial_state=[decoder_state_input_h])\n",
    "\n",
    "# A dense softmax layer to generate prob dist. over the target vocabulary\n",
    "decoder_outputs2 = decoder_dense(decoder_outputs2) \n",
    "\n",
    "# Final decoder model\n",
    "decoder_model = Model(\n",
    "    [decoder_inputs] + [decoder_hidden_state_input,decoder_state_input_h],\n",
    "    [decoder_outputs2] + [state_h2])"
   ]
  },
  {
   "cell_type": "code",
   "execution_count": 38,
   "metadata": {
    "execution": {
     "iopub.execute_input": "2022-01-17T13:27:06.947721Z",
     "iopub.status.busy": "2022-01-17T13:27:06.947457Z",
     "iopub.status.idle": "2022-01-17T13:27:06.951909Z",
     "shell.execute_reply": "2022-01-17T13:27:06.951103Z",
     "shell.execute_reply.started": "2022-01-17T13:27:06.947675Z"
    }
   },
   "outputs": [],
   "source": [
    "def decode_sequence(input_seq):\n",
    "    # Encode the input as state vectors.\n",
    "    e_out, e_h = encoder_model.predict(input_seq)\n",
    "    \n",
    "    # Generate empty target sequence of length 1.\n",
    "    target_seq = np.zeros((1,1))\n",
    "    \n",
    "    # Populate the first word of target sequence with the start word.\n",
    "    target_seq[0, 0] = target_word_index['start']\n",
    "\n",
    "    stop_condition = False\n",
    "    decoded_sentence = ''\n",
    "    while not stop_condition:\n",
    "      \n",
    "        output_tokens, h = decoder_model.predict([target_seq] + [e_out, e_h])\n",
    "\n",
    "        # Sample a token\n",
    "        sampled_token_index = np.argmax(output_tokens[0, -1, :])\n",
    "        sampled_token = reverse_target_word_index[sampled_token_index]\n",
    "        \n",
    "        if(sampled_token!='end'):\n",
    "            decoded_sentence += ' '+sampled_token\n",
    "\n",
    "        # Exit condition: either hit max length or find stop word.\n",
    "        if (sampled_token == 'end'  or len(decoded_sentence.split()) >= (max_length_y-1)):\n",
    "            stop_condition = True\n",
    "\n",
    "        # Update the target sequence (of length 1).\n",
    "        target_seq = np.zeros((1,1))\n",
    "        target_seq[0, 0] = sampled_token_index\n",
    "\n",
    "        # Update internal states\n",
    "        e_h = h\n",
    "\n",
    "    return decoded_sentence"
   ]
  },
  {
   "cell_type": "code",
   "execution_count": 39,
   "metadata": {
    "execution": {
     "iopub.execute_input": "2022-01-17T13:27:07.620981Z",
     "iopub.status.busy": "2022-01-17T13:27:07.620623Z",
     "iopub.status.idle": "2022-01-17T13:27:07.627567Z",
     "shell.execute_reply": "2022-01-17T13:27:07.626759Z",
     "shell.execute_reply.started": "2022-01-17T13:27:07.620926Z"
    }
   },
   "outputs": [],
   "source": [
    "def seq2summary(input_seq):\n",
    "    newString=''\n",
    "    for i in input_seq:\n",
    "        if((i!=0 and i!=target_word_index['start']) and i!=target_word_index['end']):\n",
    "            newString=newString+reverse_target_word_index[i]+' '\n",
    "    return newString\n",
    "\n",
    "def seq2text(input_seq):\n",
    "    newString=''\n",
    "    for i in input_seq:\n",
    "        if(i!=0):\n",
    "            newString=newString+reverse_source_word_index[i]+' '\n",
    "    return newString"
   ]
  },
  {
   "cell_type": "code",
   "execution_count": 40,
   "metadata": {},
   "outputs": [
    {
     "name": "stdout",
     "output_type": "stream",
     "text": [
      "\n",
      "Review: actress vaani kapoor feature december cover 39 vogue india 39 wear floral print sequinne dress burberry along jewellery 28 year old actress see opposite ranveer singh upcoming film 39 befikre 39 featured cover story title 39 vaani kapoor expect unexpected 39 n \n",
      "Original summary: vaani kapoor features on dec cover of vogue india \n",
      "Predicted summary:  sonam kapoor features on cover of 39 39 magazine\n",
      "\n"
     ]
    }
   ],
   "source": [
    "print(\"Review:\",seq2text(padded_xtest[11]))\n",
    "print(\"Original summary:\",seq2summary(padded_ytest[11]))\n",
    "print(\"Predicted summary:\",decode_sequence(padded_xtest[11]))"
   ]
  },
  {
   "cell_type": "code",
   "execution_count": 41,
   "metadata": {},
   "outputs": [
    {
     "name": "stdout",
     "output_type": "stream",
     "text": [
      "\n",
      "Review: sadden roger feder 39 s decision withdraw rio olympic user tweet 34 hope isn 39 t begin end rogerfederer pro tennis career 34 tweet include 34 probably last olympic opportunity rogerfederer end dream double amp mixed partner too goat 34 34 roger federer miss rio2016 zika 34 \n",
      "Original summary: twitter reacts to federer 39 s olympics \n",
      "Predicted summary:  twitter reacts to harbhajan 39 s 39 s 39 39 s win\n",
      "\n"
     ]
    }
   ],
   "source": [
    "print(\"Review:\",seq2text(padded_xtest[37]))\n",
    "print(\"Original summary:\",seq2summary(padded_ytest[37]))\n",
    "print(\"Predicted summary:\",decode_sequence(padded_xtest[37]))"
   ]
  },
  {
   "cell_type": "code",
   "execution_count": 42,
   "metadata": {},
   "outputs": [
    {
     "name": "stdout",
     "output_type": "stream",
     "text": [
      "\n",
      "Review: portuguese footballer cristiano ronaldo world s highest pay sportsman 88 million yearly earning per forbes 100 list top earn celebrity worldwide argentina barcelona forward lionel messi second list yearly earning 815 million notably indian sportsperson cricketer feature list \n",
      "Original summary: ronaldo world’s highest earning forbes \n",
      "Predicted summary:  ronaldo most valuable athlete in world 39 s\n",
      "\n"
     ]
    }
   ],
   "source": [
    "print(\"Review:\",seq2text(padded_xtest[42]))\n",
    "print(\"Original summary:\",seq2summary(padded_ytest[42]))\n",
    "print(\"Predicted summary:\",decode_sequence(padded_xtest[42]))"
   ]
  },
  {
   "cell_type": "markdown",
   "metadata": {},
   "source": [
    "### Evaluation"
   ]
  },
  {
   "cell_type": "code",
   "execution_count": 43,
   "metadata": {
    "execution": {
     "iopub.execute_input": "2022-01-17T13:28:01.708996Z",
     "iopub.status.busy": "2022-01-17T13:28:01.708576Z",
     "iopub.status.idle": "2022-01-17T13:28:01.713972Z",
     "shell.execute_reply": "2022-01-17T13:28:01.713157Z",
     "shell.execute_reply.started": "2022-01-17T13:28:01.708817Z"
    }
   },
   "outputs": [],
   "source": [
    "def BLEU_Score(y_test, y_pred):\n",
    "    references = [[seq2summary(y_test).split(\" \")]]\n",
    "    candidates = [decode_sequence(y_pred.reshape(1,max_length_x)).split(\" \")]\n",
    "    return corpus_bleu(references, candidates)"
   ]
  },
  {
   "cell_type": "code",
   "execution_count": 44,
   "metadata": {},
   "outputs": [
    {
     "name": "stdout",
     "output_type": "stream",
     "text": [
      "0.5320060115068459\n"
     ]
    }
   ],
   "source": [
    "from nltk.translate.bleu_score import corpus_bleu\n",
    "scores=[]\n",
    "for i in range(500):\n",
    "    scores.append(BLEU_Score(y_test[i],x_test[i]))\n",
    "    \n",
    "print(np.mean(scores))"
   ]
  }
 ],
 "metadata": {
  "kernelspec": {
   "display_name": "Python 3",
   "language": "python",
   "name": "python3"
  },
  "language_info": {
   "codemirror_mode": {
    "name": "ipython",
    "version": 3
   },
   "file_extension": ".py",
   "mimetype": "text/x-python",
   "name": "python",
   "nbconvert_exporter": "python",
   "pygments_lexer": "ipython3",
   "version": "3.8.3"
  }
 },
 "nbformat": 4,
 "nbformat_minor": 4
}
