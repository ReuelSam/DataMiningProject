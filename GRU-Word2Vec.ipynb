{
 "cells": [
  {
   "cell_type": "markdown",
   "id": "b3e6d49d",
   "metadata": {
    "id": "IEq-oYpmSM5r",
    "papermill": {
     "duration": 0.046072,
     "end_time": "2022-01-16T06:39:20.121404",
     "exception": false,
     "start_time": "2022-01-16T06:39:20.075332",
     "status": "completed"
    },
    "tags": []
   },
   "source": [
    "# Text Summarization - GRU Word2Vec"
   ]
  },
  {
   "cell_type": "markdown",
   "id": "37c6b33b",
   "metadata": {
    "id": "4iFfGxm4XgZl",
    "papermill": {
     "duration": 0.04435,
     "end_time": "2022-01-16T06:39:20.213834",
     "exception": false,
     "start_time": "2022-01-16T06:39:20.169484",
     "status": "completed"
    },
    "tags": []
   },
   "source": [
    "### Importing Basic libraries"
   ]
  },
  {
   "cell_type": "code",
   "execution_count": 1,
   "id": "ad9b2d8d",
   "metadata": {
    "execution": {
     "iopub.execute_input": "2022-01-16T06:39:20.307687Z",
     "iopub.status.busy": "2022-01-16T06:39:20.306167Z",
     "iopub.status.idle": "2022-01-16T06:39:26.089567Z",
     "shell.execute_reply": "2022-01-16T06:39:26.088617Z",
     "shell.execute_reply.started": "2022-01-16T06:14:36.040921Z"
    },
    "id": "lisXNzYrYOoR",
    "outputId": "4ff65cf3-36bb-49c2-a6c3-08070c9233a0",
    "papermill": {
     "duration": 5.831523,
     "end_time": "2022-01-16T06:39:26.089744",
     "exception": false,
     "start_time": "2022-01-16T06:39:20.258221",
     "status": "completed"
    },
    "tags": []
   },
   "outputs": [
    {
     "name": "stdout",
     "output_type": "stream",
     "text": [
      "[nltk_data] Downloading package stopwords to /usr/share/nltk_data...\n",
      "[nltk_data]   Package stopwords is already up-to-date!\n"
     ]
    }
   ],
   "source": [
    "import re\n",
    "import os\n",
    "import numpy as np\n",
    "import pandas as pd\n",
    "import matplotlib.pyplot as plt\n",
    "\n",
    "import nltk\n",
    "nltk.download('stopwords')\n",
    "from nltk.corpus import stopwords\n",
    "from keras.preprocessing.text import Tokenizer\n",
    "from keras.preprocessing.sequence import pad_sequences\n",
    "\n",
    "import tensorflow as tf\n",
    "from tensorflow.keras.layers import Input, LSTM, Embedding, Dense, Concatenate, TimeDistributed, Bidirectional, GRU, RNN\n",
    "from tensorflow.keras.models import Model\n",
    "from tensorflow.keras.callbacks import EarlyStopping\n",
    "from keras import backend as K \n",
    "from tensorflow.python.keras.layers import Layer\n"
   ]
  },
  {
   "cell_type": "code",
   "execution_count": 2,
   "id": "f4be853c",
   "metadata": {
    "execution": {
     "iopub.execute_input": "2022-01-16T06:39:26.185569Z",
     "iopub.status.busy": "2022-01-16T06:39:26.184885Z",
     "iopub.status.idle": "2022-01-16T06:39:35.756338Z",
     "shell.execute_reply": "2022-01-16T06:39:35.755422Z",
     "shell.execute_reply.started": "2022-01-16T06:14:45.764183Z"
    },
    "papermill": {
     "duration": 9.620123,
     "end_time": "2022-01-16T06:39:35.756498",
     "exception": false,
     "start_time": "2022-01-16T06:39:26.136375",
     "status": "completed"
    },
    "tags": []
   },
   "outputs": [
    {
     "name": "stdout",
     "output_type": "stream",
     "text": [
      "Collecting openpyxl\r\n",
      "  Downloading openpyxl-3.0.9-py2.py3-none-any.whl (242 kB)\r\n",
      "     |████████████████████████████████| 242 kB 893 kB/s            \r\n",
      "\u001b[?25hCollecting et-xmlfile\r\n",
      "  Downloading et_xmlfile-1.1.0-py3-none-any.whl (4.7 kB)\r\n",
      "Installing collected packages: et-xmlfile, openpyxl\r\n",
      "Successfully installed et-xmlfile-1.1.0 openpyxl-3.0.9\r\n",
      "\u001b[33mWARNING: Running pip as the 'root' user can result in broken permissions and conflicting behaviour with the system package manager. It is recommended to use a virtual environment instead: https://pip.pypa.io/warnings/venv\u001b[0m\r\n"
     ]
    }
   ],
   "source": [
    "!pip install openpyxl"
   ]
  },
  {
   "cell_type": "markdown",
   "id": "aca77b16",
   "metadata": {
    "id": "GSr24NviXqio",
    "papermill": {
     "duration": 0.046656,
     "end_time": "2022-01-16T06:39:35.850709",
     "exception": false,
     "start_time": "2022-01-16T06:39:35.804053",
     "status": "completed"
    },
    "tags": []
   },
   "source": [
    "### Importing Data"
   ]
  },
  {
   "cell_type": "code",
   "execution_count": 4,
   "id": "b031e2c9",
   "metadata": {
    "execution": {
     "iopub.execute_input": "2022-01-16T06:39:36.049872Z",
     "iopub.status.busy": "2022-01-16T06:39:36.049133Z",
     "iopub.status.idle": "2022-01-16T06:39:45.205608Z",
     "shell.execute_reply": "2022-01-16T06:39:45.204936Z",
     "shell.execute_reply.started": "2022-01-16T06:14:58.965947Z"
    },
    "papermill": {
     "duration": 9.20758,
     "end_time": "2022-01-16T06:39:45.205788",
     "exception": false,
     "start_time": "2022-01-16T06:39:35.998208",
     "status": "completed"
    },
    "tags": []
   },
   "outputs": [],
   "source": [
    "data = pd.read_excel('../input/inshorts-news-data/Inshorts Cleaned Data.xlsx')"
   ]
  },
  {
   "cell_type": "code",
   "execution_count": 5,
   "id": "3e1acf66",
   "metadata": {
    "execution": {
     "iopub.execute_input": "2022-01-16T06:39:45.328234Z",
     "iopub.status.busy": "2022-01-16T06:39:45.322142Z",
     "iopub.status.idle": "2022-01-16T06:39:45.350568Z",
     "shell.execute_reply": "2022-01-16T06:39:45.351452Z",
     "shell.execute_reply.started": "2022-01-16T06:15:09.884141Z"
    },
    "papermill": {
     "duration": 0.092577,
     "end_time": "2022-01-16T06:39:45.351622",
     "exception": false,
     "start_time": "2022-01-16T06:39:45.259045",
     "status": "completed"
    },
    "tags": []
   },
   "outputs": [
    {
     "data": {
      "text/html": [
       "<div>\n",
       "<style scoped>\n",
       "    .dataframe tbody tr th:only-of-type {\n",
       "        vertical-align: middle;\n",
       "    }\n",
       "\n",
       "    .dataframe tbody tr th {\n",
       "        vertical-align: top;\n",
       "    }\n",
       "\n",
       "    .dataframe thead th {\n",
       "        text-align: right;\n",
       "    }\n",
       "</style>\n",
       "<table border=\"1\" class=\"dataframe\">\n",
       "  <thead>\n",
       "    <tr style=\"text-align: right;\">\n",
       "      <th></th>\n",
       "      <th>Headline</th>\n",
       "      <th>Short</th>\n",
       "    </tr>\n",
       "  </thead>\n",
       "  <tbody>\n",
       "    <tr>\n",
       "      <th>0</th>\n",
       "      <td>4 ex-bank officials booked for cheating bank o...</td>\n",
       "      <td>The CBI on Saturday booked four former officia...</td>\n",
       "    </tr>\n",
       "    <tr>\n",
       "      <th>1</th>\n",
       "      <td>Supreme Court to go paperless in 6 months: CJI</td>\n",
       "      <td>Chief Justice JS Khehar has said the Supreme C...</td>\n",
       "    </tr>\n",
       "    <tr>\n",
       "      <th>2</th>\n",
       "      <td>At least 3 killed, 30 injured in blast in Sylh...</td>\n",
       "      <td>At least three people were killed, including a...</td>\n",
       "    </tr>\n",
       "    <tr>\n",
       "      <th>3</th>\n",
       "      <td>Why has Reliance been barred from trading in f...</td>\n",
       "      <td>Mukesh Ambani-led Reliance Industries (RIL) wa...</td>\n",
       "    </tr>\n",
       "    <tr>\n",
       "      <th>4</th>\n",
       "      <td>Was stopped from entering my own studio at Tim...</td>\n",
       "      <td>TV news anchor Arnab Goswami has said he was t...</td>\n",
       "    </tr>\n",
       "  </tbody>\n",
       "</table>\n",
       "</div>"
      ],
      "text/plain": [
       "                                            Headline  \\\n",
       "0  4 ex-bank officials booked for cheating bank o...   \n",
       "1     Supreme Court to go paperless in 6 months: CJI   \n",
       "2  At least 3 killed, 30 injured in blast in Sylh...   \n",
       "3  Why has Reliance been barred from trading in f...   \n",
       "4  Was stopped from entering my own studio at Tim...   \n",
       "\n",
       "                                               Short  \n",
       "0  The CBI on Saturday booked four former officia...  \n",
       "1  Chief Justice JS Khehar has said the Supreme C...  \n",
       "2  At least three people were killed, including a...  \n",
       "3  Mukesh Ambani-led Reliance Industries (RIL) wa...  \n",
       "4  TV news anchor Arnab Goswami has said he was t...  "
      ]
     },
     "execution_count": 5,
     "metadata": {},
     "output_type": "execute_result"
    }
   ],
   "source": [
    "data.drop(['Source ', 'Time ', 'Publish Date'], axis=1, inplace=True)\n",
    "data.head()"
   ]
  },
  {
   "cell_type": "markdown",
   "id": "525a753d",
   "metadata": {},
   "source": [
    "### Punctuation and Stopword Removal"
   ]
  },
  {
   "cell_type": "code",
   "execution_count": 7,
   "id": "983ac310",
   "metadata": {
    "execution": {
     "iopub.execute_input": "2022-01-16T06:39:45.577029Z",
     "iopub.status.busy": "2022-01-16T06:39:45.576308Z",
     "iopub.status.idle": "2022-01-16T06:39:45.580542Z",
     "shell.execute_reply": "2022-01-16T06:39:45.581017Z",
     "shell.execute_reply.started": "2022-01-16T06:15:09.934949Z"
    },
    "id": "BV8b6w9YYOoa",
    "papermill": {
     "duration": 0.064602,
     "end_time": "2022-01-16T06:39:45.581158",
     "exception": false,
     "start_time": "2022-01-16T06:39:45.516556",
     "status": "completed"
    },
    "tags": []
   },
   "outputs": [],
   "source": [
    "stop_words = stopwords.words('english')\n",
    "\n",
    "def preprocess(text):\n",
    "    text = text.lower()\n",
    "    \n",
    "    tokens = [w for w in text.split() if not w in stop_words]\n",
    "    text = \" \".join(tokens)\n",
    "    text = text.replace(\"'s\",'')\n",
    "    text = text.replace(\".\",'')\n",
    "    text = re.sub(r'\\(.*\\)','',text)\n",
    "    text = re.sub(r'[^a-zA-Z0-9. ]',' ',text)\n",
    "    text = re.sub(r'\\.','. ',text)\n",
    "    text = re.sub(r'\\s+', ' ', text)\n",
    "    return text\n"
   ]
  },
  {
   "cell_type": "markdown",
   "id": "e027c9d1",
   "metadata": {},
   "source": [
    "### Lemmatization"
   ]
  },
  {
   "cell_type": "code",
   "execution_count": 8,
   "id": "89761915",
   "metadata": {
    "execution": {
     "iopub.execute_input": "2022-01-16T06:39:45.684933Z",
     "iopub.status.busy": "2022-01-16T06:39:45.684400Z",
     "iopub.status.idle": "2022-01-16T06:39:51.709215Z",
     "shell.execute_reply": "2022-01-16T06:39:51.708270Z",
     "shell.execute_reply.started": "2022-01-16T06:15:09.951019Z"
    },
    "papermill": {
     "duration": 6.075951,
     "end_time": "2022-01-16T06:39:51.709369",
     "exception": false,
     "start_time": "2022-01-16T06:39:45.633418",
     "status": "completed"
    },
    "tags": []
   },
   "outputs": [],
   "source": [
    "import spacy\n",
    "\n",
    "nlp = spacy.load('en_core_web_sm', disable=['parser', 'ner'])\n",
    "allowed_postags = ['NOUN', 'ADJ', 'VERB', 'ADV']\n",
    "def lemmatize_text(text):\n",
    "    doc = nlp(text)\n",
    "    return ' '.join([token.lemma_ for token in doc])"
   ]
  },
  {
   "cell_type": "code",
   "execution_count": 9,
   "id": "36242f78",
   "metadata": {
    "execution": {
     "iopub.execute_input": "2022-01-16T06:39:51.811855Z",
     "iopub.status.busy": "2022-01-16T06:39:51.809989Z",
     "iopub.status.idle": "2022-01-16T06:39:51.812490Z",
     "shell.execute_reply": "2022-01-16T06:39:51.812998Z",
     "shell.execute_reply.started": "2022-01-16T06:15:17.095135Z"
    },
    "papermill": {
     "duration": 0.055741,
     "end_time": "2022-01-16T06:39:51.813155",
     "exception": false,
     "start_time": "2022-01-16T06:39:51.757414",
     "status": "completed"
    },
    "tags": []
   },
   "outputs": [],
   "source": [
    "data.rename(columns={'Headline': 'headlines', 'Short': 'text'}, inplace=True)"
   ]
  },
  {
   "cell_type": "code",
   "execution_count": 10,
   "id": "ea4136d4",
   "metadata": {
    "execution": {
     "iopub.execute_input": "2022-01-16T06:39:51.930404Z",
     "iopub.status.busy": "2022-01-16T06:39:51.928703Z",
     "iopub.status.idle": "2022-01-16T06:39:51.931041Z",
     "shell.execute_reply": "2022-01-16T06:39:51.931556Z",
     "shell.execute_reply.started": "2022-01-16T06:15:17.105008Z"
    },
    "papermill": {
     "duration": 0.060936,
     "end_time": "2022-01-16T06:39:51.931725",
     "exception": false,
     "start_time": "2022-01-16T06:39:51.870789",
     "status": "completed"
    },
    "tags": []
   },
   "outputs": [],
   "source": [
    "original_text = str(data['text'][0])\n",
    "original_headline = str(data['headlines'][0])"
   ]
  },
  {
   "cell_type": "code",
   "execution_count": 11,
   "id": "79e23403",
   "metadata": {
    "execution": {
     "iopub.execute_input": "2022-01-16T06:39:52.074137Z",
     "iopub.status.busy": "2022-01-16T06:39:52.068980Z",
     "iopub.status.idle": "2022-01-16T06:43:39.813650Z",
     "shell.execute_reply": "2022-01-16T06:43:39.814280Z",
     "shell.execute_reply.started": "2022-01-16T06:15:17.132555Z"
    },
    "id": "ewSx5cepYOob",
    "outputId": "55b255a6-367f-4443-8184-650066137e32",
    "papermill": {
     "duration": 227.834876,
     "end_time": "2022-01-16T06:43:39.814475",
     "exception": false,
     "start_time": "2022-01-16T06:39:51.979599",
     "status": "completed"
    },
    "tags": []
   },
   "outputs": [
    {
     "name": "stdout",
     "output_type": "stream",
     "text": [
      "Summary:\n",
      "_START_ 4 ex-bank officials booked for cheating bank of ₹209 crore _END_\n",
      "Text:\n",
      "cbi saturday book four former official syndicate bank six other cheat forgery criminal conspiracy cause 209 crore loss state run bank accuse availed home loan credit syndicate bank basis forge fabricate document fund fraudulently transfer company own accuse person\n",
      "\n",
      "Summary:\n",
      "_START_ Supreme Court to go paperless in 6 months: CJI _END_\n",
      "Text:\n",
      "chief justice js khehar say supreme court go paperless six seven month bid save fund make judiciary eco friendly say apex court collect record electronically low court high court need file hard copy\n",
      "\n"
     ]
    }
   ],
   "source": [
    "processed_text = data['text'].apply(preprocess)\n",
    "data['text'] = processed_text.apply(lemmatize_text)\n",
    "data['headlines'] = data['headlines'].apply(lambda x : '_START_ '+ x + ' _END_')\n",
    "\n",
    "for i in range(2):\n",
    "    print('Summary:', data['headlines'][i],'Text:', data['text'][i], sep='\\n')\n",
    "    print()"
   ]
  },
  {
   "cell_type": "markdown",
   "id": "21db5254",
   "metadata": {},
   "source": [
    "### Sample Input"
   ]
  },
  {
   "cell_type": "code",
   "execution_count": 12,
   "id": "cf195ceb",
   "metadata": {
    "execution": {
     "iopub.execute_input": "2022-01-16T06:43:39.923553Z",
     "iopub.status.busy": "2022-01-16T06:43:39.922308Z",
     "iopub.status.idle": "2022-01-16T06:43:39.926101Z",
     "shell.execute_reply": "2022-01-16T06:43:39.926520Z",
     "shell.execute_reply.started": "2022-01-16T06:20:14.457385Z"
    },
    "papermill": {
     "duration": 0.061137,
     "end_time": "2022-01-16T06:43:39.926685",
     "exception": false,
     "start_time": "2022-01-16T06:43:39.865548",
     "status": "completed"
    },
    "tags": []
   },
   "outputs": [
    {
     "name": "stdout",
     "output_type": "stream",
     "text": [
      "\n",
      "ORIGINAL\n",
      "The CBI on Saturday booked four former officials of Syndicate Bank and six others for cheating, forgery, criminal conspiracy and causing ₹209 crore loss to the state-run bank. The accused had availed home loans and credit from Syndicate Bank on the basis of forged and fabricated documents. These funds were fraudulently transferred to the companies owned by the accused persons.\n",
      "4 ex-bank officials booked for cheating bank of ₹209 crore\n",
      "\n",
      "REGEX CLEANING AND STOPWORD REMOVAL:\n",
      "cbi saturday booked four former officials syndicate bank six others cheating forgery criminal conspiracy causing 209 crore loss state run bank accused availed home loans credit syndicate bank basis forged fabricated documents funds fraudulently transferred companies owned accused persons\n",
      "\n",
      "LEMMATIZATION + START AND END TOKEN\n",
      "cbi saturday book four former official syndicate bank six other cheat forgery criminal conspiracy cause 209 crore loss state run bank accuse availed home loan credit syndicate bank basis forge fabricate document fund fraudulently transfer company own accuse person\n",
      "_START_ 4 ex-bank officials booked for cheating bank of ₹209 crore _END_\n"
     ]
    }
   ],
   "source": [
    "print(\"\\nORIGINAL\")\n",
    "print(original_text)\n",
    "print(original_headline)\n",
    "\n",
    "print(\"\\nREGEX CLEANING AND STOPWORD REMOVAL:\")\n",
    "print(processed_text[0])\n",
    "# print(brief_cleaned_summary[0])\n",
    "\n",
    "print(\"\\nLEMMATIZATION + START AND END TOKEN\")\n",
    "print(data['text'][0])\n",
    "print(data['headlines'][0])"
   ]
  },
  {
   "cell_type": "code",
   "execution_count": 13,
   "id": "cf589719",
   "metadata": {
    "execution": {
     "iopub.execute_input": "2022-01-16T06:43:40.114543Z",
     "iopub.status.busy": "2022-01-16T06:43:40.078405Z",
     "iopub.status.idle": "2022-01-16T06:43:40.203315Z",
     "shell.execute_reply": "2022-01-16T06:43:40.202821Z",
     "shell.execute_reply.started": "2022-01-16T06:20:14.469216Z"
    },
    "id": "Tb68xRjGNP8z",
    "papermill": {
     "duration": 0.227208,
     "end_time": "2022-01-16T06:43:40.203437",
     "exception": false,
     "start_time": "2022-01-16T06:43:39.976229",
     "status": "completed"
    },
    "tags": []
   },
   "outputs": [],
   "source": [
    "headlines_length = [len(x.split()) for x in data.headlines]\n",
    "text_length = [len(x.split()) for x in data.text]"
   ]
  },
  {
   "cell_type": "code",
   "execution_count": 14,
   "id": "8920a203",
   "metadata": {
    "execution": {
     "iopub.execute_input": "2022-01-16T06:43:40.310534Z",
     "iopub.status.busy": "2022-01-16T06:43:40.309998Z",
     "iopub.status.idle": "2022-01-16T06:43:41.174228Z",
     "shell.execute_reply": "2022-01-16T06:43:41.174619Z",
     "shell.execute_reply.started": "2022-01-16T06:20:14.661384Z"
    },
    "id": "4exx0vZpoZDp",
    "outputId": "4fcef4de-8331-4731-b6af-be6b525e8351",
    "papermill": {
     "duration": 0.922755,
     "end_time": "2022-01-16T06:43:41.174771",
     "exception": false,
     "start_time": "2022-01-16T06:43:40.252016",
     "status": "completed"
    },
    "tags": []
   },
   "outputs": [
    {
     "data": {
      "image/png": "[encoded data removed]",
      "text/plain": [
       "<Figure size 720x360 with 2 Axes>"
      ]
     },
     "metadata": {
      "needs_background": "light"
     },
     "output_type": "display_data"
    }
   ],
   "source": [
    "fig, (ax1, ax2) = plt.subplots(1,2, figsize = (10,5))\n",
    "ax1.hist(headlines_length, bins = 20)\n",
    "ax2.hist(text_length, bins = 20)\n",
    "\n",
    "ax1.title.set_text(\"Words in Headlines\")\n",
    "ax2.title.set_text(\"Words in Text\")\n",
    "plt.show()"
   ]
  },
  {
   "cell_type": "markdown",
   "id": "97ef2c96",
   "metadata": {
    "id": "5J6b2-BXoasR",
    "papermill": {
     "duration": 0.049357,
     "end_time": "2022-01-16T06:43:41.272703",
     "exception": false,
     "start_time": "2022-01-16T06:43:41.223346",
     "status": "completed"
    },
    "tags": []
   },
   "source": [
    "### Embedding Matrix from Word2Vec\n"
   ]
  },
  {
   "cell_type": "code",
   "execution_count": 15,
   "id": "f7f1d85b",
   "metadata": {
    "execution": {
     "iopub.execute_input": "2022-01-16T06:43:41.375908Z",
     "iopub.status.busy": "2022-01-16T06:43:41.374960Z",
     "iopub.status.idle": "2022-01-16T06:43:41.378984Z",
     "shell.execute_reply": "2022-01-16T06:43:41.378534Z",
     "shell.execute_reply.started": "2022-01-16T06:22:11.538854Z"
    },
    "papermill": {
     "duration": 0.057097,
     "end_time": "2022-01-16T06:43:41.379115",
     "exception": false,
     "start_time": "2022-01-16T06:43:41.322018",
     "status": "completed"
    },
    "tags": []
   },
   "outputs": [],
   "source": [
    "numWords = 62369"
   ]
  },
  {
   "cell_type": "code",
   "execution_count": 16,
   "id": "c9efd88e",
   "metadata": {
    "execution": {
     "iopub.execute_input": "2022-01-16T06:43:41.482477Z",
     "iopub.status.busy": "2022-01-16T06:43:41.481862Z",
     "iopub.status.idle": "2022-01-16T06:43:41.588371Z",
     "shell.execute_reply": "2022-01-16T06:43:41.587931Z",
     "shell.execute_reply.started": "2022-01-16T06:22:11.910089Z"
    },
    "papermill": {
     "duration": 0.159965,
     "end_time": "2022-01-16T06:43:41.588484",
     "exception": false,
     "start_time": "2022-01-16T06:43:41.428519",
     "status": "completed"
    },
    "tags": []
   },
   "outputs": [],
   "source": [
    "from gensim.models import Word2Vec"
   ]
  },
  {
   "cell_type": "code",
   "execution_count": 17,
   "id": "7c4a3d98",
   "metadata": {
    "execution": {
     "iopub.execute_input": "2022-01-16T06:43:41.747368Z",
     "iopub.status.busy": "2022-01-16T06:43:41.732708Z",
     "iopub.status.idle": "2022-01-16T06:44:04.038191Z",
     "shell.execute_reply": "2022-01-16T06:44:04.038638Z",
     "shell.execute_reply.started": "2022-01-16T06:22:12.298815Z"
    },
    "papermill": {
     "duration": 22.401463,
     "end_time": "2022-01-16T06:44:04.038819",
     "exception": false,
     "start_time": "2022-01-16T06:43:41.637356",
     "status": "completed"
    },
    "tags": []
   },
   "outputs": [],
   "source": [
    "sentences = [line.split(' ') for line in data['text']]\n",
    "word2vec = Word2Vec(sentences = sentences, min_count = 1)\n"
   ]
  },
  {
   "cell_type": "code",
   "execution_count": 18,
   "id": "0f4c5097",
   "metadata": {
    "execution": {
     "iopub.execute_input": "2022-01-16T06:44:04.176777Z",
     "iopub.status.busy": "2022-01-16T06:44:04.142379Z",
     "iopub.status.idle": "2022-01-16T06:44:09.979643Z",
     "shell.execute_reply": "2022-01-16T06:44:09.979160Z",
     "shell.execute_reply.started": "2022-01-16T06:22:39.544627Z"
    },
    "papermill": {
     "duration": 5.891249,
     "end_time": "2022-01-16T06:44:09.979785",
     "exception": false,
     "start_time": "2022-01-16T06:44:04.088536",
     "status": "completed"
    },
    "tags": []
   },
   "outputs": [],
   "source": [
    "word2vec.wv.save_word2vec_format('word2vec_vector.txt')\n"
   ]
  },
  {
   "cell_type": "code",
   "execution_count": 19,
   "id": "6121412b",
   "metadata": {
    "execution": {
     "iopub.execute_input": "2022-01-16T06:44:10.450680Z",
     "iopub.status.busy": "2022-01-16T06:44:10.420944Z",
     "iopub.status.idle": "2022-01-16T06:44:12.554890Z",
     "shell.execute_reply": "2022-01-16T06:44:12.555685Z",
     "shell.execute_reply.started": "2022-01-16T06:22:46.197983Z"
    },
    "papermill": {
     "duration": 2.526138,
     "end_time": "2022-01-16T06:44:12.555859",
     "exception": false,
     "start_time": "2022-01-16T06:44:10.029721",
     "status": "completed"
    },
    "tags": []
   },
   "outputs": [
    {
     "name": "stdout",
     "output_type": "stream",
     "text": [
      "Loaded 62369 word vectors.\n"
     ]
    }
   ],
   "source": [
    "embeddings_index = dict()\n",
    "f = open('./word2vec_vector.txt')\n",
    "\n",
    "for line in f:\n",
    "    values = line.split()\n",
    "    word = values[0]\n",
    "    coefs = np.asarray(values[1:], dtype='float32')\n",
    "    embeddings_index[word] = coefs\n",
    "f.close()\n",
    "print('Loaded %s word vectors.' % len(embeddings_index))\n"
   ]
  },
  {
   "cell_type": "code",
   "execution_count": 20,
   "id": "e90e6462",
   "metadata": {
    "execution": {
     "iopub.execute_input": "2022-01-16T06:44:12.774768Z",
     "iopub.status.busy": "2022-01-16T06:44:12.773893Z",
     "iopub.status.idle": "2022-01-16T06:44:12.775864Z",
     "shell.execute_reply": "2022-01-16T06:44:12.776361Z",
     "shell.execute_reply.started": "2022-01-16T06:22:49.037083Z"
    },
    "papermill": {
     "duration": 0.062971,
     "end_time": "2022-01-16T06:44:12.776492",
     "exception": false,
     "start_time": "2022-01-16T06:44:12.713521",
     "status": "completed"
    },
    "tags": []
   },
   "outputs": [],
   "source": [
    "def wordTokenizer(dataframe):\n",
    "    tokenizer = Tokenizer(num_words = numWords, filters = '!\"#$%&()*+,-./:;<=>?@[\\\\]^_`{|}~\\t\\n', lower = True, split = ' ', char_level = False)\n",
    "    tokenizer.fit_on_texts(dataframe)\n",
    "    dataframe = tokenizer.texts_to_sequences(dataframe)\n",
    "    return tokenizer, dataframe"
   ]
  },
  {
   "cell_type": "code",
   "execution_count": 21,
   "id": "668be746",
   "metadata": {
    "execution": {
     "iopub.execute_input": "2022-01-16T06:44:12.884308Z",
     "iopub.status.busy": "2022-01-16T06:44:12.883546Z",
     "iopub.status.idle": "2022-01-16T06:44:12.885623Z",
     "shell.execute_reply": "2022-01-16T06:44:12.886517Z",
     "shell.execute_reply.started": "2022-01-16T06:22:49.046382Z"
    },
    "papermill": {
     "duration": 0.060945,
     "end_time": "2022-01-16T06:44:12.886695",
     "exception": false,
     "start_time": "2022-01-16T06:44:12.825750",
     "status": "completed"
    },
    "tags": []
   },
   "outputs": [],
   "source": [
    "def tokenizeAndEmbedding(dataframe):\n",
    "    tokenizer_x, X = wordTokenizer(data['text'])\n",
    "    tokenizer_y, Y = wordTokenizer(data['headlines'])\n",
    "\n",
    "    embedding_matrix = np.zeros((numWords+1, 100))\n",
    "    for i,word in tokenizer_x.index_word.items():\n",
    "        if i<numWords+1:\n",
    "            embedding_vector = embeddings_index.get(word)\n",
    "            if embedding_vector is not None:\n",
    "                embedding_matrix[i] = embedding_vector\n",
    "    print(embedding_matrix.shape)\n",
    "    return embedding_matrix"
   ]
  },
  {
   "cell_type": "code",
   "execution_count": 22,
   "id": "99c08285",
   "metadata": {
    "execution": {
     "iopub.execute_input": "2022-01-16T06:44:13.050623Z",
     "iopub.status.busy": "2022-01-16T06:44:13.014839Z",
     "iopub.status.idle": "2022-01-16T06:44:18.340030Z",
     "shell.execute_reply": "2022-01-16T06:44:18.340452Z",
     "shell.execute_reply.started": "2022-01-16T06:22:49.061542Z"
    },
    "papermill": {
     "duration": 5.40387,
     "end_time": "2022-01-16T06:44:18.340621",
     "exception": false,
     "start_time": "2022-01-16T06:44:12.936751",
     "status": "completed"
    },
    "tags": []
   },
   "outputs": [
    {
     "name": "stdout",
     "output_type": "stream",
     "text": [
      "(62370, 100)\n"
     ]
    }
   ],
   "source": [
    "embedding_matrix = tokenizeAndEmbedding(data)"
   ]
  },
  {
   "cell_type": "code",
   "execution_count": 29,
   "id": "99178f25",
   "metadata": {
    "execution": {
     "iopub.execute_input": "2022-01-16T06:44:19.537399Z",
     "iopub.status.busy": "2022-01-16T06:44:19.536636Z",
     "iopub.status.idle": "2022-01-16T06:44:19.973546Z",
     "shell.execute_reply": "2022-01-16T06:44:19.974527Z",
     "shell.execute_reply.started": "2022-01-16T06:22:55.899044Z"
    },
    "id": "7JA07ZzL0nhw",
    "outputId": "5535e162-8446-4832-a2e9-82c5eb2dd588",
    "papermill": {
     "duration": 0.494989,
     "end_time": "2022-01-16T06:44:19.974738",
     "exception": false,
     "start_time": "2022-01-16T06:44:19.479749",
     "status": "completed"
    },
    "tags": []
   },
   "outputs": [
    {
     "name": "stdout",
     "output_type": "stream",
     "text": [
      "all the words in the corpus 2235816\n",
      "the unique words in the corpus 62368\n",
      "The number of words that are present in both glove vectors and our corpus are 62367 which is nearly 100.0% \n",
      "word 2 vec length 62367\n"
     ]
    }
   ],
   "source": [
    "words_source_train = []\n",
    "for i in data['text'] :\n",
    "  words_source_train.extend(i.split(' '))\n",
    "\n",
    "print(\"all the words in the corpus\", len(words_source_train))\n",
    "words_source_train = set(words_source_train)\n",
    "print(\"the unique words in the corpus\", len(words_source_train))\n",
    "inter_words = set(embeddings_index.keys()).intersection(words_source_train)\n",
    "print(\"The number of words that are present in both glove vectors and our corpus are {} which \\\n",
    "is nearly {}% \".format(len(inter_words), np.round((float(len(inter_words))/len(words_source_train))\n",
    "*100)))\n",
    "\n",
    "words_corpus_source_train = {}\n",
    "words_glove = set(embeddings_index.keys())\n",
    "for i in words_source_train:\n",
    "  if i in words_glove:\n",
    "    words_corpus_source_train[i] = embeddings_index[i]\n",
    "print(\"word 2 vec length\", len(words_corpus_source_train))"
   ]
  },
  {
   "cell_type": "code",
   "execution_count": 30,
   "id": "486e6075",
   "metadata": {
    "execution": {
     "iopub.execute_input": "2022-01-16T06:44:20.081478Z",
     "iopub.status.busy": "2022-01-16T06:44:20.080876Z",
     "iopub.status.idle": "2022-01-16T06:44:20.083455Z",
     "shell.execute_reply": "2022-01-16T06:44:20.084044Z",
     "shell.execute_reply.started": "2022-01-16T06:22:56.448747Z"
    },
    "papermill": {
     "duration": 0.058135,
     "end_time": "2022-01-16T06:44:20.084222",
     "exception": false,
     "start_time": "2022-01-16T06:44:20.026087",
     "status": "completed"
    },
    "tags": []
   },
   "outputs": [
    {
     "name": "stdout",
     "output_type": "stream",
     "text": [
      "['']\n"
     ]
    }
   ],
   "source": [
    "print(list(words_source_train - inter_words)[:20])"
   ]
  },
  {
   "cell_type": "code",
   "execution_count": 31,
   "id": "67eec47f",
   "metadata": {
    "execution": {
     "iopub.execute_input": "2022-01-16T06:44:20.203509Z",
     "iopub.status.busy": "2022-01-16T06:44:20.191150Z",
     "iopub.status.idle": "2022-01-16T06:44:20.580265Z",
     "shell.execute_reply": "2022-01-16T06:44:20.579796Z",
     "shell.execute_reply.started": "2022-01-16T06:22:56.459099Z"
    },
    "id": "hT_Ak7qtkv2_",
    "papermill": {
     "duration": 0.445436,
     "end_time": "2022-01-16T06:44:20.580396",
     "exception": false,
     "start_time": "2022-01-16T06:44:20.134960",
     "status": "completed"
    },
    "tags": []
   },
   "outputs": [],
   "source": [
    "def num(text):\n",
    "  words = [w for w in text.split() if not w in inter_words]\n",
    "  return len(words)\n",
    "\n",
    "data['unique_words'] = data['text'].apply(num)"
   ]
  },
  {
   "cell_type": "code",
   "execution_count": 32,
   "id": "69b9d15f",
   "metadata": {
    "execution": {
     "iopub.execute_input": "2022-01-16T06:44:20.687172Z",
     "iopub.status.busy": "2022-01-16T06:44:20.686385Z",
     "iopub.status.idle": "2022-01-16T06:44:20.691787Z",
     "shell.execute_reply": "2022-01-16T06:44:20.691332Z",
     "shell.execute_reply.started": "2022-01-16T06:22:56.945603Z"
    },
    "papermill": {
     "duration": 0.061149,
     "end_time": "2022-01-16T06:44:20.691899",
     "exception": false,
     "start_time": "2022-01-16T06:44:20.630750",
     "status": "completed"
    },
    "tags": []
   },
   "outputs": [
    {
     "data": {
      "text/plain": [
       "0    55104\n",
       "Name: unique_words, dtype: int64"
      ]
     },
     "execution_count": 32,
     "metadata": {},
     "output_type": "execute_result"
    }
   ],
   "source": [
    "data['unique_words'].value_counts()"
   ]
  },
  {
   "cell_type": "code",
   "execution_count": 33,
   "id": "fa3c808d",
   "metadata": {
    "execution": {
     "iopub.execute_input": "2022-01-16T06:44:20.796381Z",
     "iopub.status.busy": "2022-01-16T06:44:20.795721Z",
     "iopub.status.idle": "2022-01-16T06:44:20.803020Z",
     "shell.execute_reply": "2022-01-16T06:44:20.802605Z",
     "shell.execute_reply.started": "2022-01-16T06:22:56.969131Z"
    },
    "id": "N4RZLvQ00zBN",
    "papermill": {
     "duration": 0.061297,
     "end_time": "2022-01-16T06:44:20.803137",
     "exception": false,
     "start_time": "2022-01-16T06:44:20.741840",
     "status": "completed"
    },
    "tags": []
   },
   "outputs": [],
   "source": [
    "data = data[data['unique_words'] < 4]\n",
    "data.reset_index(inplace=True, drop=True)"
   ]
  },
  {
   "cell_type": "code",
   "execution_count": 34,
   "id": "22ec720f",
   "metadata": {
    "execution": {
     "iopub.execute_input": "2022-01-16T06:44:20.913879Z",
     "iopub.status.busy": "2022-01-16T06:44:20.913239Z",
     "iopub.status.idle": "2022-01-16T06:44:20.916170Z",
     "shell.execute_reply": "2022-01-16T06:44:20.916557Z",
     "shell.execute_reply.started": "2022-01-16T06:22:56.988610Z"
    },
    "id": "uF08PoBm1N78",
    "outputId": "b54f44b1-d68b-428c-d37d-37f691f00573",
    "papermill": {
     "duration": 0.064167,
     "end_time": "2022-01-16T06:44:20.916689",
     "exception": false,
     "start_time": "2022-01-16T06:44:20.852522",
     "status": "completed"
    },
    "tags": []
   },
   "outputs": [
    {
     "data": {
      "text/html": [
       "<div>\n",
       "<style scoped>\n",
       "    .dataframe tbody tr th:only-of-type {\n",
       "        vertical-align: middle;\n",
       "    }\n",
       "\n",
       "    .dataframe tbody tr th {\n",
       "        vertical-align: top;\n",
       "    }\n",
       "\n",
       "    .dataframe thead th {\n",
       "        text-align: right;\n",
       "    }\n",
       "</style>\n",
       "<table border=\"1\" class=\"dataframe\">\n",
       "  <thead>\n",
       "    <tr style=\"text-align: right;\">\n",
       "      <th></th>\n",
       "      <th>headlines</th>\n",
       "      <th>text</th>\n",
       "      <th>unique_words</th>\n",
       "    </tr>\n",
       "  </thead>\n",
       "  <tbody>\n",
       "    <tr>\n",
       "      <th>0</th>\n",
       "      <td>_START_ 4 ex-bank officials booked for cheatin...</td>\n",
       "      <td>cbi saturday book four former official syndica...</td>\n",
       "      <td>0</td>\n",
       "    </tr>\n",
       "    <tr>\n",
       "      <th>1</th>\n",
       "      <td>_START_ Supreme Court to go paperless in 6 mon...</td>\n",
       "      <td>chief justice js khehar say supreme court go p...</td>\n",
       "      <td>0</td>\n",
       "    </tr>\n",
       "    <tr>\n",
       "      <th>2</th>\n",
       "      <td>_START_ At least 3 killed, 30 injured in blast...</td>\n",
       "      <td>least three people kill include policeman 30 o...</td>\n",
       "      <td>0</td>\n",
       "    </tr>\n",
       "    <tr>\n",
       "      <th>3</th>\n",
       "      <td>_START_ Why has Reliance been barred from trad...</td>\n",
       "      <td>mukesh ambani lead reliance industry 2007 ril ...</td>\n",
       "      <td>0</td>\n",
       "    </tr>\n",
       "    <tr>\n",
       "      <th>4</th>\n",
       "      <td>_START_ Was stopped from entering my own studi...</td>\n",
       "      <td>tv news anchor arnab goswami say tell could pr...</td>\n",
       "      <td>0</td>\n",
       "    </tr>\n",
       "    <tr>\n",
       "      <th>...</th>\n",
       "      <td>...</td>\n",
       "      <td>...</td>\n",
       "      <td>...</td>\n",
       "    </tr>\n",
       "    <tr>\n",
       "      <th>55099</th>\n",
       "      <td>_START_ Sensex loses 400 points to hit 52-week...</td>\n",
       "      <td>track weak cue asian market benchmark sensex w...</td>\n",
       "      <td>0</td>\n",
       "    </tr>\n",
       "    <tr>\n",
       "      <th>55100</th>\n",
       "      <td>_START_ China to inject $91 bn into the money ...</td>\n",
       "      <td>amid grow concern china 39 s economic growth r...</td>\n",
       "      <td>0</td>\n",
       "    </tr>\n",
       "    <tr>\n",
       "      <th>55101</th>\n",
       "      <td>_START_ Ghulam Ali set to make acting debut in...</td>\n",
       "      <td>pakistani ghazal singer ghulam ali soon make a...</td>\n",
       "      <td>0</td>\n",
       "    </tr>\n",
       "    <tr>\n",
       "      <th>55102</th>\n",
       "      <td>_START_ IS acknowledges death of Jihadi John: ...</td>\n",
       "      <td>islamic state acknowledge death 39 jihadi john...</td>\n",
       "      <td>0</td>\n",
       "    </tr>\n",
       "    <tr>\n",
       "      <th>55103</th>\n",
       "      <td>_START_ Cairn to seek $600 mn from India in da...</td>\n",
       "      <td>uk base oil firm cairn energy tuesday say seek...</td>\n",
       "      <td>0</td>\n",
       "    </tr>\n",
       "  </tbody>\n",
       "</table>\n",
       "<p>55104 rows × 3 columns</p>\n",
       "</div>"
      ],
      "text/plain": [
       "                                               headlines  \\\n",
       "0      _START_ 4 ex-bank officials booked for cheatin...   \n",
       "1      _START_ Supreme Court to go paperless in 6 mon...   \n",
       "2      _START_ At least 3 killed, 30 injured in blast...   \n",
       "3      _START_ Why has Reliance been barred from trad...   \n",
       "4      _START_ Was stopped from entering my own studi...   \n",
       "...                                                  ...   \n",
       "55099  _START_ Sensex loses 400 points to hit 52-week...   \n",
       "55100  _START_ China to inject $91 bn into the money ...   \n",
       "55101  _START_ Ghulam Ali set to make acting debut in...   \n",
       "55102  _START_ IS acknowledges death of Jihadi John: ...   \n",
       "55103  _START_ Cairn to seek $600 mn from India in da...   \n",
       "\n",
       "                                                    text  unique_words  \n",
       "0      cbi saturday book four former official syndica...             0  \n",
       "1      chief justice js khehar say supreme court go p...             0  \n",
       "2      least three people kill include policeman 30 o...             0  \n",
       "3      mukesh ambani lead reliance industry 2007 ril ...             0  \n",
       "4      tv news anchor arnab goswami say tell could pr...             0  \n",
       "...                                                  ...           ...  \n",
       "55099  track weak cue asian market benchmark sensex w...             0  \n",
       "55100  amid grow concern china 39 s economic growth r...             0  \n",
       "55101  pakistani ghazal singer ghulam ali soon make a...             0  \n",
       "55102  islamic state acknowledge death 39 jihadi john...             0  \n",
       "55103  uk base oil firm cairn energy tuesday say seek...             0  \n",
       "\n",
       "[55104 rows x 3 columns]"
      ]
     },
     "execution_count": 34,
     "metadata": {},
     "output_type": "execute_result"
    }
   ],
   "source": [
    "data"
   ]
  },
  {
   "cell_type": "markdown",
   "id": "148dac1a",
   "metadata": {},
   "source": [
    "### Splitting Data"
   ]
  },
  {
   "cell_type": "code",
   "execution_count": 35,
   "id": "3cce760c",
   "metadata": {
    "execution": {
     "iopub.execute_input": "2022-01-16T06:44:21.024894Z",
     "iopub.status.busy": "2022-01-16T06:44:21.024223Z",
     "iopub.status.idle": "2022-01-16T06:44:21.050448Z",
     "shell.execute_reply": "2022-01-16T06:44:21.050860Z",
     "shell.execute_reply.started": "2022-01-16T06:22:57.008886Z"
    },
    "id": "5JaGAWYn7kqR",
    "papermill": {
     "duration": 0.083879,
     "end_time": "2022-01-16T06:44:21.050995",
     "exception": false,
     "start_time": "2022-01-16T06:44:20.967116",
     "status": "completed"
    },
    "tags": []
   },
   "outputs": [],
   "source": [
    "from sklearn.model_selection import train_test_split\n",
    "X_train, X_val, y_train, y_val = train_test_split(data['text'], data['headlines'], test_size = 0.2, random_state = 20)\n",
    "X_test, X_val, y_test, y_val = train_test_split(X_val, y_val, test_size = 0.5, random_state = 20)"
   ]
  },
  {
   "cell_type": "code",
   "execution_count": 36,
   "id": "cb793249",
   "metadata": {
    "execution": {
     "iopub.execute_input": "2022-01-16T06:44:21.157495Z",
     "iopub.status.busy": "2022-01-16T06:44:21.156833Z",
     "iopub.status.idle": "2022-01-16T06:44:21.158849Z",
     "shell.execute_reply": "2022-01-16T06:44:21.159213Z",
     "shell.execute_reply.started": "2022-01-16T06:22:57.038264Z"
    },
    "id": "zhoRlF5L_qwa",
    "papermill": {
     "duration": 0.057965,
     "end_time": "2022-01-16T06:44:21.159334",
     "exception": false,
     "start_time": "2022-01-16T06:44:21.101369",
     "status": "completed"
    },
    "tags": []
   },
   "outputs": [],
   "source": [
    "max_length_x = max(text_length)\n",
    "max_length_y = max(headlines_length)"
   ]
  },
  {
   "cell_type": "markdown",
   "id": "1608a589",
   "metadata": {},
   "source": [
    "### Tokenization"
   ]
  },
  {
   "cell_type": "code",
   "execution_count": 37,
   "id": "444f18e4",
   "metadata": {
    "execution": {
     "iopub.execute_input": "2022-01-16T06:44:21.316735Z",
     "iopub.status.busy": "2022-01-16T06:44:21.280446Z",
     "iopub.status.idle": "2022-01-16T06:44:26.237562Z",
     "shell.execute_reply": "2022-01-16T06:44:26.236685Z",
     "shell.execute_reply.started": "2022-01-16T06:22:57.048189Z"
    },
    "id": "QXQdLrLK0l5B",
    "papermill": {
     "duration": 5.026725,
     "end_time": "2022-01-16T06:44:26.237735",
     "exception": false,
     "start_time": "2022-01-16T06:44:21.211010",
     "status": "completed"
    },
    "tags": []
   },
   "outputs": [],
   "source": [
    "x_t = Tokenizer()\n",
    "x_t.fit_on_texts(data['text'] + data['headlines'])\n",
    "x_vocab_size = len(x_t.word_index) + 1\n",
    "\n",
    "encoded_xtrain = x_t.texts_to_sequences(X_train)\n",
    "encoded_xval = x_t.texts_to_sequences(X_val)\n",
    "encoded_xtest = x_t.texts_to_sequences(X_test)\n",
    "\n",
    "padded_xtrain = pad_sequences(encoded_xtrain, maxlen=max_length_x, padding='post')\n",
    "padded_xval = pad_sequences(encoded_xval, maxlen=max_length_x, padding='post')\n",
    "padded_xtest = pad_sequences(encoded_xtest, maxlen=max_length_x, padding='post')"
   ]
  },
  {
   "cell_type": "code",
   "execution_count": 38,
   "id": "c8ca44b0",
   "metadata": {
    "execution": {
     "iopub.execute_input": "2022-01-16T06:44:26.392098Z",
     "iopub.status.busy": "2022-01-16T06:44:26.351137Z",
     "iopub.status.idle": "2022-01-16T06:44:28.327651Z",
     "shell.execute_reply": "2022-01-16T06:44:28.327088Z",
     "shell.execute_reply.started": "2022-01-16T06:23:03.640796Z"
    },
    "id": "n7SVsptTNPtP",
    "papermill": {
     "duration": 2.039522,
     "end_time": "2022-01-16T06:44:28.327779",
     "exception": false,
     "start_time": "2022-01-16T06:44:26.288257",
     "status": "completed"
    },
    "tags": []
   },
   "outputs": [],
   "source": [
    "y_t = Tokenizer()\n",
    "y_t.fit_on_texts(data['headlines'])\n",
    "y_vocab_size = len(y_t.word_index) + 1\n",
    "\n",
    "encoded_ytrain = y_t.texts_to_sequences(y_train)\n",
    "encoded_yval = y_t.texts_to_sequences(y_val)\n",
    "encoded_ytest = y_t.texts_to_sequences(y_test)\n",
    "\n",
    "padded_ytrain = pad_sequences(encoded_ytrain, maxlen=max_length_y, padding='post')\n",
    "padded_yval = pad_sequences(encoded_yval, maxlen=max_length_y, padding='post')\n",
    "padded_ytest = pad_sequences(encoded_ytest, maxlen=max_length_y, padding='post')"
   ]
  },
  {
   "cell_type": "code",
   "execution_count": 39,
   "id": "ee9f5835",
   "metadata": {
    "execution": {
     "iopub.execute_input": "2022-01-16T06:44:28.441837Z",
     "iopub.status.busy": "2022-01-16T06:44:28.440998Z",
     "iopub.status.idle": "2022-01-16T06:44:28.564532Z",
     "shell.execute_reply": "2022-01-16T06:44:28.565097Z",
     "shell.execute_reply.started": "2022-01-16T06:23:06.418348Z"
    },
    "id": "rM-974HV0nKo",
    "outputId": "6aa27890-eaf7-4e0f-e594-8057efa18be6",
    "papermill": {
     "duration": 0.186254,
     "end_time": "2022-01-16T06:44:28.565293",
     "exception": false,
     "start_time": "2022-01-16T06:44:28.379039",
     "status": "completed"
    },
    "tags": []
   },
   "outputs": [
    {
     "name": "stdout",
     "output_type": "stream",
     "text": [
      "Loaded 62369 word vectors.\n"
     ]
    }
   ],
   "source": [
    "print('Loaded %s word vectors.' % len(embeddings_index))\n",
    "\n",
    "embedding_matrix = np.zeros((x_vocab_size, 100))\n",
    "for word, i in x_t.word_index.items():\n",
    "\tembedding_vector = embeddings_index.get(word)\n",
    "\tif embedding_vector is not None:\n",
    "\t\tembedding_matrix[i] = embedding_vector"
   ]
  },
  {
   "cell_type": "markdown",
   "id": "1fc55330",
   "metadata": {
    "id": "99aPNL7dqnfh",
    "papermill": {
     "duration": 0.050871,
     "end_time": "2022-01-16T06:44:28.668049",
     "exception": false,
     "start_time": "2022-01-16T06:44:28.617178",
     "status": "completed"
    },
    "tags": []
   },
   "source": [
    "### Building Model"
   ]
  },
  {
   "cell_type": "code",
   "execution_count": 42,
   "id": "5b715c8b",
   "metadata": {
    "execution": {
     "iopub.execute_input": "2022-01-16T06:44:29.008302Z",
     "iopub.status.busy": "2022-01-16T06:44:29.007780Z",
     "iopub.status.idle": "2022-01-16T06:44:37.661883Z",
     "shell.execute_reply": "2022-01-16T06:44:37.662857Z",
     "shell.execute_reply.started": "2022-01-16T06:35:59.781702Z"
    },
    "id": "wTukjl0hpPgo",
    "outputId": "6035a9eb-baac-43ff-a123-74e1ae1f02b7",
    "papermill": {
     "duration": 8.715315,
     "end_time": "2022-01-16T06:44:37.663068",
     "exception": false,
     "start_time": "2022-01-16T06:44:28.947753",
     "status": "completed"
    },
    "tags": []
   },
   "outputs": [
    {
     "name": "stderr",
     "output_type": "stream",
     "text": [
      "2022-01-16 06:44:29.046236: I tensorflow/stream_executor/cuda/cuda_gpu_executor.cc:937] successful NUMA node read from SysFS had negative value (-1), but there must be at least one NUMA node, so returning NUMA node zero\n",
      "2022-01-16 06:44:29.047394: I tensorflow/stream_executor/cuda/cuda_gpu_executor.cc:937] successful NUMA node read from SysFS had negative value (-1), but there must be at least one NUMA node, so returning NUMA node zero\n",
      "2022-01-16 06:44:29.048044: I tensorflow/stream_executor/cuda/cuda_gpu_executor.cc:937] successful NUMA node read from SysFS had negative value (-1), but there must be at least one NUMA node, so returning NUMA node zero\n",
      "2022-01-16 06:44:29.048806: I tensorflow/core/platform/cpu_feature_guard.cc:142] This TensorFlow binary is optimized with oneAPI Deep Neural Network Library (oneDNN) to use the following CPU instructions in performance-critical operations:  AVX2 AVX512F FMA\n",
      "To enable them in other operations, rebuild TensorFlow with the appropriate compiler flags.\n",
      "2022-01-16 06:44:29.049774: I tensorflow/stream_executor/cuda/cuda_gpu_executor.cc:937] successful NUMA node read from SysFS had negative value (-1), but there must be at least one NUMA node, so returning NUMA node zero\n",
      "2022-01-16 06:44:29.050421: I tensorflow/stream_executor/cuda/cuda_gpu_executor.cc:937] successful NUMA node read from SysFS had negative value (-1), but there must be at least one NUMA node, so returning NUMA node zero\n",
      "2022-01-16 06:44:29.051061: I tensorflow/stream_executor/cuda/cuda_gpu_executor.cc:937] successful NUMA node read from SysFS had negative value (-1), but there must be at least one NUMA node, so returning NUMA node zero\n",
      "2022-01-16 06:44:36.071440: I tensorflow/stream_executor/cuda/cuda_gpu_executor.cc:937] successful NUMA node read from SysFS had negative value (-1), but there must be at least one NUMA node, so returning NUMA node zero\n",
      "2022-01-16 06:44:36.072398: I tensorflow/stream_executor/cuda/cuda_gpu_executor.cc:937] successful NUMA node read from SysFS had negative value (-1), but there must be at least one NUMA node, so returning NUMA node zero\n",
      "2022-01-16 06:44:36.073214: I tensorflow/stream_executor/cuda/cuda_gpu_executor.cc:937] successful NUMA node read from SysFS had negative value (-1), but there must be at least one NUMA node, so returning NUMA node zero\n",
      "2022-01-16 06:44:36.073823: I tensorflow/core/common_runtime/gpu/gpu_device.cc:1510] Created device /job:localhost/replica:0/task:0/device:GPU:0 with 14589 MB memory:  -> device: 0, name: Tesla P100-PCIE-16GB, pci bus id: 0000:00:04.0, compute capability: 6.0\n"
     ]
    },
    {
     "name": "stdout",
     "output_type": "stream",
     "text": [
      "Model: \"model\"\n",
      "__________________________________________________________________________________________________\n",
      "Layer (type)                    Output Shape         Param #     Connected to                     \n",
      "==================================================================================================\n",
      "input_1 (InputLayer)            [(None, 71)]         0                                            \n",
      "__________________________________________________________________________________________________\n",
      "embedding (Embedding)           (None, 71, 100)      6984400     input_1[0][0]                    \n",
      "__________________________________________________________________________________________________\n",
      "gru (GRU)                       [(None, 71, 80), (No 43680       embedding[0][0]                  \n",
      "__________________________________________________________________________________________________\n",
      "gru_1 (GRU)                     [(None, 71, 80), (No 38880       gru[0][0]                        \n",
      "__________________________________________________________________________________________________\n",
      "input_2 (InputLayer)            [(None, None)]       0                                            \n",
      "__________________________________________________________________________________________________\n",
      "gru_2 (GRU)                     [(None, 71, 80), (No 38880       gru_1[0][0]                      \n",
      "__________________________________________________________________________________________________\n",
      "embedding_1 (Embedding)         (None, None, 100)    6984400     input_2[0][0]                    \n",
      "__________________________________________________________________________________________________\n",
      "gru_3 (GRU)                     [(None, 71, 80), (No 38880       gru_2[0][0]                      \n",
      "__________________________________________________________________________________________________\n",
      "gru_4 (GRU)                     [(None, None, 80), ( 43680       embedding_1[0][0]                \n",
      "                                                                 gru_3[0][1]                      \n",
      "__________________________________________________________________________________________________\n",
      "gru_5 (GRU)                     [(None, None, 80), ( 38880       gru_4[0][0]                      \n",
      "                                                                 gru_4[0][1]                      \n",
      "__________________________________________________________________________________________________\n",
      "gru_6 (GRU)                     [(None, None, 80), ( 38880       gru_5[0][0]                      \n",
      "                                                                 gru_5[0][1]                      \n",
      "__________________________________________________________________________________________________\n",
      "time_distributed (TimeDistribut (None, None, 29658)  2402298     gru_6[0][0]                      \n",
      "==================================================================================================\n",
      "Total params: 16,652,858\n",
      "Trainable params: 2,684,058\n",
      "Non-trainable params: 13,968,800\n",
      "__________________________________________________________________________________________________\n",
      "None\n"
     ]
    }
   ],
   "source": [
    "latent_dim=80\n",
    "\n",
    "K.clear_session() \n",
    "\n",
    "encoder_inputs = Input(shape=(max_length_x,)) \n",
    "enc_emb = Embedding(x_vocab_size, 100, weights=[embedding_matrix],input_length=max_length_x, trainable=False)(encoder_inputs) \n",
    "\n",
    "#LSTM \n",
    "encoder_lstm1 = GRU(latent_dim,return_sequences=True,return_state=True) \n",
    "encoder_output1, state_h1 = encoder_lstm1(enc_emb) \n",
    "encoder_lstm2 = GRU(latent_dim,return_sequences=True,return_state=True) \n",
    "encoder_output2, state_h2 = encoder_lstm2(encoder_output1) \n",
    "encoder_lstm3 = GRU(latent_dim, return_state=True, return_sequences=True) \n",
    "encoder_outputs3, state_h3= encoder_lstm3(encoder_output2)\n",
    "encoder_lstm4 = GRU(latent_dim,return_sequences=True,return_state=True) \n",
    "encoder_outputs, state_h = encoder_lstm4(encoder_outputs3) \n",
    "\n",
    "encoder_states = [state_h]\n",
    "# Decoder. \n",
    "decoder_inputs = Input(shape=(None,)) \n",
    "dec_emb_layer = Embedding(x_vocab_size, 100, weights=[embedding_matrix],input_length=max_length_x, trainable=False) \n",
    "dec_emb = dec_emb_layer(decoder_inputs) \n",
    "\n",
    "# GRU using encoder_states as initial state\n",
    "decoder_lstm1 = GRU(80, return_sequences=True, return_state=True) \n",
    "decoder_outputs1,decoder_fwd_state1 = decoder_lstm1(dec_emb,initial_state=[state_h]) \n",
    "\n",
    "decoder_lstm2 = GRU(80, return_sequences=True, return_state=True) \n",
    "decoder_outputs2,decoder_fwd_state2 = decoder_lstm2(decoder_outputs1,initial_state=[decoder_fwd_state1]) \n",
    "\n",
    "decoder_lstm3 = GRU(80, return_sequences=True, return_state=True) \n",
    "decoder_outputs,decoder_fwd_state = decoder_lstm3(decoder_outputs2,initial_state=[decoder_fwd_state2]) \n",
    "\n",
    "\n",
    "decoder_dense = TimeDistributed(Dense(y_vocab_size, activation='softmax')) \n",
    "decoder_outputs = decoder_dense(decoder_outputs) \n",
    "\n",
    "model = Model([encoder_inputs, decoder_inputs], decoder_outputs) \n",
    "print(model.summary())"
   ]
  },
  {
   "cell_type": "code",
   "execution_count": 43,
   "id": "a2b65d79",
   "metadata": {
    "execution": {
     "iopub.execute_input": "2022-01-16T06:44:37.781390Z",
     "iopub.status.busy": "2022-01-16T06:44:37.780405Z",
     "iopub.status.idle": "2022-01-16T07:08:07.987516Z",
     "shell.execute_reply": "2022-01-16T07:08:07.986773Z",
     "shell.execute_reply.started": "2022-01-16T06:36:01.478838Z"
    },
    "id": "4fUJoaFAiwUb",
    "outputId": "4bc22143-d3ed-4b87-e2e6-c44f3034a816",
    "papermill": {
     "duration": 1410.272387,
     "end_time": "2022-01-16T07:08:07.988523",
     "exception": false,
     "start_time": "2022-01-16T06:44:37.716136",
     "status": "completed"
    },
    "tags": []
   },
   "outputs": [
    {
     "name": "stderr",
     "output_type": "stream",
     "text": [
      "2022-01-16 06:44:37.833493: I tensorflow/compiler/mlir/mlir_graph_optimization_pass.cc:185] None of the MLIR Optimization Passes are enabled (registered 2)\n"
     ]
    },
    {
     "name": "stdout",
     "output_type": "stream",
     "text": [
      "Epoch 1/100\n"
     ]
    },
    {
     "name": "stderr",
     "output_type": "stream",
     "text": [
      "2022-01-16 06:44:46.776392: I tensorflow/stream_executor/cuda/cuda_dnn.cc:369] Loaded cuDNN version 8005\n"
     ]
    },
    {
     "name": "stdout",
     "output_type": "stream",
     "text": [
      "87/87 [==============================] - 25s 170ms/step - loss: 6.6601 - val_loss: 5.4031\n",
      "Epoch 2/100\n",
      "87/87 [==============================] - 13s 153ms/step - loss: 5.1157 - val_loss: 4.9403\n",
      "Epoch 3/100\n",
      "87/87 [==============================] - 13s 153ms/step - loss: 4.8257 - val_loss: 4.7860\n",
      "Epoch 4/100\n",
      "87/87 [==============================] - 13s 153ms/step - loss: 4.7096 - val_loss: 4.7204\n",
      "Epoch 5/100\n",
      "87/87 [==============================] - 13s 153ms/step - loss: 4.6234 - val_loss: 4.6765\n",
      "Epoch 6/100\n",
      "87/87 [==============================] - 13s 154ms/step - loss: 4.5454 - val_loss: 4.5645\n",
      "Epoch 7/100\n",
      "87/87 [==============================] - 13s 153ms/step - loss: 4.4594 - val_loss: 4.4649\n",
      "Epoch 8/100\n",
      "87/87 [==============================] - 13s 153ms/step - loss: 4.3796 - val_loss: 4.4180\n",
      "Epoch 9/100\n",
      "87/87 [==============================] - 13s 153ms/step - loss: 4.3084 - val_loss: 4.3641\n",
      "Epoch 10/100\n",
      "87/87 [==============================] - 13s 153ms/step - loss: 4.2472 - val_loss: 4.3371\n",
      "Epoch 11/100\n",
      "87/87 [==============================] - 13s 153ms/step - loss: 4.1939 - val_loss: 4.2566\n",
      "Epoch 12/100\n",
      "87/87 [==============================] - 13s 153ms/step - loss: 4.1388 - val_loss: 4.1974\n",
      "Epoch 13/100\n",
      "87/87 [==============================] - 13s 154ms/step - loss: 4.0909 - val_loss: 4.1864\n",
      "Epoch 14/100\n",
      "87/87 [==============================] - 13s 154ms/step - loss: 4.0461 - val_loss: 4.1804\n",
      "Epoch 15/100\n",
      "87/87 [==============================] - 13s 154ms/step - loss: 4.0009 - val_loss: 4.1134\n",
      "Epoch 16/100\n",
      "87/87 [==============================] - 13s 154ms/step - loss: 3.9589 - val_loss: 4.0764\n",
      "Epoch 17/100\n",
      "87/87 [==============================] - 13s 154ms/step - loss: 3.9183 - val_loss: 4.0211\n",
      "Epoch 18/100\n",
      "87/87 [==============================] - 13s 154ms/step - loss: 3.8806 - val_loss: 4.0136\n",
      "Epoch 19/100\n",
      "87/87 [==============================] - 13s 154ms/step - loss: 3.8388 - val_loss: 3.9845\n",
      "Epoch 20/100\n",
      "87/87 [==============================] - 13s 154ms/step - loss: 3.8019 - val_loss: 3.9529\n",
      "Epoch 21/100\n",
      "87/87 [==============================] - 13s 154ms/step - loss: 3.7627 - val_loss: 3.9126\n",
      "Epoch 22/100\n",
      "87/87 [==============================] - 13s 154ms/step - loss: 3.7237 - val_loss: 3.9017\n",
      "Epoch 23/100\n",
      "87/87 [==============================] - 13s 154ms/step - loss: 3.6850 - val_loss: 3.8201\n",
      "Epoch 24/100\n",
      "87/87 [==============================] - 13s 154ms/step - loss: 3.6477 - val_loss: 3.8069\n",
      "Epoch 25/100\n",
      "87/87 [==============================] - 13s 153ms/step - loss: 3.6120 - val_loss: 3.7904\n",
      "Epoch 26/100\n",
      "87/87 [==============================] - 13s 154ms/step - loss: 3.5735 - val_loss: 3.7453\n",
      "Epoch 27/100\n",
      "87/87 [==============================] - 13s 154ms/step - loss: 3.5362 - val_loss: 3.7287\n",
      "Epoch 28/100\n",
      "87/87 [==============================] - 13s 154ms/step - loss: 3.4999 - val_loss: 3.6984\n",
      "Epoch 29/100\n",
      "87/87 [==============================] - 13s 153ms/step - loss: 3.4650 - val_loss: 3.6615\n",
      "Epoch 30/100\n",
      "87/87 [==============================] - 13s 154ms/step - loss: 3.4266 - val_loss: 3.6318\n",
      "Epoch 31/100\n",
      "87/87 [==============================] - 13s 154ms/step - loss: 3.3901 - val_loss: 3.6125\n",
      "Epoch 32/100\n",
      "87/87 [==============================] - 13s 153ms/step - loss: 3.3581 - val_loss: 3.6066\n",
      "Epoch 33/100\n",
      "87/87 [==============================] - 13s 154ms/step - loss: 3.3231 - val_loss: 3.5831\n",
      "Epoch 34/100\n",
      "87/87 [==============================] - 13s 154ms/step - loss: 3.2901 - val_loss: 3.6085\n",
      "Epoch 35/100\n",
      "87/87 [==============================] - 13s 154ms/step - loss: 3.2565 - val_loss: 3.4778\n",
      "Epoch 36/100\n",
      "87/87 [==============================] - 13s 154ms/step - loss: 3.2273 - val_loss: 3.4500\n",
      "Epoch 37/100\n",
      "87/87 [==============================] - 13s 154ms/step - loss: 3.1910 - val_loss: 3.4376\n",
      "Epoch 38/100\n",
      "87/87 [==============================] - 13s 154ms/step - loss: 3.1602 - val_loss: 3.4491\n",
      "Epoch 39/100\n",
      "87/87 [==============================] - 13s 153ms/step - loss: 3.1281 - val_loss: 3.4115\n",
      "Epoch 40/100\n",
      "87/87 [==============================] - 13s 154ms/step - loss: 3.0969 - val_loss: 3.3639\n",
      "Epoch 41/100\n",
      "87/87 [==============================] - 13s 154ms/step - loss: 3.0632 - val_loss: 3.3430\n",
      "Epoch 42/100\n",
      "87/87 [==============================] - 13s 154ms/step - loss: 3.0331 - val_loss: 3.3302\n",
      "Epoch 43/100\n",
      "87/87 [==============================] - 13s 154ms/step - loss: 3.0032 - val_loss: 3.2964\n",
      "Epoch 44/100\n",
      "87/87 [==============================] - 13s 153ms/step - loss: 2.9727 - val_loss: 3.2709\n",
      "Epoch 45/100\n",
      "87/87 [==============================] - 13s 154ms/step - loss: 2.9440 - val_loss: 3.2591\n",
      "Epoch 46/100\n",
      "87/87 [==============================] - 13s 154ms/step - loss: 2.9141 - val_loss: 3.2304\n",
      "Epoch 47/100\n",
      "87/87 [==============================] - 13s 154ms/step - loss: 2.8862 - val_loss: 3.1919\n",
      "Epoch 48/100\n",
      "87/87 [==============================] - 13s 154ms/step - loss: 2.8583 - val_loss: 3.1838\n",
      "Epoch 49/100\n",
      "87/87 [==============================] - 13s 154ms/step - loss: 2.8299 - val_loss: 3.1685\n",
      "Epoch 50/100\n",
      "87/87 [==============================] - 13s 154ms/step - loss: 2.8049 - val_loss: 3.1600\n",
      "Epoch 51/100\n",
      "87/87 [==============================] - 13s 154ms/step - loss: 2.7776 - val_loss: 3.1443\n",
      "Epoch 52/100\n",
      "87/87 [==============================] - 13s 154ms/step - loss: 2.7540 - val_loss: 3.1107\n",
      "Epoch 53/100\n",
      "87/87 [==============================] - 13s 153ms/step - loss: 2.7266 - val_loss: 3.0974\n",
      "Epoch 54/100\n",
      "87/87 [==============================] - 13s 153ms/step - loss: 2.7038 - val_loss: 3.0780\n",
      "Epoch 55/100\n",
      "87/87 [==============================] - 13s 154ms/step - loss: 2.6780 - val_loss: 3.0712\n",
      "Epoch 56/100\n",
      "87/87 [==============================] - 13s 153ms/step - loss: 2.6546 - val_loss: 3.0167\n",
      "Epoch 57/100\n",
      "87/87 [==============================] - 13s 153ms/step - loss: 2.6308 - val_loss: 2.9952\n",
      "Epoch 58/100\n",
      "87/87 [==============================] - 13s 153ms/step - loss: 2.6079 - val_loss: 3.0279\n",
      "Epoch 59/100\n",
      "87/87 [==============================] - 13s 154ms/step - loss: 2.5851 - val_loss: 2.9866\n",
      "Epoch 60/100\n",
      "87/87 [==============================] - 13s 154ms/step - loss: 2.5634 - val_loss: 2.9845\n",
      "Epoch 61/100\n",
      "87/87 [==============================] - 13s 154ms/step - loss: 2.5402 - val_loss: 2.9358\n",
      "Epoch 62/100\n",
      "87/87 [==============================] - 13s 154ms/step - loss: 2.5197 - val_loss: 2.9597\n",
      "Epoch 63/100\n",
      "87/87 [==============================] - 13s 154ms/step - loss: 2.4953 - val_loss: 2.9569\n",
      "Epoch 64/100\n",
      "87/87 [==============================] - 13s 155ms/step - loss: 2.4748 - val_loss: 2.9486\n",
      "Epoch 65/100\n",
      "87/87 [==============================] - 13s 154ms/step - loss: 2.4547 - val_loss: 2.9106\n",
      "Epoch 66/100\n",
      "87/87 [==============================] - 13s 154ms/step - loss: 2.4374 - val_loss: 2.8594\n",
      "Epoch 67/100\n",
      "87/87 [==============================] - 13s 154ms/step - loss: 2.4129 - val_loss: 2.8444\n",
      "Epoch 68/100\n",
      "87/87 [==============================] - 13s 154ms/step - loss: 2.3941 - val_loss: 2.8318\n",
      "Epoch 69/100\n",
      "87/87 [==============================] - 13s 154ms/step - loss: 2.3755 - val_loss: 2.8186\n",
      "Epoch 70/100\n",
      "87/87 [==============================] - 13s 154ms/step - loss: 2.3563 - val_loss: 2.8264\n",
      "Epoch 71/100\n",
      "87/87 [==============================] - 13s 154ms/step - loss: 2.3368 - val_loss: 2.8183\n",
      "Epoch 72/100\n",
      "87/87 [==============================] - 13s 154ms/step - loss: 2.3187 - val_loss: 2.7729\n",
      "Epoch 73/100\n",
      "87/87 [==============================] - 13s 154ms/step - loss: 2.3000 - val_loss: 2.7538\n",
      "Epoch 74/100\n",
      "87/87 [==============================] - 13s 154ms/step - loss: 2.2812 - val_loss: 2.8013\n",
      "Epoch 75/100\n",
      "87/87 [==============================] - 13s 154ms/step - loss: 2.2647 - val_loss: 2.7701\n",
      "Epoch 76/100\n",
      "87/87 [==============================] - 13s 154ms/step - loss: 2.2461 - val_loss: 2.7412\n",
      "Epoch 77/100\n",
      "87/87 [==============================] - 13s 154ms/step - loss: 2.2295 - val_loss: 2.7344\n",
      "Epoch 78/100\n",
      "87/87 [==============================] - 13s 155ms/step - loss: 2.2112 - val_loss: 2.7257\n",
      "Epoch 79/100\n",
      "87/87 [==============================] - 13s 154ms/step - loss: 2.1945 - val_loss: 2.7158\n",
      "Epoch 80/100\n",
      "87/87 [==============================] - 13s 154ms/step - loss: 2.1764 - val_loss: 2.7171\n",
      "Epoch 81/100\n",
      "87/87 [==============================] - 13s 154ms/step - loss: 2.1591 - val_loss: 2.6934\n",
      "Epoch 82/100\n",
      "87/87 [==============================] - 13s 154ms/step - loss: 2.1438 - val_loss: 2.6830\n",
      "Epoch 83/100\n",
      "87/87 [==============================] - 13s 154ms/step - loss: 2.1281 - val_loss: 2.6671\n",
      "Epoch 84/100\n",
      "87/87 [==============================] - 13s 154ms/step - loss: 2.1112 - val_loss: 2.6493\n",
      "Epoch 85/100\n",
      "87/87 [==============================] - 13s 155ms/step - loss: 2.0949 - val_loss: 2.6267\n",
      "Epoch 86/100\n",
      "87/87 [==============================] - 13s 154ms/step - loss: 2.0792 - val_loss: 2.6234\n",
      "Epoch 87/100\n",
      "87/87 [==============================] - 13s 154ms/step - loss: 2.0648 - val_loss: 2.6394\n",
      "Epoch 88/100\n",
      "87/87 [==============================] - 13s 155ms/step - loss: 2.0485 - val_loss: 2.6280\n",
      "Epoch 89/100\n",
      "87/87 [==============================] - 13s 154ms/step - loss: 2.0317 - val_loss: 2.6047\n",
      "Epoch 90/100\n",
      "87/87 [==============================] - 13s 154ms/step - loss: 2.0183 - val_loss: 2.6240\n",
      "Epoch 91/100\n",
      "87/87 [==============================] - 13s 154ms/step - loss: 2.0039 - val_loss: 2.5956\n",
      "Epoch 92/100\n",
      "87/87 [==============================] - 13s 154ms/step - loss: 1.9886 - val_loss: 2.6032\n",
      "Epoch 93/100\n",
      "87/87 [==============================] - 13s 154ms/step - loss: 1.9733 - val_loss: 2.5501\n",
      "Epoch 94/100\n",
      "87/87 [==============================] - 13s 154ms/step - loss: 1.9600 - val_loss: 2.5695\n",
      "Epoch 95/100\n",
      "87/87 [==============================] - 13s 155ms/step - loss: 1.9461 - val_loss: 2.5530\n",
      "Epoch 96/100\n",
      "87/87 [==============================] - 13s 154ms/step - loss: 1.9301 - val_loss: 2.5453\n",
      "Epoch 97/100\n",
      "87/87 [==============================] - 13s 154ms/step - loss: 1.9201 - val_loss: 2.5423\n",
      "Epoch 98/100\n",
      "87/87 [==============================] - 13s 154ms/step - loss: 1.9016 - val_loss: 2.5170\n",
      "Epoch 99/100\n",
      "87/87 [==============================] - 13s 154ms/step - loss: 1.8913 - val_loss: 2.4932\n",
      "Epoch 100/100\n",
      "87/87 [==============================] - 13s 154ms/step - loss: 1.8767 - val_loss: 2.4965\n"
     ]
    }
   ],
   "source": [
    "model.compile(optimizer='rmsprop', loss='sparse_categorical_crossentropy')\n",
    "checkpoint_filepath = './model.{epoch:02d}-{val_loss:.2f}.h5'\n",
    "model_checkpoint_callback = tf.keras.callbacks.ModelCheckpoint(filepath=checkpoint_filepath,save_weights_only=True,monitor='val_loss',mode='min',save_best_only=True, save_freq = \"epoch\")\n",
    "es = EarlyStopping(monitor='val_loss', mode='min', verbose=1, patience=4)\n",
    "history=model.fit(\n",
    "    [padded_xtrain,padded_ytrain[:,:-1]], \n",
    "    padded_ytrain.reshape(padded_ytrain.shape[0],padded_ytrain.shape[1], 1)[:,1:], \n",
    "    epochs=100,\n",
    "    batch_size=512, \n",
    "    validation_data=([padded_xval,padded_yval[:,:-1]], padded_yval.reshape(padded_yval.shape[0],padded_yval.shape[1], 1)[:,1:]), \n",
    "    callbacks=[model_checkpoint_callback])"
   ]
  },
  {
   "cell_type": "markdown",
   "id": "0b1c842b",
   "metadata": {
    "id": "0CULXhQiGpvO",
    "papermill": {
     "duration": 2.343516,
     "end_time": "2022-01-16T07:08:12.924438",
     "exception": false,
     "start_time": "2022-01-16T07:08:10.580922",
     "status": "completed"
    },
    "tags": []
   },
   "source": []
  },
  {
   "cell_type": "code",
   "execution_count": 44,
   "id": "f1678bc8",
   "metadata": {
    "execution": {
     "iopub.execute_input": "2022-01-16T07:08:17.601096Z",
     "iopub.status.busy": "2022-01-16T07:08:17.600230Z",
     "iopub.status.idle": "2022-01-16T07:08:17.768468Z",
     "shell.execute_reply": "2022-01-16T07:08:17.768013Z",
     "shell.execute_reply.started": "2022-01-16T06:37:34.149842Z"
    },
    "id": "JQf1v5WhqLLg",
    "outputId": "f5bfa510-79c7-465e-e371-ea5b36198da9",
    "papermill": {
     "duration": 2.578685,
     "end_time": "2022-01-16T07:08:17.768616",
     "exception": false,
     "start_time": "2022-01-16T07:08:15.189931",
     "status": "completed"
    },
    "tags": []
   },
   "outputs": [
    {
     "data": {
      "image/png": "[encoded data removed]",
      "text/plain": [
       "<Figure size 432x288 with 1 Axes>"
      ]
     },
     "metadata": {
      "needs_background": "light"
     },
     "output_type": "display_data"
    }
   ],
   "source": [
    "from matplotlib import pyplot \n",
    "pyplot.plot(history.history['loss'], label='train') \n",
    "pyplot.plot(history.history['val_loss'], label='test') \n",
    "pyplot.legend() \n",
    "pyplot.show()"
   ]
  },
  {
   "cell_type": "code",
   "execution_count": 45,
   "id": "2d2bd963",
   "metadata": {
    "execution": {
     "iopub.execute_input": "2022-01-16T07:08:22.667326Z",
     "iopub.status.busy": "2022-01-16T07:08:22.665658Z",
     "iopub.status.idle": "2022-01-16T07:08:22.770100Z",
     "shell.execute_reply": "2022-01-16T07:08:22.770603Z",
     "shell.execute_reply.started": "2022-01-16T06:37:34.415893Z"
    },
    "papermill": {
     "duration": 2.434598,
     "end_time": "2022-01-16T07:08:22.770772",
     "exception": false,
     "start_time": "2022-01-16T07:08:20.336174",
     "status": "completed"
    },
    "tags": []
   },
   "outputs": [],
   "source": [
    "model.save_weights(\"final_weights.h5\")"
   ]
  },
  {
   "cell_type": "markdown",
   "id": "041ed1a5",
   "metadata": {
    "id": "PZ0W3VZorHVK",
    "papermill": {
     "duration": 2.586949,
     "end_time": "2022-01-16T07:08:32.309234",
     "exception": false,
     "start_time": "2022-01-16T07:08:29.722285",
     "status": "completed"
    },
    "tags": []
   },
   "source": [
    "### Inference"
   ]
  },
  {
   "cell_type": "code",
   "execution_count": 47,
   "id": "9f0f56c9",
   "metadata": {
    "execution": {
     "iopub.execute_input": "2022-01-16T07:08:36.879058Z",
     "iopub.status.busy": "2022-01-16T07:08:36.878070Z",
     "iopub.status.idle": "2022-01-16T07:08:36.880082Z",
     "shell.execute_reply": "2022-01-16T07:08:36.880508Z",
     "shell.execute_reply.started": "2022-01-16T06:37:34.638868Z"
    },
    "id": "UlSTzEbnskcd",
    "papermill": {
     "duration": 2.283962,
     "end_time": "2022-01-16T07:08:36.880702",
     "exception": false,
     "start_time": "2022-01-16T07:08:34.596740",
     "status": "completed"
    },
    "tags": []
   },
   "outputs": [],
   "source": [
    "reverse_target_word_index = y_t.index_word \n",
    "reverse_source_word_index = x_t.index_word \n",
    "target_word_index = y_t.word_index"
   ]
  },
  {
   "cell_type": "code",
   "execution_count": 48,
   "id": "06b9af3e",
   "metadata": {
    "execution": {
     "iopub.execute_input": "2022-01-16T07:08:42.215612Z",
     "iopub.status.busy": "2022-01-16T07:08:42.214288Z",
     "iopub.status.idle": "2022-01-16T07:08:42.682772Z",
     "shell.execute_reply": "2022-01-16T07:08:42.682261Z",
     "shell.execute_reply.started": "2022-01-16T06:37:34.650165Z"
    },
    "id": "thX0Ep0Ssnd1",
    "papermill": {
     "duration": 3.332203,
     "end_time": "2022-01-16T07:08:42.682912",
     "exception": false,
     "start_time": "2022-01-16T07:08:39.350709",
     "status": "completed"
    },
    "tags": []
   },
   "outputs": [],
   "source": [
    "encoder_model = Model(inputs=encoder_inputs,outputs=[encoder_outputs, state_h])\n",
    "decoder_state_input_h = Input(shape=(latent_dim,))\n",
    "\n",
    "decoder_hidden_state_input = Input(shape=(max_length_x,latent_dim))\n",
    "\n",
    "dec_emb2= dec_emb_layer(decoder_inputs)\n",
    "decoder_outputs3, state_h3 = decoder_lstm1(dec_emb2, initial_state=[decoder_state_input_h])\n",
    "\n",
    "decoder_outputs4, state_h4 = decoder_lstm2(decoder_outputs3, initial_state=[state_h3])\n",
    "decoder_outputs5, state_h5 = decoder_lstm3(decoder_outputs4, initial_state=[state_h4])\n",
    "\n",
    "decoder_outputs5 = decoder_dense(decoder_outputs5)\n",
    "\n",
    "decoder_model = Model(\n",
    "[decoder_inputs] + [decoder_hidden_state_input,decoder_state_input_h],\n",
    "[decoder_outputs5] + [state_h5])"
   ]
  },
  {
   "cell_type": "code",
   "execution_count": 49,
   "id": "469c37c3",
   "metadata": {
    "execution": {
     "iopub.execute_input": "2022-01-16T07:08:47.296692Z",
     "iopub.status.busy": "2022-01-16T07:08:47.296024Z",
     "iopub.status.idle": "2022-01-16T07:08:47.298875Z",
     "shell.execute_reply": "2022-01-16T07:08:47.298438Z",
     "shell.execute_reply.started": "2022-01-16T06:37:35.386804Z"
    },
    "id": "wtU0wU8gsuz1",
    "papermill": {
     "duration": 2.328157,
     "end_time": "2022-01-16T07:08:47.298996",
     "exception": false,
     "start_time": "2022-01-16T07:08:44.970839",
     "status": "completed"
    },
    "tags": []
   },
   "outputs": [],
   "source": [
    "def decode_sequence(input_seq):\n",
    "    input_seq= input_seq.reshape(1,max_length_x)\n",
    "    e_out, e_h = encoder_model.predict(input_seq)\n",
    "    target_seq = np.zeros((1,1))\n",
    "    target_seq[0, 0] = target_word_index['start']\n",
    "\n",
    "    stop_condition = False\n",
    "    decoded_sentence = ''\n",
    "    while not stop_condition:\n",
    "        output_tokens, h = decoder_model.predict([target_seq] + [e_out, e_h])\n",
    "\n",
    "        sampled_token_index = np.argmax(output_tokens[0, -1, :]) \n",
    "        sampled_token = reverse_target_word_index[sampled_token_index]\n",
    "  \n",
    "        if(sampled_token!='end'):\n",
    "            decoded_sentence += ' '+sampled_token\n",
    " \n",
    "        if (sampled_token == 'end' or len(decoded_sentence.split()) >= (max_length_y-1)):\n",
    "                stop_condition = True\n",
    "\n",
    "        target_seq = np.zeros((1,1))\n",
    "        target_seq[0, 0] = sampled_token_index\n",
    "        e_h = h\n",
    "\n",
    "    return decoded_sentence"
   ]
  },
  {
   "cell_type": "code",
   "execution_count": 50,
   "id": "ff1fbfdb",
   "metadata": {
    "execution": {
     "iopub.execute_input": "2022-01-16T07:08:51.906321Z",
     "iopub.status.busy": "2022-01-16T07:08:51.904687Z",
     "iopub.status.idle": "2022-01-16T07:08:51.906907Z",
     "shell.execute_reply": "2022-01-16T07:08:51.907318Z",
     "shell.execute_reply.started": "2022-01-16T06:37:35.399899Z"
    },
    "id": "cLyRVENRs2Ay",
    "papermill": {
     "duration": 2.333703,
     "end_time": "2022-01-16T07:08:51.907463",
     "exception": false,
     "start_time": "2022-01-16T07:08:49.573760",
     "status": "completed"
    },
    "tags": []
   },
   "outputs": [],
   "source": [
    "def seq2summary(input_seq):\n",
    "    newString=''\n",
    "    for i in input_seq:\n",
    "      if((i!=0 and i!=target_word_index['start']) and i!=target_word_index['end']):\n",
    "        newString=newString+reverse_target_word_index[i]+' '\n",
    "    return newString\n",
    "\n",
    "def seq2text(input_seq):\n",
    "    newString=''\n",
    "    for i in input_seq:\n",
    "      if(i!=0):\n",
    "        newString=newString+reverse_source_word_index[i]+' '\n",
    "    return newString"
   ]
  },
  {
   "cell_type": "code",
   "execution_count": 51,
   "id": "edd2ecaa",
   "metadata": {},
   "outputs": [
    {
     "name": "stdout",
     "output_type": "stream",
     "text": [
      "\n",
      "Review: actor tiger shroff feature cover february issue man 39 s luxury lifestyle magazine 39 mansworld 39 see outfit italian luxury menswear brand canali pair watch italian luxury good brand bulgari cover story feature actor title 39 tiger shroff want perfectionist 39 \n",
      "Original summary: tiger shroff features on feb cover of 39 mansworld 39 magazine \n",
      "Predicted summary:  tiger shroff features on feb cover of 39 vogue 39 magazine\n",
      "\n"
     ]
    }
   ],
   "source": [
    "print(\"Review:\",seq2text(padded_xtest[3]))\n",
    "print(\"Original summary:\",seq2summary(padded_ytest[3]))\n",
    "print(\"Predicted summary:\",decode_sequence(padded_xtest[3]))"
   ]
  },
  {
   "cell_type": "code",
   "execution_count": 52,
   "id": "e3f651ba",
   "metadata": {},
   "outputs": [
    {
     "name": "stdout",
     "output_type": "stream",
     "text": [
      "\n",
      "Review: ice cream make pungent cheese become popular town lo tice czech republic olomouck tvar ky cheese mature cheese strong taste smell normally eat bread beer ice cream maker roman cincara say 34 it really fairly sweet ice cream tvar ky cheese taste 34 n n n \n",
      "Original summary: czech town gets ice cream made of pungent cheese \n",
      "Predicted summary:  czech town gets a beer ice in museum\n",
      "\n"
     ]
    }
   ],
   "source": [
    "print(\"Review:\",seq2text(padded_xtest[14]))\n",
    "print(\"Original summary:\",seq2summary(padded_ytest[14]))\n",
    "print(\"Predicted summary:\",decode_sequence(padded_xtest[14]))"
   ]
  },
  {
   "cell_type": "code",
   "execution_count": 53,
   "id": "a0befecf",
   "metadata": {},
   "outputs": [
    {
     "name": "stdout",
     "output_type": "stream",
     "text": [
      "\n",
      "Review: deepika padukone vin diesel starrer 39 xxx return xander cage 39 earn around 175 crore opening weekend india per film trade analyst ramesh bala film get early release india release we january 20 deepika make hollywood debut film \n",
      "Original summary: xxx return of xander cage mints ₹17 5 crore in 1st weekend \n",
      "Predicted summary:  xxx return of xander cage mints ₹17 film in 2016 report\n",
      "\n"
     ]
    }
   ],
   "source": [
    "print(\"Review:\",seq2text(padded_xtest[62]))\n",
    "print(\"Original summary:\",seq2summary(padded_ytest[62]))\n",
    "print(\"Predicted summary:\",decode_sequence(padded_xtest[62]))"
   ]
  },
  {
   "cell_type": "markdown",
   "id": "3ba41a95",
   "metadata": {
    "id": "v3Sfc9a422Rg",
    "papermill": {
     "duration": 2.342955,
     "end_time": "2022-01-16T07:09:40.987665",
     "exception": false,
     "start_time": "2022-01-16T07:09:38.644710",
     "status": "completed"
    },
    "tags": []
   },
   "source": [
    "### Evaluation"
   ]
  },
  {
   "cell_type": "code",
   "execution_count": 54,
   "id": "44e08604",
   "metadata": {
    "execution": {
     "iopub.execute_input": "2022-01-16T07:09:50.988368Z",
     "iopub.status.busy": "2022-01-16T07:09:50.986765Z",
     "iopub.status.idle": "2022-01-16T07:09:50.988953Z",
     "shell.execute_reply": "2022-01-16T07:09:50.989358Z",
     "shell.execute_reply.started": "2022-01-15T09:48:30.386422Z"
    },
    "papermill": {
     "duration": 2.319376,
     "end_time": "2022-01-16T07:09:50.989495",
     "exception": false,
     "start_time": "2022-01-16T07:09:48.670119",
     "status": "completed"
    },
    "tags": []
   },
   "outputs": [],
   "source": [
    "def BLEU_Score(y_test, y_pred):\n",
    "    references = [[seq2summary(y_test).split(\" \")]]\n",
    "    candidates = [decode_sequence(y_pred.reshape(1,max_length_x)).split(\" \")]\n",
    "    return corpus_bleu(references, candidates)"
   ]
  },
  {
   "cell_type": "code",
   "execution_count": 55,
   "id": "29cd4207",
   "metadata": {
    "execution": {
     "iopub.execute_input": "2022-01-16T07:11:01.800025Z",
     "iopub.status.busy": "2022-01-16T07:11:01.799203Z",
     "iopub.status.idle": "2022-01-16T07:15:47.733283Z",
     "shell.execute_reply": "2022-01-16T07:15:47.732375Z",
     "shell.execute_reply.started": "2022-01-15T09:49:16.780646Z"
    },
    "papermill": {
     "duration": 288.285907,
     "end_time": "2022-01-16T07:15:47.733459",
     "exception": false,
     "start_time": "2022-01-16T07:10:59.447552",
     "status": "completed"
    },
    "tags": []
   },
   "outputs": [
    {
     "name": "stdout",
     "output_type": "stream",
     "text": [
      "0.6208523275619012\n"
     ]
    }
   ],
   "source": [
    "from nltk.translate.bleu_score import corpus_bleu\n",
    "scores=[]\n",
    "for i in range(0,500):\n",
    "    scores.append(BLEU_Score(padded_ytest[i],padded_xtest[i]))\n",
    "    \n",
    "print(np.mean(scores))"
   ]
  }
 ],
 "metadata": {
  "kernelspec": {
   "display_name": "Python 3",
   "language": "python",
   "name": "python3"
  },
  "language_info": {
   "codemirror_mode": {
    "name": "ipython",
    "version": 3
   },
   "file_extension": ".py",
   "mimetype": "text/x-python",
   "name": "python",
   "nbconvert_exporter": "python",
   "pygments_lexer": "ipython3",
   "version": "3.8.3"
  },
  "papermill": {
   "default_parameters": {},
   "duration": 2227.506725,
   "end_time": "2022-01-16T07:16:19.184510",
   "environment_variables": {},
   "exception": null,
   "input_path": "__notebook__.ipynb",
   "output_path": "__notebook__.ipynb",
   "parameters": {},
   "start_time": "2022-01-16T06:39:11.677785",
   "version": "2.3.3"
  }
 },
 "nbformat": 4,
 "nbformat_minor": 5
}
