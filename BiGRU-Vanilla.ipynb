{
 "cells": [
  {
   "cell_type": "markdown",
   "id": "99836540",
   "metadata": {
    "id": "IEq-oYpmSM5r",
    "papermill": {
     "duration": 0.031885,
     "end_time": "2022-02-16T07:15:13.246431",
     "exception": false,
     "start_time": "2022-02-16T07:15:13.214546",
     "status": "completed"
    },
    "tags": []
   },
   "source": [
    "# Abstractive Text Summarization - BiGRU Vanilla"
   ]
  },
  {
   "cell_type": "markdown",
   "id": "9c25cc92",
   "metadata": {
    "id": "4iFfGxm4XgZl",
    "papermill": {
     "duration": 0.046351,
     "end_time": "2022-02-16T07:15:13.323927",
     "exception": false,
     "start_time": "2022-02-16T07:15:13.277576",
     "status": "completed"
    },
    "tags": []
   },
   "source": [
    "### Importing Basic libraries"
   ]
  },
  {
   "cell_type": "code",
   "execution_count": 1,
   "id": "f4fc4328",
   "metadata": {
    "execution": {
     "iopub.execute_input": "2022-02-16T07:15:13.416641Z",
     "iopub.status.busy": "2022-02-16T07:15:13.415865Z",
     "iopub.status.idle": "2022-02-16T07:15:19.536751Z",
     "shell.execute_reply": "2022-02-16T07:15:19.536036Z",
     "shell.execute_reply.started": "2022-02-16T07:01:34.068577Z"
    },
    "id": "lisXNzYrYOoR",
    "outputId": "4ff65cf3-36bb-49c2-a6c3-08070c9233a0",
    "papermill": {
     "duration": 6.164427,
     "end_time": "2022-02-16T07:15:19.536901",
     "exception": false,
     "start_time": "2022-02-16T07:15:13.372474",
     "status": "completed"
    },
    "tags": []
   },
   "outputs": [
    {
     "name": "stdout",
     "output_type": "stream",
     "text": [
      "[nltk_data] Downloading package stopwords to /usr/share/nltk_data...\n",
      "[nltk_data]   Package stopwords is already up-to-date!\n"
     ]
    }
   ],
   "source": [
    "import re\n",
    "import os\n",
    "import numpy as np\n",
    "import pandas as pd\n",
    "import matplotlib.pyplot as plt\n",
    "\n",
    "import nltk\n",
    "nltk.download('stopwords')\n",
    "from nltk.corpus import stopwords\n",
    "from keras.preprocessing.text import Tokenizer\n",
    "from keras.preprocessing.sequence import pad_sequences\n",
    "\n",
    "import tensorflow as tf\n",
    "from tensorflow.keras.layers import Input, LSTM, Embedding, Dense, Concatenate, TimeDistributed, Bidirectional, GRU, RNN\n",
    "from tensorflow.keras.models import Model\n",
    "from tensorflow.keras.callbacks import EarlyStopping\n",
    "from keras import backend as K \n",
    "from tensorflow.python.keras.layers import Layer\n"
   ]
  },
  {
   "cell_type": "code",
   "execution_count": 2,
   "id": "a587886f",
   "metadata": {
    "execution": {
     "iopub.execute_input": "2022-02-16T07:15:19.603978Z",
     "iopub.status.busy": "2022-02-16T07:15:19.603241Z",
     "iopub.status.idle": "2022-02-16T07:15:30.013021Z",
     "shell.execute_reply": "2022-02-16T07:15:30.012194Z",
     "shell.execute_reply.started": "2022-02-16T07:01:38.426655Z"
    },
    "papermill": {
     "duration": 10.444347,
     "end_time": "2022-02-16T07:15:30.013167",
     "exception": false,
     "start_time": "2022-02-16T07:15:19.568820",
     "status": "completed"
    },
    "tags": []
   },
   "outputs": [
    {
     "name": "stdout",
     "output_type": "stream",
     "text": [
      "Collecting openpyxl\r\n",
      "  Downloading openpyxl-3.0.9-py2.py3-none-any.whl (242 kB)\r\n",
      "     |████████████████████████████████| 242 kB 517 kB/s            \r\n",
      "\u001b[?25hCollecting et-xmlfile\r\n",
      "  Downloading et_xmlfile-1.1.0-py3-none-any.whl (4.7 kB)\r\n",
      "Installing collected packages: et-xmlfile, openpyxl\r\n",
      "Successfully installed et-xmlfile-1.1.0 openpyxl-3.0.9\r\n",
      "\u001b[33mWARNING: Running pip as the 'root' user can result in broken permissions and conflicting behaviour with the system package manager. It is recommended to use a virtual environment instead: https://pip.pypa.io/warnings/venv\u001b[0m\r\n"
     ]
    }
   ],
   "source": [
    "!pip install openpyxl"
   ]
  },
  {
   "cell_type": "markdown",
   "id": "7477fe5e",
   "metadata": {
    "id": "GSr24NviXqio",
    "papermill": {
     "duration": 0.03341,
     "end_time": "2022-02-16T07:15:30.080569",
     "exception": false,
     "start_time": "2022-02-16T07:15:30.047159",
     "status": "completed"
    },
    "tags": []
   },
   "source": [
    "### Importing Data"
   ]
  },
  {
   "cell_type": "code",
   "execution_count": 4,
   "id": "3622e604",
   "metadata": {
    "execution": {
     "iopub.execute_input": "2022-02-16T07:15:30.226137Z",
     "iopub.status.busy": "2022-02-16T07:15:30.225387Z",
     "iopub.status.idle": "2022-02-16T07:15:38.984597Z",
     "shell.execute_reply": "2022-02-16T07:15:38.984107Z",
     "shell.execute_reply.started": "2022-02-16T07:01:51.153451Z"
    },
    "papermill": {
     "duration": 8.796358,
     "end_time": "2022-02-16T07:15:38.984736",
     "exception": false,
     "start_time": "2022-02-16T07:15:30.188378",
     "status": "completed"
    },
    "tags": []
   },
   "outputs": [],
   "source": [
    "data = pd.read_excel('../input/inshorts-news-data/Inshorts Cleaned Data.xlsx')"
   ]
  },
  {
   "cell_type": "code",
   "execution_count": 5,
   "id": "e050aaca",
   "metadata": {
    "execution": {
     "iopub.execute_input": "2022-02-16T07:15:39.069198Z",
     "iopub.status.busy": "2022-02-16T07:15:39.068315Z",
     "iopub.status.idle": "2022-02-16T07:15:39.088159Z",
     "shell.execute_reply": "2022-02-16T07:15:39.088597Z",
     "shell.execute_reply.started": "2022-02-16T07:02:02.945090Z"
    },
    "papermill": {
     "duration": 0.070061,
     "end_time": "2022-02-16T07:15:39.088738",
     "exception": false,
     "start_time": "2022-02-16T07:15:39.018677",
     "status": "completed"
    },
    "tags": []
   },
   "outputs": [
    {
     "data": {
      "text/html": [
       "<div>\n",
       "<style scoped>\n",
       "    .dataframe tbody tr th:only-of-type {\n",
       "        vertical-align: middle;\n",
       "    }\n",
       "\n",
       "    .dataframe tbody tr th {\n",
       "        vertical-align: top;\n",
       "    }\n",
       "\n",
       "    .dataframe thead th {\n",
       "        text-align: right;\n",
       "    }\n",
       "</style>\n",
       "<table border=\"1\" class=\"dataframe\">\n",
       "  <thead>\n",
       "    <tr style=\"text-align: right;\">\n",
       "      <th></th>\n",
       "      <th>Headline</th>\n",
       "      <th>Short</th>\n",
       "    </tr>\n",
       "  </thead>\n",
       "  <tbody>\n",
       "    <tr>\n",
       "      <th>0</th>\n",
       "      <td>4 ex-bank officials booked for cheating bank o...</td>\n",
       "      <td>The CBI on Saturday booked four former officia...</td>\n",
       "    </tr>\n",
       "    <tr>\n",
       "      <th>1</th>\n",
       "      <td>Supreme Court to go paperless in 6 months: CJI</td>\n",
       "      <td>Chief Justice JS Khehar has said the Supreme C...</td>\n",
       "    </tr>\n",
       "    <tr>\n",
       "      <th>2</th>\n",
       "      <td>At least 3 killed, 30 injured in blast in Sylh...</td>\n",
       "      <td>At least three people were killed, including a...</td>\n",
       "    </tr>\n",
       "    <tr>\n",
       "      <th>3</th>\n",
       "      <td>Why has Reliance been barred from trading in f...</td>\n",
       "      <td>Mukesh Ambani-led Reliance Industries (RIL) wa...</td>\n",
       "    </tr>\n",
       "    <tr>\n",
       "      <th>4</th>\n",
       "      <td>Was stopped from entering my own studio at Tim...</td>\n",
       "      <td>TV news anchor Arnab Goswami has said he was t...</td>\n",
       "    </tr>\n",
       "  </tbody>\n",
       "</table>\n",
       "</div>"
      ],
      "text/plain": [
       "                                            Headline  \\\n",
       "0  4 ex-bank officials booked for cheating bank o...   \n",
       "1     Supreme Court to go paperless in 6 months: CJI   \n",
       "2  At least 3 killed, 30 injured in blast in Sylh...   \n",
       "3  Why has Reliance been barred from trading in f...   \n",
       "4  Was stopped from entering my own studio at Tim...   \n",
       "\n",
       "                                               Short  \n",
       "0  The CBI on Saturday booked four former officia...  \n",
       "1  Chief Justice JS Khehar has said the Supreme C...  \n",
       "2  At least three people were killed, including a...  \n",
       "3  Mukesh Ambani-led Reliance Industries (RIL) wa...  \n",
       "4  TV news anchor Arnab Goswami has said he was t...  "
      ]
     },
     "execution_count": 5,
     "metadata": {},
     "output_type": "execute_result"
    }
   ],
   "source": [
    "data.drop(['Source ', 'Time ', 'Publish Date'], axis=1, inplace=True)\n",
    "data.head()"
   ]
  },
  {
   "cell_type": "markdown",
   "id": "79b2dd3a",
   "metadata": {
    "execution": {
     "iopub.execute_input": "2022-02-16T07:15:39.158972Z",
     "iopub.status.busy": "2022-02-16T07:15:39.158139Z",
     "iopub.status.idle": "2022-02-16T07:15:39.161984Z",
     "shell.execute_reply": "2022-02-16T07:15:39.161547Z",
     "shell.execute_reply.started": "2022-02-16T07:02:02.992050Z"
    },
    "id": "Mis8W95SAZ5_",
    "papermill": {
     "duration": 0.039749,
     "end_time": "2022-02-16T07:15:39.162083",
     "exception": false,
     "start_time": "2022-02-16T07:15:39.122334",
     "status": "completed"
    },
    "tags": []
   },
   "source": [
    "### Punctuation and Stopword Removal"
   ]
  },
  {
   "cell_type": "code",
   "execution_count": 7,
   "id": "34e780fb",
   "metadata": {
    "execution": {
     "iopub.execute_input": "2022-02-16T07:15:39.237886Z",
     "iopub.status.busy": "2022-02-16T07:15:39.236976Z",
     "iopub.status.idle": "2022-02-16T07:15:39.241095Z",
     "shell.execute_reply": "2022-02-16T07:15:39.241633Z",
     "shell.execute_reply.started": "2022-02-16T07:02:03.000384Z"
    },
    "id": "BV8b6w9YYOoa",
    "papermill": {
     "duration": 0.046034,
     "end_time": "2022-02-16T07:15:39.241759",
     "exception": false,
     "start_time": "2022-02-16T07:15:39.195725",
     "status": "completed"
    },
    "tags": []
   },
   "outputs": [],
   "source": [
    "stop_words = stopwords.words('english')\n",
    "\n",
    "def preprocess(text):\n",
    "    text = text.lower()\n",
    "    #text = ' '.join([contractions.fix(word) for word in text.split(\" \")])    \n",
    "    \n",
    "    tokens = [w for w in text.split() if not w in stop_words]\n",
    "    text = \" \".join(tokens)\n",
    "    text = text.replace(\"'s\",'')\n",
    "    text = text.replace(\".\",'')\n",
    "    text = re.sub(r'\\(.*\\)','',text)\n",
    "    text = re.sub(r'[^a-zA-Z0-9. ]',' ',text)\n",
    "    text = re.sub(r'\\.','. ',text)\n",
    "    text = re.sub(r'\\s+', ' ', text)\n",
    "    return text\n"
   ]
  },
  {
   "cell_type": "markdown",
   "id": "eda9460c",
   "metadata": {},
   "source": [
    "### Lemmatization"
   ]
  },
  {
   "cell_type": "code",
   "execution_count": 8,
   "id": "987a7e81",
   "metadata": {
    "execution": {
     "iopub.execute_input": "2022-02-16T07:15:39.313668Z",
     "iopub.status.busy": "2022-02-16T07:15:39.312847Z",
     "iopub.status.idle": "2022-02-16T07:15:45.294705Z",
     "shell.execute_reply": "2022-02-16T07:15:45.295128Z",
     "shell.execute_reply.started": "2022-02-16T07:02:03.016795Z"
    },
    "papermill": {
     "duration": 6.018716,
     "end_time": "2022-02-16T07:15:45.295288",
     "exception": false,
     "start_time": "2022-02-16T07:15:39.276572",
     "status": "completed"
    },
    "tags": []
   },
   "outputs": [],
   "source": [
    "import spacy\n",
    "\n",
    "nlp = spacy.load('en_core_web_sm', disable=['parser', 'ner'])\n",
    "allowed_postags = ['NOUN', 'ADJ', 'VERB', 'ADV']\n",
    "def lemmatize_text(text):\n",
    "    doc = nlp(text)\n",
    "    return ' '.join([token.lemma_ for token in doc])"
   ]
  },
  {
   "cell_type": "code",
   "execution_count": 9,
   "id": "a5d78b65",
   "metadata": {
    "execution": {
     "iopub.execute_input": "2022-02-16T07:15:45.372625Z",
     "iopub.status.busy": "2022-02-16T07:15:45.371972Z",
     "iopub.status.idle": "2022-02-16T07:15:45.374715Z",
     "shell.execute_reply": "2022-02-16T07:15:45.374261Z",
     "shell.execute_reply.started": "2022-02-16T07:02:10.322608Z"
    },
    "papermill": {
     "duration": 0.043715,
     "end_time": "2022-02-16T07:15:45.374832",
     "exception": false,
     "start_time": "2022-02-16T07:15:45.331117",
     "status": "completed"
    },
    "tags": []
   },
   "outputs": [],
   "source": [
    "data.rename(columns={'Headline': 'headlines', 'Short': 'text'}, inplace=True)"
   ]
  },
  {
   "cell_type": "code",
   "execution_count": 10,
   "id": "b827bbc3",
   "metadata": {
    "execution": {
     "iopub.execute_input": "2022-02-16T07:15:45.449173Z",
     "iopub.status.busy": "2022-02-16T07:15:45.448354Z",
     "iopub.status.idle": "2022-02-16T07:15:45.450270Z",
     "shell.execute_reply": "2022-02-16T07:15:45.450703Z",
     "shell.execute_reply.started": "2022-02-16T07:02:10.334323Z"
    },
    "papermill": {
     "duration": 0.041893,
     "end_time": "2022-02-16T07:15:45.450830",
     "exception": false,
     "start_time": "2022-02-16T07:15:45.408937",
     "status": "completed"
    },
    "tags": []
   },
   "outputs": [],
   "source": [
    "original_text = str(data['text'][0])\n",
    "original_headline = str(data['headlines'][0])"
   ]
  },
  {
   "cell_type": "code",
   "execution_count": 11,
   "id": "4738506f",
   "metadata": {
    "execution": {
     "iopub.execute_input": "2022-02-16T07:15:45.536208Z",
     "iopub.status.busy": "2022-02-16T07:15:45.525872Z",
     "iopub.status.idle": "2022-02-16T07:19:31.002154Z",
     "shell.execute_reply": "2022-02-16T07:19:31.002875Z",
     "shell.execute_reply.started": "2022-02-16T07:02:10.360243Z"
    },
    "id": "ewSx5cepYOob",
    "outputId": "55b255a6-367f-4443-8184-650066137e32",
    "papermill": {
     "duration": 225.518053,
     "end_time": "2022-02-16T07:19:31.003089",
     "exception": false,
     "start_time": "2022-02-16T07:15:45.485036",
     "status": "completed"
    },
    "tags": []
   },
   "outputs": [
    {
     "name": "stdout",
     "output_type": "stream",
     "text": [
      "Summary:\n",
      "_START_ 4 ex-bank officials booked for cheating bank of ₹209 crore _END_\n",
      "Text:\n",
      "cbi saturday book four former official syndicate bank six other cheat forgery criminal conspiracy cause 209 crore loss state run bank accuse availed home loan credit syndicate bank basis forge fabricate document fund fraudulently transfer company own accuse person\n",
      "\n",
      "Summary:\n",
      "_START_ Supreme Court to go paperless in 6 months: CJI _END_\n",
      "Text:\n",
      "chief justice js khehar say supreme court go paperless six seven month bid save fund make judiciary eco friendly say apex court collect record electronically low court high court need file hard copy\n",
      "\n"
     ]
    }
   ],
   "source": [
    "processed_text = data['text'].apply(preprocess)\n",
    "data['text'] = processed_text.apply(lemmatize_text)\n",
    "data['headlines'] = data['headlines'].apply(lambda x : '_START_ '+ x + ' _END_')\n",
    "\n",
    "for i in range(2):\n",
    "    print('Summary:', data['headlines'][i],'Text:', data['text'][i], sep='\\n')\n",
    "    print()"
   ]
  },
  {
   "cell_type": "markdown",
   "id": "4ee827ec",
   "metadata": {},
   "source": [
    "### Sample Input"
   ]
  },
  {
   "cell_type": "code",
   "execution_count": 12,
   "id": "0a8fca09",
   "metadata": {
    "execution": {
     "iopub.execute_input": "2022-02-16T07:19:31.078029Z",
     "iopub.status.busy": "2022-02-16T07:19:31.077101Z",
     "iopub.status.idle": "2022-02-16T07:19:31.081313Z",
     "shell.execute_reply": "2022-02-16T07:19:31.081709Z",
     "shell.execute_reply.started": "2022-02-16T07:07:00.833635Z"
    },
    "papermill": {
     "duration": 0.043306,
     "end_time": "2022-02-16T07:19:31.081836",
     "exception": false,
     "start_time": "2022-02-16T07:19:31.038530",
     "status": "completed"
    },
    "tags": []
   },
   "outputs": [
    {
     "name": "stdout",
     "output_type": "stream",
     "text": [
      "\n",
      "ORIGINAL\n",
      "The CBI on Saturday booked four former officials of Syndicate Bank and six others for cheating, forgery, criminal conspiracy and causing ₹209 crore loss to the state-run bank. The accused had availed home loans and credit from Syndicate Bank on the basis of forged and fabricated documents. These funds were fraudulently transferred to the companies owned by the accused persons.\n",
      "4 ex-bank officials booked for cheating bank of ₹209 crore\n",
      "\n",
      "REGEX CLEANING AND STOPWORD REMOVAL:\n",
      "cbi saturday booked four former officials syndicate bank six others cheating forgery criminal conspiracy causing 209 crore loss state run bank accused availed home loans credit syndicate bank basis forged fabricated documents funds fraudulently transferred companies owned accused persons\n",
      "\n",
      "LEMMATIZATION + START AND END TOKEN\n",
      "cbi saturday book four former official syndicate bank six other cheat forgery criminal conspiracy cause 209 crore loss state run bank accuse availed home loan credit syndicate bank basis forge fabricate document fund fraudulently transfer company own accuse person\n",
      "_START_ 4 ex-bank officials booked for cheating bank of ₹209 crore _END_\n"
     ]
    }
   ],
   "source": [
    "print(\"\\nORIGINAL\")\n",
    "print(original_text)\n",
    "print(original_headline)\n",
    "\n",
    "print(\"\\nREGEX CLEANING AND STOPWORD REMOVAL:\")\n",
    "print(processed_text[0])\n",
    "# print(brief_cleaned_summary[0])\n",
    "\n",
    "print(\"\\nLEMMATIZATION + START AND END TOKEN\")\n",
    "print(data['text'][0])\n",
    "print(data['headlines'][0])"
   ]
  },
  {
   "cell_type": "code",
   "execution_count": 13,
   "id": "c939b239",
   "metadata": {
    "execution": {
     "iopub.execute_input": "2022-02-16T07:19:31.173514Z",
     "iopub.status.busy": "2022-02-16T07:19:31.158009Z",
     "iopub.status.idle": "2022-02-16T07:19:31.328403Z",
     "shell.execute_reply": "2022-02-16T07:19:31.327970Z",
     "shell.execute_reply.started": "2022-02-16T07:07:00.846100Z"
    },
    "id": "Tb68xRjGNP8z",
    "papermill": {
     "duration": 0.212773,
     "end_time": "2022-02-16T07:19:31.328551",
     "exception": false,
     "start_time": "2022-02-16T07:19:31.115778",
     "status": "completed"
    },
    "tags": []
   },
   "outputs": [],
   "source": [
    "headlines_length = [len(x.split()) for x in data.headlines]\n",
    "text_length = [len(x.split()) for x in data.text]"
   ]
  },
  {
   "cell_type": "code",
   "execution_count": 14,
   "id": "2828f9bb",
   "metadata": {
    "execution": {
     "iopub.execute_input": "2022-02-16T07:19:31.401566Z",
     "iopub.status.busy": "2022-02-16T07:19:31.400737Z",
     "iopub.status.idle": "2022-02-16T07:19:32.325582Z",
     "shell.execute_reply": "2022-02-16T07:19:32.326005Z",
     "shell.execute_reply.started": "2022-02-16T07:07:01.042474Z"
    },
    "id": "4exx0vZpoZDp",
    "outputId": "4fcef4de-8331-4731-b6af-be6b525e8351",
    "papermill": {
     "duration": 0.9629,
     "end_time": "2022-02-16T07:19:32.326148",
     "exception": false,
     "start_time": "2022-02-16T07:19:31.363248",
     "status": "completed"
    },
    "tags": []
   },
   "outputs": [
    {
     "data": {
      "image/png": "[encoded data removed]",
      "text/plain": [
       "<Figure size 720x360 with 2 Axes>"
      ]
     },
     "metadata": {
      "needs_background": "light"
     },
     "output_type": "display_data"
    }
   ],
   "source": [
    "fig, (ax1, ax2) = plt.subplots(1,2, figsize = (10,5))\n",
    "ax1.hist(headlines_length, bins = 20)\n",
    "ax2.hist(text_length, bins = 20)\n",
    "\n",
    "ax1.title.set_text(\"Words in Headlines\")\n",
    "ax2.title.set_text(\"Words in Text\")\n",
    "plt.show()"
   ]
  },
  {
   "cell_type": "code",
   "execution_count": 15,
   "id": "6bcf26a7",
   "metadata": {
    "execution": {
     "iopub.execute_input": "2022-02-16T07:19:32.471393Z",
     "iopub.status.busy": "2022-02-16T07:19:32.470579Z",
     "iopub.status.idle": "2022-02-16T07:19:32.472546Z",
     "shell.execute_reply": "2022-02-16T07:19:32.472961Z",
     "shell.execute_reply.started": "2022-02-16T07:07:02.083100Z"
    },
    "papermill": {
     "duration": 0.041253,
     "end_time": "2022-02-16T07:19:32.473086",
     "exception": false,
     "start_time": "2022-02-16T07:19:32.431833",
     "status": "completed"
    },
    "tags": []
   },
   "outputs": [],
   "source": [
    "numWords = 62369"
   ]
  },
  {
   "cell_type": "markdown",
   "id": "accb638b",
   "metadata": {},
   "source": [
    "### Splitting Data"
   ]
  },
  {
   "cell_type": "code",
   "execution_count": 16,
   "id": "dd576c54",
   "metadata": {
    "execution": {
     "iopub.execute_input": "2022-02-16T07:19:32.620631Z",
     "iopub.status.busy": "2022-02-16T07:19:32.618014Z",
     "iopub.status.idle": "2022-02-16T07:19:32.636001Z",
     "shell.execute_reply": "2022-02-16T07:19:32.636361Z",
     "shell.execute_reply.started": "2022-02-16T07:07:02.091944Z"
    },
    "id": "5JaGAWYn7kqR",
    "papermill": {
     "duration": 0.058802,
     "end_time": "2022-02-16T07:19:32.636510",
     "exception": false,
     "start_time": "2022-02-16T07:19:32.577708",
     "status": "completed"
    },
    "tags": []
   },
   "outputs": [],
   "source": [
    "from sklearn.model_selection import train_test_split\n",
    "X_train, X_val, y_train, y_val = train_test_split(data['text'], data['headlines'], test_size = 0.2, random_state = 20)\n",
    "X_test, X_val, y_test, y_val = train_test_split(X_val, y_val, test_size = 0.5, random_state = 20)"
   ]
  },
  {
   "cell_type": "code",
   "execution_count": 17,
   "id": "7bb7ffc3",
   "metadata": {
    "execution": {
     "iopub.execute_input": "2022-02-16T07:19:32.712137Z",
     "iopub.status.busy": "2022-02-16T07:19:32.711493Z",
     "iopub.status.idle": "2022-02-16T07:19:32.714136Z",
     "shell.execute_reply": "2022-02-16T07:19:32.713744Z",
     "shell.execute_reply.started": "2022-02-16T07:07:02.121171Z"
    },
    "id": "zhoRlF5L_qwa",
    "papermill": {
     "duration": 0.042521,
     "end_time": "2022-02-16T07:19:32.714248",
     "exception": false,
     "start_time": "2022-02-16T07:19:32.671727",
     "status": "completed"
    },
    "tags": []
   },
   "outputs": [],
   "source": [
    "max_length_x = max(text_length)\n",
    "max_length_y = max(headlines_length)"
   ]
  },
  {
   "cell_type": "markdown",
   "id": "f18f8673",
   "metadata": {},
   "source": [
    "### Tokenization"
   ]
  },
  {
   "cell_type": "code",
   "execution_count": 18,
   "id": "a71e42de",
   "metadata": {
    "execution": {
     "iopub.execute_input": "2022-02-16T07:19:32.804137Z",
     "iopub.status.busy": "2022-02-16T07:19:32.803362Z",
     "iopub.status.idle": "2022-02-16T07:19:37.673265Z",
     "shell.execute_reply": "2022-02-16T07:19:37.672793Z",
     "shell.execute_reply.started": "2022-02-16T07:07:02.131908Z"
    },
    "id": "QXQdLrLK0l5B",
    "papermill": {
     "duration": 4.92384,
     "end_time": "2022-02-16T07:19:37.673396",
     "exception": false,
     "start_time": "2022-02-16T07:19:32.749556",
     "status": "completed"
    },
    "tags": []
   },
   "outputs": [],
   "source": [
    "x_t = Tokenizer()\n",
    "x_t.fit_on_texts(data['text'] + data['headlines'])\n",
    "x_vocab_size = len(x_t.word_index) + 1\n",
    "\n",
    "encoded_xtrain = x_t.texts_to_sequences(X_train)\n",
    "encoded_xval = x_t.texts_to_sequences(X_val)\n",
    "encoded_xtest = x_t.texts_to_sequences(X_test)\n",
    "\n",
    "padded_xtrain = pad_sequences(encoded_xtrain, maxlen=max_length_x, padding='post')\n",
    "padded_xval = pad_sequences(encoded_xval, maxlen=max_length_x, padding='post')\n",
    "padded_xtest = pad_sequences(encoded_xtest, maxlen=max_length_x, padding='post')"
   ]
  },
  {
   "cell_type": "code",
   "execution_count": 19,
   "id": "7459af0b",
   "metadata": {
    "execution": {
     "iopub.execute_input": "2022-02-16T07:19:37.822973Z",
     "iopub.status.busy": "2022-02-16T07:19:37.787177Z",
     "iopub.status.idle": "2022-02-16T07:19:39.956640Z",
     "shell.execute_reply": "2022-02-16T07:19:39.957072Z",
     "shell.execute_reply.started": "2022-02-16T07:07:31.956484Z"
    },
    "id": "n7SVsptTNPtP",
    "papermill": {
     "duration": 2.248379,
     "end_time": "2022-02-16T07:19:39.957243",
     "exception": false,
     "start_time": "2022-02-16T07:19:37.708864",
     "status": "completed"
    },
    "tags": []
   },
   "outputs": [],
   "source": [
    "y_t = Tokenizer()\n",
    "y_t.fit_on_texts(data['headlines'])\n",
    "y_vocab_size = len(y_t.word_index) + 1\n",
    "\n",
    "encoded_ytrain = y_t.texts_to_sequences(y_train)\n",
    "encoded_yval = y_t.texts_to_sequences(y_val)\n",
    "encoded_ytest = y_t.texts_to_sequences(y_test)\n",
    "\n",
    "padded_ytrain = pad_sequences(encoded_ytrain, maxlen=max_length_y, padding='post')\n",
    "padded_yval = pad_sequences(encoded_yval, maxlen=max_length_y, padding='post')\n",
    "padded_ytest = pad_sequences(encoded_ytest, maxlen=max_length_y, padding='post')"
   ]
  },
  {
   "cell_type": "markdown",
   "id": "7fb0b46d",
   "metadata": {
    "id": "99aPNL7dqnfh",
    "papermill": {
     "duration": 0.035128,
     "end_time": "2022-02-16T07:19:40.027981",
     "exception": false,
     "start_time": "2022-02-16T07:19:39.992853",
     "status": "completed"
    },
    "tags": []
   },
   "source": [
    "### Building Model"
   ]
  },
  {
   "cell_type": "code",
   "execution_count": 21,
   "id": "4abe3391",
   "metadata": {
    "execution": {
     "iopub.execute_input": "2022-02-16T07:19:40.186124Z",
     "iopub.status.busy": "2022-02-16T07:19:40.185603Z",
     "iopub.status.idle": "2022-02-16T07:19:49.785421Z",
     "shell.execute_reply": "2022-02-16T07:19:49.784964Z",
     "shell.execute_reply.started": "2022-02-16T07:07:58.003930Z"
    },
    "id": "wTukjl0hpPgo",
    "outputId": "6035a9eb-baac-43ff-a123-74e1ae1f02b7",
    "papermill": {
     "duration": 9.645173,
     "end_time": "2022-02-16T07:19:49.785572",
     "exception": false,
     "start_time": "2022-02-16T07:19:40.140399",
     "status": "completed"
    },
    "tags": []
   },
   "outputs": [
    {
     "name": "stderr",
     "output_type": "stream",
     "text": [
      "2022-02-16 07:19:40.222519: I tensorflow/stream_executor/cuda/cuda_gpu_executor.cc:937] successful NUMA node read from SysFS had negative value (-1), but there must be at least one NUMA node, so returning NUMA node zero\n",
      "2022-02-16 07:19:40.223731: I tensorflow/stream_executor/cuda/cuda_gpu_executor.cc:937] successful NUMA node read from SysFS had negative value (-1), but there must be at least one NUMA node, so returning NUMA node zero\n",
      "2022-02-16 07:19:40.224384: I tensorflow/stream_executor/cuda/cuda_gpu_executor.cc:937] successful NUMA node read from SysFS had negative value (-1), but there must be at least one NUMA node, so returning NUMA node zero\n",
      "2022-02-16 07:19:40.225148: I tensorflow/core/platform/cpu_feature_guard.cc:142] This TensorFlow binary is optimized with oneAPI Deep Neural Network Library (oneDNN) to use the following CPU instructions in performance-critical operations:  AVX2 AVX512F FMA\n",
      "To enable them in other operations, rebuild TensorFlow with the appropriate compiler flags.\n",
      "2022-02-16 07:19:40.226125: I tensorflow/stream_executor/cuda/cuda_gpu_executor.cc:937] successful NUMA node read from SysFS had negative value (-1), but there must be at least one NUMA node, so returning NUMA node zero\n",
      "2022-02-16 07:19:40.226815: I tensorflow/stream_executor/cuda/cuda_gpu_executor.cc:937] successful NUMA node read from SysFS had negative value (-1), but there must be at least one NUMA node, so returning NUMA node zero\n",
      "2022-02-16 07:19:40.227434: I tensorflow/stream_executor/cuda/cuda_gpu_executor.cc:937] successful NUMA node read from SysFS had negative value (-1), but there must be at least one NUMA node, so returning NUMA node zero\n",
      "2022-02-16 07:19:47.580219: I tensorflow/stream_executor/cuda/cuda_gpu_executor.cc:937] successful NUMA node read from SysFS had negative value (-1), but there must be at least one NUMA node, so returning NUMA node zero\n",
      "2022-02-16 07:19:47.581116: I tensorflow/stream_executor/cuda/cuda_gpu_executor.cc:937] successful NUMA node read from SysFS had negative value (-1), but there must be at least one NUMA node, so returning NUMA node zero\n",
      "2022-02-16 07:19:47.581799: I tensorflow/stream_executor/cuda/cuda_gpu_executor.cc:937] successful NUMA node read from SysFS had negative value (-1), but there must be at least one NUMA node, so returning NUMA node zero\n",
      "2022-02-16 07:19:47.582375: I tensorflow/core/common_runtime/gpu/gpu_device.cc:1510] Created device /job:localhost/replica:0/task:0/device:GPU:0 with 14589 MB memory:  -> device: 0, name: Tesla P100-PCIE-16GB, pci bus id: 0000:00:04.0, compute capability: 6.0\n"
     ]
    },
    {
     "name": "stdout",
     "output_type": "stream",
     "text": [
      "Model: \"model\"\n",
      "__________________________________________________________________________________________________\n",
      "Layer (type)                    Output Shape         Param #     Connected to                     \n",
      "==================================================================================================\n",
      "input_1 (InputLayer)            [(None, 71)]         0                                            \n",
      "__________________________________________________________________________________________________\n",
      "embedding (Embedding)           (None, 71, 100)      6984400     input_1[0][0]                    \n",
      "__________________________________________________________________________________________________\n",
      "bidirectional (Bidirectional)   [(None, 71, 160), (N 87360       embedding[0][0]                  \n",
      "__________________________________________________________________________________________________\n",
      "bidirectional_1 (Bidirectional) [(None, 71, 160), (N 116160      bidirectional[0][0]              \n",
      "__________________________________________________________________________________________________\n",
      "input_2 (InputLayer)            [(None, None)]       0                                            \n",
      "__________________________________________________________________________________________________\n",
      "bidirectional_2 (Bidirectional) [(None, 71, 160), (N 116160      bidirectional_1[0][0]            \n",
      "__________________________________________________________________________________________________\n",
      "embedding_1 (Embedding)         (None, None, 100)    6984400     input_2[0][0]                    \n",
      "__________________________________________________________________________________________________\n",
      "bidirectional_3 (Bidirectional) [(None, 71, 160), (N 116160      bidirectional_2[0][0]            \n",
      "__________________________________________________________________________________________________\n",
      "gru_4 (GRU)                     [(None, None, 80), ( 43680       embedding_1[0][0]                \n",
      "                                                                 bidirectional_3[0][1]            \n",
      "__________________________________________________________________________________________________\n",
      "gru_5 (GRU)                     [(None, None, 80), ( 38880       gru_4[0][0]                      \n",
      "                                                                 gru_4[0][1]                      \n",
      "__________________________________________________________________________________________________\n",
      "gru_6 (GRU)                     [(None, None, 80), ( 38880       gru_5[0][0]                      \n",
      "                                                                 gru_5[0][1]                      \n",
      "__________________________________________________________________________________________________\n",
      "time_distributed (TimeDistribut (None, None, 29658)  2402298     gru_6[0][0]                      \n",
      "==================================================================================================\n",
      "Total params: 16,928,378\n",
      "Trainable params: 16,928,378\n",
      "Non-trainable params: 0\n",
      "__________________________________________________________________________________________________\n",
      "None\n"
     ]
    }
   ],
   "source": [
    "latent_dim=80\n",
    "\n",
    "K.clear_session() \n",
    "\n",
    "encoder_inputs = Input(shape=(max_length_x,)) \n",
    "enc_emb = Embedding(x_vocab_size, 100,input_length=max_length_x)(encoder_inputs) \n",
    "\n",
    "encoder_lstm1 = Bidirectional(GRU(latent_dim,return_sequences=True,return_state=True) )\n",
    "encoder_output1, state_h1, state_b1 = encoder_lstm1(enc_emb) \n",
    "encoder_lstm2 = Bidirectional(GRU(latent_dim,return_sequences=True,return_state=True) )\n",
    "encoder_output2, state_h2,  state_b2 = encoder_lstm2(encoder_output1) \n",
    "encoder_lstm3 = Bidirectional(GRU(latent_dim, return_state=True, return_sequences=True) )\n",
    "encoder_outputs3, state_h3, state_b3= encoder_lstm3(encoder_output2)\n",
    "encoder_lstm4 = Bidirectional(GRU(latent_dim,return_sequences=True,return_state=True) )\n",
    "encoder_outputs, state_h, state_b4 = encoder_lstm4(encoder_outputs3) \n",
    "\n",
    "encoder_states = [state_h,state_b4]\n",
    "# Decoder. \n",
    "decoder_inputs = Input(shape=(None,)) \n",
    "dec_emb_layer = Embedding(x_vocab_size, 100,input_length=max_length_x) \n",
    "dec_emb = dec_emb_layer(decoder_inputs) \n",
    "\n",
    "decoder_lstm1 = GRU(80, return_sequences=True, return_state=True) \n",
    "decoder_outputs1,decoder_fwd_state1 = decoder_lstm1(dec_emb,initial_state=[state_h]) \n",
    "\n",
    "decoder_lstm2 = GRU(80, return_sequences=True, return_state=True) \n",
    "decoder_outputs2,decoder_fwd_state2 = decoder_lstm2(decoder_outputs1,initial_state=[decoder_fwd_state1]) \n",
    "\n",
    "decoder_lstm3 = GRU(80, return_sequences=True, return_state=True) \n",
    "decoder_outputs,decoder_fwd_state = decoder_lstm3(decoder_outputs2,initial_state=[decoder_fwd_state2]) \n",
    "\n",
    "decoder_dense = TimeDistributed(Dense(y_vocab_size, activation='softmax')) \n",
    "decoder_outputs = decoder_dense(decoder_outputs) \n",
    "\n",
    "model = Model([encoder_inputs, decoder_inputs], decoder_outputs) \n",
    "print(model.summary())"
   ]
  },
  {
   "cell_type": "code",
   "execution_count": 22,
   "id": "cfdb4600",
   "metadata": {
    "execution": {
     "iopub.execute_input": "2022-02-16T07:19:49.871678Z",
     "iopub.status.busy": "2022-02-16T07:19:49.868920Z",
     "iopub.status.idle": "2022-02-16T07:34:23.399606Z",
     "shell.execute_reply": "2022-02-16T07:34:23.399075Z",
     "shell.execute_reply.started": "2022-02-16T07:08:40.757438Z"
    },
    "id": "4fUJoaFAiwUb",
    "outputId": "4bc22143-d3ed-4b87-e2e6-c44f3034a816",
    "papermill": {
     "duration": 873.577895,
     "end_time": "2022-02-16T07:34:23.399753",
     "exception": false,
     "start_time": "2022-02-16T07:19:49.821858",
     "status": "completed"
    },
    "tags": []
   },
   "outputs": [
    {
     "name": "stderr",
     "output_type": "stream",
     "text": [
      "2022-02-16 07:19:49.932184: I tensorflow/compiler/mlir/mlir_graph_optimization_pass.cc:185] None of the MLIR Optimization Passes are enabled (registered 2)\n"
     ]
    },
    {
     "name": "stdout",
     "output_type": "stream",
     "text": [
      "Epoch 1/50\n"
     ]
    },
    {
     "name": "stderr",
     "output_type": "stream",
     "text": [
      "2022-02-16 07:20:02.346805: I tensorflow/stream_executor/cuda/cuda_dnn.cc:369] Loaded cuDNN version 8005\n"
     ]
    },
    {
     "name": "stdout",
     "output_type": "stream",
     "text": [
      "87/87 [==============================] - 33s 221ms/step - loss: 6.6274 - val_loss: 5.3798\n",
      "Epoch 2/50\n",
      "87/87 [==============================] - 16s 188ms/step - loss: 5.1423 - val_loss: 4.9810\n",
      "Epoch 3/50\n",
      "87/87 [==============================] - 16s 189ms/step - loss: 4.8462 - val_loss: 4.7970\n",
      "Epoch 4/50\n",
      "87/87 [==============================] - 16s 189ms/step - loss: 4.7064 - val_loss: 4.7205\n",
      "Epoch 5/50\n",
      "87/87 [==============================] - 16s 189ms/step - loss: 4.6328 - val_loss: 4.6671\n",
      "Epoch 6/50\n",
      "87/87 [==============================] - 16s 189ms/step - loss: 4.5641 - val_loss: 4.5887\n",
      "Epoch 7/50\n",
      "87/87 [==============================] - 16s 189ms/step - loss: 4.4860 - val_loss: 4.5537\n",
      "Epoch 8/50\n",
      "87/87 [==============================] - 16s 189ms/step - loss: 4.4048 - val_loss: 4.4560\n",
      "Epoch 9/50\n",
      "87/87 [==============================] - 16s 190ms/step - loss: 4.3300 - val_loss: 4.3975\n",
      "Epoch 10/50\n",
      "87/87 [==============================] - 17s 190ms/step - loss: 4.2647 - val_loss: 4.3467\n",
      "Epoch 11/50\n",
      "87/87 [==============================] - 16s 190ms/step - loss: 4.2002 - val_loss: 4.3106\n",
      "Epoch 12/50\n",
      "87/87 [==============================] - 16s 190ms/step - loss: 4.1422 - val_loss: 4.2539\n",
      "Epoch 13/50\n",
      "87/87 [==============================] - 16s 189ms/step - loss: 4.0901 - val_loss: 4.1896\n",
      "Epoch 14/50\n",
      "87/87 [==============================] - 17s 190ms/step - loss: 4.0396 - val_loss: 4.1971\n",
      "Epoch 15/50\n",
      "87/87 [==============================] - 17s 191ms/step - loss: 3.9942 - val_loss: 4.1322\n",
      "Epoch 16/50\n",
      "87/87 [==============================] - 16s 189ms/step - loss: 3.9477 - val_loss: 4.1915\n",
      "Epoch 17/50\n",
      "87/87 [==============================] - 17s 191ms/step - loss: 3.9058 - val_loss: 4.1001\n",
      "Epoch 18/50\n",
      "87/87 [==============================] - 17s 190ms/step - loss: 3.8614 - val_loss: 4.0590\n",
      "Epoch 19/50\n",
      "87/87 [==============================] - 17s 190ms/step - loss: 3.8174 - val_loss: 4.0268\n",
      "Epoch 20/50\n",
      "87/87 [==============================] - 16s 190ms/step - loss: 3.7756 - val_loss: 3.9655\n",
      "Epoch 21/50\n",
      "87/87 [==============================] - 16s 190ms/step - loss: 3.7322 - val_loss: 3.9735\n",
      "Epoch 22/50\n",
      "87/87 [==============================] - 17s 190ms/step - loss: 3.6883 - val_loss: 3.9010\n",
      "Epoch 23/50\n",
      "87/87 [==============================] - 16s 189ms/step - loss: 3.6459 - val_loss: 3.8986\n",
      "Epoch 24/50\n",
      "87/87 [==============================] - 16s 189ms/step - loss: 3.6039 - val_loss: 3.8341\n",
      "Epoch 25/50\n",
      "87/87 [==============================] - 16s 189ms/step - loss: 3.5620 - val_loss: 3.8365\n",
      "Epoch 26/50\n",
      "87/87 [==============================] - 16s 189ms/step - loss: 3.5206 - val_loss: 3.8011\n",
      "Epoch 27/50\n",
      "87/87 [==============================] - 16s 190ms/step - loss: 3.4767 - val_loss: 3.7510\n",
      "Epoch 28/50\n",
      "87/87 [==============================] - 16s 189ms/step - loss: 3.4337 - val_loss: 3.7197\n",
      "Epoch 29/50\n",
      "87/87 [==============================] - 16s 189ms/step - loss: 3.3892 - val_loss: 3.7196\n",
      "Epoch 30/50\n",
      "87/87 [==============================] - 16s 189ms/step - loss: 3.3470 - val_loss: 3.6636\n",
      "Epoch 31/50\n",
      "87/87 [==============================] - 16s 189ms/step - loss: 3.3040 - val_loss: 3.6336\n",
      "Epoch 32/50\n",
      "87/87 [==============================] - 17s 190ms/step - loss: 3.2603 - val_loss: 3.5798\n",
      "Epoch 33/50\n",
      "87/87 [==============================] - 16s 190ms/step - loss: 3.2175 - val_loss: 3.5502\n",
      "Epoch 34/50\n",
      "87/87 [==============================] - 16s 189ms/step - loss: 3.1747 - val_loss: 3.5153\n",
      "Epoch 35/50\n",
      "87/87 [==============================] - 16s 189ms/step - loss: 3.1328 - val_loss: 3.4904\n",
      "Epoch 36/50\n",
      "87/87 [==============================] - 16s 189ms/step - loss: 3.0901 - val_loss: 3.4636\n",
      "Epoch 37/50\n",
      "87/87 [==============================] - 16s 190ms/step - loss: 3.0480 - val_loss: 3.4724\n",
      "Epoch 38/50\n",
      "87/87 [==============================] - 16s 189ms/step - loss: 3.0069 - val_loss: 3.4332\n",
      "Epoch 39/50\n",
      "87/87 [==============================] - 16s 190ms/step - loss: 2.9660 - val_loss: 3.3930\n",
      "Epoch 40/50\n",
      "87/87 [==============================] - 16s 189ms/step - loss: 2.9246 - val_loss: 3.3493\n",
      "Epoch 41/50\n",
      "87/87 [==============================] - 17s 190ms/step - loss: 2.8838 - val_loss: 3.3057\n",
      "Epoch 42/50\n",
      "87/87 [==============================] - 17s 190ms/step - loss: 2.8424 - val_loss: 3.2989\n",
      "Epoch 43/50\n",
      "87/87 [==============================] - 17s 191ms/step - loss: 2.8035 - val_loss: 3.2636\n",
      "Epoch 44/50\n",
      "87/87 [==============================] - 17s 190ms/step - loss: 2.7639 - val_loss: 3.2119\n",
      "Epoch 45/50\n",
      "87/87 [==============================] - 16s 190ms/step - loss: 2.7249 - val_loss: 3.2210\n",
      "Epoch 46/50\n",
      "87/87 [==============================] - 16s 189ms/step - loss: 2.6870 - val_loss: 3.1863\n",
      "Epoch 47/50\n",
      "87/87 [==============================] - 17s 191ms/step - loss: 2.6485 - val_loss: 3.1331\n",
      "Epoch 48/50\n",
      "87/87 [==============================] - 16s 190ms/step - loss: 2.6104 - val_loss: 3.1266\n",
      "Epoch 49/50\n",
      "87/87 [==============================] - 17s 191ms/step - loss: 2.5736 - val_loss: 3.1039\n",
      "Epoch 50/50\n",
      "87/87 [==============================] - 16s 189ms/step - loss: 2.5371 - val_loss: 3.1236\n"
     ]
    }
   ],
   "source": [
    "model.compile(optimizer='rmsprop', loss='sparse_categorical_crossentropy')\n",
    "checkpoint_filepath = './model.{epoch:02d}-{val_loss:.2f}.h5'\n",
    "model_checkpoint_callback = tf.keras.callbacks.ModelCheckpoint(filepath=checkpoint_filepath,save_weights_only=True,monitor='val_loss',mode='min',save_best_only=True, save_freq = \"epoch\")\n",
    "es = EarlyStopping(monitor='val_loss', mode='min', verbose=1, patience=4)\n",
    "history=model.fit(\n",
    "    [padded_xtrain,padded_ytrain[:,:-1]], \n",
    "    padded_ytrain.reshape(padded_ytrain.shape[0],padded_ytrain.shape[1], 1)[:,1:], \n",
    "    epochs=50,\n",
    "    batch_size=512, \n",
    "    validation_data=([padded_xval,padded_yval[:,:-1]], padded_yval.reshape(padded_yval.shape[0],padded_yval.shape[1], 1)[:,1:]), \n",
    "    callbacks=[model_checkpoint_callback])"
   ]
  },
  {
   "cell_type": "markdown",
   "id": "5b8c2603",
   "metadata": {
    "id": "0CULXhQiGpvO",
    "papermill": {
     "duration": 1.211668,
     "end_time": "2022-02-16T07:34:25.854669",
     "exception": false,
     "start_time": "2022-02-16T07:34:24.643001",
     "status": "completed"
    },
    "tags": []
   },
   "source": []
  },
  {
   "cell_type": "code",
   "execution_count": 23,
   "id": "d98f3327",
   "metadata": {
    "execution": {
     "iopub.execute_input": "2022-02-16T07:34:28.175392Z",
     "iopub.status.busy": "2022-02-16T07:34:28.174429Z",
     "iopub.status.idle": "2022-02-16T07:34:28.351560Z",
     "shell.execute_reply": "2022-02-16T07:34:28.351071Z",
     "shell.execute_reply.started": "2022-02-16T07:11:55.779257Z"
    },
    "id": "JQf1v5WhqLLg",
    "outputId": "f5bfa510-79c7-465e-e371-ea5b36198da9",
    "papermill": {
     "duration": 1.348604,
     "end_time": "2022-02-16T07:34:28.351742",
     "exception": false,
     "start_time": "2022-02-16T07:34:27.003138",
     "status": "completed"
    },
    "tags": []
   },
   "outputs": [
    {
     "data": {
      "image/png": "[encoded data removed]",
      "text/plain": [
       "<Figure size 432x288 with 1 Axes>"
      ]
     },
     "metadata": {
      "needs_background": "light"
     },
     "output_type": "display_data"
    }
   ],
   "source": [
    "from matplotlib import pyplot \n",
    "pyplot.plot(history.history['loss'], label='train') \n",
    "pyplot.plot(history.history['val_loss'], label='test') \n",
    "pyplot.legend() \n",
    "pyplot.show()"
   ]
  },
  {
   "cell_type": "code",
   "execution_count": 24,
   "id": "d06f7497",
   "metadata": {
    "execution": {
     "iopub.execute_input": "2022-02-16T07:34:31.496071Z",
     "iopub.status.busy": "2022-02-16T07:34:31.495163Z",
     "iopub.status.idle": "2022-02-16T07:34:31.611681Z",
     "shell.execute_reply": "2022-02-16T07:34:31.611167Z",
     "shell.execute_reply.started": "2022-02-16T07:11:56.132049Z"
    },
    "papermill": {
     "duration": 2.055191,
     "end_time": "2022-02-16T07:34:31.611823",
     "exception": false,
     "start_time": "2022-02-16T07:34:29.556632",
     "status": "completed"
    },
    "tags": []
   },
   "outputs": [],
   "source": [
    "model.save_weights(\"final_weights.h5\")"
   ]
  },
  {
   "cell_type": "markdown",
   "id": "b7872810",
   "metadata": {
    "id": "PZ0W3VZorHVK",
    "papermill": {
     "duration": 1.154091,
     "end_time": "2022-02-16T07:34:36.266873",
     "exception": false,
     "start_time": "2022-02-16T07:34:35.112782",
     "status": "completed"
    },
    "tags": []
   },
   "source": [
    "### Inference"
   ]
  },
  {
   "cell_type": "code",
   "execution_count": 25,
   "id": "a6c21e32",
   "metadata": {
    "execution": {
     "iopub.execute_input": "2022-02-16T07:34:38.628058Z",
     "iopub.status.busy": "2022-02-16T07:34:38.626425Z",
     "iopub.status.idle": "2022-02-16T07:34:38.628795Z",
     "shell.execute_reply": "2022-02-16T07:34:38.629204Z",
     "shell.execute_reply.started": "2022-02-16T07:12:00.095855Z"
    },
    "id": "UlSTzEbnskcd",
    "papermill": {
     "duration": 1.168349,
     "end_time": "2022-02-16T07:34:38.629335",
     "exception": false,
     "start_time": "2022-02-16T07:34:37.460986",
     "status": "completed"
    },
    "tags": []
   },
   "outputs": [],
   "source": [
    "reverse_target_word_index = y_t.index_word \n",
    "reverse_source_word_index = x_t.index_word \n",
    "target_word_index = y_t.word_index"
   ]
  },
  {
   "cell_type": "code",
   "execution_count": 26,
   "id": "c85ef5d8",
   "metadata": {
    "execution": {
     "iopub.execute_input": "2022-02-16T07:34:40.942401Z",
     "iopub.status.busy": "2022-02-16T07:34:40.941547Z",
     "iopub.status.idle": "2022-02-16T07:34:41.673976Z",
     "shell.execute_reply": "2022-02-16T07:34:41.671916Z",
     "shell.execute_reply.started": "2022-01-16T06:37:34.650165Z"
    },
    "id": "thX0Ep0Ssnd1",
    "papermill": {
     "duration": 1.895904,
     "end_time": "2022-02-16T07:34:41.674286",
     "exception": true,
     "start_time": "2022-02-16T07:34:39.778382",
     "status": "failed"
    },
    "tags": []
   },
   "outputs": [],
   "source": [
    "encoder_model = Model(inputs=encoder_inputs,outputs=[encoder_outputs, state_h])\n",
    "decoder_state_input_h = Input(shape=(latent_dim,))\n",
    "decoder_hidden_state_input = Input(shape=(max_length_x,latent_dim))\n",
    "\n",
    "dec_emb2= dec_emb_layer(decoder_inputs)\n",
    "decoder_outputs3, state_h3, state_b3 = decoder_lstm1(dec_emb2, initial_state=[decoder_state_input_h])\n",
    "\n",
    "decoder_outputs4, state_h4, state_b4 = decoder_lstm2(decoder_outputs3, initial_state=[state_h3])\n",
    "decoder_outputs5, state_h5, state_b5 = decoder_lstm3(decoder_outputs4, initial_state=[state_h4])\n",
    "\n",
    "decoder_outputs5 = decoder_dense(decoder_outputs5)\n",
    "\n",
    "decoder_model = Model(\n",
    "[decoder_inputs] + [decoder_hidden_state_input,decoder_state_input_h],\n",
    "[decoder_outputs5] + [state_h5, state_b5])"
   ]
  },
  {
   "cell_type": "code",
   "execution_count": 27,
   "id": "de7ea836",
   "metadata": {
    "execution": {
     "iopub.execute_input": "2022-01-16T06:37:35.386848Z",
     "iopub.status.busy": "2022-01-16T06:37:35.386508Z",
     "iopub.status.idle": "2022-01-16T06:37:35.397656Z",
     "shell.execute_reply": "2022-01-16T06:37:35.396673Z",
     "shell.execute_reply.started": "2022-01-16T06:37:35.386804Z"
    },
    "id": "wtU0wU8gsuz1",
    "papermill": {
     "duration": null,
     "end_time": null,
     "exception": null,
     "start_time": null,
     "status": "pending"
    },
    "tags": []
   },
   "outputs": [],
   "source": [
    "def decode_sequence(input_seq):\n",
    "    input_seq= input_seq.reshape(1,max_length_x)\n",
    "    e_out, e_h = encoder_model.predict(input_seq)\n",
    "    target_seq = np.zeros((1,1))\n",
    "    target_seq[0, 0] = target_word_index['start']\n",
    "\n",
    "    stop_condition = False\n",
    "    decoded_sentence = ''\n",
    "    while not stop_condition:\n",
    "        output_tokens, h = decoder_model.predict([target_seq] + [e_out, e_h])\n",
    "\n",
    "        sampled_token_index = np.argmax(output_tokens[0, -1, :]) \n",
    "        sampled_token = reverse_target_word_index[sampled_token_index]\n",
    "  \n",
    "        if(sampled_token!='end'):\n",
    "            decoded_sentence += ' '+sampled_token\n",
    " \n",
    "        if (sampled_token == 'end' or len(decoded_sentence.split()) >= (max_length_y-1)):\n",
    "                stop_condition = True\n",
    "\n",
    "        target_seq = np.zeros((1,1))\n",
    "        target_seq[0, 0] = sampled_token_index\n",
    "        e_h = h\n",
    "\n",
    "    return decoded_sentence"
   ]
  },
  {
   "cell_type": "code",
   "execution_count": 28,
   "id": "f3ef538a",
   "metadata": {
    "execution": {
     "iopub.execute_input": "2022-01-16T06:37:35.399946Z",
     "iopub.status.busy": "2022-01-16T06:37:35.399037Z",
     "iopub.status.idle": "2022-01-16T06:37:35.54031Z",
     "shell.execute_reply": "2022-01-16T06:37:35.538653Z",
     "shell.execute_reply.started": "2022-01-16T06:37:35.399899Z"
    },
    "id": "cLyRVENRs2Ay",
    "papermill": {
     "duration": null,
     "end_time": null,
     "exception": null,
     "start_time": null,
     "status": "pending"
    },
    "tags": []
   },
   "outputs": [],
   "source": [
    "def seq2summary(input_seq):\n",
    "    newString=''\n",
    "    for i in input_seq:\n",
    "      if((i!=0 and i!=target_word_index['start']) and i!=target_word_index['end']):\n",
    "        newString=newString+reverse_target_word_index[i]+' '\n",
    "    return newString\n",
    "\n",
    "def seq2text(input_seq):\n",
    "    newString=''\n",
    "    for i in input_seq:\n",
    "      if(i!=0):\n",
    "        newString=newString+reverse_source_word_index[i]+' '\n",
    "    return newString"
   ]
  },
  {
   "cell_type": "code",
   "execution_count": 29,
   "id": "032d31f8",
   "metadata": {},
   "outputs": [
    {
     "name": "stdout",
     "output_type": "stream",
     "text": [
      "\n",
      "Review: actor tiger shroff feature cover february issue man 39 s luxury lifestyle magazine 39 mansworld 39 see outfit italian luxury menswear brand canali pair watch italian luxury good brand bulgari cover story feature actor title 39 tiger shroff want perfectionist 39 \n",
      "Original summary: tiger shroff features on feb cover of 39 mansworld 39 magazine \n",
      "Predicted summary:  tiger shroff features on cover of 39 vogue 39 magazine\n",
      "\n"
     ]
    }
   ],
   "source": [
    "print(\"Review:\",seq2text(padded_xtest[3]))\n",
    "print(\"Original summary:\",seq2summary(padded_ytest[3]))\n",
    "print(\"Predicted summary:\",decode_sequence(padded_xtest[3]))"
   ]
  },
  {
   "cell_type": "code",
   "execution_count": 30,
   "id": "16f7954c",
   "metadata": {},
   "outputs": [
    {
     "name": "stdout",
     "output_type": "stream",
     "text": [
      "\n",
      "Review: portuguese footballer cristiano ronaldo world s highest pay sportsman 88 million yearly earning per forbes 100 list top earn celebrity worldwide argentina barcelona forward lionel messi second list yearly earning 815 million notably indian sportsperson cricketer feature list \n",
      "Original summary: ronaldo world’s highest earning forbes \n",
      "Predicted summary:  ronaldo most valuable athlete in world 39 s\n",
      "\n"
     ]
    }
   ],
   "source": [
    "print(\"Review:\",seq2text(padded_xtest[17]))\n",
    "print(\"Original summary:\",seq2summary(padded_ytest[17]))\n",
    "print(\"Predicted summary:\",decode_sequence(padded_xtest[17]))"
   ]
  },
  {
   "cell_type": "code",
   "execution_count": 31,
   "id": "c965d06d",
   "metadata": {},
   "outputs": [
    {
     "name": "stdout",
     "output_type": "stream",
     "text": [
      "\n",
      "Review: north korea monday threaten launch pre nuclear strike justice washington seoul come reaction annual united state south korea military drill start expect take place till april 34 provocation reduce sea flame ashe 34 push button north korea say \n",
      "Original summary: n korea threatens nuke attacks on us s korea \n",
      "Predicted summary:  n korea threatens to stop nuclear weapons\n",
      "\n"
     ]
    }
   ],
   "source": [
    "print(\"Review:\",seq2text(padded_xtest[42]))\n",
    "print(\"Original summary:\",seq2summary(padded_ytest[42]))\n",
    "print(\"Predicted summary:\",decode_sequence(padded_xtest[42]))"
   ]
  },
  {
   "cell_type": "markdown",
   "id": "925e10d6",
   "metadata": {
    "id": "v3Sfc9a422Rg",
    "papermill": {
     "duration": null,
     "end_time": null,
     "exception": null,
     "start_time": null,
     "status": "pending"
    },
    "tags": []
   },
   "source": [
    "### Evaluation"
   ]
  },
  {
   "cell_type": "code",
   "execution_count": 32,
   "id": "475c1898",
   "metadata": {
    "execution": {
     "iopub.execute_input": "2022-01-15T09:48:30.386475Z",
     "iopub.status.busy": "2022-01-15T09:48:30.385664Z",
     "iopub.status.idle": "2022-01-15T09:48:30.392178Z",
     "shell.execute_reply": "2022-01-15T09:48:30.391253Z",
     "shell.execute_reply.started": "2022-01-15T09:48:30.386422Z"
    },
    "papermill": {
     "duration": null,
     "end_time": null,
     "exception": null,
     "start_time": null,
     "status": "pending"
    },
    "tags": []
   },
   "outputs": [],
   "source": [
    "def BLEU_Score(y_test, y_pred):\n",
    "    references = [[seq2summary(y_test).split(\" \")]]\n",
    "    candidates = [decode_sequence(y_pred.reshape(1,max_length_x)).split(\" \")]\n",
    "    return corpus_bleu(references, candidates)"
   ]
  },
  {
   "cell_type": "code",
   "execution_count": 34,
   "id": "3f850e7e",
   "metadata": {
    "execution": {
     "iopub.execute_input": "2022-01-15T09:49:16.780681Z",
     "iopub.status.busy": "2022-01-15T09:49:16.78044Z",
     "iopub.status.idle": "2022-01-15T09:53:01.433125Z",
     "shell.execute_reply": "2022-01-15T09:53:01.43236Z",
     "shell.execute_reply.started": "2022-01-15T09:49:16.780646Z"
    },
    "papermill": {
     "duration": null,
     "end_time": null,
     "exception": null,
     "start_time": null,
     "status": "pending"
    },
    "tags": []
   },
   "outputs": [
    {
     "name": "stdout",
     "output_type": "stream",
     "text": [
      "0.5748590209852851\n"
     ]
    }
   ],
   "source": [
    "from nltk.translate.bleu_score import corpus_bleu\n",
    "scores=[]\n",
    "for i in range(0,500):\n",
    "    scores.append(BLEU_Score(padded_ytest[i],padded_xtest[i]))\n",
    "    \n",
    "print(np.mean(scores))"
   ]
  }
 ],
 "metadata": {
  "kernelspec": {
   "display_name": "Python 3",
   "language": "python",
   "name": "python3"
  },
  "language_info": {
   "codemirror_mode": {
    "name": "ipython",
    "version": 3
   },
   "file_extension": ".py",
   "mimetype": "text/x-python",
   "name": "python",
   "nbconvert_exporter": "python",
   "pygments_lexer": "ipython3",
   "version": "3.8.3"
  },
  "papermill": {
   "default_parameters": {},
   "duration": 1181.408659,
   "end_time": "2022-02-16T07:34:46.441842",
   "environment_variables": {},
   "exception": true,
   "input_path": "__notebook__.ipynb",
   "output_path": "__notebook__.ipynb",
   "parameters": {},
   "start_time": "2022-02-16T07:15:05.033183",
   "version": "2.3.3"
  }
 },
 "nbformat": 4,
 "nbformat_minor": 5
}
