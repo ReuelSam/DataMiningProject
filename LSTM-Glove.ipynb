{
 "cells": [
  {
   "cell_type": "markdown",
   "id": "288e194c",
   "metadata": {
    "id": "IEq-oYpmSM5r",
    "papermill": {
     "duration": 0.036188,
     "end_time": "2022-01-11T15:26:53.375738",
     "exception": false,
     "start_time": "2022-01-11T15:26:53.339550",
     "status": "completed"
    },
    "tags": []
   },
   "source": [
    "# Abstractive Text Summarization - LSTM GloVe"
   ]
  },
  {
   "cell_type": "markdown",
   "id": "32a68a1f",
   "metadata": {
    "id": "4iFfGxm4XgZl",
    "papermill": {
     "duration": 0.058886,
     "end_time": "2022-01-11T15:26:53.474589",
     "exception": false,
     "start_time": "2022-01-11T15:26:53.415703",
     "status": "completed"
    },
    "tags": []
   },
   "source": [
    "### Importing Basic libraries"
   ]
  },
  {
   "cell_type": "code",
   "execution_count": 1,
   "id": "06f0523c",
   "metadata": {
    "execution": {
     "iopub.execute_input": "2022-01-11T15:26:53.566112Z",
     "iopub.status.busy": "2022-01-11T15:26:53.565292Z",
     "iopub.status.idle": "2022-01-11T15:26:59.313732Z",
     "shell.execute_reply": "2022-01-11T15:26:59.312688Z",
     "shell.execute_reply.started": "2022-01-11T13:15:13.824307Z"
    },
    "id": "lisXNzYrYOoR",
    "outputId": "4ff65cf3-36bb-49c2-a6c3-08070c9233a0",
    "papermill": {
     "duration": 5.797193,
     "end_time": "2022-01-11T15:26:59.313892",
     "exception": false,
     "start_time": "2022-01-11T15:26:53.516699",
     "status": "completed"
    },
    "tags": []
   },
   "outputs": [
    {
     "name": "stdout",
     "output_type": "stream",
     "text": [
      "[nltk_data] Downloading package stopwords to /usr/share/nltk_data...\n",
      "[nltk_data]   Package stopwords is already up-to-date!\n"
     ]
    }
   ],
   "source": [
    "import re\n",
    "import os\n",
    "import numpy as np\n",
    "import pandas as pd\n",
    "import matplotlib.pyplot as plt\n",
    "\n",
    "import nltk\n",
    "nltk.download('stopwords')\n",
    "from nltk.corpus import stopwords\n",
    "from keras.preprocessing.text import Tokenizer\n",
    "from keras.preprocessing.sequence import pad_sequences\n",
    "\n",
    "import tensorflow as tf\n",
    "from tensorflow.keras.layers import Input, LSTM, Embedding, Dense, Concatenate, TimeDistributed, Bidirectional\n",
    "from tensorflow.keras.models import Model\n",
    "from tensorflow.keras.callbacks import EarlyStopping\n",
    "from keras import backend as K \n",
    "from tensorflow.python.keras.layers import Layer\n"
   ]
  },
  {
   "cell_type": "code",
   "execution_count": 2,
   "id": "36dfa925",
   "metadata": {
    "execution": {
     "iopub.execute_input": "2022-01-11T15:26:59.396827Z",
     "iopub.status.busy": "2022-01-11T15:26:59.388559Z",
     "iopub.status.idle": "2022-01-11T15:27:08.897264Z",
     "shell.execute_reply": "2022-01-11T15:27:08.896746Z",
     "shell.execute_reply.started": "2022-01-11T13:15:20.017326Z"
    },
    "papermill": {
     "duration": 9.547276,
     "end_time": "2022-01-11T15:27:08.897388",
     "exception": false,
     "start_time": "2022-01-11T15:26:59.350112",
     "status": "completed"
    },
    "tags": []
   },
   "outputs": [
    {
     "name": "stdout",
     "output_type": "stream",
     "text": [
      "Collecting openpyxl\r\n",
      "  Downloading openpyxl-3.0.9-py2.py3-none-any.whl (242 kB)\r\n",
      "     |████████████████████████████████| 242 kB 919 kB/s            \r\n",
      "\u001b[?25hCollecting et-xmlfile\r\n",
      "  Downloading et_xmlfile-1.1.0-py3-none-any.whl (4.7 kB)\r\n",
      "Installing collected packages: et-xmlfile, openpyxl\r\n",
      "Successfully installed et-xmlfile-1.1.0 openpyxl-3.0.9\r\n",
      "\u001b[33mWARNING: Running pip as the 'root' user can result in broken permissions and conflicting behaviour with the system package manager. It is recommended to use a virtual environment instead: https://pip.pypa.io/warnings/venv\u001b[0m\r\n"
     ]
    }
   ],
   "source": [
    "!pip install openpyxl"
   ]
  },
  {
   "cell_type": "markdown",
   "id": "07bbf43a",
   "metadata": {
    "id": "GSr24NviXqio",
    "papermill": {
     "duration": 0.036754,
     "end_time": "2022-01-11T15:27:08.971688",
     "exception": false,
     "start_time": "2022-01-11T15:27:08.934934",
     "status": "completed"
    },
    "tags": []
   },
   "source": [
    "### Importing Data"
   ]
  },
  {
   "cell_type": "code",
   "execution_count": 4,
   "id": "2f9ddbd4",
   "metadata": {
    "execution": {
     "iopub.execute_input": "2022-01-11T15:27:09.130509Z",
     "iopub.status.busy": "2022-01-11T15:27:09.129760Z",
     "iopub.status.idle": "2022-01-11T15:27:18.147937Z",
     "shell.execute_reply": "2022-01-11T15:27:18.147070Z",
     "shell.execute_reply.started": "2022-01-11T13:15:29.749047Z"
    },
    "papermill": {
     "duration": 9.058911,
     "end_time": "2022-01-11T15:27:18.148081",
     "exception": false,
     "start_time": "2022-01-11T15:27:09.089170",
     "status": "completed"
    },
    "tags": []
   },
   "outputs": [],
   "source": [
    "data = pd.read_excel('../input/inshorts-news-data/Inshorts Cleaned Data.xlsx')"
   ]
  },
  {
   "cell_type": "code",
   "execution_count": 5,
   "id": "8c395511",
   "metadata": {
    "execution": {
     "iopub.execute_input": "2022-01-11T15:27:18.233567Z",
     "iopub.status.busy": "2022-01-11T15:27:18.232836Z",
     "iopub.status.idle": "2022-01-11T15:27:18.260832Z",
     "shell.execute_reply": "2022-01-11T15:27:18.260435Z",
     "shell.execute_reply.started": "2022-01-11T13:15:43.319052Z"
    },
    "papermill": {
     "duration": 0.075388,
     "end_time": "2022-01-11T15:27:18.260986",
     "exception": false,
     "start_time": "2022-01-11T15:27:18.185598",
     "status": "completed"
    },
    "tags": []
   },
   "outputs": [
    {
     "data": {
      "text/html": [
       "<div>\n",
       "<style scoped>\n",
       "    .dataframe tbody tr th:only-of-type {\n",
       "        vertical-align: middle;\n",
       "    }\n",
       "\n",
       "    .dataframe tbody tr th {\n",
       "        vertical-align: top;\n",
       "    }\n",
       "\n",
       "    .dataframe thead th {\n",
       "        text-align: right;\n",
       "    }\n",
       "</style>\n",
       "<table border=\"1\" class=\"dataframe\">\n",
       "  <thead>\n",
       "    <tr style=\"text-align: right;\">\n",
       "      <th></th>\n",
       "      <th>Headline</th>\n",
       "      <th>Short</th>\n",
       "    </tr>\n",
       "  </thead>\n",
       "  <tbody>\n",
       "    <tr>\n",
       "      <th>0</th>\n",
       "      <td>4 ex-bank officials booked for cheating bank o...</td>\n",
       "      <td>The CBI on Saturday booked four former officia...</td>\n",
       "    </tr>\n",
       "    <tr>\n",
       "      <th>1</th>\n",
       "      <td>Supreme Court to go paperless in 6 months: CJI</td>\n",
       "      <td>Chief Justice JS Khehar has said the Supreme C...</td>\n",
       "    </tr>\n",
       "    <tr>\n",
       "      <th>2</th>\n",
       "      <td>At least 3 killed, 30 injured in blast in Sylh...</td>\n",
       "      <td>At least three people were killed, including a...</td>\n",
       "    </tr>\n",
       "    <tr>\n",
       "      <th>3</th>\n",
       "      <td>Why has Reliance been barred from trading in f...</td>\n",
       "      <td>Mukesh Ambani-led Reliance Industries (RIL) wa...</td>\n",
       "    </tr>\n",
       "    <tr>\n",
       "      <th>4</th>\n",
       "      <td>Was stopped from entering my own studio at Tim...</td>\n",
       "      <td>TV news anchor Arnab Goswami has said he was t...</td>\n",
       "    </tr>\n",
       "  </tbody>\n",
       "</table>\n",
       "</div>"
      ],
      "text/plain": [
       "                                            Headline  \\\n",
       "0  4 ex-bank officials booked for cheating bank o...   \n",
       "1     Supreme Court to go paperless in 6 months: CJI   \n",
       "2  At least 3 killed, 30 injured in blast in Sylh...   \n",
       "3  Why has Reliance been barred from trading in f...   \n",
       "4  Was stopped from entering my own studio at Tim...   \n",
       "\n",
       "                                               Short  \n",
       "0  The CBI on Saturday booked four former officia...  \n",
       "1  Chief Justice JS Khehar has said the Supreme C...  \n",
       "2  At least three people were killed, including a...  \n",
       "3  Mukesh Ambani-led Reliance Industries (RIL) wa...  \n",
       "4  TV news anchor Arnab Goswami has said he was t...  "
      ]
     },
     "execution_count": 5,
     "metadata": {},
     "output_type": "execute_result"
    }
   ],
   "source": [
    "data.drop(['Source ', 'Time ', 'Publish Date'], axis=1, inplace=True)\n",
    "data.head()"
   ]
  },
  {
   "cell_type": "markdown",
   "id": "196e4eb0",
   "metadata": {},
   "source": [
    "### Punctuation and Stopwords Removal"
   ]
  },
  {
   "cell_type": "code",
   "execution_count": 7,
   "id": "90c63c31",
   "metadata": {
    "execution": {
     "iopub.execute_input": "2022-01-11T15:27:18.421166Z",
     "iopub.status.busy": "2022-01-11T15:27:18.420635Z",
     "iopub.status.idle": "2022-01-11T15:27:18.426178Z",
     "shell.execute_reply": "2022-01-11T15:27:18.425693Z",
     "shell.execute_reply.started": "2022-01-11T13:15:44.724067Z"
    },
    "id": "BV8b6w9YYOoa",
    "papermill": {
     "duration": 0.048305,
     "end_time": "2022-01-11T15:27:18.426285",
     "exception": false,
     "start_time": "2022-01-11T15:27:18.377980",
     "status": "completed"
    },
    "tags": []
   },
   "outputs": [],
   "source": [
    "stop_words = stopwords.words('english')\n",
    "\n",
    "def preprocess(text):\n",
    "    text = text.lower()\n",
    "    \n",
    "    tokens = [w for w in text.split() if not w in stop_words]\n",
    "    text = \" \".join(tokens)\n",
    "    text = text.replace(\"'s\",'')\n",
    "    text = text.replace(\".\",'')\n",
    "    text = re.sub(r'\\(.*\\)','',text)\n",
    "    text = re.sub(r'[^a-zA-Z0-9. ]',' ',text)\n",
    "    text = re.sub(r'\\.','. ',text)\n",
    "    text = re.sub(r'\\s+', ' ', text)\n",
    "    return text\n"
   ]
  },
  {
   "cell_type": "markdown",
   "id": "25079563",
   "metadata": {},
   "source": [
    "### Lemmatization"
   ]
  },
  {
   "cell_type": "code",
   "execution_count": 8,
   "id": "28561331",
   "metadata": {
    "execution": {
     "iopub.execute_input": "2022-01-11T15:27:18.505923Z",
     "iopub.status.busy": "2022-01-11T15:27:18.505264Z",
     "iopub.status.idle": "2022-01-11T15:27:24.574129Z",
     "shell.execute_reply": "2022-01-11T15:27:24.574854Z",
     "shell.execute_reply.started": "2022-01-11T13:15:46.001776Z"
    },
    "papermill": {
     "duration": 6.110828,
     "end_time": "2022-01-11T15:27:24.575063",
     "exception": false,
     "start_time": "2022-01-11T15:27:18.464235",
     "status": "completed"
    },
    "tags": []
   },
   "outputs": [],
   "source": [
    "import spacy\n",
    "\n",
    "nlp = spacy.load('en_core_web_sm', disable=['parser', 'ner'])\n",
    "allowed_postags = ['NOUN', 'ADJ', 'VERB', 'ADV']\n",
    "def lemmatize_text(text):\n",
    "    doc = nlp(text)\n",
    "    return ' '.join([token.lemma_ for token in doc])"
   ]
  },
  {
   "cell_type": "code",
   "execution_count": 9,
   "id": "795f23cb",
   "metadata": {
    "execution": {
     "iopub.execute_input": "2022-01-11T15:27:24.656408Z",
     "iopub.status.busy": "2022-01-11T15:27:24.655648Z",
     "iopub.status.idle": "2022-01-11T15:27:24.657987Z",
     "shell.execute_reply": "2022-01-11T15:27:24.657559Z",
     "shell.execute_reply.started": "2022-01-11T13:15:52.091655Z"
    },
    "papermill": {
     "duration": 0.044409,
     "end_time": "2022-01-11T15:27:24.658103",
     "exception": false,
     "start_time": "2022-01-11T15:27:24.613694",
     "status": "completed"
    },
    "tags": []
   },
   "outputs": [],
   "source": [
    "data.rename(columns={'Headline': 'headlines', 'Short': 'text'}, inplace=True)"
   ]
  },
  {
   "cell_type": "code",
   "execution_count": 10,
   "id": "93300b0f",
   "metadata": {
    "execution": {
     "iopub.execute_input": "2022-01-11T15:27:24.738179Z",
     "iopub.status.busy": "2022-01-11T15:27:24.737452Z",
     "iopub.status.idle": "2022-01-11T15:27:24.739377Z",
     "shell.execute_reply": "2022-01-11T15:27:24.739763Z",
     "shell.execute_reply.started": "2022-01-11T13:15:54.530371Z"
    },
    "papermill": {
     "duration": 0.044732,
     "end_time": "2022-01-11T15:27:24.739883",
     "exception": false,
     "start_time": "2022-01-11T15:27:24.695151",
     "status": "completed"
    },
    "tags": []
   },
   "outputs": [],
   "source": [
    "original_text = str(data['text'][0])\n",
    "original_headline = str(data['headlines'][0])"
   ]
  },
  {
   "cell_type": "code",
   "execution_count": 11,
   "id": "e80c7ff6",
   "metadata": {
    "execution": {
     "iopub.execute_input": "2022-01-11T15:27:24.846610Z",
     "iopub.status.busy": "2022-01-11T15:27:24.817699Z",
     "iopub.status.idle": "2022-01-11T15:31:17.281001Z",
     "shell.execute_reply": "2022-01-11T15:31:17.281451Z",
     "shell.execute_reply.started": "2022-01-11T13:15:55.612929Z"
    },
    "id": "ewSx5cepYOob",
    "outputId": "55b255a6-367f-4443-8184-650066137e32",
    "papermill": {
     "duration": 232.504529,
     "end_time": "2022-01-11T15:31:17.281601",
     "exception": false,
     "start_time": "2022-01-11T15:27:24.777072",
     "status": "completed"
    },
    "tags": []
   },
   "outputs": [
    {
     "name": "stdout",
     "output_type": "stream",
     "text": [
      "Summary:\n",
      "_START_ 4 ex-bank officials booked for cheating bank of ₹209 crore _END_\n",
      "Text:\n",
      "cbi saturday book four former official syndicate bank six other cheat forgery criminal conspiracy cause 209 crore loss state run bank accuse availed home loan credit syndicate bank basis forge fabricate document fund fraudulently transfer company own accuse person\n",
      "\n",
      "Summary:\n",
      "_START_ Supreme Court to go paperless in 6 months: CJI _END_\n",
      "Text:\n",
      "chief justice js khehar say supreme court go paperless six seven month bid save fund make judiciary eco friendly say apex court collect record electronically low court high court need file hard copy\n",
      "\n"
     ]
    }
   ],
   "source": [
    "processed_text = data['text'].apply(preprocess)\n",
    "data['text'] = processed_text.apply(lemmatize_text)\n",
    "data['headlines'] = data['headlines'].apply(lambda x : '_START_ '+ x + ' _END_')\n",
    "\n",
    "for i in range(2):\n",
    "    print('Summary:', data['headlines'][i],'Text:', data['text'][i], sep='\\n')\n",
    "    print()"
   ]
  },
  {
   "cell_type": "markdown",
   "id": "d78cc062",
   "metadata": {},
   "source": [
    "### Sample Input    "
   ]
  },
  {
   "cell_type": "code",
   "execution_count": 12,
   "id": "a73ac9b7",
   "metadata": {
    "execution": {
     "iopub.execute_input": "2022-01-11T15:31:17.361815Z",
     "iopub.status.busy": "2022-01-11T15:31:17.361028Z",
     "iopub.status.idle": "2022-01-11T15:31:17.365900Z",
     "shell.execute_reply": "2022-01-11T15:31:17.366325Z",
     "shell.execute_reply.started": "2022-01-11T13:19:52.521981Z"
    },
    "papermill": {
     "duration": 0.047301,
     "end_time": "2022-01-11T15:31:17.366450",
     "exception": false,
     "start_time": "2022-01-11T15:31:17.319149",
     "status": "completed"
    },
    "tags": []
   },
   "outputs": [
    {
     "name": "stdout",
     "output_type": "stream",
     "text": [
      "\n",
      "ORIGINAL\n",
      "The CBI on Saturday booked four former officials of Syndicate Bank and six others for cheating, forgery, criminal conspiracy and causing ₹209 crore loss to the state-run bank. The accused had availed home loans and credit from Syndicate Bank on the basis of forged and fabricated documents. These funds were fraudulently transferred to the companies owned by the accused persons.\n",
      "4 ex-bank officials booked for cheating bank of ₹209 crore\n",
      "\n",
      "REGEX CLEANING AND STOPWORD REMOVAL:\n",
      "cbi saturday booked four former officials syndicate bank six others cheating forgery criminal conspiracy causing 209 crore loss state run bank accused availed home loans credit syndicate bank basis forged fabricated documents funds fraudulently transferred companies owned accused persons\n",
      "\n",
      "LEMMATIZATION + START AND END TOKEN\n",
      "cbi saturday book four former official syndicate bank six other cheat forgery criminal conspiracy cause 209 crore loss state run bank accuse availed home loan credit syndicate bank basis forge fabricate document fund fraudulently transfer company own accuse person\n",
      "_START_ 4 ex-bank officials booked for cheating bank of ₹209 crore _END_\n"
     ]
    }
   ],
   "source": [
    "print(\"\\nORIGINAL\")\n",
    "print(original_text)\n",
    "print(original_headline)\n",
    "\n",
    "print(\"\\nREGEX CLEANING AND STOPWORD REMOVAL:\")\n",
    "print(processed_text[0])\n",
    "# print(brief_cleaned_summary[0])\n",
    "\n",
    "print(\"\\nLEMMATIZATION + START AND END TOKEN\")\n",
    "print(data['text'][0])\n",
    "print(data['headlines'][0])"
   ]
  },
  {
   "cell_type": "code",
   "execution_count": 13,
   "id": "277e1955",
   "metadata": {
    "execution": {
     "iopub.execute_input": "2022-01-11T15:31:17.464396Z",
     "iopub.status.busy": "2022-01-11T15:31:17.454692Z",
     "iopub.status.idle": "2022-01-11T15:31:17.618873Z",
     "shell.execute_reply": "2022-01-11T15:31:17.618430Z",
     "shell.execute_reply.started": "2022-01-11T13:23:13.430855Z"
    },
    "id": "Tb68xRjGNP8z",
    "papermill": {
     "duration": 0.214933,
     "end_time": "2022-01-11T15:31:17.619003",
     "exception": false,
     "start_time": "2022-01-11T15:31:17.404070",
     "status": "completed"
    },
    "tags": []
   },
   "outputs": [],
   "source": [
    "headlines_length = [len(x.split()) for x in data.headlines]\n",
    "text_length = [len(x.split()) for x in data.text]"
   ]
  },
  {
   "cell_type": "code",
   "execution_count": 14,
   "id": "77389a32",
   "metadata": {
    "execution": {
     "iopub.execute_input": "2022-01-11T15:31:17.700613Z",
     "iopub.status.busy": "2022-01-11T15:31:17.698699Z",
     "iopub.status.idle": "2022-01-11T15:31:18.573165Z",
     "shell.execute_reply": "2022-01-11T15:31:18.573537Z",
     "shell.execute_reply.started": "2022-01-11T13:23:14.325456Z"
    },
    "id": "4exx0vZpoZDp",
    "outputId": "4fcef4de-8331-4731-b6af-be6b525e8351",
    "papermill": {
     "duration": 0.916919,
     "end_time": "2022-01-11T15:31:18.573683",
     "exception": false,
     "start_time": "2022-01-11T15:31:17.656764",
     "status": "completed"
    },
    "tags": []
   },
   "outputs": [
    {
     "data": {
      "image/png": "[encoded data removed]",
      "text/plain": [
       "<Figure size 720x360 with 2 Axes>"
      ]
     },
     "metadata": {
      "needs_background": "light"
     },
     "output_type": "display_data"
    }
   ],
   "source": [
    "fig, (ax1, ax2) = plt.subplots(1,2, figsize = (10,5))\n",
    "ax1.hist(headlines_length, bins = 20)\n",
    "ax2.hist(text_length, bins = 20)\n",
    "\n",
    "ax1.title.set_text(\"Words in Headlines\")\n",
    "ax2.title.set_text(\"Words in Text\")\n",
    "plt.show()"
   ]
  },
  {
   "cell_type": "markdown",
   "id": "0fec8df7",
   "metadata": {
    "id": "5J6b2-BXoasR",
    "papermill": {
     "duration": 0.038088,
     "end_time": "2022-01-11T15:31:18.650416",
     "exception": false,
     "start_time": "2022-01-11T15:31:18.612328",
     "status": "completed"
    },
    "tags": []
   },
   "source": [
    "### Embedding Matrix from Glove\n"
   ]
  },
  {
   "cell_type": "code",
   "execution_count": 15,
   "id": "290f7618",
   "metadata": {
    "execution": {
     "iopub.execute_input": "2022-01-11T15:31:18.730842Z",
     "iopub.status.busy": "2022-01-11T15:31:18.730328Z",
     "iopub.status.idle": "2022-01-11T15:31:18.738425Z",
     "shell.execute_reply": "2022-01-11T15:31:18.738830Z",
     "shell.execute_reply.started": "2022-01-11T13:23:17.073671Z"
    },
    "id": "7vLovzKr0m5S",
    "papermill": {
     "duration": 0.050196,
     "end_time": "2022-01-11T15:31:18.738985",
     "exception": false,
     "start_time": "2022-01-11T15:31:18.688789",
     "status": "completed"
    },
    "tags": []
   },
   "outputs": [],
   "source": [
    "glove_size = 300\n",
    "f = open('../input/glove42b300dtxt/glove.42B.300d.txt')"
   ]
  },
  {
   "cell_type": "code",
   "execution_count": 16,
   "id": "10ef883c",
   "metadata": {
    "execution": {
     "iopub.execute_input": "2022-01-11T15:31:18.821369Z",
     "iopub.status.busy": "2022-01-11T15:31:18.820830Z",
     "iopub.status.idle": "2022-01-11T15:34:55.540346Z",
     "shell.execute_reply": "2022-01-11T15:34:55.539418Z",
     "shell.execute_reply.started": "2022-01-11T13:23:17.910026Z"
    },
    "id": "KulasZGc0nDp",
    "papermill": {
     "duration": 216.762374,
     "end_time": "2022-01-11T15:34:55.540515",
     "exception": false,
     "start_time": "2022-01-11T15:31:18.778141",
     "status": "completed"
    },
    "tags": []
   },
   "outputs": [],
   "source": [
    "embeddings_index = dict()\n",
    "for line in f:\n",
    "    values = line.split()\n",
    "    embeddings_index[values[0]] = np.asarray(values[1:], dtype='float32')\n",
    "f.close()"
   ]
  },
  {
   "cell_type": "code",
   "execution_count": 3,
   "id": "e8b6b145",
   "metadata": {},
   "outputs": [
    {
     "name": "stdout",
     "output_type": "stream",
     "text": [
      "all the words in the corpus 2235816 \n",
      "the unique words in the corpus 62368 \n",
      "The number of words that are present in both glove vectors and our corpus are 52505 which is nearly 84.0% \n",
      "GloVe length 52505\n"
     ]
    }
   ],
   "source": [
    "words_source_train = []\n",
    "for i in data['text'] :\n",
    "  words_source_train.extend(i.split(' '))\n",
    "\n",
    "print(\"all the words in the corpus\", len(words_source_train))\n",
    "words_source_train = set(words_source_train)\n",
    "print(\"the unique words in the corpus\", len(words_source_train))\n",
    "inter_words = set(embeddings_index.keys()).intersection(words_source_train)\n",
    "print(\"The number of words that are present in both glove vectors and our corpus are {} which \\\n",
    "is nearly {}% \".format(len(inter_words), np.round((float(len(inter_words))/len(words_source_train))\n",
    "*100)))\n",
    "\n",
    "words_corpus_source_train = {}\n",
    "words_glove = set(embeddings_index.keys())\n",
    "for i in words_source_train:\n",
    "  if i in words_glove:\n",
    "    words_corpus_source_train[i] = embeddings_index[i]\n",
    "print(\"GloVe length\", len(words_corpus_source_train))"
   ]
  },
  {
   "cell_type": "code",
   "execution_count": 18,
   "id": "4bbc87ad",
   "metadata": {
    "execution": {
     "iopub.execute_input": "2022-01-11T15:34:56.663407Z",
     "iopub.status.busy": "2022-01-11T15:34:56.662856Z",
     "iopub.status.idle": "2022-01-11T15:34:56.667413Z",
     "shell.execute_reply": "2022-01-11T15:34:56.667846Z",
     "shell.execute_reply.started": "2022-01-11T13:26:59.558248Z"
    },
    "papermill": {
     "duration": 0.052816,
     "end_time": "2022-01-11T15:34:56.667994",
     "exception": false,
     "start_time": "2022-01-11T15:34:56.615178",
     "status": "completed"
    },
    "tags": []
   },
   "outputs": [
    {
     "name": "stdout",
     "output_type": "stream",
     "text": [
      "['', 'heptulla', 'cruegar', 'governmentis', 'resynchronise', 'crorebut', 'mdshami11', 'dinitramide', 'aptenoperissus', 'wx06a', 'majli', 'yallamma', 'taenk', 'nupcome', 'biharha', 'gangajalin', 'egotiating', 'djokernole', 'dindoshi', 'smaile']\n"
     ]
    }
   ],
   "source": [
    "print(list(words_source_train - inter_words)[:20])"
   ]
  },
  {
   "cell_type": "code",
   "execution_count": 19,
   "id": "86d2f8eb",
   "metadata": {
    "execution": {
     "iopub.execute_input": "2022-01-11T15:34:56.781552Z",
     "iopub.status.busy": "2022-01-11T15:34:56.776354Z",
     "iopub.status.idle": "2022-01-11T15:34:57.140858Z",
     "shell.execute_reply": "2022-01-11T15:34:57.140365Z",
     "shell.execute_reply.started": "2022-01-11T13:27:41.260915Z"
    },
    "id": "hT_Ak7qtkv2_",
    "papermill": {
     "duration": 0.432401,
     "end_time": "2022-01-11T15:34:57.141010",
     "exception": false,
     "start_time": "2022-01-11T15:34:56.708609",
     "status": "completed"
    },
    "tags": []
   },
   "outputs": [],
   "source": [
    "def num(text):\n",
    "  words = [w for w in text.split() if not w in inter_words]\n",
    "  return len(words)\n",
    "\n",
    "data['unique_words'] = data['text'].apply(num)"
   ]
  },
  {
   "cell_type": "code",
   "execution_count": 20,
   "id": "d5e61e63",
   "metadata": {
    "execution": {
     "iopub.execute_input": "2022-01-11T15:34:57.230531Z",
     "iopub.status.busy": "2022-01-11T15:34:57.229811Z",
     "iopub.status.idle": "2022-01-11T15:34:57.232794Z",
     "shell.execute_reply": "2022-01-11T15:34:57.233212Z",
     "shell.execute_reply.started": "2022-01-11T13:27:42.575402Z"
    },
    "papermill": {
     "duration": 0.051579,
     "end_time": "2022-01-11T15:34:57.233335",
     "exception": false,
     "start_time": "2022-01-11T15:34:57.181756",
     "status": "completed"
    },
    "tags": []
   },
   "outputs": [
    {
     "data": {
      "text/plain": [
       "0    40642\n",
       "1     9409\n",
       "2     3389\n",
       "3     1155\n",
       "4      333\n",
       "5      124\n",
       "6       41\n",
       "7        8\n",
       "8        2\n",
       "9        1\n",
       "Name: unique_words, dtype: int64"
      ]
     },
     "execution_count": 20,
     "metadata": {},
     "output_type": "execute_result"
    }
   ],
   "source": [
    "data['unique_words'].value_counts()"
   ]
  },
  {
   "cell_type": "code",
   "execution_count": 21,
   "id": "e1b7f9af",
   "metadata": {
    "execution": {
     "iopub.execute_input": "2022-01-11T15:34:57.317169Z",
     "iopub.status.busy": "2022-01-11T15:34:57.316362Z",
     "iopub.status.idle": "2022-01-11T15:34:57.323785Z",
     "shell.execute_reply": "2022-01-11T15:34:57.324244Z",
     "shell.execute_reply.started": "2022-01-11T13:27:43.093676Z"
    },
    "id": "N4RZLvQ00zBN",
    "papermill": {
     "duration": 0.05094,
     "end_time": "2022-01-11T15:34:57.324363",
     "exception": false,
     "start_time": "2022-01-11T15:34:57.273423",
     "status": "completed"
    },
    "tags": []
   },
   "outputs": [],
   "source": [
    "data = data[data['unique_words'] < 4]\n",
    "data.reset_index(inplace=True, drop=True)"
   ]
  },
  {
   "cell_type": "code",
   "execution_count": 22,
   "id": "5cb35968",
   "metadata": {
    "execution": {
     "iopub.execute_input": "2022-01-11T15:34:57.413944Z",
     "iopub.status.busy": "2022-01-11T15:34:57.413451Z",
     "iopub.status.idle": "2022-01-11T15:34:57.418014Z",
     "shell.execute_reply": "2022-01-11T15:34:57.417601Z",
     "shell.execute_reply.started": "2022-01-11T13:27:43.780936Z"
    },
    "id": "uF08PoBm1N78",
    "outputId": "b54f44b1-d68b-428c-d37d-37f691f00573",
    "papermill": {
     "duration": 0.053834,
     "end_time": "2022-01-11T15:34:57.418118",
     "exception": false,
     "start_time": "2022-01-11T15:34:57.364284",
     "status": "completed"
    },
    "tags": []
   },
   "outputs": [
    {
     "data": {
      "text/html": [
       "<div>\n",
       "<style scoped>\n",
       "    .dataframe tbody tr th:only-of-type {\n",
       "        vertical-align: middle;\n",
       "    }\n",
       "\n",
       "    .dataframe tbody tr th {\n",
       "        vertical-align: top;\n",
       "    }\n",
       "\n",
       "    .dataframe thead th {\n",
       "        text-align: right;\n",
       "    }\n",
       "</style>\n",
       "<table border=\"1\" class=\"dataframe\">\n",
       "  <thead>\n",
       "    <tr style=\"text-align: right;\">\n",
       "      <th></th>\n",
       "      <th>headlines</th>\n",
       "      <th>text</th>\n",
       "      <th>unique_words</th>\n",
       "    </tr>\n",
       "  </thead>\n",
       "  <tbody>\n",
       "    <tr>\n",
       "      <th>0</th>\n",
       "      <td>_START_ 4 ex-bank officials booked for cheatin...</td>\n",
       "      <td>cbi saturday book four former official syndica...</td>\n",
       "      <td>0</td>\n",
       "    </tr>\n",
       "    <tr>\n",
       "      <th>1</th>\n",
       "      <td>_START_ Supreme Court to go paperless in 6 mon...</td>\n",
       "      <td>chief justice js khehar say supreme court go p...</td>\n",
       "      <td>0</td>\n",
       "    </tr>\n",
       "    <tr>\n",
       "      <th>2</th>\n",
       "      <td>_START_ At least 3 killed, 30 injured in blast...</td>\n",
       "      <td>least three people kill include policeman 30 o...</td>\n",
       "      <td>1</td>\n",
       "    </tr>\n",
       "    <tr>\n",
       "      <th>3</th>\n",
       "      <td>_START_ Why has Reliance been barred from trad...</td>\n",
       "      <td>mukesh ambani lead reliance industry 2007 ril ...</td>\n",
       "      <td>0</td>\n",
       "    </tr>\n",
       "    <tr>\n",
       "      <th>4</th>\n",
       "      <td>_START_ Was stopped from entering my own studi...</td>\n",
       "      <td>tv news anchor arnab goswami say tell could pr...</td>\n",
       "      <td>0</td>\n",
       "    </tr>\n",
       "    <tr>\n",
       "      <th>...</th>\n",
       "      <td>...</td>\n",
       "      <td>...</td>\n",
       "      <td>...</td>\n",
       "    </tr>\n",
       "    <tr>\n",
       "      <th>54590</th>\n",
       "      <td>_START_ Sensex loses 400 points to hit 52-week...</td>\n",
       "      <td>track weak cue asian market benchmark sensex w...</td>\n",
       "      <td>1</td>\n",
       "    </tr>\n",
       "    <tr>\n",
       "      <th>54591</th>\n",
       "      <td>_START_ China to inject $91 bn into the money ...</td>\n",
       "      <td>amid grow concern china 39 s economic growth r...</td>\n",
       "      <td>0</td>\n",
       "    </tr>\n",
       "    <tr>\n",
       "      <th>54592</th>\n",
       "      <td>_START_ Ghulam Ali set to make acting debut in...</td>\n",
       "      <td>pakistani ghazal singer ghulam ali soon make a...</td>\n",
       "      <td>1</td>\n",
       "    </tr>\n",
       "    <tr>\n",
       "      <th>54593</th>\n",
       "      <td>_START_ IS acknowledges death of Jihadi John: ...</td>\n",
       "      <td>islamic state acknowledge death 39 jihadi john...</td>\n",
       "      <td>1</td>\n",
       "    </tr>\n",
       "    <tr>\n",
       "      <th>54594</th>\n",
       "      <td>_START_ Cairn to seek $600 mn from India in da...</td>\n",
       "      <td>uk base oil firm cairn energy tuesday say seek...</td>\n",
       "      <td>0</td>\n",
       "    </tr>\n",
       "  </tbody>\n",
       "</table>\n",
       "<p>54595 rows × 3 columns</p>\n",
       "</div>"
      ],
      "text/plain": [
       "                                               headlines  \\\n",
       "0      _START_ 4 ex-bank officials booked for cheatin...   \n",
       "1      _START_ Supreme Court to go paperless in 6 mon...   \n",
       "2      _START_ At least 3 killed, 30 injured in blast...   \n",
       "3      _START_ Why has Reliance been barred from trad...   \n",
       "4      _START_ Was stopped from entering my own studi...   \n",
       "...                                                  ...   \n",
       "54590  _START_ Sensex loses 400 points to hit 52-week...   \n",
       "54591  _START_ China to inject $91 bn into the money ...   \n",
       "54592  _START_ Ghulam Ali set to make acting debut in...   \n",
       "54593  _START_ IS acknowledges death of Jihadi John: ...   \n",
       "54594  _START_ Cairn to seek $600 mn from India in da...   \n",
       "\n",
       "                                                    text  unique_words  \n",
       "0      cbi saturday book four former official syndica...             0  \n",
       "1      chief justice js khehar say supreme court go p...             0  \n",
       "2      least three people kill include policeman 30 o...             1  \n",
       "3      mukesh ambani lead reliance industry 2007 ril ...             0  \n",
       "4      tv news anchor arnab goswami say tell could pr...             0  \n",
       "...                                                  ...           ...  \n",
       "54590  track weak cue asian market benchmark sensex w...             1  \n",
       "54591  amid grow concern china 39 s economic growth r...             0  \n",
       "54592  pakistani ghazal singer ghulam ali soon make a...             1  \n",
       "54593  islamic state acknowledge death 39 jihadi john...             1  \n",
       "54594  uk base oil firm cairn energy tuesday say seek...             0  \n",
       "\n",
       "[54595 rows x 3 columns]"
      ]
     },
     "execution_count": 22,
     "metadata": {},
     "output_type": "execute_result"
    }
   ],
   "source": [
    "data"
   ]
  },
  {
   "cell_type": "markdown",
   "id": "a30d3e8d",
   "metadata": {},
   "source": [
    "### Splitting Data"
   ]
  },
  {
   "cell_type": "code",
   "execution_count": 23,
   "id": "efca3d71",
   "metadata": {
    "execution": {
     "iopub.execute_input": "2022-01-11T15:34:57.505318Z",
     "iopub.status.busy": "2022-01-11T15:34:57.502533Z",
     "iopub.status.idle": "2022-01-11T15:34:57.650383Z",
     "shell.execute_reply": "2022-01-11T15:34:57.649880Z",
     "shell.execute_reply.started": "2022-01-11T13:27:44.141819Z"
    },
    "id": "5JaGAWYn7kqR",
    "papermill": {
     "duration": 0.1924,
     "end_time": "2022-01-11T15:34:57.650509",
     "exception": false,
     "start_time": "2022-01-11T15:34:57.458109",
     "status": "completed"
    },
    "tags": []
   },
   "outputs": [],
   "source": [
    "from sklearn.model_selection import train_test_split\n",
    "X_train, X_val, y_train, y_val = train_test_split(data['text'], data['headlines'], test_size = 0.2, random_state = 20)\n",
    "X_test, X_val, y_test, y_val = train_test_split(X_val, y_val, test_size = 0.5, random_state = 20)"
   ]
  },
  {
   "cell_type": "code",
   "execution_count": 24,
   "id": "9b60d6dd",
   "metadata": {
    "execution": {
     "iopub.execute_input": "2022-01-11T15:34:57.738285Z",
     "iopub.status.busy": "2022-01-11T15:34:57.737464Z",
     "iopub.status.idle": "2022-01-11T15:34:57.740226Z",
     "shell.execute_reply": "2022-01-11T15:34:57.739723Z",
     "shell.execute_reply.started": "2022-01-11T13:27:45.057717Z"
    },
    "id": "zhoRlF5L_qwa",
    "papermill": {
     "duration": 0.048852,
     "end_time": "2022-01-11T15:34:57.740357",
     "exception": false,
     "start_time": "2022-01-11T15:34:57.691505",
     "status": "completed"
    },
    "tags": []
   },
   "outputs": [],
   "source": [
    "max_length_x = max(text_length)\n",
    "max_length_y = max(headlines_length)"
   ]
  },
  {
   "cell_type": "markdown",
   "id": "e58b0feb",
   "metadata": {},
   "source": [
    "### Tokenization"
   ]
  },
  {
   "cell_type": "code",
   "execution_count": 25,
   "id": "e473284d",
   "metadata": {
    "execution": {
     "iopub.execute_input": "2022-01-11T15:34:57.855866Z",
     "iopub.status.busy": "2022-01-11T15:34:57.845536Z",
     "iopub.status.idle": "2022-01-11T15:35:02.774728Z",
     "shell.execute_reply": "2022-01-11T15:35:02.773747Z",
     "shell.execute_reply.started": "2022-01-11T13:27:45.467868Z"
    },
    "id": "QXQdLrLK0l5B",
    "papermill": {
     "duration": 4.994101,
     "end_time": "2022-01-11T15:35:02.774878",
     "exception": false,
     "start_time": "2022-01-11T15:34:57.780777",
     "status": "completed"
    },
    "tags": []
   },
   "outputs": [],
   "source": [
    "x_t = Tokenizer()\n",
    "x_t.fit_on_texts(data['text'] + data['headlines'])\n",
    "x_vocab_size = len(x_t.word_index) + 1\n",
    "\n",
    "encoded_xtrain = x_t.texts_to_sequences(X_train)\n",
    "encoded_xval = x_t.texts_to_sequences(X_val)\n",
    "encoded_xtest = x_t.texts_to_sequences(X_test)\n",
    "\n",
    "padded_xtrain = pad_sequences(encoded_xtrain, maxlen=max_length_x, padding='post')\n",
    "padded_xval = pad_sequences(encoded_xval, maxlen=max_length_x, padding='post')\n",
    "padded_xtest = pad_sequences(encoded_xtest, maxlen=max_length_x, padding='post')"
   ]
  },
  {
   "cell_type": "code",
   "execution_count": 26,
   "id": "d3ec5397",
   "metadata": {
    "execution": {
     "iopub.execute_input": "2022-01-11T15:35:02.889778Z",
     "iopub.status.busy": "2022-01-11T15:35:02.868483Z",
     "iopub.status.idle": "2022-01-11T15:35:05.252619Z",
     "shell.execute_reply": "2022-01-11T15:35:05.252127Z",
     "shell.execute_reply.started": "2022-01-11T13:27:51.157067Z"
    },
    "id": "n7SVsptTNPtP",
    "papermill": {
     "duration": 2.437043,
     "end_time": "2022-01-11T15:35:05.252750",
     "exception": false,
     "start_time": "2022-01-11T15:35:02.815707",
     "status": "completed"
    },
    "tags": []
   },
   "outputs": [],
   "source": [
    "y_t = Tokenizer()\n",
    "y_t.fit_on_texts(data['headlines'])\n",
    "y_vocab_size = len(y_t.word_index) + 1\n",
    "\n",
    "encoded_ytrain = y_t.texts_to_sequences(y_train)\n",
    "encoded_yval = y_t.texts_to_sequences(y_val)\n",
    "encoded_ytest = y_t.texts_to_sequences(y_test)\n",
    "\n",
    "padded_ytrain = pad_sequences(encoded_ytrain, maxlen=max_length_y, padding='post')\n",
    "padded_yval = pad_sequences(encoded_yval, maxlen=max_length_y, padding='post')\n",
    "padded_ytest = pad_sequences(encoded_ytest, maxlen=max_length_y, padding='post')"
   ]
  },
  {
   "cell_type": "markdown",
   "id": "5fca222c",
   "metadata": {},
   "source": [
    "### Creation of Embedding Matrix"
   ]
  },
  {
   "cell_type": "code",
   "execution_count": 27,
   "id": "74c32d31",
   "metadata": {
    "execution": {
     "iopub.execute_input": "2022-01-11T15:35:05.338552Z",
     "iopub.status.busy": "2022-01-11T15:35:05.337758Z",
     "iopub.status.idle": "2022-01-11T15:35:05.554680Z",
     "shell.execute_reply": "2022-01-11T15:35:05.554208Z",
     "shell.execute_reply.started": "2022-01-11T13:29:47.383476Z"
    },
    "id": "rM-974HV0nKo",
    "outputId": "6aa27890-eaf7-4e0f-e594-8057efa18be6",
    "papermill": {
     "duration": 0.261603,
     "end_time": "2022-01-11T15:35:05.554799",
     "exception": false,
     "start_time": "2022-01-11T15:35:05.293196",
     "status": "completed"
    },
    "tags": []
   },
   "outputs": [
    {
     "name": "stdout",
     "output_type": "stream",
     "text": [
      "Loaded 1917494 word vectors.\n"
     ]
    }
   ],
   "source": [
    "print('Loaded %s word vectors.' % len(embeddings_index))\n",
    "\n",
    "embedding_matrix = np.zeros((x_vocab_size, glove_size))\n",
    "for word, i in x_t.word_index.items():\n",
    "\tembedding_vector = embeddings_index.get(word)\n",
    "\tif embedding_vector is not None:\n",
    "\t\tembedding_matrix[i] = embedding_vector"
   ]
  },
  {
   "cell_type": "markdown",
   "id": "69b4c40c",
   "metadata": {
    "id": "99aPNL7dqnfh",
    "papermill": {
     "duration": 0.040333,
     "end_time": "2022-01-11T15:35:05.636243",
     "exception": false,
     "start_time": "2022-01-11T15:35:05.595910",
     "status": "completed"
    },
    "tags": []
   },
   "source": [
    "### Building Model"
   ]
  },
  {
   "cell_type": "code",
   "execution_count": 29,
   "id": "7415f736",
   "metadata": {
    "execution": {
     "iopub.execute_input": "2022-01-11T15:35:05.826476Z",
     "iopub.status.busy": "2022-01-11T15:35:05.824806Z",
     "iopub.status.idle": "2022-01-11T15:35:15.389855Z",
     "shell.execute_reply": "2022-01-11T15:35:15.390734Z",
     "shell.execute_reply.started": "2022-01-11T13:29:50.175592Z"
    },
    "id": "wTukjl0hpPgo",
    "outputId": "6035a9eb-baac-43ff-a123-74e1ae1f02b7",
    "papermill": {
     "duration": 9.613154,
     "end_time": "2022-01-11T15:35:15.390940",
     "exception": false,
     "start_time": "2022-01-11T15:35:05.777786",
     "status": "completed"
    },
    "tags": []
   },
   "outputs": [
    {
     "name": "stderr",
     "output_type": "stream",
     "text": [
      "2022-01-11 15:35:05.861235: I tensorflow/stream_executor/cuda/cuda_gpu_executor.cc:937] successful NUMA node read from SysFS had negative value (-1), but there must be at least one NUMA node, so returning NUMA node zero\n",
      "2022-01-11 15:35:05.862506: I tensorflow/stream_executor/cuda/cuda_gpu_executor.cc:937] successful NUMA node read from SysFS had negative value (-1), but there must be at least one NUMA node, so returning NUMA node zero\n",
      "2022-01-11 15:35:05.863303: I tensorflow/stream_executor/cuda/cuda_gpu_executor.cc:937] successful NUMA node read from SysFS had negative value (-1), but there must be at least one NUMA node, so returning NUMA node zero\n",
      "2022-01-11 15:35:05.864122: I tensorflow/core/platform/cpu_feature_guard.cc:142] This TensorFlow binary is optimized with oneAPI Deep Neural Network Library (oneDNN) to use the following CPU instructions in performance-critical operations:  AVX2 AVX512F FMA\n",
      "To enable them in other operations, rebuild TensorFlow with the appropriate compiler flags.\n",
      "2022-01-11 15:35:05.865101: I tensorflow/stream_executor/cuda/cuda_gpu_executor.cc:937] successful NUMA node read from SysFS had negative value (-1), but there must be at least one NUMA node, so returning NUMA node zero\n",
      "2022-01-11 15:35:05.865777: I tensorflow/stream_executor/cuda/cuda_gpu_executor.cc:937] successful NUMA node read from SysFS had negative value (-1), but there must be at least one NUMA node, so returning NUMA node zero\n",
      "2022-01-11 15:35:05.866464: I tensorflow/stream_executor/cuda/cuda_gpu_executor.cc:937] successful NUMA node read from SysFS had negative value (-1), but there must be at least one NUMA node, so returning NUMA node zero\n",
      "2022-01-11 15:35:13.439235: I tensorflow/stream_executor/cuda/cuda_gpu_executor.cc:937] successful NUMA node read from SysFS had negative value (-1), but there must be at least one NUMA node, so returning NUMA node zero\n",
      "2022-01-11 15:35:13.440106: I tensorflow/stream_executor/cuda/cuda_gpu_executor.cc:937] successful NUMA node read from SysFS had negative value (-1), but there must be at least one NUMA node, so returning NUMA node zero\n",
      "2022-01-11 15:35:13.440742: I tensorflow/stream_executor/cuda/cuda_gpu_executor.cc:937] successful NUMA node read from SysFS had negative value (-1), but there must be at least one NUMA node, so returning NUMA node zero\n",
      "2022-01-11 15:35:13.441346: I tensorflow/core/common_runtime/gpu/gpu_device.cc:1510] Created device /job:localhost/replica:0/task:0/device:GPU:0 with 14589 MB memory:  -> device: 0, name: Tesla P100-PCIE-16GB, pci bus id: 0000:00:04.0, compute capability: 6.0\n",
      "2022-01-11 15:35:13.925213: W tensorflow/core/framework/cpu_allocator_impl.cc:80] Allocation of 82384800 exceeds 10% of free system memory.\n",
      "2022-01-11 15:35:14.990071: W tensorflow/core/framework/cpu_allocator_impl.cc:80] Allocation of 82384800 exceeds 10% of free system memory.\n"
     ]
    },
    {
     "name": "stdout",
     "output_type": "stream",
     "text": [
      "Model: \"model\"\n",
      "__________________________________________________________________________________________________\n",
      "Layer (type)                    Output Shape         Param #     Connected to                     \n",
      "==================================================================================================\n",
      "input_1 (InputLayer)            [(None, 71)]         0                                            \n",
      "__________________________________________________________________________________________________\n",
      "embedding (Embedding)           (None, 71, 300)      20596200    input_1[0][0]                    \n",
      "__________________________________________________________________________________________________\n",
      "lstm (LSTM)                     [(None, 71, 500), (N 1602000     embedding[0][0]                  \n",
      "__________________________________________________________________________________________________\n",
      "input_2 (InputLayer)            [(None, None)]       0                                            \n",
      "__________________________________________________________________________________________________\n",
      "lstm_1 (LSTM)                   [(None, 71, 500), (N 2002000     lstm[0][0]                       \n",
      "__________________________________________________________________________________________________\n",
      "embedding_1 (Embedding)         (None, None, 300)    20596200    input_2[0][0]                    \n",
      "__________________________________________________________________________________________________\n",
      "lstm_2 (LSTM)                   [(None, 71, 500), (N 2002000     lstm_1[0][0]                     \n",
      "__________________________________________________________________________________________________\n",
      "lstm_3 (LSTM)                   [(None, None, 500),  1602000     embedding_1[0][0]                \n",
      "                                                                 lstm_2[0][1]                     \n",
      "                                                                 lstm_2[0][2]                     \n",
      "__________________________________________________________________________________________________\n",
      "time_distributed (TimeDistribut (None, None, 29389)  14723889    lstm_3[0][0]                     \n",
      "==================================================================================================\n",
      "Total params: 63,124,289\n",
      "Trainable params: 21,931,889\n",
      "Non-trainable params: 41,192,400\n",
      "__________________________________________________________________________________________________\n",
      "None\n"
     ]
    }
   ],
   "source": [
    "latent_dim=500\n",
    "\n",
    "K.clear_session() \n",
    "\n",
    "encoder_inputs = Input(shape=(max_length_x,)) \n",
    "enc_emb = Embedding(x_vocab_size, glove_size, weights=[embedding_matrix],input_length=max_length_x, trainable=False)(encoder_inputs) \n",
    "\n",
    "# Encoder \n",
    "encoder_lstm1 = LSTM(latent_dim,return_sequences=True,return_state=True) \n",
    "encoder_output1, state_h1, state_c1 = encoder_lstm1(enc_emb) \n",
    "encoder_lstm2 = LSTM(latent_dim,return_sequences=True,return_state=True) \n",
    "encoder_output2, state_h2, state_c2 = encoder_lstm2(encoder_output1) \n",
    "encoder_lstm3 = LSTM(latent_dim, return_state=True, return_sequences=True) \n",
    "encoder_outputs, state_h, state_c= encoder_lstm3(encoder_output2) \n",
    "\n",
    "# Decoder. \n",
    "decoder_inputs = Input(shape=(None,)) \n",
    "dec_emb_layer = Embedding(x_vocab_size, glove_size, weights=[embedding_matrix],input_length=max_length_x, trainable=False) \n",
    "dec_emb = dec_emb_layer(decoder_inputs) \n",
    "\n",
    "# LSTM using encoder_states as initial state\n",
    "decoder_lstm = LSTM(latent_dim, return_sequences=True, return_state=True) \n",
    "decoder_outputs,decoder_fwd_state, decoder_back_state = decoder_lstm(dec_emb,initial_state=[state_h, state_c]) \n",
    "\n",
    "decoder_dense = TimeDistributed(Dense(y_vocab_size, activation='softmax')) \n",
    "decoder_outputs = decoder_dense(decoder_outputs) \n",
    "\n",
    "model = Model([encoder_inputs, decoder_inputs], decoder_outputs) \n",
    "print(model.summary())"
   ]
  },
  {
   "cell_type": "code",
   "execution_count": 30,
   "id": "3f32399c",
   "metadata": {
    "execution": {
     "iopub.execute_input": "2022-01-11T15:35:15.489433Z",
     "iopub.status.busy": "2022-01-11T15:35:15.486351Z",
     "iopub.status.idle": "2022-01-11T15:53:24.960771Z",
     "shell.execute_reply": "2022-01-11T15:53:24.961213Z",
     "shell.execute_reply.started": "2022-01-11T13:30:02.678074Z"
    },
    "id": "4fUJoaFAiwUb",
    "outputId": "4bc22143-d3ed-4b87-e2e6-c44f3034a816",
    "papermill": {
     "duration": 1089.527145,
     "end_time": "2022-01-11T15:53:24.961388",
     "exception": false,
     "start_time": "2022-01-11T15:35:15.434243",
     "status": "completed"
    },
    "tags": []
   },
   "outputs": [
    {
     "name": "stderr",
     "output_type": "stream",
     "text": [
      "2022-01-11 15:35:15.542625: I tensorflow/compiler/mlir/mlir_graph_optimization_pass.cc:185] None of the MLIR Optimization Passes are enabled (registered 2)\n"
     ]
    },
    {
     "name": "stdout",
     "output_type": "stream",
     "text": [
      "Epoch 1/30\n"
     ]
    },
    {
     "name": "stderr",
     "output_type": "stream",
     "text": [
      "2022-01-11 15:35:20.975638: I tensorflow/stream_executor/cuda/cuda_dnn.cc:369] Loaded cuDNN version 8005\n"
     ]
    },
    {
     "name": "stdout",
     "output_type": "stream",
     "text": [
      "86/86 [==============================] - 43s 426ms/step - loss: 5.3491 - val_loss: 4.8141\n"
     ]
    },
    {
     "name": "stderr",
     "output_type": "stream",
     "text": [
      "2022-01-11 15:35:58.866996: W tensorflow/core/framework/cpu_allocator_impl.cc:80] Allocation of 82384800 exceeds 10% of free system memory.\n",
      "2022-01-11 15:35:59.120752: W tensorflow/core/framework/cpu_allocator_impl.cc:80] Allocation of 82384800 exceeds 10% of free system memory.\n",
      "2022-01-11 15:35:59.410501: W tensorflow/core/framework/cpu_allocator_impl.cc:80] Allocation of 58778000 exceeds 10% of free system memory.\n"
     ]
    },
    {
     "name": "stdout",
     "output_type": "stream",
     "text": [
      "Epoch 2/30\n",
      "86/86 [==============================] - 35s 413ms/step - loss: 4.7386 - val_loss: 4.6932\n",
      "Epoch 3/30\n",
      "86/86 [==============================] - 35s 413ms/step - loss: 4.6028 - val_loss: 4.6067\n",
      "Epoch 4/30\n",
      "86/86 [==============================] - 36s 414ms/step - loss: 4.4891 - val_loss: 4.5356\n",
      "Epoch 5/30\n",
      "86/86 [==============================] - 36s 414ms/step - loss: 4.3742 - val_loss: 4.4673\n",
      "Epoch 6/30\n",
      "86/86 [==============================] - 36s 415ms/step - loss: 4.2477 - val_loss: 4.3794\n",
      "Epoch 7/30\n",
      "86/86 [==============================] - 36s 414ms/step - loss: 4.1063 - val_loss: 4.3196\n",
      "Epoch 8/30\n",
      "86/86 [==============================] - 36s 413ms/step - loss: 3.9629 - val_loss: 4.2163\n",
      "Epoch 9/30\n",
      "86/86 [==============================] - 36s 414ms/step - loss: 3.8261 - val_loss: 4.1590\n",
      "Epoch 10/30\n",
      "86/86 [==============================] - 36s 414ms/step - loss: 3.6929 - val_loss: 4.0879\n",
      "Epoch 11/30\n",
      "86/86 [==============================] - 36s 414ms/step - loss: 3.5627 - val_loss: 4.0407\n",
      "Epoch 12/30\n",
      "86/86 [==============================] - 36s 414ms/step - loss: 3.4323 - val_loss: 3.9920\n",
      "Epoch 13/30\n",
      "86/86 [==============================] - 36s 414ms/step - loss: 3.3039 - val_loss: 3.9390\n",
      "Epoch 14/30\n",
      "86/86 [==============================] - 36s 415ms/step - loss: 3.1795 - val_loss: 3.8919\n",
      "Epoch 15/30\n",
      "86/86 [==============================] - 36s 414ms/step - loss: 3.0587 - val_loss: 3.8543\n",
      "Epoch 16/30\n",
      "86/86 [==============================] - 36s 413ms/step - loss: 2.9432 - val_loss: 3.8262\n",
      "Epoch 17/30\n",
      "86/86 [==============================] - 36s 413ms/step - loss: 2.8303 - val_loss: 3.8083\n",
      "Epoch 18/30\n",
      "86/86 [==============================] - 36s 414ms/step - loss: 2.7204 - val_loss: 3.7793\n",
      "Epoch 19/30\n",
      "86/86 [==============================] - 36s 414ms/step - loss: 2.6155 - val_loss: 3.7701\n",
      "Epoch 20/30\n",
      "86/86 [==============================] - 36s 414ms/step - loss: 2.5110 - val_loss: 3.7591\n",
      "Epoch 21/30\n",
      "86/86 [==============================] - 36s 414ms/step - loss: 2.4073 - val_loss: 3.7510\n",
      "Epoch 22/30\n",
      "86/86 [==============================] - 36s 414ms/step - loss: 2.3085 - val_loss: 3.7521\n",
      "Epoch 23/30\n",
      "86/86 [==============================] - 36s 414ms/step - loss: 2.2106 - val_loss: 3.7462\n",
      "Epoch 24/30\n",
      "86/86 [==============================] - 36s 414ms/step - loss: 2.1151 - val_loss: 3.7625\n",
      "Epoch 25/30\n",
      "86/86 [==============================] - 36s 415ms/step - loss: 2.0225 - val_loss: 3.7602\n",
      "Epoch 26/30\n",
      "86/86 [==============================] - 36s 414ms/step - loss: 1.9323 - val_loss: 3.7639\n",
      "Epoch 27/30\n",
      "86/86 [==============================] - 36s 414ms/step - loss: 1.8446 - val_loss: 3.7918\n",
      "Epoch 28/30\n",
      "86/86 [==============================] - 36s 414ms/step - loss: 1.7585 - val_loss: 3.7945\n",
      "Epoch 29/30\n",
      "86/86 [==============================] - 36s 415ms/step - loss: 1.6767 - val_loss: 3.8072\n",
      "Epoch 30/30\n",
      "86/86 [==============================] - 36s 415ms/step - loss: 1.5939 - val_loss: 3.8250\n"
     ]
    }
   ],
   "source": [
    "model.compile(optimizer='rmsprop', loss='sparse_categorical_crossentropy')\n",
    "checkpoint_filepath = './model.{epoch:02d}-{val_loss:.2f}.h5'\n",
    "model_checkpoint_callback = tf.keras.callbacks.ModelCheckpoint(filepath=checkpoint_filepath,save_weights_only=True,monitor='val_loss',mode='min',save_best_only=True, save_freq = \"epoch\")\n",
    "es = EarlyStopping(monitor='val_loss', mode='min', verbose=1, patience=4)\n",
    "history=model.fit(\n",
    "    [padded_xtrain,padded_ytrain[:,:-1]], \n",
    "    padded_ytrain.reshape(padded_ytrain.shape[0],padded_ytrain.shape[1], 1)[:,1:], \n",
    "    epochs=30,\n",
    "    batch_size=512, \n",
    "    validation_data=([padded_xval,padded_yval[:,:-1]], padded_yval.reshape(padded_yval.shape[0],padded_yval.shape[1], 1)[:,1:]), \n",
    "    callbacks=[model_checkpoint_callback])"
   ]
  },
  {
   "cell_type": "markdown",
   "id": "95da7e8d",
   "metadata": {
    "id": "0CULXhQiGpvO",
    "papermill": {
     "duration": 0.706458,
     "end_time": "2022-01-11T15:53:26.373125",
     "exception": false,
     "start_time": "2022-01-11T15:53:25.666667",
     "status": "completed"
    },
    "tags": []
   },
   "source": []
  },
  {
   "cell_type": "code",
   "execution_count": 31,
   "id": "cb099777",
   "metadata": {
    "execution": {
     "iopub.execute_input": "2022-01-11T15:53:27.805668Z",
     "iopub.status.busy": "2022-01-11T15:53:27.803126Z",
     "iopub.status.idle": "2022-01-11T15:53:27.991206Z",
     "shell.execute_reply": "2022-01-11T15:53:27.990715Z",
     "shell.execute_reply.started": "2022-01-11T13:35:36.403238Z"
    },
    "id": "JQf1v5WhqLLg",
    "outputId": "f5bfa510-79c7-465e-e371-ea5b36198da9",
    "papermill": {
     "duration": 0.909101,
     "end_time": "2022-01-11T15:53:27.991332",
     "exception": false,
     "start_time": "2022-01-11T15:53:27.082231",
     "status": "completed"
    },
    "tags": []
   },
   "outputs": [
    {
     "data": {
      "image/png": "[encoded data removed]",
      "text/plain": [
       "<Figure size 432x288 with 1 Axes>"
      ]
     },
     "metadata": {
      "needs_background": "light"
     },
     "output_type": "display_data"
    }
   ],
   "source": [
    "from matplotlib import pyplot \n",
    "pyplot.plot(history.history['loss'], label='train') \n",
    "pyplot.plot(history.history['val_loss'], label='test') \n",
    "pyplot.legend() \n",
    "pyplot.show()"
   ]
  },
  {
   "cell_type": "markdown",
   "id": "bf1f4feb",
   "metadata": {
    "id": "PZ0W3VZorHVK",
    "papermill": {
     "duration": 0.718683,
     "end_time": "2022-01-11T15:53:33.151005",
     "exception": false,
     "start_time": "2022-01-11T15:53:32.432322",
     "status": "completed"
    },
    "tags": []
   },
   "source": [
    "### Inference"
   ]
  },
  {
   "cell_type": "code",
   "execution_count": 34,
   "id": "9a33fac4",
   "metadata": {
    "execution": {
     "iopub.execute_input": "2022-01-11T15:53:34.584237Z",
     "iopub.status.busy": "2022-01-11T15:53:34.583450Z",
     "iopub.status.idle": "2022-01-11T15:53:34.585897Z",
     "shell.execute_reply": "2022-01-11T15:53:34.585503Z",
     "shell.execute_reply.started": "2022-01-11T13:35:38.768357Z"
    },
    "id": "UlSTzEbnskcd",
    "papermill": {
     "duration": 0.708067,
     "end_time": "2022-01-11T15:53:34.586025",
     "exception": false,
     "start_time": "2022-01-11T15:53:33.877958",
     "status": "completed"
    },
    "tags": []
   },
   "outputs": [],
   "source": [
    "reverse_target_word_index = y_t.index_word \n",
    "reverse_source_word_index = x_t.index_word \n",
    "target_word_index = y_t.word_index"
   ]
  },
  {
   "cell_type": "code",
   "execution_count": 35,
   "id": "4e091ddd",
   "metadata": {
    "execution": {
     "iopub.execute_input": "2022-01-11T15:53:35.995677Z",
     "iopub.status.busy": "2022-01-11T15:53:35.994854Z",
     "iopub.status.idle": "2022-01-11T15:53:36.188270Z",
     "shell.execute_reply": "2022-01-11T15:53:36.187802Z",
     "shell.execute_reply.started": "2022-01-11T13:35:39.544012Z"
    },
    "id": "thX0Ep0Ssnd1",
    "papermill": {
     "duration": 0.901079,
     "end_time": "2022-01-11T15:53:36.188393",
     "exception": false,
     "start_time": "2022-01-11T15:53:35.287314",
     "status": "completed"
    },
    "tags": []
   },
   "outputs": [],
   "source": [
    "encoder_model = Model(inputs=encoder_inputs,outputs=[encoder_outputs, state_h, state_c])\n",
    "decoder_state_input_h = Input(shape=(latent_dim,))\n",
    "decoder_state_input_c = Input(shape=(latent_dim,))\n",
    "decoder_hidden_state_input = Input(shape=(max_length_x,latent_dim))\n",
    "\n",
    "dec_emb2= dec_emb_layer(decoder_inputs)\n",
    "decoder_outputs2, state_h2, state_c2 = decoder_lstm(dec_emb2, initial_state=[decoder_state_input_h, decoder_state_input_c])\n",
    "\n",
    "decoder_outputs2 = decoder_dense(decoder_outputs2)\n",
    "\n",
    "decoder_model = Model(\n",
    "[decoder_inputs] + [decoder_hidden_state_input,decoder_state_input_h, decoder_state_input_c],\n",
    "[decoder_outputs2] + [state_h2, state_c2])"
   ]
  },
  {
   "cell_type": "code",
   "execution_count": 36,
   "id": "22927661",
   "metadata": {
    "execution": {
     "iopub.execute_input": "2022-01-11T15:53:37.601010Z",
     "iopub.status.busy": "2022-01-11T15:53:37.600183Z",
     "iopub.status.idle": "2022-01-11T15:53:37.608402Z",
     "shell.execute_reply": "2022-01-11T15:53:37.607961Z",
     "shell.execute_reply.started": "2022-01-11T13:35:41.014374Z"
    },
    "id": "wtU0wU8gsuz1",
    "papermill": {
     "duration": 0.713096,
     "end_time": "2022-01-11T15:53:37.608511",
     "exception": false,
     "start_time": "2022-01-11T15:53:36.895415",
     "status": "completed"
    },
    "tags": []
   },
   "outputs": [],
   "source": [
    "def decode_sequence(input_seq):\n",
    "    input_seq= input_seq.reshape(1,max_length_x)\n",
    "    e_out, e_h, e_c = encoder_model.predict(input_seq)\n",
    "    target_seq = np.zeros((1,1))\n",
    "    target_seq[0, 0] = target_word_index['start']\n",
    "\n",
    "    stop_condition = False\n",
    "    decoded_sentence = ''\n",
    "    while not stop_condition:\n",
    "        output_tokens, h, c = decoder_model.predict([target_seq] + [e_out, e_h, e_c])\n",
    "\n",
    "        sampled_token_index = np.argmax(output_tokens[0, -1, :])\n",
    "        sampled_token = reverse_target_word_index[sampled_token_index]\n",
    "  \n",
    "        if(sampled_token!='end'):\n",
    "            decoded_sentence += ' '+sampled_token\n",
    " \n",
    "        if (sampled_token == 'end' or len(decoded_sentence.split()) >= (max_length_y-1)):\n",
    "                stop_condition = True\n",
    "\n",
    "        target_seq = np.zeros((1,1))\n",
    "        target_seq[0, 0] = sampled_token_index\n",
    "        e_h, e_c = h, c\n",
    "\n",
    "    return decoded_sentence"
   ]
  },
  {
   "cell_type": "code",
   "execution_count": 37,
   "id": "1429b392",
   "metadata": {
    "execution": {
     "iopub.execute_input": "2022-01-11T15:53:39.015377Z",
     "iopub.status.busy": "2022-01-11T15:53:39.014562Z",
     "iopub.status.idle": "2022-01-11T15:53:39.016534Z",
     "shell.execute_reply": "2022-01-11T15:53:39.016946Z",
     "shell.execute_reply.started": "2022-01-11T13:35:41.537472Z"
    },
    "id": "cLyRVENRs2Ay",
    "papermill": {
     "duration": 0.709126,
     "end_time": "2022-01-11T15:53:39.017078",
     "exception": false,
     "start_time": "2022-01-11T15:53:38.307952",
     "status": "completed"
    },
    "tags": []
   },
   "outputs": [],
   "source": [
    "def seq2summary(input_seq):\n",
    "    newString=''\n",
    "    for i in input_seq:\n",
    "      if((i!=0 and i!=target_word_index['start']) and i!=target_word_index['end']):\n",
    "        newString=newString+reverse_target_word_index[i]+' '\n",
    "    return newString\n",
    "\n",
    "def seq2text(input_seq):\n",
    "    newString=''\n",
    "    for i in input_seq:\n",
    "      if(i!=0):\n",
    "        newString=newString+reverse_source_word_index[i]+' '\n",
    "    return newString"
   ]
  },
  {
   "cell_type": "code",
   "execution_count": 38,
   "id": "98a3d3ca",
   "metadata": {},
   "outputs": [
    {
     "name": "stdout",
     "output_type": "stream",
     "text": [
      "\n",
      "Review: usa become first nation register gold medal rio olympics 2016 19 year old virginia thrasher gold 10 metre air rifle day one event hold saturday thrasher finish ahead china 39 s du li yi sile silver bronze medal open china 39 s medal tally event\n",
      "Original summary: usa wins first gold medal of rio olympics 2016 \n",
      "Predicted summary:  usa wins gold medals at world championships c 39 shi\n",
      "\n"
     ]
    }
   ],
   "source": [
    "print(\"Review:\",seq2text(padded_xtest[5]))\n",
    "print(\"Original summary:\",seq2summary(padded_ytest[5]))\n",
    "print(\"Predicted summary:\",decode_sequence(padded_xtest[5]))"
   ]
  },
  {
   "cell_type": "code",
   "execution_count": 39,
   "id": "d48349ca",
   "metadata": {},
   "outputs": [
    {
     "name": "stdout",
     "output_type": "stream",
     "text": [
      "\n",
      "Review: we base startup shalgi design studio develop smart luggage 39 g ro 39 feature all terrain wheel inbuilt tablet stand charge station two usb port g ro come 360 revolvable wheel luggage location tracker 23 000 mah battery luggage capable charge tablet laptop smartphone last long enough charge smartphone 10 time \n",
      "Original summary: us startup develops smart luggage 39 g ro 39 \n",
      "Predicted summary:  startup makes portable that with touchscreen inbuilt\n",
      "\n"
     ]
    }
   ],
   "source": [
    "print(\"Review:\",seq2text(padded_xtest[32]))\n",
    "print(\"Original summary:\",seq2summary(padded_ytest[32]))\n",
    "print(\"Predicted summary:\",decode_sequence(padded_xtest[32]))"
   ]
  },
  {
   "cell_type": "code",
   "execution_count": 40,
   "id": "22ebdedf",
   "metadata": {},
   "outputs": [
    {
     "name": "stdout",
     "output_type": "stream",
     "text": [
      "\n",
      "Review: first volume comic series 39 the adventure asterix 39 release sale hindi publishing house 39 om book international 39 comic 39 ast rix le gaulois 39 available title 39 gaulwasi ast rix 39 comic strip originally write french ren goscinny illustrate albert aleandro uderzo translate puneet gupta dipa chaudhuri \n",
      "Original summary: 1st volume of 39 astérix 39 comic released in hindi \n",
      "Predicted summary:  1st tv of 39 the jungle book 39 released\n",
      "\n"
     ]
    }
   ],
   "source": [
    "print(\"Review:\",seq2text(padded_xtest[69]))\n",
    "print(\"Original summary:\",seq2summary(padded_ytest[69]))\n",
    "print(\"Predicted summary:\",decode_sequence(padded_xtest[69]))"
   ]
  },
  {
   "cell_type": "markdown",
   "id": "d1a7dbe4",
   "metadata": {
    "id": "v3Sfc9a422Rg",
    "papermill": {
     "duration": 0.727759,
     "end_time": "2022-01-11T15:54:13.763403",
     "exception": false,
     "start_time": "2022-01-11T15:54:13.035644",
     "status": "completed"
    },
    "tags": []
   },
   "source": [
    "### Evaluation"
   ]
  },
  {
   "cell_type": "markdown",
   "id": "89895cfd",
   "metadata": {
    "id": "km13viOn2P4t",
    "papermill": {
     "duration": 0.719277,
     "end_time": "2022-01-11T15:54:15.451455",
     "exception": false,
     "start_time": "2022-01-11T15:54:14.732178",
     "status": "completed"
    },
    "tags": []
   },
   "source": []
  },
  {
   "cell_type": "code",
   "execution_count": 41,
   "id": "78ad1b62",
   "metadata": {
    "execution": {
     "iopub.execute_input": "2022-01-11T15:54:16.895284Z",
     "iopub.status.busy": "2022-01-11T15:54:16.894333Z",
     "iopub.status.idle": "2022-01-11T15:54:16.897015Z",
     "shell.execute_reply": "2022-01-11T15:54:16.896581Z",
     "shell.execute_reply.started": "2022-01-11T13:38:17.798254Z"
    },
    "papermill": {
     "duration": 0.725185,
     "end_time": "2022-01-11T15:54:16.897123",
     "exception": false,
     "start_time": "2022-01-11T15:54:16.171938",
     "status": "completed"
    },
    "tags": []
   },
   "outputs": [
    {
     "name": "stdout",
     "output_type": "stream",
     "text": [
      "\n"
     ]
    }
   ],
   "source": [
    "def BLEU_Score(y_test, y_pred):\n",
    "    references = [[seq2summary(y_test).split(\" \")]]\n",
    "    candidates = [decode_sequence(y_pred.reshape(1,max_length_x)).split(\" \")]\n",
    "    return corpus_bleu(references, candidates)"
   ]
  },
  {
   "cell_type": "code",
   "execution_count": 42,
   "id": "e68af5c7",
   "metadata": {
    "execution": {
     "iopub.execute_input": "2022-01-11T15:55:09.137818Z",
     "iopub.status.busy": "2022-01-11T15:55:09.134097Z",
     "iopub.status.idle": "2022-01-11T15:55:09.142803Z",
     "shell.execute_reply": "2022-01-11T15:55:09.143967Z"
    },
    "papermill": {
     "duration": 0.781163,
     "end_time": "2022-01-11T15:55:09.144301",
     "exception": false,
     "start_time": "2022-01-11T15:55:08.363138",
     "status": "completed"
    },
    "tags": []
   },
   "outputs": [
    {
     "name": "stdout",
     "output_type": "stream",
     "text": [
      "0.6016678594297942\n"
     ]
    }
   ],
   "source": [
    "from nltk.translate.bleu_score import corpus_bleu\n",
    "scores=[]\n",
    "for i in range(0,500):\n",
    "    scores.append(BLEU_Score(padded_ytest[i],padded_xtest[i]))\n",
    "    \n",
    "print(np.mean(scores))"
   ]
  }
 ],
 "metadata": {
  "kernelspec": {
   "display_name": "Python 3",
   "language": "python",
   "name": "python3"
  },
  "language_info": {
   "codemirror_mode": {
    "name": "ipython",
    "version": 3
   },
   "file_extension": ".py",
   "mimetype": "text/x-python",
   "name": "python",
   "nbconvert_exporter": "python",
   "pygments_lexer": "ipython3",
   "version": "3.8.3"
  },
  "papermill": {
   "default_parameters": {},
   "duration": 1957.821137,
   "end_time": "2022-01-11T15:59:22.875557",
   "environment_variables": {},
   "exception": null,
   "input_path": "__notebook__.ipynb",
   "output_path": "__notebook__.ipynb",
   "parameters": {},
   "start_time": "2022-01-11T15:26:45.054420",
   "version": "2.3.3"
  }
 },
 "nbformat": 4,
 "nbformat_minor": 5
}
